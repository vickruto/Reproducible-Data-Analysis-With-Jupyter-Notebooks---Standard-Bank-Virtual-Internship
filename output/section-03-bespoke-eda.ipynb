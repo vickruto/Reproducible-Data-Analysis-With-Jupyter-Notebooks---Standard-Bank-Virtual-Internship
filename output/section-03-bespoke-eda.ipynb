{
 "cells": [
  {
   "cell_type": "code",
   "execution_count": 1,
   "id": "8f55f09f",
   "metadata": {
    "execution": {
     "iopub.execute_input": "2023-03-30T20:34:59.770271Z",
     "iopub.status.busy": "2023-03-30T20:34:59.769771Z",
     "iopub.status.idle": "2023-03-30T20:35:00.678537Z",
     "shell.execute_reply": "2023-03-30T20:35:00.677342Z"
    },
    "papermill": {
     "duration": 0.924819,
     "end_time": "2023-03-30T20:35:00.681747",
     "exception": false,
     "start_time": "2023-03-30T20:34:59.756928",
     "status": "completed"
    },
    "tags": [
     "soorgeon-imports"
    ]
   },
   "outputs": [],
   "source": [
    "import pandas as pd\n",
    "import matplotlib.pyplot as plt\n",
    "import seaborn as sns\n",
    "from IPython.display import display, HTML\n",
    "from pathlib import Path\n",
    "import pickle"
   ]
  },
  {
   "cell_type": "code",
   "execution_count": 2,
   "id": "3ffed09b",
   "metadata": {
    "execution": {
     "iopub.execute_input": "2023-03-30T20:35:00.692989Z",
     "iopub.status.busy": "2023-03-30T20:35:00.692490Z",
     "iopub.status.idle": "2023-03-30T20:35:00.697744Z",
     "shell.execute_reply": "2023-03-30T20:35:00.696294Z"
    },
    "papermill": {
     "duration": 0.018477,
     "end_time": "2023-03-30T20:35:00.704964",
     "exception": false,
     "start_time": "2023-03-30T20:35:00.686487",
     "status": "completed"
    },
    "tags": [
     "parameters"
    ]
   },
   "outputs": [],
   "source": [
    "upstream = ['section-01-get-data']\n",
    "product = None"
   ]
  },
  {
   "cell_type": "code",
   "execution_count": 3,
   "id": "71460377",
   "metadata": {
    "execution": {
     "iopub.execute_input": "2023-03-30T20:35:00.716875Z",
     "iopub.status.busy": "2023-03-30T20:35:00.716536Z",
     "iopub.status.idle": "2023-03-30T20:35:00.721291Z",
     "shell.execute_reply": "2023-03-30T20:35:00.719963Z"
    },
    "papermill": {
     "duration": 0.012989,
     "end_time": "2023-03-30T20:35:00.723619",
     "exception": false,
     "start_time": "2023-03-30T20:35:00.710630",
     "status": "completed"
    },
    "tags": [
     "injected-parameters"
    ]
   },
   "outputs": [],
   "source": [
    "# Parameters\n",
    "upstream = {\n",
    "    \"section-01-get-data\": {\n",
    "        \"train\": \"/content/Reproducible-Data-Analysis-With-Jupyter-Notebooks-Standard-Bank-Virtual-Internship/output/section-01-get-data-train.pkl\",\n",
    "        \"df\": \"/content/Reproducible-Data-Analysis-With-Jupyter-Notebooks-Standard-Bank-Virtual-Internship/output/section-01-get-data-df.pkl\",\n",
    "        \"nb\": \"/content/Reproducible-Data-Analysis-With-Jupyter-Notebooks-Standard-Bank-Virtual-Internship/output/section-01-get-data.ipynb\",\n",
    "    }\n",
    "}\n",
    "product = {\n",
    "    \"nb\": \"/content/Reproducible-Data-Analysis-With-Jupyter-Notebooks-Standard-Bank-Virtual-Internship/output/section-03-bespoke-eda.ipynb\"\n",
    "}\n"
   ]
  },
  {
   "cell_type": "code",
   "execution_count": 4,
   "id": "ee7e1dfe",
   "metadata": {
    "execution": {
     "iopub.execute_input": "2023-03-30T20:35:00.734330Z",
     "iopub.status.busy": "2023-03-30T20:35:00.733963Z",
     "iopub.status.idle": "2023-03-30T20:35:00.741448Z",
     "shell.execute_reply": "2023-03-30T20:35:00.740447Z"
    },
    "papermill": {
     "duration": 0.016072,
     "end_time": "2023-03-30T20:35:00.744021",
     "exception": false,
     "start_time": "2023-03-30T20:35:00.727949",
     "status": "completed"
    },
    "tags": [
     "soorgeon-unpickle"
    ]
   },
   "outputs": [],
   "source": [
    "df = pickle.loads(Path(upstream['section-01-get-data']['df']).read_bytes())\n",
    "train = pickle.loads(Path(upstream['section-01-get-data']['train']).read_bytes())"
   ]
  },
  {
   "cell_type": "markdown",
   "id": "4a7843c8",
   "metadata": {
    "id": "f4xUxUnWw9lM",
    "papermill": {
     "duration": 0.0048,
     "end_time": "2023-03-30T20:35:00.753581",
     "exception": false,
     "start_time": "2023-03-30T20:35:00.748781",
     "status": "completed"
    },
    "tags": []
   },
   "source": [
    "## 03) Bespoke EDA"
   ]
  },
  {
   "cell_type": "code",
   "execution_count": 5,
   "id": "03e37ad7",
   "metadata": {
    "colab": {
     "base_uri": "https://localhost:8080/"
    },
    "execution": {
     "iopub.execute_input": "2023-03-30T20:35:00.765036Z",
     "iopub.status.busy": "2023-03-30T20:35:00.764513Z",
     "iopub.status.idle": "2023-03-30T20:35:00.778149Z",
     "shell.execute_reply": "2023-03-30T20:35:00.776263Z"
    },
    "executionInfo": {
     "elapsed": 139,
     "status": "ok",
     "timestamp": 1680005770811,
     "user": {
      "displayName": "Victor Ruto",
      "userId": "13125455177778424587"
     },
     "user_tz": -180
    },
    "id": "suF8EwmEPz-W",
    "outputId": "fdfcb1ea-70fb-4ae3-f73d-50b681fe2732",
    "papermill": {
     "duration": 0.022389,
     "end_time": "2023-03-30T20:35:00.780719",
     "exception": false,
     "start_time": "2023-03-30T20:35:00.758330",
     "status": "completed"
    },
    "tags": []
   },
   "outputs": [
    {
     "data": {
      "text/plain": [
       "0"
      ]
     },
     "execution_count": 5,
     "metadata": {},
     "output_type": "execute_result"
    }
   ],
   "source": [
    "## Check for duplicates in the dataset\n",
    "df.duplicated().sum()"
   ]
  },
  {
   "cell_type": "code",
   "execution_count": 6,
   "id": "87ced7a3",
   "metadata": {
    "colab": {
     "base_uri": "https://localhost:8080/"
    },
    "execution": {
     "iopub.execute_input": "2023-03-30T20:35:00.792147Z",
     "iopub.status.busy": "2023-03-30T20:35:00.791768Z",
     "iopub.status.idle": "2023-03-30T20:35:00.803926Z",
     "shell.execute_reply": "2023-03-30T20:35:00.803155Z"
    },
    "executionInfo": {
     "elapsed": 136,
     "status": "ok",
     "timestamp": 1680005770812,
     "user": {
      "displayName": "Victor Ruto",
      "userId": "13125455177778424587"
     },
     "user_tz": -180
    },
    "id": "icnfcLWCxSVF",
    "outputId": "2da5df66-8722-4d86-eabd-335af32bdfff",
    "papermill": {
     "duration": 0.021078,
     "end_time": "2023-03-30T20:35:00.806619",
     "exception": false,
     "start_time": "2023-03-30T20:35:00.785541",
     "status": "completed"
    },
    "tags": []
   },
   "outputs": [
    {
     "data": {
      "text/plain": [
       "Loan_ID                0\n",
       "Gender                24\n",
       "Married                3\n",
       "Dependents            25\n",
       "Education              0\n",
       "Self_Employed         55\n",
       "ApplicantIncome        0\n",
       "CoapplicantIncome      0\n",
       "LoanAmount            27\n",
       "Loan_Amount_Term      20\n",
       "Credit_History        79\n",
       "Property_Area          0\n",
       "Loan_Status          367\n",
       "dtype: int64"
      ]
     },
     "execution_count": 6,
     "metadata": {},
     "output_type": "execute_result"
    }
   ],
   "source": [
    "## Check for null values \n",
    "df.isna().sum()"
   ]
  },
  {
   "cell_type": "markdown",
   "id": "3127fcdb",
   "metadata": {
    "id": "4JVRQkRH_P98",
    "papermill": {
     "duration": 0.004756,
     "end_time": "2023-03-30T20:35:00.816466",
     "exception": false,
     "start_time": "2023-03-30T20:35:00.811710",
     "status": "completed"
    },
    "tags": []
   },
   "source": [
    "#### **EDA Question 1 ::**\n",
    "### An overview of the data (number of records, fields and their data types, for both the train and test datasets"
   ]
  },
  {
   "cell_type": "code",
   "execution_count": 7,
   "id": "60ea4c51",
   "metadata": {
    "colab": {
     "base_uri": "https://localhost:8080/"
    },
    "execution": {
     "iopub.execute_input": "2023-03-30T20:35:00.828108Z",
     "iopub.status.busy": "2023-03-30T20:35:00.827380Z",
     "iopub.status.idle": "2023-03-30T20:35:00.844996Z",
     "shell.execute_reply": "2023-03-30T20:35:00.843833Z"
    },
    "executionInfo": {
     "elapsed": 130,
     "status": "ok",
     "timestamp": 1680005770813,
     "user": {
      "displayName": "Victor Ruto",
      "userId": "13125455177778424587"
     },
     "user_tz": -180
    },
    "id": "mShsnxSVxTm-",
    "outputId": "6de7b9f5-d425-46c5-9905-8623c400d465",
    "papermill": {
     "duration": 0.026113,
     "end_time": "2023-03-30T20:35:00.847245",
     "exception": false,
     "start_time": "2023-03-30T20:35:00.821132",
     "status": "completed"
    },
    "tags": []
   },
   "outputs": [
    {
     "name": "stdout",
     "output_type": "stream",
     "text": [
      "<class 'pandas.core.frame.DataFrame'>\n",
      "Int64Index: 981 entries, 0 to 366\n",
      "Data columns (total 13 columns):\n",
      " #   Column             Non-Null Count  Dtype  \n",
      "---  ------             --------------  -----  \n",
      " 0   Loan_ID            981 non-null    object \n",
      " 1   Gender             957 non-null    object \n",
      " 2   Married            978 non-null    object \n",
      " 3   Dependents         956 non-null    object \n",
      " 4   Education          981 non-null    object \n",
      " 5   Self_Employed      926 non-null    object \n",
      " 6   ApplicantIncome    981 non-null    int64  \n",
      " 7   CoapplicantIncome  981 non-null    float64\n",
      " 8   LoanAmount         954 non-null    float64\n",
      " 9   Loan_Amount_Term   961 non-null    float64\n",
      " 10  Credit_History     902 non-null    float64\n",
      " 11  Property_Area      981 non-null    object \n",
      " 12  Loan_Status        614 non-null    object \n",
      "dtypes: float64(4), int64(1), object(8)\n",
      "memory usage: 107.3+ KB\n"
     ]
    }
   ],
   "source": [
    "df.info()"
   ]
  },
  {
   "cell_type": "markdown",
   "id": "e7a290de",
   "metadata": {
    "id": "cQnVw0OGPz-X",
    "papermill": {
     "duration": 0.005042,
     "end_time": "2023-03-30T20:35:00.857126",
     "exception": false,
     "start_time": "2023-03-30T20:35:00.852084",
     "status": "completed"
    },
    "tags": []
   },
   "source": [
    "> The data has 12 features and 1 target variable. The train dataset has 614 records while the test dataset has 367 records.\n",
    "\n",
    "> The datatypes are as shown below : \n",
    "\n",
    "**Loan_ID**              - string  \n",
    "**Gender**               - string     \n",
    "**Married**              - string     \n",
    "**Dependents**           - string      \n",
    "**Education**            - string     \n",
    "**Self_Employed**        - string     \n",
    "**ApplicantIncome**      - integer    \n",
    "**CoapplicantIncome**    - float     \n",
    "**LoanAmount**           - float   \n",
    "**Loan_Amount_Term**     - float     \n",
    "**Credit_History**       - float     \n",
    "**Property_Area**        - string   \n",
    "**Loan_Status** (Target Feature) - string"
   ]
  },
  {
   "cell_type": "code",
   "execution_count": 8,
   "id": "88188e18",
   "metadata": {
    "colab": {
     "base_uri": "https://localhost:8080/",
     "height": 344
    },
    "execution": {
     "iopub.execute_input": "2023-03-30T20:35:00.868630Z",
     "iopub.status.busy": "2023-03-30T20:35:00.868235Z",
     "iopub.status.idle": "2023-03-30T20:35:00.893945Z",
     "shell.execute_reply": "2023-03-30T20:35:00.892828Z"
    },
    "executionInfo": {
     "elapsed": 125,
     "status": "ok",
     "timestamp": 1680005770814,
     "user": {
      "displayName": "Victor Ruto",
      "userId": "13125455177778424587"
     },
     "user_tz": -180
    },
    "id": "7MF-0mmCMU4s",
    "outputId": "ac7241a6-1a70-4c91-8e3d-fdc45e556b45",
    "papermill": {
     "duration": 0.034273,
     "end_time": "2023-03-30T20:35:00.896171",
     "exception": false,
     "start_time": "2023-03-30T20:35:00.861898",
     "status": "completed"
    },
    "tags": []
   },
   "outputs": [
    {
     "data": {
      "text/html": [
       "\n",
       "  <div id=\"df-233cfe04-09f1-42fd-840a-4101909cd316\">\n",
       "    <div class=\"colab-df-container\">\n",
       "      <div>\n",
       "<style scoped>\n",
       "    .dataframe tbody tr th:only-of-type {\n",
       "        vertical-align: middle;\n",
       "    }\n",
       "\n",
       "    .dataframe tbody tr th {\n",
       "        vertical-align: top;\n",
       "    }\n",
       "\n",
       "    .dataframe thead th {\n",
       "        text-align: right;\n",
       "    }\n",
       "</style>\n",
       "<table border=\"1\" class=\"dataframe\">\n",
       "  <thead>\n",
       "    <tr style=\"text-align: right;\">\n",
       "      <th></th>\n",
       "      <th>ApplicantIncome</th>\n",
       "      <th>CoapplicantIncome</th>\n",
       "      <th>LoanAmount</th>\n",
       "      <th>Loan_Amount_Term</th>\n",
       "      <th>Credit_History</th>\n",
       "    </tr>\n",
       "  </thead>\n",
       "  <tbody>\n",
       "    <tr>\n",
       "      <th>count</th>\n",
       "      <td>981.000000</td>\n",
       "      <td>981.000000</td>\n",
       "      <td>954.000000</td>\n",
       "      <td>961.000000</td>\n",
       "      <td>902.000000</td>\n",
       "    </tr>\n",
       "    <tr>\n",
       "      <th>mean</th>\n",
       "      <td>5179.795107</td>\n",
       "      <td>1601.916330</td>\n",
       "      <td>142.511530</td>\n",
       "      <td>342.201873</td>\n",
       "      <td>0.835920</td>\n",
       "    </tr>\n",
       "    <tr>\n",
       "      <th>std</th>\n",
       "      <td>5695.104533</td>\n",
       "      <td>2718.772806</td>\n",
       "      <td>77.421743</td>\n",
       "      <td>65.100602</td>\n",
       "      <td>0.370553</td>\n",
       "    </tr>\n",
       "    <tr>\n",
       "      <th>min</th>\n",
       "      <td>0.000000</td>\n",
       "      <td>0.000000</td>\n",
       "      <td>9.000000</td>\n",
       "      <td>6.000000</td>\n",
       "      <td>0.000000</td>\n",
       "    </tr>\n",
       "    <tr>\n",
       "      <th>25%</th>\n",
       "      <td>2875.000000</td>\n",
       "      <td>0.000000</td>\n",
       "      <td>100.000000</td>\n",
       "      <td>360.000000</td>\n",
       "      <td>1.000000</td>\n",
       "    </tr>\n",
       "    <tr>\n",
       "      <th>50%</th>\n",
       "      <td>3800.000000</td>\n",
       "      <td>1110.000000</td>\n",
       "      <td>126.000000</td>\n",
       "      <td>360.000000</td>\n",
       "      <td>1.000000</td>\n",
       "    </tr>\n",
       "    <tr>\n",
       "      <th>75%</th>\n",
       "      <td>5516.000000</td>\n",
       "      <td>2365.000000</td>\n",
       "      <td>162.000000</td>\n",
       "      <td>360.000000</td>\n",
       "      <td>1.000000</td>\n",
       "    </tr>\n",
       "    <tr>\n",
       "      <th>max</th>\n",
       "      <td>81000.000000</td>\n",
       "      <td>41667.000000</td>\n",
       "      <td>700.000000</td>\n",
       "      <td>480.000000</td>\n",
       "      <td>1.000000</td>\n",
       "    </tr>\n",
       "  </tbody>\n",
       "</table>\n",
       "</div>\n",
       "      <button class=\"colab-df-convert\" onclick=\"convertToInteractive('df-233cfe04-09f1-42fd-840a-4101909cd316')\"\n",
       "              title=\"Convert this dataframe to an interactive table.\"\n",
       "              style=\"display:none;\">\n",
       "        \n",
       "  <svg xmlns=\"http://www.w3.org/2000/svg\" height=\"24px\"viewBox=\"0 0 24 24\"\n",
       "       width=\"24px\">\n",
       "    <path d=\"M0 0h24v24H0V0z\" fill=\"none\"/>\n",
       "    <path d=\"M18.56 5.44l.94 2.06.94-2.06 2.06-.94-2.06-.94-.94-2.06-.94 2.06-2.06.94zm-11 1L8.5 8.5l.94-2.06 2.06-.94-2.06-.94L8.5 2.5l-.94 2.06-2.06.94zm10 10l.94 2.06.94-2.06 2.06-.94-2.06-.94-.94-2.06-.94 2.06-2.06.94z\"/><path d=\"M17.41 7.96l-1.37-1.37c-.4-.4-.92-.59-1.43-.59-.52 0-1.04.2-1.43.59L10.3 9.45l-7.72 7.72c-.78.78-.78 2.05 0 2.83L4 21.41c.39.39.9.59 1.41.59.51 0 1.02-.2 1.41-.59l7.78-7.78 2.81-2.81c.8-.78.8-2.07 0-2.86zM5.41 20L4 18.59l7.72-7.72 1.47 1.35L5.41 20z\"/>\n",
       "  </svg>\n",
       "      </button>\n",
       "      \n",
       "  <style>\n",
       "    .colab-df-container {\n",
       "      display:flex;\n",
       "      flex-wrap:wrap;\n",
       "      gap: 12px;\n",
       "    }\n",
       "\n",
       "    .colab-df-convert {\n",
       "      background-color: #E8F0FE;\n",
       "      border: none;\n",
       "      border-radius: 50%;\n",
       "      cursor: pointer;\n",
       "      display: none;\n",
       "      fill: #1967D2;\n",
       "      height: 32px;\n",
       "      padding: 0 0 0 0;\n",
       "      width: 32px;\n",
       "    }\n",
       "\n",
       "    .colab-df-convert:hover {\n",
       "      background-color: #E2EBFA;\n",
       "      box-shadow: 0px 1px 2px rgba(60, 64, 67, 0.3), 0px 1px 3px 1px rgba(60, 64, 67, 0.15);\n",
       "      fill: #174EA6;\n",
       "    }\n",
       "\n",
       "    [theme=dark] .colab-df-convert {\n",
       "      background-color: #3B4455;\n",
       "      fill: #D2E3FC;\n",
       "    }\n",
       "\n",
       "    [theme=dark] .colab-df-convert:hover {\n",
       "      background-color: #434B5C;\n",
       "      box-shadow: 0px 1px 3px 1px rgba(0, 0, 0, 0.15);\n",
       "      filter: drop-shadow(0px 1px 2px rgba(0, 0, 0, 0.3));\n",
       "      fill: #FFFFFF;\n",
       "    }\n",
       "  </style>\n",
       "\n",
       "      <script>\n",
       "        const buttonEl =\n",
       "          document.querySelector('#df-233cfe04-09f1-42fd-840a-4101909cd316 button.colab-df-convert');\n",
       "        buttonEl.style.display =\n",
       "          google.colab.kernel.accessAllowed ? 'block' : 'none';\n",
       "\n",
       "        async function convertToInteractive(key) {\n",
       "          const element = document.querySelector('#df-233cfe04-09f1-42fd-840a-4101909cd316');\n",
       "          const dataTable =\n",
       "            await google.colab.kernel.invokeFunction('convertToInteractive',\n",
       "                                                     [key], {});\n",
       "          if (!dataTable) return;\n",
       "\n",
       "          const docLinkHtml = 'Like what you see? Visit the ' +\n",
       "            '<a target=\"_blank\" href=https://colab.research.google.com/notebooks/data_table.ipynb>data table notebook</a>'\n",
       "            + ' to learn more about interactive tables.';\n",
       "          element.innerHTML = '';\n",
       "          dataTable['output_type'] = 'display_data';\n",
       "          await google.colab.output.renderOutput(dataTable, element);\n",
       "          const docLink = document.createElement('div');\n",
       "          docLink.innerHTML = docLinkHtml;\n",
       "          element.appendChild(docLink);\n",
       "        }\n",
       "      </script>\n",
       "    </div>\n",
       "  </div>\n",
       "  "
      ],
      "text/plain": [
       "       ApplicantIncome  CoapplicantIncome  LoanAmount  Loan_Amount_Term  \\\n",
       "count       981.000000         981.000000  954.000000        961.000000   \n",
       "mean       5179.795107        1601.916330  142.511530        342.201873   \n",
       "std        5695.104533        2718.772806   77.421743         65.100602   \n",
       "min           0.000000           0.000000    9.000000          6.000000   \n",
       "25%        2875.000000           0.000000  100.000000        360.000000   \n",
       "50%        3800.000000        1110.000000  126.000000        360.000000   \n",
       "75%        5516.000000        2365.000000  162.000000        360.000000   \n",
       "max       81000.000000       41667.000000  700.000000        480.000000   \n",
       "\n",
       "       Credit_History  \n",
       "count      902.000000  \n",
       "mean         0.835920  \n",
       "std          0.370553  \n",
       "min          0.000000  \n",
       "25%          1.000000  \n",
       "50%          1.000000  \n",
       "75%          1.000000  \n",
       "max          1.000000  "
      ]
     },
     "execution_count": 8,
     "metadata": {},
     "output_type": "execute_result"
    }
   ],
   "source": [
    "## Display some summary statics for the numerical columns\n",
    "df.describe()"
   ]
  },
  {
   "cell_type": "markdown",
   "id": "5651fdc4",
   "metadata": {
    "id": "-UX4HT2HnuaU",
    "papermill": {
     "duration": 0.005191,
     "end_time": "2023-03-30T20:35:00.910611",
     "exception": false,
     "start_time": "2023-03-30T20:35:00.905420",
     "status": "completed"
    },
    "tags": []
   },
   "source": [
    "#### **EDA Question 2 ::**\n",
    "\n",
    "#### What data quality issues exist in both train and test? \n",
    "\n",
    "> 1) Some of the fields should be categorical but instead are in string format \n",
    "\n",
    "> 2) Many columns have missing values ie `Gender`, `Married`, `Dependents`, `Self_Employed`, `Loan_Amount`, `Loan_Amount_Term`, `Credit_History`"
   ]
  },
  {
   "cell_type": "markdown",
   "id": "70986c4c",
   "metadata": {
    "id": "4wzJBxgcPz-Z",
    "papermill": {
     "duration": 0.005227,
     "end_time": "2023-03-30T20:35:00.921135",
     "exception": false,
     "start_time": "2023-03-30T20:35:00.915908",
     "status": "completed"
    },
    "tags": []
   },
   "source": [
    "#### **EDA Question 3 ::**\n",
    "\n",
    "### How do the the loan statuses compare? i.e. what is the distrubition of each?\n",
    "> 68.7% of the loans are not likely to be defaulted on as the applicants are credit worthy while 31.3% are likely to be defaulted on and thus should not be approved\n"
   ]
  },
  {
   "cell_type": "code",
   "execution_count": 9,
   "id": "dcc53eb6",
   "metadata": {
    "colab": {
     "base_uri": "https://localhost:8080/"
    },
    "execution": {
     "iopub.execute_input": "2023-03-30T20:35:00.933552Z",
     "iopub.status.busy": "2023-03-30T20:35:00.932794Z",
     "iopub.status.idle": "2023-03-30T20:35:00.941004Z",
     "shell.execute_reply": "2023-03-30T20:35:00.940164Z"
    },
    "executionInfo": {
     "elapsed": 125,
     "status": "ok",
     "timestamp": 1680005770815,
     "user": {
      "displayName": "Victor Ruto",
      "userId": "13125455177778424587"
     },
     "user_tz": -180
    },
    "id": "3J8w5-_6Pz-Y",
    "outputId": "f596fcbe-cd96-4a2e-e130-55a6d1c5cb57",
    "papermill": {
     "duration": 0.016813,
     "end_time": "2023-03-30T20:35:00.943005",
     "exception": false,
     "start_time": "2023-03-30T20:35:00.926192",
     "status": "completed"
    },
    "tags": []
   },
   "outputs": [
    {
     "data": {
      "text/plain": [
       "Y    0.687296\n",
       "N    0.312704\n",
       "Name: Loan_Status, dtype: float64"
      ]
     },
     "execution_count": 9,
     "metadata": {},
     "output_type": "execute_result"
    }
   ],
   "source": [
    "## Question 3 ::\n",
    "train['Loan_Status'].value_counts(normalize=True,dropna=False)"
   ]
  },
  {
   "cell_type": "markdown",
   "id": "0d71f6c2",
   "metadata": {
    "id": "9VtbbKvpPz-Z",
    "papermill": {
     "duration": 0.005433,
     "end_time": "2023-03-30T20:35:00.953635",
     "exception": false,
     "start_time": "2023-03-30T20:35:00.948202",
     "status": "completed"
    },
    "tags": []
   },
   "source": [
    "#### **EDA Question 4 ::**\n",
    " \n",
    "#### How do women and men compare when it comes to defaulting on loans in the historical dataset?\n",
    "> In the historical data, 30.67% of the men defaulted on their loans while 33.04% of the women defaulted on their loans\n"
   ]
  },
  {
   "cell_type": "code",
   "execution_count": 10,
   "id": "7e4825cd",
   "metadata": {
    "colab": {
     "base_uri": "https://localhost:8080/",
     "height": 510
    },
    "execution": {
     "iopub.execute_input": "2023-03-30T20:35:00.966553Z",
     "iopub.status.busy": "2023-03-30T20:35:00.965835Z",
     "iopub.status.idle": "2023-03-30T20:35:01.371811Z",
     "shell.execute_reply": "2023-03-30T20:35:01.370745Z"
    },
    "executionInfo": {
     "elapsed": 122,
     "status": "ok",
     "timestamp": 1680005770819,
     "user": {
      "displayName": "Victor Ruto",
      "userId": "13125455177778424587"
     },
     "user_tz": -180
    },
    "id": "X0NuffdYPz-Z",
    "outputId": "f969a579-9134-423f-8266-61d60a7847ca",
    "papermill": {
     "duration": 0.41501,
     "end_time": "2023-03-30T20:35:01.373932",
     "exception": false,
     "start_time": "2023-03-30T20:35:00.958922",
     "status": "completed"
    },
    "tags": []
   },
   "outputs": [
    {
     "data": {
      "image/png": "[encoded data removed]",
      "text/plain": [
       "<Figure size 595.736x500 with 1 Axes>"
      ]
     },
     "metadata": {},
     "output_type": "display_data"
    }
   ],
   "source": [
    "## Question 4::\n",
    "plot_df = pd.DataFrame(train.groupby('Gender')['Loan_Status'].value_counts(normalize=True)*100)\n",
    "plot_df.columns = ['Percentage']\n",
    "plot_df = plot_df.reset_index()\n",
    "g = sns.catplot(data=plot_df, x='Gender', y='Percentage', hue='Loan_Status', kind='bar')\n",
    "g.ax.set_ylim(0,100)\n",
    "for p in g.ax.patches:\n",
    "    txt = str(p.get_height().round(2)) + '%'\n",
    "    txt_x = p.get_x()+.12\n",
    "    txt_y = p.get_height()+.5\n",
    "    g.ax.text(txt_x,txt_y,txt)"
   ]
  },
  {
   "cell_type": "markdown",
   "id": "a9e7642b",
   "metadata": {
    "id": "6k0CvyF7Pz-a",
    "papermill": {
     "duration": 0.005735,
     "end_time": "2023-03-30T20:35:01.385698",
     "exception": false,
     "start_time": "2023-03-30T20:35:01.379963",
     "status": "completed"
    },
    "tags": []
   },
   "source": [
    "#### **EDA Question 5 ::**\n",
    "\n",
    "### How many of the loan applicants have dependents based on the historical dataset?\n",
    "> In the historical data, 269 of the 614 loan applicants have dependents, which represents  43.8% of the applicants\n"
   ]
  },
  {
   "cell_type": "code",
   "execution_count": 11,
   "id": "a4fb9c89",
   "metadata": {
    "colab": {
     "base_uri": "https://localhost:8080/"
    },
    "execution": {
     "iopub.execute_input": "2023-03-30T20:35:01.398596Z",
     "iopub.status.busy": "2023-03-30T20:35:01.398178Z",
     "iopub.status.idle": "2023-03-30T20:35:01.406510Z",
     "shell.execute_reply": "2023-03-30T20:35:01.405530Z"
    },
    "executionInfo": {
     "elapsed": 117,
     "status": "ok",
     "timestamp": 1680005770820,
     "user": {
      "displayName": "Victor Ruto",
      "userId": "13125455177778424587"
     },
     "user_tz": -180
    },
    "id": "AMKDm8bpPz-Z",
    "outputId": "c8d2d69d-0f27-4c48-ab03-9180778b566c",
    "papermill": {
     "duration": 0.017343,
     "end_time": "2023-03-30T20:35:01.408602",
     "exception": false,
     "start_time": "2023-03-30T20:35:01.391259",
     "status": "completed"
    },
    "tags": []
   },
   "outputs": [
    {
     "data": {
      "text/plain": [
       "False    0.561889\n",
       "True     0.438111\n",
       "Name: Dependents, dtype: float64"
      ]
     },
     "execution_count": 11,
     "metadata": {},
     "output_type": "execute_result"
    }
   ],
   "source": [
    "##Question 5::\n",
    "(train['Dependents']!='0').value_counts(normalize=True)\n",
    "#train['Dependents'].value_counts()"
   ]
  },
  {
   "cell_type": "markdown",
   "id": "cee5a99f",
   "metadata": {
    "id": "P1QTSY6XPz-a",
    "papermill": {
     "duration": 0.005884,
     "end_time": "2023-03-30T20:35:01.423825",
     "exception": false,
     "start_time": "2023-03-30T20:35:01.417941",
     "status": "completed"
    },
    "tags": []
   },
   "source": [
    "#### **EDA Question 6 ::**\n",
    "### How do the incomes of those who are employed compare to those who are self employed based on the historical dataset? \n",
    "> Loan applicants who are self employed have a mean income of 5050 while those who are not self employed earn a mean income of 7380. The median income for loan applicants who are self employed is 3705.5 while the median for those who are not self employed is 5809\n"
   ]
  },
  {
   "cell_type": "code",
   "execution_count": 12,
   "id": "01588f04",
   "metadata": {
    "colab": {
     "base_uri": "https://localhost:8080/",
     "height": 379
    },
    "execution": {
     "iopub.execute_input": "2023-03-30T20:35:01.437117Z",
     "iopub.status.busy": "2023-03-30T20:35:01.436732Z",
     "iopub.status.idle": "2023-03-30T20:35:01.464616Z",
     "shell.execute_reply": "2023-03-30T20:35:01.463538Z"
    },
    "executionInfo": {
     "elapsed": 110,
     "status": "ok",
     "timestamp": 1680005770820,
     "user": {
      "displayName": "Victor Ruto",
      "userId": "13125455177778424587"
     },
     "user_tz": -180
    },
    "id": "csMr8neyPz-a",
    "outputId": "7d870def-13f4-474c-efc4-6c286f79eb7d",
    "papermill": {
     "duration": 0.037282,
     "end_time": "2023-03-30T20:35:01.466777",
     "exception": false,
     "start_time": "2023-03-30T20:35:01.429495",
     "status": "completed"
    },
    "tags": []
   },
   "outputs": [
    {
     "name": "stdout",
     "output_type": "stream",
     "text": [
      "\n",
      "\n",
      "\tMedian applicant incomes by Type of Employment:\n"
     ]
    },
    {
     "data": {
      "text/html": [
       "\n",
       "  <div id=\"df-289cf89a-725e-4a9c-8a77-ca332745dbdf\">\n",
       "    <div class=\"colab-df-container\">\n",
       "      <div>\n",
       "<style scoped>\n",
       "    .dataframe tbody tr th:only-of-type {\n",
       "        vertical-align: middle;\n",
       "    }\n",
       "\n",
       "    .dataframe tbody tr th {\n",
       "        vertical-align: top;\n",
       "    }\n",
       "\n",
       "    .dataframe thead th {\n",
       "        text-align: right;\n",
       "    }\n",
       "</style>\n",
       "<table border=\"1\" class=\"dataframe\">\n",
       "  <thead>\n",
       "    <tr style=\"text-align: right;\">\n",
       "      <th></th>\n",
       "      <th>ApplicantIncome</th>\n",
       "    </tr>\n",
       "    <tr>\n",
       "      <th>Self_Employed</th>\n",
       "      <th></th>\n",
       "    </tr>\n",
       "  </thead>\n",
       "  <tbody>\n",
       "    <tr>\n",
       "      <th>No</th>\n",
       "      <td>3705.5</td>\n",
       "    </tr>\n",
       "    <tr>\n",
       "      <th>Yes</th>\n",
       "      <td>5809.0</td>\n",
       "    </tr>\n",
       "  </tbody>\n",
       "</table>\n",
       "</div>\n",
       "      <button class=\"colab-df-convert\" onclick=\"convertToInteractive('df-289cf89a-725e-4a9c-8a77-ca332745dbdf')\"\n",
       "              title=\"Convert this dataframe to an interactive table.\"\n",
       "              style=\"display:none;\">\n",
       "        \n",
       "  <svg xmlns=\"http://www.w3.org/2000/svg\" height=\"24px\"viewBox=\"0 0 24 24\"\n",
       "       width=\"24px\">\n",
       "    <path d=\"M0 0h24v24H0V0z\" fill=\"none\"/>\n",
       "    <path d=\"M18.56 5.44l.94 2.06.94-2.06 2.06-.94-2.06-.94-.94-2.06-.94 2.06-2.06.94zm-11 1L8.5 8.5l.94-2.06 2.06-.94-2.06-.94L8.5 2.5l-.94 2.06-2.06.94zm10 10l.94 2.06.94-2.06 2.06-.94-2.06-.94-.94-2.06-.94 2.06-2.06.94z\"/><path d=\"M17.41 7.96l-1.37-1.37c-.4-.4-.92-.59-1.43-.59-.52 0-1.04.2-1.43.59L10.3 9.45l-7.72 7.72c-.78.78-.78 2.05 0 2.83L4 21.41c.39.39.9.59 1.41.59.51 0 1.02-.2 1.41-.59l7.78-7.78 2.81-2.81c.8-.78.8-2.07 0-2.86zM5.41 20L4 18.59l7.72-7.72 1.47 1.35L5.41 20z\"/>\n",
       "  </svg>\n",
       "      </button>\n",
       "      \n",
       "  <style>\n",
       "    .colab-df-container {\n",
       "      display:flex;\n",
       "      flex-wrap:wrap;\n",
       "      gap: 12px;\n",
       "    }\n",
       "\n",
       "    .colab-df-convert {\n",
       "      background-color: #E8F0FE;\n",
       "      border: none;\n",
       "      border-radius: 50%;\n",
       "      cursor: pointer;\n",
       "      display: none;\n",
       "      fill: #1967D2;\n",
       "      height: 32px;\n",
       "      padding: 0 0 0 0;\n",
       "      width: 32px;\n",
       "    }\n",
       "\n",
       "    .colab-df-convert:hover {\n",
       "      background-color: #E2EBFA;\n",
       "      box-shadow: 0px 1px 2px rgba(60, 64, 67, 0.3), 0px 1px 3px 1px rgba(60, 64, 67, 0.15);\n",
       "      fill: #174EA6;\n",
       "    }\n",
       "\n",
       "    [theme=dark] .colab-df-convert {\n",
       "      background-color: #3B4455;\n",
       "      fill: #D2E3FC;\n",
       "    }\n",
       "\n",
       "    [theme=dark] .colab-df-convert:hover {\n",
       "      background-color: #434B5C;\n",
       "      box-shadow: 0px 1px 3px 1px rgba(0, 0, 0, 0.15);\n",
       "      filter: drop-shadow(0px 1px 2px rgba(0, 0, 0, 0.3));\n",
       "      fill: #FFFFFF;\n",
       "    }\n",
       "  </style>\n",
       "\n",
       "      <script>\n",
       "        const buttonEl =\n",
       "          document.querySelector('#df-289cf89a-725e-4a9c-8a77-ca332745dbdf button.colab-df-convert');\n",
       "        buttonEl.style.display =\n",
       "          google.colab.kernel.accessAllowed ? 'block' : 'none';\n",
       "\n",
       "        async function convertToInteractive(key) {\n",
       "          const element = document.querySelector('#df-289cf89a-725e-4a9c-8a77-ca332745dbdf');\n",
       "          const dataTable =\n",
       "            await google.colab.kernel.invokeFunction('convertToInteractive',\n",
       "                                                     [key], {});\n",
       "          if (!dataTable) return;\n",
       "\n",
       "          const docLinkHtml = 'Like what you see? Visit the ' +\n",
       "            '<a target=\"_blank\" href=https://colab.research.google.com/notebooks/data_table.ipynb>data table notebook</a>'\n",
       "            + ' to learn more about interactive tables.';\n",
       "          element.innerHTML = '';\n",
       "          dataTable['output_type'] = 'display_data';\n",
       "          await google.colab.output.renderOutput(dataTable, element);\n",
       "          const docLink = document.createElement('div');\n",
       "          docLink.innerHTML = docLinkHtml;\n",
       "          element.appendChild(docLink);\n",
       "        }\n",
       "      </script>\n",
       "    </div>\n",
       "  </div>\n",
       "  "
      ],
      "text/plain": [
       "               ApplicantIncome\n",
       "Self_Employed                 \n",
       "No                      3705.5\n",
       "Yes                     5809.0"
      ]
     },
     "metadata": {},
     "output_type": "display_data"
    },
    {
     "name": "stdout",
     "output_type": "stream",
     "text": [
      "\n",
      "\n",
      "\tMean applicant incomes by Type of Employment:\n"
     ]
    },
    {
     "data": {
      "text/html": [
       "\n",
       "  <div id=\"df-ff78852d-aba5-4200-984a-e5f3b4e4e70c\">\n",
       "    <div class=\"colab-df-container\">\n",
       "      <div>\n",
       "<style scoped>\n",
       "    .dataframe tbody tr th:only-of-type {\n",
       "        vertical-align: middle;\n",
       "    }\n",
       "\n",
       "    .dataframe tbody tr th {\n",
       "        vertical-align: top;\n",
       "    }\n",
       "\n",
       "    .dataframe thead th {\n",
       "        text-align: right;\n",
       "    }\n",
       "</style>\n",
       "<table border=\"1\" class=\"dataframe\">\n",
       "  <thead>\n",
       "    <tr style=\"text-align: right;\">\n",
       "      <th></th>\n",
       "      <th>ApplicantIncome</th>\n",
       "    </tr>\n",
       "    <tr>\n",
       "      <th>Self_Employed</th>\n",
       "      <th></th>\n",
       "    </tr>\n",
       "  </thead>\n",
       "  <tbody>\n",
       "    <tr>\n",
       "      <th>No</th>\n",
       "      <td>5049.748000</td>\n",
       "    </tr>\n",
       "    <tr>\n",
       "      <th>Yes</th>\n",
       "      <td>7380.817073</td>\n",
       "    </tr>\n",
       "  </tbody>\n",
       "</table>\n",
       "</div>\n",
       "      <button class=\"colab-df-convert\" onclick=\"convertToInteractive('df-ff78852d-aba5-4200-984a-e5f3b4e4e70c')\"\n",
       "              title=\"Convert this dataframe to an interactive table.\"\n",
       "              style=\"display:none;\">\n",
       "        \n",
       "  <svg xmlns=\"http://www.w3.org/2000/svg\" height=\"24px\"viewBox=\"0 0 24 24\"\n",
       "       width=\"24px\">\n",
       "    <path d=\"M0 0h24v24H0V0z\" fill=\"none\"/>\n",
       "    <path d=\"M18.56 5.44l.94 2.06.94-2.06 2.06-.94-2.06-.94-.94-2.06-.94 2.06-2.06.94zm-11 1L8.5 8.5l.94-2.06 2.06-.94-2.06-.94L8.5 2.5l-.94 2.06-2.06.94zm10 10l.94 2.06.94-2.06 2.06-.94-2.06-.94-.94-2.06-.94 2.06-2.06.94z\"/><path d=\"M17.41 7.96l-1.37-1.37c-.4-.4-.92-.59-1.43-.59-.52 0-1.04.2-1.43.59L10.3 9.45l-7.72 7.72c-.78.78-.78 2.05 0 2.83L4 21.41c.39.39.9.59 1.41.59.51 0 1.02-.2 1.41-.59l7.78-7.78 2.81-2.81c.8-.78.8-2.07 0-2.86zM5.41 20L4 18.59l7.72-7.72 1.47 1.35L5.41 20z\"/>\n",
       "  </svg>\n",
       "      </button>\n",
       "      \n",
       "  <style>\n",
       "    .colab-df-container {\n",
       "      display:flex;\n",
       "      flex-wrap:wrap;\n",
       "      gap: 12px;\n",
       "    }\n",
       "\n",
       "    .colab-df-convert {\n",
       "      background-color: #E8F0FE;\n",
       "      border: none;\n",
       "      border-radius: 50%;\n",
       "      cursor: pointer;\n",
       "      display: none;\n",
       "      fill: #1967D2;\n",
       "      height: 32px;\n",
       "      padding: 0 0 0 0;\n",
       "      width: 32px;\n",
       "    }\n",
       "\n",
       "    .colab-df-convert:hover {\n",
       "      background-color: #E2EBFA;\n",
       "      box-shadow: 0px 1px 2px rgba(60, 64, 67, 0.3), 0px 1px 3px 1px rgba(60, 64, 67, 0.15);\n",
       "      fill: #174EA6;\n",
       "    }\n",
       "\n",
       "    [theme=dark] .colab-df-convert {\n",
       "      background-color: #3B4455;\n",
       "      fill: #D2E3FC;\n",
       "    }\n",
       "\n",
       "    [theme=dark] .colab-df-convert:hover {\n",
       "      background-color: #434B5C;\n",
       "      box-shadow: 0px 1px 3px 1px rgba(0, 0, 0, 0.15);\n",
       "      filter: drop-shadow(0px 1px 2px rgba(0, 0, 0, 0.3));\n",
       "      fill: #FFFFFF;\n",
       "    }\n",
       "  </style>\n",
       "\n",
       "      <script>\n",
       "        const buttonEl =\n",
       "          document.querySelector('#df-ff78852d-aba5-4200-984a-e5f3b4e4e70c button.colab-df-convert');\n",
       "        buttonEl.style.display =\n",
       "          google.colab.kernel.accessAllowed ? 'block' : 'none';\n",
       "\n",
       "        async function convertToInteractive(key) {\n",
       "          const element = document.querySelector('#df-ff78852d-aba5-4200-984a-e5f3b4e4e70c');\n",
       "          const dataTable =\n",
       "            await google.colab.kernel.invokeFunction('convertToInteractive',\n",
       "                                                     [key], {});\n",
       "          if (!dataTable) return;\n",
       "\n",
       "          const docLinkHtml = 'Like what you see? Visit the ' +\n",
       "            '<a target=\"_blank\" href=https://colab.research.google.com/notebooks/data_table.ipynb>data table notebook</a>'\n",
       "            + ' to learn more about interactive tables.';\n",
       "          element.innerHTML = '';\n",
       "          dataTable['output_type'] = 'display_data';\n",
       "          await google.colab.output.renderOutput(dataTable, element);\n",
       "          const docLink = document.createElement('div');\n",
       "          docLink.innerHTML = docLinkHtml;\n",
       "          element.appendChild(docLink);\n",
       "        }\n",
       "      </script>\n",
       "    </div>\n",
       "  </div>\n",
       "  "
      ],
      "text/plain": [
       "               ApplicantIncome\n",
       "Self_Employed                 \n",
       "No                 5049.748000\n",
       "Yes                7380.817073"
      ]
     },
     "metadata": {},
     "output_type": "display_data"
    }
   ],
   "source": [
    "## Question 6::\n",
    "print(\"\\n\\n\\tMedian applicant incomes by Type of Employment:\")\n",
    "display(pd.DataFrame(train.groupby(['Self_Employed'])['ApplicantIncome'].median()))\n",
    "\n",
    "print(\"\\n\\n\\tMean applicant incomes by Type of Employment:\")\n",
    "display(pd.DataFrame(train.groupby(['Self_Employed'])['ApplicantIncome'].mean()))"
   ]
  },
  {
   "cell_type": "markdown",
   "id": "0e80596c",
   "metadata": {
    "id": "a73F0k_rPz-b",
    "papermill": {
     "duration": 0.006379,
     "end_time": "2023-03-30T20:35:01.479768",
     "exception": false,
     "start_time": "2023-03-30T20:35:01.473389",
     "status": "completed"
    },
    "tags": []
   },
   "source": [
    "#### **EDA Question 7 ::**\n",
    "\n",
    "### Are applicants with a credit history more likely to default than those who do not have one?\n",
    "> Applicants without credit history are much more likely to default on loans than applicants with a credit history. While 92.13% of the loans by applicants without credit history were defaulted on, only 20.42% of the loans by applicants with credit history were defaulted on. \n"
   ]
  },
  {
   "cell_type": "code",
   "execution_count": 13,
   "id": "eb166b2e",
   "metadata": {
    "colab": {
     "base_uri": "https://localhost:8080/",
     "height": 510
    },
    "execution": {
     "iopub.execute_input": "2023-03-30T20:35:01.494396Z",
     "iopub.status.busy": "2023-03-30T20:35:01.494028Z",
     "iopub.status.idle": "2023-03-30T20:35:01.883616Z",
     "shell.execute_reply": "2023-03-30T20:35:01.882551Z"
    },
    "executionInfo": {
     "elapsed": 103,
     "status": "ok",
     "timestamp": 1680005770821,
     "user": {
      "displayName": "Victor Ruto",
      "userId": "13125455177778424587"
     },
     "user_tz": -180
    },
    "id": "zCJHvSmuPz-a",
    "outputId": "d480a752-fc92-44f6-f185-4ccb8dab9d9c",
    "papermill": {
     "duration": 0.399539,
     "end_time": "2023-03-30T20:35:01.885778",
     "exception": false,
     "start_time": "2023-03-30T20:35:01.486239",
     "status": "completed"
    },
    "tags": []
   },
   "outputs": [
    {
     "data": {
      "image/png": "[encoded data removed]",
      "text/plain": [
       "<Figure size 595.736x500 with 1 Axes>"
      ]
     },
     "metadata": {},
     "output_type": "display_data"
    }
   ],
   "source": [
    "## Question 7 ::\n",
    "plot_df2 = pd.DataFrame(train.groupby('Credit_History')['Loan_Status'].value_counts(normalize=True)*100)\n",
    "plot_df2.columns = ['Percentage']\n",
    "plot_df2 = plot_df2.reset_index()\n",
    "g = sns.catplot(data=plot_df2, x='Credit_History', y='Percentage', hue='Loan_Status', kind='bar')\n",
    "g.ax.set_ylim(0,100)\n",
    "g.set_xticklabels(['Applicants Without Credit History', 'Applicants With Credit History'])\n",
    "for p in g.ax.patches:\n",
    "    txt = str(p.get_height().round(2)) + '%'\n",
    "    txt_x = p.get_x()+.12\n",
    "    txt_y = p.get_height()+.5\n",
    "    g.ax.text(txt_x,txt_y,txt)"
   ]
  },
  {
   "cell_type": "markdown",
   "id": "bc00dd36",
   "metadata": {
    "id": "cOrUr228Pz-b",
    "papermill": {
     "duration": 0.006757,
     "end_time": "2023-03-30T20:35:01.899324",
     "exception": false,
     "start_time": "2023-03-30T20:35:01.892567",
     "status": "completed"
    },
    "tags": []
   },
   "source": [
    "#### **EDA Question 8 ::**\n",
    "\n",
    "### Is there a correlation between the applicant's income and the loan amount they applied for? \n",
    "> Yes, there is a significant positive correlation between an applicant's income and the loan amount they apply for, meaning an applicant with high income is likely to apply for a large loan amount"
   ]
  },
  {
   "cell_type": "code",
   "execution_count": 14,
   "id": "d87e0209",
   "metadata": {
    "colab": {
     "base_uri": "https://localhost:8080/",
     "height": 760
    },
    "execution": {
     "iopub.execute_input": "2023-03-30T20:35:01.914493Z",
     "iopub.status.busy": "2023-03-30T20:35:01.914111Z",
     "iopub.status.idle": "2023-03-30T20:35:02.435526Z",
     "shell.execute_reply": "2023-03-30T20:35:02.434483Z"
    },
    "executionInfo": {
     "elapsed": 101,
     "status": "ok",
     "timestamp": 1680005770822,
     "user": {
      "displayName": "Victor Ruto",
      "userId": "13125455177778424587"
     },
     "user_tz": -180
    },
    "id": "uhSdIKBaPz-b",
    "outputId": "62ebbcfa-008b-4119-d033-0e84f8cec09c",
    "papermill": {
     "duration": 0.531898,
     "end_time": "2023-03-30T20:35:02.437933",
     "exception": false,
     "start_time": "2023-03-30T20:35:01.906035",
     "status": "completed"
    },
    "tags": []
   },
   "outputs": [
    {
     "data": {
      "image/png": "[encoded data removed]",
      "text/plain": [
       "<Figure size 640x480 with 2 Axes>"
      ]
     },
     "metadata": {},
     "output_type": "display_data"
    },
    {
     "data": {
      "image/png": "[encoded data removed]",
      "text/plain": [
       "<Figure size 640x480 with 1 Axes>"
      ]
     },
     "metadata": {},
     "output_type": "display_data"
    }
   ],
   "source": [
    "## Question 8 ::\n",
    "#display(train[['ApplicantIncome', 'LoanAmount']].corr())\n",
    "sns.heatmap(train[['ApplicantIncome', 'LoanAmount']].corr(), annot=True, fmt='.3f', center=0)\n",
    "plt.title(\"Correlation Heatmap Plot \")\n",
    "plt.show()\n",
    "\n",
    "sns.scatterplot(data=train, x='ApplicantIncome', y='LoanAmount');\n",
    "plt.title(\"Scatter Plot of ApplicantIncome Against LoanAmount\")\n",
    "plt.show()"
   ]
  }
 ],
 "metadata": {
  "jupytext": {
   "main_language": "python",
   "text_representation": {
    "extension": ".py",
    "format_name": "percent",
    "format_version": "1.3",
    "jupytext_version": "1.14.5"
   }
  },
  "kernelspec": {
   "display_name": "Python 3",
   "language": "python",
   "name": "python3"
  },
  "language_info": {
   "codemirror_mode": {
    "name": "ipython",
    "version": 3
   },
   "file_extension": ".py",
   "mimetype": "text/x-python",
   "name": "python",
   "nbconvert_exporter": "python",
   "pygments_lexer": "ipython3",
   "version": "3.9.16"
  },
  "papermill": {
   "duration": 5.133616,
   "end_time": "2023-03-30T20:35:03.066082",
   "exception": null,
   "input_path": "/tmp/tmplv7advf5.ipynb",
   "output_path": "/content/Reproducible-Data-Analysis-With-Jupyter-Notebooks-Standard-Bank-Virtual-Internship/output/section-03-bespoke-eda.ipynb",
   "parameters": {
    "product": {
     "nb": "/content/Reproducible-Data-Analysis-With-Jupyter-Notebooks-Standard-Bank-Virtual-Internship/output/section-03-bespoke-eda.ipynb"
    },
    "upstream": {
     "section-01-get-data": {
      "df": "/content/Reproducible-Data-Analysis-With-Jupyter-Notebooks-Standard-Bank-Virtual-Internship/output/section-01-get-data-df.pkl",
      "nb": "/content/Reproducible-Data-Analysis-With-Jupyter-Notebooks-Standard-Bank-Virtual-Internship/output/section-01-get-data.ipynb",
      "train": "/content/Reproducible-Data-Analysis-With-Jupyter-Notebooks-Standard-Bank-Virtual-Internship/output/section-01-get-data-train.pkl"
     }
    }
   },
   "start_time": "2023-03-30T20:34:57.932466"
  }
 },
 "nbformat": 4,
 "nbformat_minor": 5
}