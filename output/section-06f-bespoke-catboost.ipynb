{
 "cells": [
  {
   "cell_type": "code",
   "execution_count": null,
   "id": "a099c009",
   "metadata": {
    "papermill": {
     "duration": 0.00326,
     "end_time": "2023-03-30T21:08:59.187762",
     "exception": false,
     "start_time": "2023-03-30T21:08:59.184502",
     "status": "completed"
    },
    "tags": []
   },
   "outputs": [],
   "source": []
  },
  {
   "cell_type": "code",
   "execution_count": 1,
   "id": "32d22f6c",
   "metadata": {
    "execution": {
     "iopub.execute_input": "2023-03-30T21:08:59.195089Z",
     "iopub.status.busy": "2023-03-30T21:08:59.194603Z",
     "iopub.status.idle": "2023-03-30T21:09:00.688924Z",
     "shell.execute_reply": "2023-03-30T21:09:00.687769Z"
    },
    "papermill": {
     "duration": 1.501507,
     "end_time": "2023-03-30T21:09:00.692006",
     "exception": false,
     "start_time": "2023-03-30T21:08:59.190499",
     "status": "completed"
    },
    "tags": [
     "soorgeon-imports"
    ]
   },
   "outputs": [],
   "source": [
    "from sklearn.metrics import accuracy_score, confusion_matrix\n",
    "from catboost import CatBoostClassifier\n",
    "from pathlib import Path\n",
    "import pickle"
   ]
  },
  {
   "cell_type": "code",
   "execution_count": 2,
   "id": "004ff001",
   "metadata": {
    "execution": {
     "iopub.execute_input": "2023-03-30T21:09:00.700236Z",
     "iopub.status.busy": "2023-03-30T21:09:00.699141Z",
     "iopub.status.idle": "2023-03-30T21:09:00.707831Z",
     "shell.execute_reply": "2023-03-30T21:09:00.706675Z"
    },
    "papermill": {
     "duration": 0.016274,
     "end_time": "2023-03-30T21:09:00.711213",
     "exception": false,
     "start_time": "2023-03-30T21:09:00.694939",
     "status": "completed"
    },
    "tags": [
     "parameters"
    ]
   },
   "outputs": [],
   "source": [
    "upstream = ['section-05-data-preparation']\n",
    "product = None"
   ]
  },
  {
   "cell_type": "code",
   "execution_count": 3,
   "id": "109e4b49",
   "metadata": {
    "execution": {
     "iopub.execute_input": "2023-03-30T21:09:00.718837Z",
     "iopub.status.busy": "2023-03-30T21:09:00.718292Z",
     "iopub.status.idle": "2023-03-30T21:09:00.724194Z",
     "shell.execute_reply": "2023-03-30T21:09:00.723134Z"
    },
    "papermill": {
     "duration": 0.015512,
     "end_time": "2023-03-30T21:09:00.729370",
     "exception": false,
     "start_time": "2023-03-30T21:09:00.713858",
     "status": "completed"
    },
    "tags": [
     "injected-parameters"
    ]
   },
   "outputs": [],
   "source": [
    "# Parameters\n",
    "upstream = {\n",
    "    \"section-05-data-preparation\": {\n",
    "        \"X_val\": \"/content/Reproducible-Data-Analysis-With-Jupyter-Notebooks-Standard-Bank-Virtual-Internship/output/section-05-data-preparation-X_val.pkl\",\n",
    "        \"X_train\": \"/content/Reproducible-Data-Analysis-With-Jupyter-Notebooks-Standard-Bank-Virtual-Internship/output/section-05-data-preparation-X_train.pkl\",\n",
    "        \"y_train\": \"/content/Reproducible-Data-Analysis-With-Jupyter-Notebooks-Standard-Bank-Virtual-Internship/output/section-05-data-preparation-y_train.pkl\",\n",
    "        \"y_val\": \"/content/Reproducible-Data-Analysis-With-Jupyter-Notebooks-Standard-Bank-Virtual-Internship/output/section-05-data-preparation-y_val.pkl\",\n",
    "        \"nb\": \"/content/Reproducible-Data-Analysis-With-Jupyter-Notebooks-Standard-Bank-Virtual-Internship/output/section-05-data-preparation.ipynb\",\n",
    "    }\n",
    "}\n",
    "product = {\n",
    "    \"nb\": \"/content/Reproducible-Data-Analysis-With-Jupyter-Notebooks-Standard-Bank-Virtual-Internship/output/section-06f-bespoke-catboost.ipynb\"\n",
    "}\n"
   ]
  },
  {
   "cell_type": "code",
   "execution_count": 4,
   "id": "b05e1f22",
   "metadata": {
    "execution": {
     "iopub.execute_input": "2023-03-30T21:09:00.736951Z",
     "iopub.status.busy": "2023-03-30T21:09:00.736443Z",
     "iopub.status.idle": "2023-03-30T21:09:02.733347Z",
     "shell.execute_reply": "2023-03-30T21:09:02.732513Z"
    },
    "papermill": {
     "duration": 2.003209,
     "end_time": "2023-03-30T21:09:02.735560",
     "exception": false,
     "start_time": "2023-03-30T21:09:00.732351",
     "status": "completed"
    },
    "tags": [
     "soorgeon-unpickle"
    ]
   },
   "outputs": [
    {
     "name": "stdout",
     "output_type": "stream",
     "text": [
      "Accuracy on the Train Dataset :  0.9326086956521739\n",
      "Accuracy on the Train Dataset :  0.8116883116883117\n",
      "\n",
      "Confusion matrix : \n",
      " [[ 25   7]\n",
      " [ 22 100]]\n"
     ]
    }
   ],
   "source": [
    "X_train = pickle.loads(Path(upstream['section-05-data-preparation']['X_train']).read_bytes())\n",
    "X_val = pickle.loads(Path(upstream['section-05-data-preparation']['X_val']).read_bytes())\n",
    "y_train = pickle.loads(Path(upstream['section-05-data-preparation']['y_train']).read_bytes())\n",
    "y_val = pickle.loads(Path(upstream['section-05-data-preparation']['y_val']).read_bytes())\n",
    "\n",
    "cbc = CatBoostClassifier(verbose=0)\n",
    "cbc.fit(X_train, y_train)\n",
    "print(\"Accuracy on the Train Dataset : \", accuracy_score(cbc.predict(X_train), y_train))\n",
    "print(\"Accuracy on the Train Dataset : \", accuracy_score(cbc.predict(X_val), y_val))\n",
    "print(\"\\nConfusion matrix : \\n\", confusion_matrix(cbc.predict(X_val), y_val))"
   ]
  }
 ],
 "metadata": {
  "jupytext": {
   "cell_metadata_filter": "tags,-all",
   "main_language": "python",
   "notebook_metadata_filter": "-all",
   "text_representation": {
    "extension": ".py",
    "format_name": "percent"
   }
  },
  "kernelspec": {
   "display_name": "Python 3",
   "language": "python",
   "name": "python3"
  },
  "language_info": {
   "codemirror_mode": {
    "name": "ipython",
    "version": 3
   },
   "file_extension": ".py",
   "mimetype": "text/x-python",
   "name": "python",
   "nbconvert_exporter": "python",
   "pygments_lexer": "ipython3",
   "version": "3.9.16"
  },
  "papermill": {
   "duration": 6.022289,
   "end_time": "2023-03-30T21:09:03.358187",
   "exception": null,
   "input_path": "/tmp/tmpq9ilza1_.ipynb",
   "output_path": "/content/Reproducible-Data-Analysis-With-Jupyter-Notebooks-Standard-Bank-Virtual-Internship/output/section-06f-bespoke-catboost.ipynb",
   "parameters": {
    "product": {
     "nb": "/content/Reproducible-Data-Analysis-With-Jupyter-Notebooks-Standard-Bank-Virtual-Internship/output/section-06f-bespoke-catboost.ipynb"
    },
    "upstream": {
     "section-05-data-preparation": {
      "X_train": "/content/Reproducible-Data-Analysis-With-Jupyter-Notebooks-Standard-Bank-Virtual-Internship/output/section-05-data-preparation-X_train.pkl",
      "X_val": "/content/Reproducible-Data-Analysis-With-Jupyter-Notebooks-Standard-Bank-Virtual-Internship/output/section-05-data-preparation-X_val.pkl",
      "nb": "/content/Reproducible-Data-Analysis-With-Jupyter-Notebooks-Standard-Bank-Virtual-Internship/output/section-05-data-preparation.ipynb",
      "y_train": "/content/Reproducible-Data-Analysis-With-Jupyter-Notebooks-Standard-Bank-Virtual-Internship/output/section-05-data-preparation-y_train.pkl",
      "y_val": "/content/Reproducible-Data-Analysis-With-Jupyter-Notebooks-Standard-Bank-Virtual-Internship/output/section-05-data-preparation-y_val.pkl"
     }
    }
   },
   "start_time": "2023-03-30T21:08:57.335898"
  }
 },
 "nbformat": 4,
 "nbformat_minor": 5
}