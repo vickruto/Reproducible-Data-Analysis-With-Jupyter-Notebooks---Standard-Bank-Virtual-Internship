{
 "cells": [
  {
   "cell_type": "code",
   "execution_count": null,
   "id": "9a703bee",
   "metadata": {
    "papermill": {
     "duration": 0.002053,
     "end_time": "2023-03-30T21:08:54.282531",
     "exception": false,
     "start_time": "2023-03-30T21:08:54.280478",
     "status": "completed"
    },
    "tags": []
   },
   "outputs": [],
   "source": []
  },
  {
   "cell_type": "code",
   "execution_count": 1,
   "id": "f793e220",
   "metadata": {
    "execution": {
     "iopub.execute_input": "2023-03-30T21:08:54.288357Z",
     "iopub.status.busy": "2023-03-30T21:08:54.287544Z",
     "iopub.status.idle": "2023-03-30T21:08:55.978664Z",
     "shell.execute_reply": "2023-03-30T21:08:55.977572Z"
    },
    "papermill": {
     "duration": 1.69756,
     "end_time": "2023-03-30T21:08:55.981956",
     "exception": false,
     "start_time": "2023-03-30T21:08:54.284396",
     "status": "completed"
    },
    "tags": [
     "soorgeon-imports"
    ]
   },
   "outputs": [],
   "source": [
    "from sklearn.metrics import accuracy_score, confusion_matrix\n",
    "from sklearn.tree import DecisionTreeClassifier\n",
    "from pathlib import Path\n",
    "import pickle\n",
    "from lightgbm import LGBMClassifier"
   ]
  },
  {
   "cell_type": "code",
   "execution_count": 2,
   "id": "6b635193",
   "metadata": {
    "execution": {
     "iopub.execute_input": "2023-03-30T21:08:55.992530Z",
     "iopub.status.busy": "2023-03-30T21:08:55.990087Z",
     "iopub.status.idle": "2023-03-30T21:08:55.997817Z",
     "shell.execute_reply": "2023-03-30T21:08:55.996846Z"
    },
    "papermill": {
     "duration": 0.015988,
     "end_time": "2023-03-30T21:08:56.000928",
     "exception": false,
     "start_time": "2023-03-30T21:08:55.984940",
     "status": "completed"
    },
    "tags": [
     "parameters"
    ]
   },
   "outputs": [],
   "source": [
    "upstream = ['section-05-data-preparation']\n",
    "product = None"
   ]
  },
  {
   "cell_type": "code",
   "execution_count": 3,
   "id": "5a709bac",
   "metadata": {
    "execution": {
     "iopub.execute_input": "2023-03-30T21:08:56.008045Z",
     "iopub.status.busy": "2023-03-30T21:08:56.007582Z",
     "iopub.status.idle": "2023-03-30T21:08:56.013089Z",
     "shell.execute_reply": "2023-03-30T21:08:56.012120Z"
    },
    "papermill": {
     "duration": 0.014286,
     "end_time": "2023-03-30T21:08:56.017768",
     "exception": false,
     "start_time": "2023-03-30T21:08:56.003482",
     "status": "completed"
    },
    "tags": [
     "injected-parameters"
    ]
   },
   "outputs": [],
   "source": [
    "# Parameters\n",
    "upstream = {\n",
    "    \"section-05-data-preparation\": {\n",
    "        \"X_val\": \"/content/Reproducible-Data-Analysis-With-Jupyter-Notebooks-Standard-Bank-Virtual-Internship/output/section-05-data-preparation-X_val.pkl\",\n",
    "        \"X_train\": \"/content/Reproducible-Data-Analysis-With-Jupyter-Notebooks-Standard-Bank-Virtual-Internship/output/section-05-data-preparation-X_train.pkl\",\n",
    "        \"y_train\": \"/content/Reproducible-Data-Analysis-With-Jupyter-Notebooks-Standard-Bank-Virtual-Internship/output/section-05-data-preparation-y_train.pkl\",\n",
    "        \"y_val\": \"/content/Reproducible-Data-Analysis-With-Jupyter-Notebooks-Standard-Bank-Virtual-Internship/output/section-05-data-preparation-y_val.pkl\",\n",
    "        \"nb\": \"/content/Reproducible-Data-Analysis-With-Jupyter-Notebooks-Standard-Bank-Virtual-Internship/output/section-05-data-preparation.ipynb\",\n",
    "    }\n",
    "}\n",
    "product = {\n",
    "    \"nb\": \"/content/Reproducible-Data-Analysis-With-Jupyter-Notebooks-Standard-Bank-Virtual-Internship/output/section-06e-bespoke-lightgbm.ipynb\"\n",
    "}\n"
   ]
  },
  {
   "cell_type": "code",
   "execution_count": 4,
   "id": "5dd59495",
   "metadata": {
    "execution": {
     "iopub.execute_input": "2023-03-30T21:08:56.025011Z",
     "iopub.status.busy": "2023-03-30T21:08:56.024535Z",
     "iopub.status.idle": "2023-03-30T21:08:56.484459Z",
     "shell.execute_reply": "2023-03-30T21:08:56.482512Z"
    },
    "lines_to_next_cell": 2,
    "papermill": {
     "duration": 0.466711,
     "end_time": "2023-03-30T21:08:56.487052",
     "exception": false,
     "start_time": "2023-03-30T21:08:56.020341",
     "status": "completed"
    },
    "tags": [
     "soorgeon-unpickle"
    ]
   },
   "outputs": [
    {
     "name": "stdout",
     "output_type": "stream",
     "text": [
      "Accuracy on the Train Dataset :  0.9847826086956522\n",
      "Accuracy on the Train Dataset :  0.7857142857142857\n",
      "\n",
      "Confusion matrix : \n",
      " [[28 14]\n",
      " [19 93]]\n"
     ]
    }
   ],
   "source": [
    "X_train = pickle.loads(Path(upstream['section-05-data-preparation']['X_train']).read_bytes())\n",
    "X_val = pickle.loads(Path(upstream['section-05-data-preparation']['X_val']).read_bytes())\n",
    "y_train = pickle.loads(Path(upstream['section-05-data-preparation']['y_train']).read_bytes())\n",
    "y_val = pickle.loads(Path(upstream['section-05-data-preparation']['y_val']).read_bytes())\n",
    "\n",
    "lgbm = LGBMClassifier()\n",
    "lgbm.fit(X_train, y_train)\n",
    "print(\"Accuracy on the Train Dataset : \", accuracy_score(lgbm.predict(X_train), y_train))\n",
    "print(\"Accuracy on the Train Dataset : \", accuracy_score(lgbm.predict(X_val), y_val))\n",
    "print(\"\\nConfusion matrix : \\n\", confusion_matrix(lgbm.predict(X_val), y_val))"
   ]
  }
 ],
 "metadata": {
  "jupytext": {
   "cell_metadata_filter": "tags,-all",
   "main_language": "python",
   "notebook_metadata_filter": "-all",
   "text_representation": {
    "extension": ".py",
    "format_name": "percent"
   }
  },
  "kernelspec": {
   "display_name": "Python 3",
   "language": "python",
   "name": "python3"
  },
  "language_info": {
   "codemirror_mode": {
    "name": "ipython",
    "version": 3
   },
   "file_extension": ".py",
   "mimetype": "text/x-python",
   "name": "python",
   "nbconvert_exporter": "python",
   "pygments_lexer": "ipython3",
   "version": "3.9.16"
  },
  "papermill": {
   "duration": 4.312792,
   "end_time": "2023-03-30T21:08:57.319681",
   "exception": null,
   "input_path": "/tmp/tmp2u8yc2ng.ipynb",
   "output_path": "/content/Reproducible-Data-Analysis-With-Jupyter-Notebooks-Standard-Bank-Virtual-Internship/output/section-06e-bespoke-lightgbm.ipynb",
   "parameters": {
    "product": {
     "nb": "/content/Reproducible-Data-Analysis-With-Jupyter-Notebooks-Standard-Bank-Virtual-Internship/output/section-06e-bespoke-lightgbm.ipynb"
    },
    "upstream": {
     "section-05-data-preparation": {
      "X_train": "/content/Reproducible-Data-Analysis-With-Jupyter-Notebooks-Standard-Bank-Virtual-Internship/output/section-05-data-preparation-X_train.pkl",
      "X_val": "/content/Reproducible-Data-Analysis-With-Jupyter-Notebooks-Standard-Bank-Virtual-Internship/output/section-05-data-preparation-X_val.pkl",
      "nb": "/content/Reproducible-Data-Analysis-With-Jupyter-Notebooks-Standard-Bank-Virtual-Internship/output/section-05-data-preparation.ipynb",
      "y_train": "/content/Reproducible-Data-Analysis-With-Jupyter-Notebooks-Standard-Bank-Virtual-Internship/output/section-05-data-preparation-y_train.pkl",
      "y_val": "/content/Reproducible-Data-Analysis-With-Jupyter-Notebooks-Standard-Bank-Virtual-Internship/output/section-05-data-preparation-y_val.pkl"
     }
    }
   },
   "start_time": "2023-03-30T21:08:53.006889"
  }
 },
 "nbformat": 4,
 "nbformat_minor": 5
}