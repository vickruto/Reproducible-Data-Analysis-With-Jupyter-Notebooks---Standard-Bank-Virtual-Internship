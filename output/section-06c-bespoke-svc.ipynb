{
 "cells": [
  {
   "cell_type": "code",
   "execution_count": null,
   "id": "dfd80678",
   "metadata": {
    "papermill": {
     "duration": 0.002648,
     "end_time": "2023-03-30T21:08:48.386157",
     "exception": false,
     "start_time": "2023-03-30T21:08:48.383509",
     "status": "completed"
    },
    "tags": []
   },
   "outputs": [],
   "source": []
  },
  {
   "cell_type": "code",
   "execution_count": 1,
   "id": "d31b0964",
   "metadata": {
    "execution": {
     "iopub.execute_input": "2023-03-30T21:08:48.393354Z",
     "iopub.status.busy": "2023-03-30T21:08:48.392579Z",
     "iopub.status.idle": "2023-03-30T21:08:49.054887Z",
     "shell.execute_reply": "2023-03-30T21:08:49.053808Z"
    },
    "papermill": {
     "duration": 0.668959,
     "end_time": "2023-03-30T21:08:49.057746",
     "exception": false,
     "start_time": "2023-03-30T21:08:48.388787",
     "status": "completed"
    },
    "tags": [
     "soorgeon-imports"
    ]
   },
   "outputs": [],
   "source": [
    "from sklearn.metrics import accuracy_score, confusion_matrix\n",
    "from sklearn.svm import SVC\n",
    "from pathlib import Path\n",
    "import pickle"
   ]
  },
  {
   "cell_type": "code",
   "execution_count": 2,
   "id": "7b70afcd",
   "metadata": {
    "execution": {
     "iopub.execute_input": "2023-03-30T21:08:49.062641Z",
     "iopub.status.busy": "2023-03-30T21:08:49.062279Z",
     "iopub.status.idle": "2023-03-30T21:08:49.067666Z",
     "shell.execute_reply": "2023-03-30T21:08:49.066719Z"
    },
    "papermill": {
     "duration": 0.010141,
     "end_time": "2023-03-30T21:08:49.069684",
     "exception": false,
     "start_time": "2023-03-30T21:08:49.059543",
     "status": "completed"
    },
    "tags": [
     "parameters"
    ]
   },
   "outputs": [],
   "source": [
    "upstream = ['section-05-data-preparation']\n",
    "product = None"
   ]
  },
  {
   "cell_type": "code",
   "execution_count": 3,
   "id": "bbd0dfb7",
   "metadata": {
    "execution": {
     "iopub.execute_input": "2023-03-30T21:08:49.074603Z",
     "iopub.status.busy": "2023-03-30T21:08:49.074222Z",
     "iopub.status.idle": "2023-03-30T21:08:49.079069Z",
     "shell.execute_reply": "2023-03-30T21:08:49.077951Z"
    },
    "papermill": {
     "duration": 0.010273,
     "end_time": "2023-03-30T21:08:49.081630",
     "exception": false,
     "start_time": "2023-03-30T21:08:49.071357",
     "status": "completed"
    },
    "tags": [
     "injected-parameters"
    ]
   },
   "outputs": [],
   "source": [
    "# Parameters\n",
    "upstream = {\n",
    "    \"section-05-data-preparation\": {\n",
    "        \"X_val\": \"/content/Reproducible-Data-Analysis-With-Jupyter-Notebooks-Standard-Bank-Virtual-Internship/output/section-05-data-preparation-X_val.pkl\",\n",
    "        \"X_train\": \"/content/Reproducible-Data-Analysis-With-Jupyter-Notebooks-Standard-Bank-Virtual-Internship/output/section-05-data-preparation-X_train.pkl\",\n",
    "        \"y_train\": \"/content/Reproducible-Data-Analysis-With-Jupyter-Notebooks-Standard-Bank-Virtual-Internship/output/section-05-data-preparation-y_train.pkl\",\n",
    "        \"y_val\": \"/content/Reproducible-Data-Analysis-With-Jupyter-Notebooks-Standard-Bank-Virtual-Internship/output/section-05-data-preparation-y_val.pkl\",\n",
    "        \"nb\": \"/content/Reproducible-Data-Analysis-With-Jupyter-Notebooks-Standard-Bank-Virtual-Internship/output/section-05-data-preparation.ipynb\",\n",
    "    }\n",
    "}\n",
    "product = {\n",
    "    \"nb\": \"/content/Reproducible-Data-Analysis-With-Jupyter-Notebooks-Standard-Bank-Virtual-Internship/output/section-06c-bespoke-svc.ipynb\"\n",
    "}\n"
   ]
  },
  {
   "cell_type": "code",
   "execution_count": 4,
   "id": "70dde4b0",
   "metadata": {
    "execution": {
     "iopub.execute_input": "2023-03-30T21:08:49.091530Z",
     "iopub.status.busy": "2023-03-30T21:08:49.091099Z",
     "iopub.status.idle": "2023-03-30T21:08:49.409113Z",
     "shell.execute_reply": "2023-03-30T21:08:49.408021Z"
    },
    "papermill": {
     "duration": 0.32801,
     "end_time": "2023-03-30T21:08:49.411528",
     "exception": false,
     "start_time": "2023-03-30T21:08:49.083518",
     "status": "completed"
    },
    "tags": [
     "soorgeon-unpickle"
    ]
   },
   "outputs": [
    {
     "name": "stdout",
     "output_type": "stream",
     "text": [
      "Accuracy on the Train Dataset :  0.6891304347826087\n",
      "Accuracy on the Validation Dataset :  0.6948051948051948\n",
      "\n",
      "Confusion matrix : \n",
      " [[  0   0]\n",
      " [ 47 107]]\n"
     ]
    }
   ],
   "source": [
    "X_train = pickle.loads(Path(upstream['section-05-data-preparation']['X_train']).read_bytes())\n",
    "X_val = pickle.loads(Path(upstream['section-05-data-preparation']['X_val']).read_bytes())\n",
    "y_train = pickle.loads(Path(upstream['section-05-data-preparation']['y_train']).read_bytes())\n",
    "y_val = pickle.loads(Path(upstream['section-05-data-preparation']['y_val']).read_bytes())\n",
    "\n",
    "svm = SVC()\n",
    "svm.fit(X_train, y_train)\n",
    "print(\"Accuracy on the Train Dataset : \", svm.score(X_train, y_train))\n",
    "print(\"Accuracy on the Validation Dataset : \", svm.score(X_val, y_val)) \n",
    "print(\"\\nConfusion matrix : \\n\", confusion_matrix(svm.predict(X_val), y_val))"
   ]
  }
 ],
 "metadata": {
  "jupytext": {
   "cell_metadata_filter": "tags,-all",
   "main_language": "python",
   "notebook_metadata_filter": "-all",
   "text_representation": {
    "extension": ".py",
    "format_name": "percent"
   }
  },
  "kernelspec": {
   "display_name": "Python 3",
   "language": "python",
   "name": "python3"
  },
  "language_info": {
   "codemirror_mode": {
    "name": "ipython",
    "version": 3
   },
   "file_extension": ".py",
   "mimetype": "text/x-python",
   "name": "python",
   "nbconvert_exporter": "python",
   "pygments_lexer": "ipython3",
   "version": "3.9.16"
  },
  "papermill": {
   "duration": 2.968163,
   "end_time": "2023-03-30T21:08:50.035841",
   "exception": null,
   "input_path": "/tmp/tmpzkqkq_k3.ipynb",
   "output_path": "/content/Reproducible-Data-Analysis-With-Jupyter-Notebooks-Standard-Bank-Virtual-Internship/output/section-06c-bespoke-svc.ipynb",
   "parameters": {
    "product": {
     "nb": "/content/Reproducible-Data-Analysis-With-Jupyter-Notebooks-Standard-Bank-Virtual-Internship/output/section-06c-bespoke-svc.ipynb"
    },
    "upstream": {
     "section-05-data-preparation": {
      "X_train": "/content/Reproducible-Data-Analysis-With-Jupyter-Notebooks-Standard-Bank-Virtual-Internship/output/section-05-data-preparation-X_train.pkl",
      "X_val": "/content/Reproducible-Data-Analysis-With-Jupyter-Notebooks-Standard-Bank-Virtual-Internship/output/section-05-data-preparation-X_val.pkl",
      "nb": "/content/Reproducible-Data-Analysis-With-Jupyter-Notebooks-Standard-Bank-Virtual-Internship/output/section-05-data-preparation.ipynb",
      "y_train": "/content/Reproducible-Data-Analysis-With-Jupyter-Notebooks-Standard-Bank-Virtual-Internship/output/section-05-data-preparation-y_train.pkl",
      "y_val": "/content/Reproducible-Data-Analysis-With-Jupyter-Notebooks-Standard-Bank-Virtual-Internship/output/section-05-data-preparation-y_val.pkl"
     }
    }
   },
   "start_time": "2023-03-30T21:08:47.067678"
  }
 },
 "nbformat": 4,
 "nbformat_minor": 5
}