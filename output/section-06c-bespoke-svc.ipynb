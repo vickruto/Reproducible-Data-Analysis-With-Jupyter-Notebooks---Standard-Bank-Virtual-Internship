{
 "cells": [
  {
   "cell_type": "code",
   "execution_count": null,
   "id": "47cac464",
   "metadata": {
    "papermill": {
     "duration": 0.002789,
     "end_time": "2023-04-03T13:14:28.781003",
     "exception": false,
     "start_time": "2023-04-03T13:14:28.778214",
     "status": "completed"
    },
    "tags": []
   },
   "outputs": [],
   "source": []
  },
  {
   "cell_type": "code",
   "execution_count": 1,
   "id": "dbd7d080",
   "metadata": {
    "execution": {
     "iopub.execute_input": "2023-04-03T13:14:28.789510Z",
     "iopub.status.busy": "2023-04-03T13:14:28.788998Z",
     "iopub.status.idle": "2023-04-03T13:14:29.804307Z",
     "shell.execute_reply": "2023-04-03T13:14:29.803053Z"
    },
    "papermill": {
     "duration": 1.023486,
     "end_time": "2023-04-03T13:14:29.807851",
     "exception": false,
     "start_time": "2023-04-03T13:14:28.784365",
     "status": "completed"
    },
    "tags": [
     "soorgeon-imports"
    ]
   },
   "outputs": [],
   "source": [
    "from sklearn.metrics import accuracy_score, confusion_matrix\n",
    "from sklearn.svm import SVC\n",
    "from pathlib import Path\n",
    "import pickle"
   ]
  },
  {
   "cell_type": "code",
   "execution_count": 2,
   "id": "92535aa9",
   "metadata": {
    "execution": {
     "iopub.execute_input": "2023-04-03T13:14:29.814960Z",
     "iopub.status.busy": "2023-04-03T13:14:29.814124Z",
     "iopub.status.idle": "2023-04-03T13:14:29.819220Z",
     "shell.execute_reply": "2023-04-03T13:14:29.818130Z"
    },
    "papermill": {
     "duration": 0.013649,
     "end_time": "2023-04-03T13:14:29.823597",
     "exception": false,
     "start_time": "2023-04-03T13:14:29.809948",
     "status": "completed"
    },
    "tags": [
     "parameters"
    ]
   },
   "outputs": [],
   "source": [
    "upstream = ['section-05b-standardize-features']\n",
    "product = None"
   ]
  },
  {
   "cell_type": "code",
   "execution_count": 3,
   "id": "f431b666",
   "metadata": {
    "execution": {
     "iopub.execute_input": "2023-04-03T13:14:29.833739Z",
     "iopub.status.busy": "2023-04-03T13:14:29.832686Z",
     "iopub.status.idle": "2023-04-03T13:14:29.841121Z",
     "shell.execute_reply": "2023-04-03T13:14:29.839939Z"
    },
    "papermill": {
     "duration": 0.017957,
     "end_time": "2023-04-03T13:14:29.844440",
     "exception": false,
     "start_time": "2023-04-03T13:14:29.826483",
     "status": "completed"
    },
    "tags": [
     "injected-parameters"
    ]
   },
   "outputs": [],
   "source": [
    "# Parameters\n",
    "upstream = {\n",
    "    \"section-05b-standardize-features\": {\n",
    "        \"X_val\": \"/content/reproducible-analysis/output/section-05b-standardize-features-X_val.pkl\",\n",
    "        \"X_train\": \"/content/reproducible-analysis/output/section-05b-standardize-features-X_train.pkl\",\n",
    "        \"y_train\": \"/content/reproducible-analysis/output/section-05b-standardize-features-y_train.pkl\",\n",
    "        \"y_val\": \"/content/reproducible-analysis/output/section-05b-standardize-features-y_val.pkl\",\n",
    "        \"nb\": \"/content/reproducible-analysis/output/section-05b-standardize-features.ipynb\",\n",
    "    }\n",
    "}\n",
    "product = {\"nb\": \"/content/reproducible-analysis/output/section-06c-bespoke-svc.ipynb\"}\n"
   ]
  },
  {
   "cell_type": "code",
   "execution_count": 4,
   "id": "0133403a",
   "metadata": {
    "execution": {
     "iopub.execute_input": "2023-04-03T13:14:29.852216Z",
     "iopub.status.busy": "2023-04-03T13:14:29.851719Z",
     "iopub.status.idle": "2023-04-03T13:14:30.232366Z",
     "shell.execute_reply": "2023-04-03T13:14:30.231388Z"
    },
    "papermill": {
     "duration": 0.387405,
     "end_time": "2023-04-03T13:14:30.234658",
     "exception": false,
     "start_time": "2023-04-03T13:14:29.847253",
     "status": "completed"
    },
    "tags": [
     "soorgeon-unpickle"
    ]
   },
   "outputs": [],
   "source": [
    "X_train = pickle.loads(Path(upstream['section-05b-standardize-features']['X_train']).read_bytes())\n",
    "X_val = pickle.loads(Path(upstream['section-05b-standardize-features']['X_val']).read_bytes())\n",
    "y_train = pickle.loads(Path(upstream['section-05b-standardize-features']['y_train']).read_bytes())\n",
    "y_val = pickle.loads(Path(upstream['section-05b-standardize-features']['y_val']).read_bytes())"
   ]
  },
  {
   "cell_type": "code",
   "execution_count": 5,
   "id": "fe2acee5",
   "metadata": {
    "execution": {
     "iopub.execute_input": "2023-04-03T13:14:30.240178Z",
     "iopub.status.busy": "2023-04-03T13:14:30.239688Z",
     "iopub.status.idle": "2023-04-03T13:14:30.275004Z",
     "shell.execute_reply": "2023-04-03T13:14:30.273827Z"
    },
    "papermill": {
     "duration": 0.040908,
     "end_time": "2023-04-03T13:14:30.277613",
     "exception": false,
     "start_time": "2023-04-03T13:14:30.236705",
     "status": "completed"
    },
    "tags": []
   },
   "outputs": [
    {
     "name": "stdout",
     "output_type": "stream",
     "text": [
      "Accuracy on the Train Dataset :  0.8217391304347826\n",
      "Accuracy on the Validation Dataset :  0.8116883116883117\n",
      "\n",
      "Confusion matrix : \n",
      " [[ 21   3]\n",
      " [ 26 104]]\n"
     ]
    }
   ],
   "source": [
    "svm = SVC()\n",
    "svm.fit(X_train, y_train)\n",
    "print(\"Accuracy on the Train Dataset : \", svm.score(X_train, y_train))\n",
    "print(\"Accuracy on the Validation Dataset : \", svm.score(X_val, y_val)) \n",
    "print(\"\\nConfusion matrix : \\n\", confusion_matrix(svm.predict(X_val), y_val))"
   ]
  }
 ],
 "metadata": {
  "jupytext": {
   "cell_metadata_filter": "tags,-all",
   "main_language": "python",
   "notebook_metadata_filter": "-all",
   "text_representation": {
    "extension": ".py",
    "format_name": "percent"
   }
  },
  "kernelspec": {
   "display_name": "Python 3",
   "language": "python",
   "name": "python3"
  },
  "language_info": {
   "codemirror_mode": {
    "name": "ipython",
    "version": 3
   },
   "file_extension": ".py",
   "mimetype": "text/x-python",
   "name": "python",
   "nbconvert_exporter": "python",
   "pygments_lexer": "ipython3",
   "version": "3.9.16"
  },
  "papermill": {
   "duration": 3.996697,
   "end_time": "2023-04-03T13:14:30.900665",
   "exception": null,
   "input_path": "/tmp/tmpfwg5_ork.ipynb",
   "output_path": "/content/reproducible-analysis/output/section-06c-bespoke-svc.ipynb",
   "parameters": {
    "product": {
     "nb": "/content/reproducible-analysis/output/section-06c-bespoke-svc.ipynb"
    },
    "upstream": {
     "section-05b-standardize-features": {
      "X_train": "/content/reproducible-analysis/output/section-05b-standardize-features-X_train.pkl",
      "X_val": "/content/reproducible-analysis/output/section-05b-standardize-features-X_val.pkl",
      "nb": "/content/reproducible-analysis/output/section-05b-standardize-features.ipynb",
      "y_train": "/content/reproducible-analysis/output/section-05b-standardize-features-y_train.pkl",
      "y_val": "/content/reproducible-analysis/output/section-05b-standardize-features-y_val.pkl"
     }
    }
   },
   "start_time": "2023-04-03T13:14:26.903968"
  }
 },
 "nbformat": 4,
 "nbformat_minor": 5
}