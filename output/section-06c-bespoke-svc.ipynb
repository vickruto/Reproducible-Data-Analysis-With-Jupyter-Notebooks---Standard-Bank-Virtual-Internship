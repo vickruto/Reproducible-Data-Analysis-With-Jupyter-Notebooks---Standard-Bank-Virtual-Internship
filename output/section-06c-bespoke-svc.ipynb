{
 "cells": [
  {
   "cell_type": "code",
   "execution_count": null,
   "id": "3a6bb422",
   "metadata": {
    "papermill": {
     "duration": 0.001974,
     "end_time": "2023-04-03T16:57:24.538154",
     "exception": false,
     "start_time": "2023-04-03T16:57:24.536180",
     "status": "completed"
    },
    "tags": []
   },
   "outputs": [],
   "source": []
  },
  {
   "cell_type": "code",
   "execution_count": 1,
   "id": "b0699367",
   "metadata": {
    "execution": {
     "iopub.execute_input": "2023-04-03T16:57:24.543423Z",
     "iopub.status.busy": "2023-04-03T16:57:24.542771Z",
     "iopub.status.idle": "2023-04-03T16:57:25.120480Z",
     "shell.execute_reply": "2023-04-03T16:57:25.119416Z"
    },
    "papermill": {
     "duration": 0.582957,
     "end_time": "2023-04-03T16:57:25.122959",
     "exception": false,
     "start_time": "2023-04-03T16:57:24.540002",
     "status": "completed"
    },
    "tags": [
     "soorgeon-imports"
    ]
   },
   "outputs": [],
   "source": [
    "from sklearn.metrics import confusion_matrix\n",
    "from sklearn.svm import SVC\n",
    "from pathlib import Path\n",
    "import pickle"
   ]
  },
  {
   "cell_type": "code",
   "execution_count": 2,
   "id": "66a7e09e",
   "metadata": {
    "execution": {
     "iopub.execute_input": "2023-04-03T16:57:25.129073Z",
     "iopub.status.busy": "2023-04-03T16:57:25.128434Z",
     "iopub.status.idle": "2023-04-03T16:57:25.132885Z",
     "shell.execute_reply": "2023-04-03T16:57:25.131998Z"
    },
    "papermill": {
     "duration": 0.009767,
     "end_time": "2023-04-03T16:57:25.134725",
     "exception": false,
     "start_time": "2023-04-03T16:57:25.124958",
     "status": "completed"
    },
    "tags": [
     "parameters"
    ]
   },
   "outputs": [],
   "source": [
    "upstream = ['section-05b-standardize-features']\n",
    "product = None"
   ]
  },
  {
   "cell_type": "code",
   "execution_count": 3,
   "id": "6d00b4cd",
   "metadata": {
    "execution": {
     "iopub.execute_input": "2023-04-03T16:57:25.139076Z",
     "iopub.status.busy": "2023-04-03T16:57:25.138797Z",
     "iopub.status.idle": "2023-04-03T16:57:25.143952Z",
     "shell.execute_reply": "2023-04-03T16:57:25.143082Z"
    },
    "papermill": {
     "duration": 0.009601,
     "end_time": "2023-04-03T16:57:25.145881",
     "exception": false,
     "start_time": "2023-04-03T16:57:25.136280",
     "status": "completed"
    },
    "tags": [
     "injected-parameters"
    ]
   },
   "outputs": [],
   "source": [
    "# Parameters\n",
    "upstream = {\n",
    "    \"section-05b-standardize-features\": {\n",
    "        \"X_val\": \"/content/reproducible-analysis/output/section-05b-standardize-features-X_val.pkl\",\n",
    "        \"X_train\": \"/content/reproducible-analysis/output/section-05b-standardize-features-X_train.pkl\",\n",
    "        \"y_train\": \"/content/reproducible-analysis/output/section-05b-standardize-features-y_train.pkl\",\n",
    "        \"y_val\": \"/content/reproducible-analysis/output/section-05b-standardize-features-y_val.pkl\",\n",
    "        \"nb\": \"/content/reproducible-analysis/output/section-05b-standardize-features.ipynb\",\n",
    "    }\n",
    "}\n",
    "product = {\"nb\": \"/content/reproducible-analysis/output/section-06c-bespoke-svc.ipynb\"}\n"
   ]
  },
  {
   "cell_type": "code",
   "execution_count": 4,
   "id": "59d13a07",
   "metadata": {
    "execution": {
     "iopub.execute_input": "2023-04-03T16:57:25.149949Z",
     "iopub.status.busy": "2023-04-03T16:57:25.149637Z",
     "iopub.status.idle": "2023-04-03T16:57:25.407002Z",
     "shell.execute_reply": "2023-04-03T16:57:25.405933Z"
    },
    "papermill": {
     "duration": 0.261932,
     "end_time": "2023-04-03T16:57:25.409292",
     "exception": false,
     "start_time": "2023-04-03T16:57:25.147360",
     "status": "completed"
    },
    "tags": [
     "soorgeon-unpickle"
    ]
   },
   "outputs": [],
   "source": [
    "X_train = pickle.loads(Path(upstream['section-05b-standardize-features']['X_train']).read_bytes())\n",
    "X_val = pickle.loads(Path(upstream['section-05b-standardize-features']['X_val']).read_bytes())\n",
    "y_train = pickle.loads(Path(upstream['section-05b-standardize-features']['y_train']).read_bytes())\n",
    "y_val = pickle.loads(Path(upstream['section-05b-standardize-features']['y_val']).read_bytes())"
   ]
  },
  {
   "cell_type": "code",
   "execution_count": 5,
   "id": "2848e770",
   "metadata": {
    "execution": {
     "iopub.execute_input": "2023-04-03T16:57:25.414675Z",
     "iopub.status.busy": "2023-04-03T16:57:25.413968Z",
     "iopub.status.idle": "2023-04-03T16:57:25.451119Z",
     "shell.execute_reply": "2023-04-03T16:57:25.450335Z"
    },
    "papermill": {
     "duration": 0.041811,
     "end_time": "2023-04-03T16:57:25.452955",
     "exception": false,
     "start_time": "2023-04-03T16:57:25.411144",
     "status": "completed"
    },
    "tags": []
   },
   "outputs": [
    {
     "name": "stdout",
     "output_type": "stream",
     "text": [
      "Accuracy on the Train Dataset :  0.8304347826086956\n",
      "Accuracy on the Validation Dataset :  0.7857142857142857\n",
      "\n",
      "Confusion matrix : \n",
      " [[ 15   0]\n",
      " [ 33 106]]\n"
     ]
    }
   ],
   "source": [
    "svm = SVC()\n",
    "svm.fit(X_train, y_train)\n",
    "print(\"Accuracy on the Train Dataset : \", svm.score(X_train, y_train))\n",
    "print(\"Accuracy on the Validation Dataset : \", svm.score(X_val, y_val)) \n",
    "print(\"\\nConfusion matrix : \\n\", confusion_matrix(svm.predict(X_val), y_val))"
   ]
  }
 ],
 "metadata": {
  "jupytext": {
   "cell_metadata_filter": "tags,-all",
   "main_language": "python",
   "notebook_metadata_filter": "-all",
   "text_representation": {
    "extension": ".py",
    "format_name": "percent"
   }
  },
  "kernelspec": {
   "display_name": "Python 3",
   "language": "python",
   "name": "python3"
  },
  "language_info": {
   "codemirror_mode": {
    "name": "ipython",
    "version": 3
   },
   "file_extension": ".py",
   "mimetype": "text/x-python",
   "name": "python",
   "nbconvert_exporter": "python",
   "pygments_lexer": "ipython3",
   "version": "3.9.16"
  },
  "papermill": {
   "duration": 2.617667,
   "end_time": "2023-04-03T16:57:25.973025",
   "exception": null,
   "input_path": "/tmp/tmp93cp3_vb.ipynb",
   "output_path": "/content/reproducible-analysis/output/section-06c-bespoke-svc.ipynb",
   "parameters": {
    "product": {
     "nb": "/content/reproducible-analysis/output/section-06c-bespoke-svc.ipynb"
    },
    "upstream": {
     "section-05b-standardize-features": {
      "X_train": "/content/reproducible-analysis/output/section-05b-standardize-features-X_train.pkl",
      "X_val": "/content/reproducible-analysis/output/section-05b-standardize-features-X_val.pkl",
      "nb": "/content/reproducible-analysis/output/section-05b-standardize-features.ipynb",
      "y_train": "/content/reproducible-analysis/output/section-05b-standardize-features-y_train.pkl",
      "y_val": "/content/reproducible-analysis/output/section-05b-standardize-features-y_val.pkl"
     }
    }
   },
   "start_time": "2023-04-03T16:57:23.355358"
  }
 },
 "nbformat": 4,
 "nbformat_minor": 5
}