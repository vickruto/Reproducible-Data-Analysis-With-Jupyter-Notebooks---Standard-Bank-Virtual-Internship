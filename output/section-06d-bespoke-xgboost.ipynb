{
 "cells": [
  {
   "cell_type": "code",
   "execution_count": null,
   "id": "0bbb2052",
   "metadata": {
    "papermill": {
     "duration": 0.003721,
     "end_time": "2023-03-30T21:11:22.681688",
     "exception": false,
     "start_time": "2023-03-30T21:11:22.677967",
     "status": "completed"
    },
    "tags": []
   },
   "outputs": [],
   "source": []
  },
  {
   "cell_type": "code",
   "execution_count": 1,
   "id": "38e9c0d4",
   "metadata": {
    "execution": {
     "iopub.execute_input": "2023-03-30T21:11:22.694111Z",
     "iopub.status.busy": "2023-03-30T21:11:22.693574Z",
     "iopub.status.idle": "2023-03-30T21:11:24.032403Z",
     "shell.execute_reply": "2023-03-30T21:11:24.031124Z"
    },
    "papermill": {
     "duration": 1.353861,
     "end_time": "2023-03-30T21:11:24.041397",
     "exception": false,
     "start_time": "2023-03-30T21:11:22.687536",
     "status": "completed"
    },
    "tags": [
     "soorgeon-imports"
    ]
   },
   "outputs": [],
   "source": [
    "from sklearn.metrics import accuracy_score, confusion_matrix\n",
    "from xgboost import XGBClassifier\n",
    "from pathlib import Path\n",
    "import pickle"
   ]
  },
  {
   "cell_type": "code",
   "execution_count": 2,
   "id": "f59eff88",
   "metadata": {
    "execution": {
     "iopub.execute_input": "2023-03-30T21:11:24.050968Z",
     "iopub.status.busy": "2023-03-30T21:11:24.048169Z",
     "iopub.status.idle": "2023-03-30T21:11:24.059387Z",
     "shell.execute_reply": "2023-03-30T21:11:24.057834Z"
    },
    "papermill": {
     "duration": 0.018813,
     "end_time": "2023-03-30T21:11:24.062941",
     "exception": false,
     "start_time": "2023-03-30T21:11:24.044128",
     "status": "completed"
    },
    "tags": [
     "parameters"
    ]
   },
   "outputs": [],
   "source": [
    "upstream = ['section-05-data-preparation']\n",
    "product = None"
   ]
  },
  {
   "cell_type": "code",
   "execution_count": 3,
   "id": "bf5a9551",
   "metadata": {
    "execution": {
     "iopub.execute_input": "2023-03-30T21:11:24.070141Z",
     "iopub.status.busy": "2023-03-30T21:11:24.069645Z",
     "iopub.status.idle": "2023-03-30T21:11:24.075219Z",
     "shell.execute_reply": "2023-03-30T21:11:24.074218Z"
    },
    "papermill": {
     "duration": 0.014839,
     "end_time": "2023-03-30T21:11:24.080363",
     "exception": false,
     "start_time": "2023-03-30T21:11:24.065524",
     "status": "completed"
    },
    "tags": [
     "injected-parameters"
    ]
   },
   "outputs": [],
   "source": [
    "# Parameters\n",
    "upstream = {\n",
    "    \"section-05-data-preparation\": {\n",
    "        \"X_val\": \"/content/Reproducible-Data-Analysis-With-Jupyter-Notebooks-Standard-Bank-Virtual-Internship/output/section-05-data-preparation-X_val.pkl\",\n",
    "        \"X_train\": \"/content/Reproducible-Data-Analysis-With-Jupyter-Notebooks-Standard-Bank-Virtual-Internship/output/section-05-data-preparation-X_train.pkl\",\n",
    "        \"y_train\": \"/content/Reproducible-Data-Analysis-With-Jupyter-Notebooks-Standard-Bank-Virtual-Internship/output/section-05-data-preparation-y_train.pkl\",\n",
    "        \"y_val\": \"/content/Reproducible-Data-Analysis-With-Jupyter-Notebooks-Standard-Bank-Virtual-Internship/output/section-05-data-preparation-y_val.pkl\",\n",
    "        \"nb\": \"/content/Reproducible-Data-Analysis-With-Jupyter-Notebooks-Standard-Bank-Virtual-Internship/output/section-05-data-preparation.ipynb\",\n",
    "    }\n",
    "}\n",
    "product = {\n",
    "    \"nb\": \"/content/Reproducible-Data-Analysis-With-Jupyter-Notebooks-Standard-Bank-Virtual-Internship/output/section-06d-bespoke-xgboost.ipynb\"\n",
    "}\n"
   ]
  },
  {
   "cell_type": "code",
   "execution_count": 4,
   "id": "e1268046",
   "metadata": {
    "execution": {
     "iopub.execute_input": "2023-03-30T21:11:24.087572Z",
     "iopub.status.busy": "2023-03-30T21:11:24.087052Z",
     "iopub.status.idle": "2023-03-30T21:11:24.453504Z",
     "shell.execute_reply": "2023-03-30T21:11:24.452538Z"
    },
    "papermill": {
     "duration": 0.374604,
     "end_time": "2023-03-30T21:11:24.457525",
     "exception": false,
     "start_time": "2023-03-30T21:11:24.082921",
     "status": "completed"
    },
    "tags": [
     "soorgeon-unpickle"
    ]
   },
   "outputs": [
    {
     "name": "stdout",
     "output_type": "stream",
     "text": [
      "Accuracy on the Train Dataset :  1.0\n",
      "Accuracy on the Train Dataset :  0.7922077922077922\n",
      "\n",
      "Confusion matrix : \n",
      " [[29 14]\n",
      " [18 93]]\n"
     ]
    }
   ],
   "source": [
    "X_train = pickle.loads(Path(upstream['section-05-data-preparation']['X_train']).read_bytes())\n",
    "X_val = pickle.loads(Path(upstream['section-05-data-preparation']['X_val']).read_bytes())\n",
    "y_train = pickle.loads(Path(upstream['section-05-data-preparation']['y_train']).read_bytes())\n",
    "y_val = pickle.loads(Path(upstream['section-05-data-preparation']['y_val']).read_bytes())\n",
    "\n",
    "xgb = XGBClassifier()\n",
    "xgb.fit(X_train, y_train)\n",
    "print(\"Accuracy on the Train Dataset : \", accuracy_score(xgb.predict(X_train), y_train))\n",
    "print(\"Accuracy on the Train Dataset : \", accuracy_score(xgb.predict(X_val), y_val))\n",
    "print(\"\\nConfusion matrix : \\n\", confusion_matrix(xgb.predict(X_val), y_val))"
   ]
  }
 ],
 "metadata": {
  "jupytext": {
   "cell_metadata_filter": "tags,-all",
   "main_language": "python",
   "notebook_metadata_filter": "-all",
   "text_representation": {
    "extension": ".py",
    "format_name": "percent"
   }
  },
  "kernelspec": {
   "display_name": "Python 3",
   "language": "python",
   "name": "python3"
  },
  "language_info": {
   "codemirror_mode": {
    "name": "ipython",
    "version": 3
   },
   "file_extension": ".py",
   "mimetype": "text/x-python",
   "name": "python",
   "nbconvert_exporter": "python",
   "pygments_lexer": "ipython3",
   "version": "3.9.16"
  },
  "papermill": {
   "duration": 4.407492,
   "end_time": "2023-03-30T21:11:25.188281",
   "exception": null,
   "input_path": "/tmp/tmp1rv6bu7v.ipynb",
   "output_path": "/content/Reproducible-Data-Analysis-With-Jupyter-Notebooks-Standard-Bank-Virtual-Internship/output/section-06d-bespoke-xgboost.ipynb",
   "parameters": {
    "product": {
     "nb": "/content/Reproducible-Data-Analysis-With-Jupyter-Notebooks-Standard-Bank-Virtual-Internship/output/section-06d-bespoke-xgboost.ipynb"
    },
    "upstream": {
     "section-05-data-preparation": {
      "X_train": "/content/Reproducible-Data-Analysis-With-Jupyter-Notebooks-Standard-Bank-Virtual-Internship/output/section-05-data-preparation-X_train.pkl",
      "X_val": "/content/Reproducible-Data-Analysis-With-Jupyter-Notebooks-Standard-Bank-Virtual-Internship/output/section-05-data-preparation-X_val.pkl",
      "nb": "/content/Reproducible-Data-Analysis-With-Jupyter-Notebooks-Standard-Bank-Virtual-Internship/output/section-05-data-preparation.ipynb",
      "y_train": "/content/Reproducible-Data-Analysis-With-Jupyter-Notebooks-Standard-Bank-Virtual-Internship/output/section-05-data-preparation-y_train.pkl",
      "y_val": "/content/Reproducible-Data-Analysis-With-Jupyter-Notebooks-Standard-Bank-Virtual-Internship/output/section-05-data-preparation-y_val.pkl"
     }
    }
   },
   "start_time": "2023-03-30T21:11:20.780789"
  }
 },
 "nbformat": 4,
 "nbformat_minor": 5
}