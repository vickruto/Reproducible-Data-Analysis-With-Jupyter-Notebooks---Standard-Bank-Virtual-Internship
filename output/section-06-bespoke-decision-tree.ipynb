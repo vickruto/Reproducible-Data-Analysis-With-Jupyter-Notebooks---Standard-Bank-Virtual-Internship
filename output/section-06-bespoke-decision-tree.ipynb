{
 "cells": [
  {
   "cell_type": "code",
   "execution_count": null,
   "id": "56854977",
   "metadata": {
    "papermill": {
     "duration": 0.002242,
     "end_time": "2023-03-30T20:36:15.856678",
     "exception": false,
     "start_time": "2023-03-30T20:36:15.854436",
     "status": "completed"
    },
    "tags": []
   },
   "outputs": [],
   "source": []
  },
  {
   "cell_type": "code",
   "execution_count": 1,
   "id": "7459d99a",
   "metadata": {
    "execution": {
     "iopub.execute_input": "2023-03-30T20:36:15.862861Z",
     "iopub.status.busy": "2023-03-30T20:36:15.862004Z",
     "iopub.status.idle": "2023-03-30T20:36:16.497630Z",
     "shell.execute_reply": "2023-03-30T20:36:16.496772Z"
    },
    "papermill": {
     "duration": 0.641355,
     "end_time": "2023-03-30T20:36:16.499989",
     "exception": false,
     "start_time": "2023-03-30T20:36:15.858634",
     "status": "completed"
    },
    "tags": [
     "soorgeon-imports"
    ]
   },
   "outputs": [],
   "source": [
    "from sklearn.metrics import accuracy_score, confusion_matrix\n",
    "from sklearn.tree import DecisionTreeClassifier\n",
    "from pathlib import Path\n",
    "import pickle"
   ]
  },
  {
   "cell_type": "code",
   "execution_count": 2,
   "id": "4aa12987",
   "metadata": {
    "execution": {
     "iopub.execute_input": "2023-03-30T20:36:16.505466Z",
     "iopub.status.busy": "2023-03-30T20:36:16.504799Z",
     "iopub.status.idle": "2023-03-30T20:36:16.509556Z",
     "shell.execute_reply": "2023-03-30T20:36:16.508584Z"
    },
    "papermill": {
     "duration": 0.010255,
     "end_time": "2023-03-30T20:36:16.512111",
     "exception": false,
     "start_time": "2023-03-30T20:36:16.501856",
     "status": "completed"
    },
    "tags": [
     "parameters"
    ]
   },
   "outputs": [],
   "source": [
    "upstream = ['section-05-data-preparation']\n",
    "product = None"
   ]
  },
  {
   "cell_type": "code",
   "execution_count": 3,
   "id": "764c6422",
   "metadata": {
    "execution": {
     "iopub.execute_input": "2023-03-30T20:36:16.517097Z",
     "iopub.status.busy": "2023-03-30T20:36:16.516713Z",
     "iopub.status.idle": "2023-03-30T20:36:16.522201Z",
     "shell.execute_reply": "2023-03-30T20:36:16.521509Z"
    },
    "papermill": {
     "duration": 0.010301,
     "end_time": "2023-03-30T20:36:16.524105",
     "exception": false,
     "start_time": "2023-03-30T20:36:16.513804",
     "status": "completed"
    },
    "tags": [
     "injected-parameters"
    ]
   },
   "outputs": [],
   "source": [
    "# Parameters\n",
    "upstream = {\n",
    "    \"section-05-data-preparation\": {\n",
    "        \"X_val\": \"/content/Reproducible-Data-Analysis-With-Jupyter-Notebooks-Standard-Bank-Virtual-Internship/output/section-05-data-preparation-X_val.pkl\",\n",
    "        \"X_train\": \"/content/Reproducible-Data-Analysis-With-Jupyter-Notebooks-Standard-Bank-Virtual-Internship/output/section-05-data-preparation-X_train.pkl\",\n",
    "        \"y_train\": \"/content/Reproducible-Data-Analysis-With-Jupyter-Notebooks-Standard-Bank-Virtual-Internship/output/section-05-data-preparation-y_train.pkl\",\n",
    "        \"y_val\": \"/content/Reproducible-Data-Analysis-With-Jupyter-Notebooks-Standard-Bank-Virtual-Internship/output/section-05-data-preparation-y_val.pkl\",\n",
    "        \"nb\": \"/content/Reproducible-Data-Analysis-With-Jupyter-Notebooks-Standard-Bank-Virtual-Internship/output/section-05-data-preparation.ipynb\",\n",
    "    }\n",
    "}\n",
    "product = {\n",
    "    \"nb\": \"/content/Reproducible-Data-Analysis-With-Jupyter-Notebooks-Standard-Bank-Virtual-Internship/output/section-06-bespoke-decision-tree.ipynb\"\n",
    "}\n"
   ]
  },
  {
   "cell_type": "code",
   "execution_count": 4,
   "id": "04f5fe8b",
   "metadata": {
    "execution": {
     "iopub.execute_input": "2023-03-30T20:36:16.529128Z",
     "iopub.status.busy": "2023-03-30T20:36:16.528614Z",
     "iopub.status.idle": "2023-03-30T20:36:16.825838Z",
     "shell.execute_reply": "2023-03-30T20:36:16.824592Z"
    },
    "lines_to_next_cell": 2,
    "papermill": {
     "duration": 0.302417,
     "end_time": "2023-03-30T20:36:16.828166",
     "exception": false,
     "start_time": "2023-03-30T20:36:16.525749",
     "status": "completed"
    },
    "tags": [
     "soorgeon-unpickle"
    ]
   },
   "outputs": [
    {
     "name": "stdout",
     "output_type": "stream",
     "text": [
      "Accuracy on the Train Dataset :  1.0\n",
      "Accuracy on the Validation Dataset :  0.6428571428571429\n",
      "\n",
      "Confusion matrix : \n",
      " [[30 38]\n",
      " [17 69]]\n"
     ]
    }
   ],
   "source": [
    "X_train = pickle.loads(Path(upstream['section-05-data-preparation']['X_train']).read_bytes())\n",
    "X_val = pickle.loads(Path(upstream['section-05-data-preparation']['X_val']).read_bytes())\n",
    "y_train = pickle.loads(Path(upstream['section-05-data-preparation']['y_train']).read_bytes())\n",
    "y_val = pickle.loads(Path(upstream['section-05-data-preparation']['y_val']).read_bytes())\n",
    "\n",
    "\n",
    "dt = DecisionTreeClassifier()\n",
    "dt.fit(X_train, y_train)\n",
    "print(\"Accuracy on the Train Dataset : \", dt.score(X_train, y_train))\n",
    "print(\"Accuracy on the Validation Dataset : \", dt.score(X_val, y_val)) \n",
    "print(\"\\nConfusion matrix : \\n\", confusion_matrix(dt.predict(X_val), y_val))"
   ]
  }
 ],
 "metadata": {
  "jupytext": {
   "cell_metadata_filter": "tags,-all",
   "main_language": "python",
   "notebook_metadata_filter": "-all",
   "text_representation": {
    "extension": ".py",
    "format_name": "percent"
   }
  },
  "kernelspec": {
   "display_name": "Python 3",
   "language": "python",
   "name": "python3"
  },
  "language_info": {
   "codemirror_mode": {
    "name": "ipython",
    "version": 3
   },
   "file_extension": ".py",
   "mimetype": "text/x-python",
   "name": "python",
   "nbconvert_exporter": "python",
   "pygments_lexer": "ipython3",
   "version": "3.9.16"
  },
  "papermill": {
   "duration": 2.895653,
   "end_time": "2023-03-30T20:36:17.451090",
   "exception": null,
   "input_path": "/tmp/tmptlkfxmfz.ipynb",
   "output_path": "/content/Reproducible-Data-Analysis-With-Jupyter-Notebooks-Standard-Bank-Virtual-Internship/output/section-06-bespoke-decision-tree.ipynb",
   "parameters": {
    "product": {
     "nb": "/content/Reproducible-Data-Analysis-With-Jupyter-Notebooks-Standard-Bank-Virtual-Internship/output/section-06-bespoke-decision-tree.ipynb"
    },
    "upstream": {
     "section-05-data-preparation": {
      "X_train": "/content/Reproducible-Data-Analysis-With-Jupyter-Notebooks-Standard-Bank-Virtual-Internship/output/section-05-data-preparation-X_train.pkl",
      "X_val": "/content/Reproducible-Data-Analysis-With-Jupyter-Notebooks-Standard-Bank-Virtual-Internship/output/section-05-data-preparation-X_val.pkl",
      "nb": "/content/Reproducible-Data-Analysis-With-Jupyter-Notebooks-Standard-Bank-Virtual-Internship/output/section-05-data-preparation.ipynb",
      "y_train": "/content/Reproducible-Data-Analysis-With-Jupyter-Notebooks-Standard-Bank-Virtual-Internship/output/section-05-data-preparation-y_train.pkl",
      "y_val": "/content/Reproducible-Data-Analysis-With-Jupyter-Notebooks-Standard-Bank-Virtual-Internship/output/section-05-data-preparation-y_val.pkl"
     }
    }
   },
   "start_time": "2023-03-30T20:36:14.555437"
  }
 },
 "nbformat": 4,
 "nbformat_minor": 5
}