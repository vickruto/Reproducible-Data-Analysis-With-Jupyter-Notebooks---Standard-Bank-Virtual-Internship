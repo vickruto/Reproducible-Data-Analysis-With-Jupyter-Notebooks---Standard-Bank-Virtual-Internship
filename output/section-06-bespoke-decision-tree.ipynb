{
 "cells": [
  {
   "cell_type": "code",
   "execution_count": null,
   "id": "f455cbc1",
   "metadata": {
    "papermill": {
     "duration": 0.001946,
     "end_time": "2023-04-03T16:57:07.119024",
     "exception": false,
     "start_time": "2023-04-03T16:57:07.117078",
     "status": "completed"
    },
    "tags": []
   },
   "outputs": [],
   "source": []
  },
  {
   "cell_type": "code",
   "execution_count": 1,
   "id": "d957db3c",
   "metadata": {
    "execution": {
     "iopub.execute_input": "2023-04-03T16:57:07.124142Z",
     "iopub.status.busy": "2023-04-03T16:57:07.123407Z",
     "iopub.status.idle": "2023-04-03T16:57:07.718102Z",
     "shell.execute_reply": "2023-04-03T16:57:07.717016Z"
    },
    "papermill": {
     "duration": 0.600079,
     "end_time": "2023-04-03T16:57:07.720795",
     "exception": false,
     "start_time": "2023-04-03T16:57:07.120716",
     "status": "completed"
    },
    "tags": [
     "soorgeon-imports"
    ]
   },
   "outputs": [],
   "source": [
    "from sklearn.metrics import confusion_matrix\n",
    "from sklearn.tree import DecisionTreeClassifier\n",
    "from pathlib import Path\n",
    "import pickle"
   ]
  },
  {
   "cell_type": "code",
   "execution_count": 2,
   "id": "90c3720c",
   "metadata": {
    "execution": {
     "iopub.execute_input": "2023-04-03T16:57:07.725194Z",
     "iopub.status.busy": "2023-04-03T16:57:07.724894Z",
     "iopub.status.idle": "2023-04-03T16:57:07.729551Z",
     "shell.execute_reply": "2023-04-03T16:57:07.728659Z"
    },
    "papermill": {
     "duration": 0.008904,
     "end_time": "2023-04-03T16:57:07.731329",
     "exception": false,
     "start_time": "2023-04-03T16:57:07.722425",
     "status": "completed"
    },
    "tags": [
     "parameters"
    ]
   },
   "outputs": [],
   "source": [
    "upstream = ['section-05-data-preparation']\n",
    "product = None"
   ]
  },
  {
   "cell_type": "code",
   "execution_count": 3,
   "id": "75bb4b47",
   "metadata": {
    "execution": {
     "iopub.execute_input": "2023-04-03T16:57:07.735562Z",
     "iopub.status.busy": "2023-04-03T16:57:07.735112Z",
     "iopub.status.idle": "2023-04-03T16:57:07.739482Z",
     "shell.execute_reply": "2023-04-03T16:57:07.738919Z"
    },
    "papermill": {
     "duration": 0.008546,
     "end_time": "2023-04-03T16:57:07.741251",
     "exception": false,
     "start_time": "2023-04-03T16:57:07.732705",
     "status": "completed"
    },
    "tags": [
     "injected-parameters"
    ]
   },
   "outputs": [],
   "source": [
    "# Parameters\n",
    "upstream = {\n",
    "    \"section-05-data-preparation\": {\n",
    "        \"X_val\": \"/content/reproducible-analysis/output/section-05-data-preparation-X_val.pkl\",\n",
    "        \"X_train\": \"/content/reproducible-analysis/output/section-05-data-preparation-X_train.pkl\",\n",
    "        \"y_train\": \"/content/reproducible-analysis/output/section-05-data-preparation-y_train.pkl\",\n",
    "        \"y_val\": \"/content/reproducible-analysis/output/section-05-data-preparation-y_val.pkl\",\n",
    "        \"nb\": \"/content/reproducible-analysis/output/section-05-data-preparation.ipynb\",\n",
    "    }\n",
    "}\n",
    "product = {\n",
    "    \"nb\": \"/content/reproducible-analysis/output/section-06-bespoke-decision-tree.ipynb\"\n",
    "}\n"
   ]
  },
  {
   "cell_type": "code",
   "execution_count": 4,
   "id": "9e9abe60",
   "metadata": {
    "execution": {
     "iopub.execute_input": "2023-04-03T16:57:07.745372Z",
     "iopub.status.busy": "2023-04-03T16:57:07.744919Z",
     "iopub.status.idle": "2023-04-03T16:57:07.999766Z",
     "shell.execute_reply": "2023-04-03T16:57:07.998444Z"
    },
    "lines_to_next_cell": 2,
    "papermill": {
     "duration": 0.259158,
     "end_time": "2023-04-03T16:57:08.001808",
     "exception": false,
     "start_time": "2023-04-03T16:57:07.742650",
     "status": "completed"
    },
    "tags": [
     "soorgeon-unpickle"
    ]
   },
   "outputs": [
    {
     "name": "stdout",
     "output_type": "stream",
     "text": [
      "Accuracy on the Train Dataset :  1.0\n",
      "Accuracy on the Validation Dataset :  0.6688311688311688\n",
      "\n",
      "Confusion matrix : \n",
      " [[21 24]\n",
      " [27 82]]\n"
     ]
    }
   ],
   "source": [
    "X_train = pickle.loads(Path(upstream['section-05-data-preparation']['X_train']).read_bytes())\n",
    "X_val = pickle.loads(Path(upstream['section-05-data-preparation']['X_val']).read_bytes())\n",
    "y_train = pickle.loads(Path(upstream['section-05-data-preparation']['y_train']).read_bytes())\n",
    "y_val = pickle.loads(Path(upstream['section-05-data-preparation']['y_val']).read_bytes())\n",
    "\n",
    "\n",
    "dt = DecisionTreeClassifier()\n",
    "dt.fit(X_train, y_train)\n",
    "print(\"Accuracy on the Train Dataset : \", dt.score(X_train, y_train))\n",
    "print(\"Accuracy on the Validation Dataset : \", dt.score(X_val, y_val)) \n",
    "print(\"\\nConfusion matrix : \\n\", confusion_matrix(dt.predict(X_val), y_val))"
   ]
  }
 ],
 "metadata": {
  "jupytext": {
   "cell_metadata_filter": "tags,-all",
   "main_language": "python",
   "notebook_metadata_filter": "-all",
   "text_representation": {
    "extension": ".py",
    "format_name": "percent"
   }
  },
  "kernelspec": {
   "display_name": "Python 3",
   "language": "python",
   "name": "python3"
  },
  "language_info": {
   "codemirror_mode": {
    "name": "ipython",
    "version": 3
   },
   "file_extension": ".py",
   "mimetype": "text/x-python",
   "name": "python",
   "nbconvert_exporter": "python",
   "pygments_lexer": "ipython3",
   "version": "3.9.16"
  },
  "papermill": {
   "duration": 2.586987,
   "end_time": "2023-04-03T16:57:08.522320",
   "exception": null,
   "input_path": "/tmp/tmpv9twbnsl.ipynb",
   "output_path": "/content/reproducible-analysis/output/section-06-bespoke-decision-tree.ipynb",
   "parameters": {
    "product": {
     "nb": "/content/reproducible-analysis/output/section-06-bespoke-decision-tree.ipynb"
    },
    "upstream": {
     "section-05-data-preparation": {
      "X_train": "/content/reproducible-analysis/output/section-05-data-preparation-X_train.pkl",
      "X_val": "/content/reproducible-analysis/output/section-05-data-preparation-X_val.pkl",
      "nb": "/content/reproducible-analysis/output/section-05-data-preparation.ipynb",
      "y_train": "/content/reproducible-analysis/output/section-05-data-preparation-y_train.pkl",
      "y_val": "/content/reproducible-analysis/output/section-05-data-preparation-y_val.pkl"
     }
    }
   },
   "start_time": "2023-04-03T16:57:05.935333"
  }
 },
 "nbformat": 4,
 "nbformat_minor": 5
}