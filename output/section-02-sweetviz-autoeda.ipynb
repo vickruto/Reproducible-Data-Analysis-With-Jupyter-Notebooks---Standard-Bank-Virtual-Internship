{
 "cells": [
  {
   "cell_type": "code",
   "execution_count": 1,
   "id": "acb7d812",
   "metadata": {
    "execution": {
     "iopub.execute_input": "2023-04-04T09:22:26.699986Z",
     "iopub.status.busy": "2023-04-04T09:22:26.699483Z",
     "iopub.status.idle": "2023-04-04T09:22:28.046462Z",
     "shell.execute_reply": "2023-04-04T09:22:28.045315Z"
    },
    "papermill": {
     "duration": 1.357967,
     "end_time": "2023-04-04T09:22:28.050802",
     "exception": false,
     "start_time": "2023-04-04T09:22:26.692835",
     "status": "completed"
    },
    "tags": [
     "soorgeon-imports"
    ]
   },
   "outputs": [],
   "source": [
    "import sweetviz\n",
    "from IPython.display import display, HTML\n",
    "from pathlib import Path\n",
    "import pickle\n",
    "import os "
   ]
  },
  {
   "cell_type": "code",
   "execution_count": 2,
   "id": "75167ded",
   "metadata": {
    "execution": {
     "iopub.execute_input": "2023-04-04T09:22:28.061466Z",
     "iopub.status.busy": "2023-04-04T09:22:28.060461Z",
     "iopub.status.idle": "2023-04-04T09:22:28.066121Z",
     "shell.execute_reply": "2023-04-04T09:22:28.065118Z"
    },
    "papermill": {
     "duration": 0.015278,
     "end_time": "2023-04-04T09:22:28.070951",
     "exception": false,
     "start_time": "2023-04-04T09:22:28.055673",
     "status": "completed"
    },
    "tags": [
     "parameters"
    ]
   },
   "outputs": [],
   "source": [
    "upstream = ['section-01-get-data']\n",
    "product = None"
   ]
  },
  {
   "cell_type": "code",
   "execution_count": 3,
   "id": "06ca484f",
   "metadata": {
    "execution": {
     "iopub.execute_input": "2023-04-04T09:22:28.079610Z",
     "iopub.status.busy": "2023-04-04T09:22:28.079129Z",
     "iopub.status.idle": "2023-04-04T09:22:28.089660Z",
     "shell.execute_reply": "2023-04-04T09:22:28.087726Z"
    },
    "papermill": {
     "duration": 0.020472,
     "end_time": "2023-04-04T09:22:28.094765",
     "exception": false,
     "start_time": "2023-04-04T09:22:28.074293",
     "status": "completed"
    },
    "tags": [
     "injected-parameters"
    ]
   },
   "outputs": [],
   "source": [
    "# Parameters\n",
    "upstream = {\n",
    "    \"section-01-get-data\": {\n",
    "        \"train\": \"/content/reproducible-analysis/output/section-01-get-data-train.pkl\",\n",
    "        \"df\": \"/content/reproducible-analysis/output/section-01-get-data-df.pkl\",\n",
    "        \"nb\": \"/content/reproducible-analysis/output/section-01-get-data.ipynb\",\n",
    "    }\n",
    "}\n",
    "product = {\n",
    "    \"nb\": \"/content/reproducible-analysis/output/section-02-sweetviz-autoeda.ipynb\"\n",
    "}\n"
   ]
  },
  {
   "cell_type": "code",
   "execution_count": 4,
   "id": "e854778b",
   "metadata": {
    "execution": {
     "iopub.execute_input": "2023-04-04T09:22:28.103380Z",
     "iopub.status.busy": "2023-04-04T09:22:28.102866Z",
     "iopub.status.idle": "2023-04-04T09:22:28.109988Z",
     "shell.execute_reply": "2023-04-04T09:22:28.108935Z"
    },
    "papermill": {
     "duration": 0.014567,
     "end_time": "2023-04-04T09:22:28.112603",
     "exception": false,
     "start_time": "2023-04-04T09:22:28.098036",
     "status": "completed"
    },
    "tags": [
     "soorgeon-unpickle"
    ]
   },
   "outputs": [],
   "source": [
    "train = pickle.loads(Path(upstream['section-01-get-data']['train']).read_bytes())"
   ]
  },
  {
   "cell_type": "markdown",
   "id": "07fdb5df",
   "metadata": {
    "id": "cdTHtXlKt3_k",
    "papermill": {
     "duration": 0.003109,
     "end_time": "2023-04-04T09:22:28.119005",
     "exception": false,
     "start_time": "2023-04-04T09:22:28.115896",
     "status": "completed"
    },
    "tags": []
   },
   "source": [
    "## 02) Sweetviz AutoEDA"
   ]
  },
  {
   "cell_type": "code",
   "execution_count": 5,
   "id": "36660875",
   "metadata": {
    "execution": {
     "iopub.execute_input": "2023-04-04T09:22:28.128595Z",
     "iopub.status.busy": "2023-04-04T09:22:28.127652Z",
     "iopub.status.idle": "2023-04-04T09:22:28.135814Z",
     "shell.execute_reply": "2023-04-04T09:22:28.134753Z"
    },
    "papermill": {
     "duration": 0.016566,
     "end_time": "2023-04-04T09:22:28.138986",
     "exception": false,
     "start_time": "2023-04-04T09:22:28.122420",
     "status": "completed"
    },
    "tags": []
   },
   "outputs": [
    {
     "name": "stdout",
     "output_type": "stream",
     "text": [
      "/content/reproducible-analysis\n"
     ]
    }
   ],
   "source": [
    "if not os.path.exists('reports/auto-generated/'):\n",
    "  os.makedirs('reports/auto-generated/')\n",
    "print(os.getcwd())"
   ]
  },
  {
   "cell_type": "code",
   "execution_count": 6,
   "id": "5f29e494",
   "metadata": {
    "colab": {
     "base_uri": "https://localhost:8080/",
     "height": 803,
     "referenced_widgets": [
      "9ff884501ee44bb3a42d83e84761ce9b",
      "0aae9ce35c2a40e8b27c04d8337cf8ac",
      "1266a06f94964a4d9aaf968c415fbebe",
      "85e0bd4c4ee64ae690163efddef12ab4",
      "81880667571e44399b5d27889bf8af43",
      "2f39ce49dfc748a6a04eaea4fa0a9183",
      "8f345a5ce61a4650b3eb19e714965148",
      "23adcd83489f4b0b8402ecb351b2f9b6",
      "555b74933e9243329ea047a1f241ba98",
      "7e0b3ed237e44383a6b4bfc8988f61bb",
      "bdd912dec483473793b6d2a5d3a24a37"
     ]
    },
    "execution": {
     "iopub.execute_input": "2023-04-04T09:22:28.148374Z",
     "iopub.status.busy": "2023-04-04T09:22:28.147852Z",
     "iopub.status.idle": "2023-04-04T09:22:34.381745Z",
     "shell.execute_reply": "2023-04-04T09:22:34.380596Z"
    },
    "executionInfo": {
     "elapsed": 6116,
     "status": "ok",
     "timestamp": 1680005770809,
     "user": {
      "displayName": "Victor Ruto",
      "userId": "13125455177778424587"
     },
     "user_tz": -180
    },
    "id": "fAKTNiGXuCRf",
    "outputId": "b23f495f-bb0d-4314-b518-1b82b024d854",
    "papermill": {
     "duration": 6.241058,
     "end_time": "2023-04-04T09:22:34.383835",
     "exception": false,
     "start_time": "2023-04-04T09:22:28.142777",
     "status": "completed"
    },
    "tags": []
   },
   "outputs": [
    {
     "data": {
      "application/vnd.jupyter.widget-view+json": {
       "model_id": "6c0881482c1f457a95660227bfcdcea2",
       "version_major": 2,
       "version_minor": 0
      },
      "text/plain": [
       "                                             |          | [  0%]   00:00 -> (? left)"
      ]
     },
     "metadata": {},
     "output_type": "display_data"
    },
    {
     "name": "stdout",
     "output_type": "stream",
     "text": [
      "Report reports/auto-generated/SWEETVIZ_REPORT.html was generated! NOTEBOOK/COLAB USERS: the web browser MAY not pop up, regardless, the report IS saved in your notebook/colab files.\n"
     ]
    }
   ],
   "source": [
    "autoEDA = sweetviz.analyze(train)\n",
    "autoEDA.show_html('reports/auto-generated/SWEETVIZ_REPORT.html')\n",
    "#autoEDA.show_notebook()"
   ]
  },
  {
   "cell_type": "code",
   "execution_count": 7,
   "id": "50ffbb10",
   "metadata": {
    "colab": {
     "base_uri": "https://localhost:8080/",
     "height": 1000
    },
    "execution": {
     "iopub.execute_input": "2023-04-04T09:22:34.391726Z",
     "iopub.status.busy": "2023-04-04T09:22:34.390982Z",
     "iopub.status.idle": "2023-04-04T09:22:34.395861Z",
     "shell.execute_reply": "2023-04-04T09:22:34.394885Z"
    },
    "executionInfo": {
     "elapsed": 2509,
     "status": "ok",
     "timestamp": 1680005889001,
     "user": {
      "displayName": "Victor Ruto",
      "userId": "13125455177778424587"
     },
     "user_tz": -180
    },
    "id": "974YfMypFNJm",
    "outputId": "10d73794-1504-4803-c11c-e44b8edc238d",
    "papermill": {
     "duration": 0.011416,
     "end_time": "2023-04-04T09:22:34.398192",
     "exception": false,
     "start_time": "2023-04-04T09:22:34.386776",
     "status": "completed"
    },
    "tags": []
   },
   "outputs": [],
   "source": [
    "#display(HTML('SWEETVIZ_REPORT.html'))"
   ]
  }
 ],
 "metadata": {
  "jupytext": {
   "main_language": "python",
   "text_representation": {
    "extension": ".py",
    "format_name": "percent",
    "format_version": "1.3",
    "jupytext_version": "1.14.5"
   }
  },
  "kernelspec": {
   "display_name": "Python 3",
   "language": "python",
   "name": "python3"
  },
  "language_info": {
   "codemirror_mode": {
    "name": "ipython",
    "version": 3
   },
   "file_extension": ".py",
   "mimetype": "text/x-python",
   "name": "python",
   "nbconvert_exporter": "python",
   "pygments_lexer": "ipython3",
   "version": "3.9.16"
  },
  "papermill": {
   "duration": 10.607767,
   "end_time": "2023-04-04T09:22:35.425739",
   "exception": null,
   "input_path": "/tmp/tmpyboflgj9.ipynb",
   "output_path": "/content/reproducible-analysis/output/section-02-sweetviz-autoeda.ipynb",
   "parameters": {
    "product": {
     "nb": "/content/reproducible-analysis/output/section-02-sweetviz-autoeda.ipynb"
    },
    "upstream": {
     "section-01-get-data": {
      "df": "/content/reproducible-analysis/output/section-01-get-data-df.pkl",
      "nb": "/content/reproducible-analysis/output/section-01-get-data.ipynb",
      "train": "/content/reproducible-analysis/output/section-01-get-data-train.pkl"
     }
    }
   },
   "start_time": "2023-04-04T09:22:24.817972"
  },
  "widgets": {
   "application/vnd.jupyter.widget-state+json": {
    "state": {
     "258829ef48114088b652a584aef31d0a": {
      "model_module": "@jupyter-widgets/controls",
      "model_module_version": "1.5.0",
      "model_name": "ProgressStyleModel",
      "state": {
       "_model_module": "@jupyter-widgets/controls",
       "_model_module_version": "1.5.0",
       "_model_name": "ProgressStyleModel",
       "_view_count": null,
       "_view_module": "@jupyter-widgets/base",
       "_view_module_version": "1.2.0",
       "_view_name": "StyleView",
       "bar_color": null,
       "description_width": ""
      }
     },
     "2d0e79970745443dad677ce5b444f18d": {
      "model_module": "@jupyter-widgets/base",
      "model_module_version": "1.2.0",
      "model_name": "LayoutModel",
      "state": {
       "_model_module": "@jupyter-widgets/base",
       "_model_module_version": "1.2.0",
       "_model_name": "LayoutModel",
       "_view_count": null,
       "_view_module": "@jupyter-widgets/base",
       "_view_module_version": "1.2.0",
       "_view_name": "LayoutView",
       "align_content": null,
       "align_items": null,
       "align_self": null,
       "border": null,
       "bottom": null,
       "display": null,
       "flex": "2",
       "flex_flow": null,
       "grid_area": null,
       "grid_auto_columns": null,
       "grid_auto_flow": null,
       "grid_auto_rows": null,
       "grid_column": null,
       "grid_gap": null,
       "grid_row": null,
       "grid_template_areas": null,
       "grid_template_columns": null,
       "grid_template_rows": null,
       "height": null,
       "justify_content": null,
       "justify_items": null,
       "left": null,
       "margin": null,
       "max_height": null,
       "max_width": null,
       "min_height": null,
       "min_width": null,
       "object_fit": null,
       "object_position": null,
       "order": null,
       "overflow": null,
       "overflow_x": null,
       "overflow_y": null,
       "padding": null,
       "right": null,
       "top": null,
       "visibility": null,
       "width": null
      }
     },
     "5365717373eb4cd59a46f78f3562e608": {
      "model_module": "@jupyter-widgets/controls",
      "model_module_version": "1.5.0",
      "model_name": "HTMLModel",
      "state": {
       "_dom_classes": [],
       "_model_module": "@jupyter-widgets/controls",
       "_model_module_version": "1.5.0",
       "_model_name": "HTMLModel",
       "_view_count": null,
       "_view_module": "@jupyter-widgets/controls",
       "_view_module_version": "1.5.0",
       "_view_name": "HTMLView",
       "description": "",
       "description_tooltip": null,
       "layout": "IPY_MODEL_9b2110adbbed4ad6ac73e3b6f7c18125",
       "placeholder": "​",
       "style": "IPY_MODEL_c42caf34567c434fa7ec04ebd7565dbe",
       "value": " [100%]   00:00 -&gt; (00:00 left)"
      }
     },
     "6c0881482c1f457a95660227bfcdcea2": {
      "model_module": "@jupyter-widgets/controls",
      "model_module_version": "1.5.0",
      "model_name": "HBoxModel",
      "state": {
       "_dom_classes": [],
       "_model_module": "@jupyter-widgets/controls",
       "_model_module_version": "1.5.0",
       "_model_name": "HBoxModel",
       "_view_count": null,
       "_view_module": "@jupyter-widgets/controls",
       "_view_module_version": "1.5.0",
       "_view_name": "HBoxView",
       "box_style": "",
       "children": [
        "IPY_MODEL_8d6f18a3b06540efbf333a82c7347a0a",
        "IPY_MODEL_cbb1522cd9a446b89c7b93cb5362e5f2",
        "IPY_MODEL_5365717373eb4cd59a46f78f3562e608"
       ],
       "layout": "IPY_MODEL_cce89a6ca1324129a41dcf269021975a"
      }
     },
     "8d6f18a3b06540efbf333a82c7347a0a": {
      "model_module": "@jupyter-widgets/controls",
      "model_module_version": "1.5.0",
      "model_name": "HTMLModel",
      "state": {
       "_dom_classes": [],
       "_model_module": "@jupyter-widgets/controls",
       "_model_module_version": "1.5.0",
       "_model_name": "HTMLModel",
       "_view_count": null,
       "_view_module": "@jupyter-widgets/controls",
       "_view_module_version": "1.5.0",
       "_view_name": "HTMLView",
       "description": "",
       "description_tooltip": null,
       "layout": "IPY_MODEL_ed6a9a7ea80c44258b933f21479cfbba",
       "placeholder": "​",
       "style": "IPY_MODEL_a1b9d18dc25641abb23ad5cb4afdcab8",
       "value": "Done! Use &#x27;show&#x27; commands to display/save.   "
      }
     },
     "9b2110adbbed4ad6ac73e3b6f7c18125": {
      "model_module": "@jupyter-widgets/base",
      "model_module_version": "1.2.0",
      "model_name": "LayoutModel",
      "state": {
       "_model_module": "@jupyter-widgets/base",
       "_model_module_version": "1.2.0",
       "_model_name": "LayoutModel",
       "_view_count": null,
       "_view_module": "@jupyter-widgets/base",
       "_view_module_version": "1.2.0",
       "_view_name": "LayoutView",
       "align_content": null,
       "align_items": null,
       "align_self": null,
       "border": null,
       "bottom": null,
       "display": null,
       "flex": null,
       "flex_flow": null,
       "grid_area": null,
       "grid_auto_columns": null,
       "grid_auto_flow": null,
       "grid_auto_rows": null,
       "grid_column": null,
       "grid_gap": null,
       "grid_row": null,
       "grid_template_areas": null,
       "grid_template_columns": null,
       "grid_template_rows": null,
       "height": null,
       "justify_content": null,
       "justify_items": null,
       "left": null,
       "margin": null,
       "max_height": null,
       "max_width": null,
       "min_height": null,
       "min_width": null,
       "object_fit": null,
       "object_position": null,
       "order": null,
       "overflow": null,
       "overflow_x": null,
       "overflow_y": null,
       "padding": null,
       "right": null,
       "top": null,
       "visibility": null,
       "width": null
      }
     },
     "a1b9d18dc25641abb23ad5cb4afdcab8": {
      "model_module": "@jupyter-widgets/controls",
      "model_module_version": "1.5.0",
      "model_name": "DescriptionStyleModel",
      "state": {
       "_model_module": "@jupyter-widgets/controls",
       "_model_module_version": "1.5.0",
       "_model_name": "DescriptionStyleModel",
       "_view_count": null,
       "_view_module": "@jupyter-widgets/base",
       "_view_module_version": "1.2.0",
       "_view_name": "StyleView",
       "description_width": ""
      }
     },
     "c42caf34567c434fa7ec04ebd7565dbe": {
      "model_module": "@jupyter-widgets/controls",
      "model_module_version": "1.5.0",
      "model_name": "DescriptionStyleModel",
      "state": {
       "_model_module": "@jupyter-widgets/controls",
       "_model_module_version": "1.5.0",
       "_model_name": "DescriptionStyleModel",
       "_view_count": null,
       "_view_module": "@jupyter-widgets/base",
       "_view_module_version": "1.2.0",
       "_view_name": "StyleView",
       "description_width": ""
      }
     },
     "cbb1522cd9a446b89c7b93cb5362e5f2": {
      "model_module": "@jupyter-widgets/controls",
      "model_module_version": "1.5.0",
      "model_name": "FloatProgressModel",
      "state": {
       "_dom_classes": [],
       "_model_module": "@jupyter-widgets/controls",
       "_model_module_version": "1.5.0",
       "_model_name": "FloatProgressModel",
       "_view_count": null,
       "_view_module": "@jupyter-widgets/controls",
       "_view_module_version": "1.5.0",
       "_view_name": "ProgressView",
       "bar_style": "success",
       "description": "",
       "description_tooltip": null,
       "layout": "IPY_MODEL_2d0e79970745443dad677ce5b444f18d",
       "max": 1.0,
       "min": 0.0,
       "orientation": "horizontal",
       "style": "IPY_MODEL_258829ef48114088b652a584aef31d0a",
       "value": 1.0
      }
     },
     "cce89a6ca1324129a41dcf269021975a": {
      "model_module": "@jupyter-widgets/base",
      "model_module_version": "1.2.0",
      "model_name": "LayoutModel",
      "state": {
       "_model_module": "@jupyter-widgets/base",
       "_model_module_version": "1.2.0",
       "_model_name": "LayoutModel",
       "_view_count": null,
       "_view_module": "@jupyter-widgets/base",
       "_view_module_version": "1.2.0",
       "_view_name": "LayoutView",
       "align_content": null,
       "align_items": null,
       "align_self": null,
       "border": null,
       "bottom": null,
       "display": "inline-flex",
       "flex": null,
       "flex_flow": "row wrap",
       "grid_area": null,
       "grid_auto_columns": null,
       "grid_auto_flow": null,
       "grid_auto_rows": null,
       "grid_column": null,
       "grid_gap": null,
       "grid_row": null,
       "grid_template_areas": null,
       "grid_template_columns": null,
       "grid_template_rows": null,
       "height": null,
       "justify_content": null,
       "justify_items": null,
       "left": null,
       "margin": null,
       "max_height": null,
       "max_width": null,
       "min_height": null,
       "min_width": null,
       "object_fit": null,
       "object_position": null,
       "order": null,
       "overflow": null,
       "overflow_x": null,
       "overflow_y": null,
       "padding": null,
       "right": null,
       "top": null,
       "visibility": null,
       "width": "100%"
      }
     },
     "ed6a9a7ea80c44258b933f21479cfbba": {
      "model_module": "@jupyter-widgets/base",
      "model_module_version": "1.2.0",
      "model_name": "LayoutModel",
      "state": {
       "_model_module": "@jupyter-widgets/base",
       "_model_module_version": "1.2.0",
       "_model_name": "LayoutModel",
       "_view_count": null,
       "_view_module": "@jupyter-widgets/base",
       "_view_module_version": "1.2.0",
       "_view_name": "LayoutView",
       "align_content": null,
       "align_items": null,
       "align_self": null,
       "border": null,
       "bottom": null,
       "display": null,
       "flex": null,
       "flex_flow": null,
       "grid_area": null,
       "grid_auto_columns": null,
       "grid_auto_flow": null,
       "grid_auto_rows": null,
       "grid_column": null,
       "grid_gap": null,
       "grid_row": null,
       "grid_template_areas": null,
       "grid_template_columns": null,
       "grid_template_rows": null,
       "height": null,
       "justify_content": null,
       "justify_items": null,
       "left": null,
       "margin": null,
       "max_height": null,
       "max_width": null,
       "min_height": null,
       "min_width": null,
       "object_fit": null,
       "object_position": null,
       "order": null,
       "overflow": null,
       "overflow_x": null,
       "overflow_y": null,
       "padding": null,
       "right": null,
       "top": null,
       "visibility": null,
       "width": null
      }
     }
    },
    "version_major": 2,
    "version_minor": 0
   }
  }
 },
 "nbformat": 4,
 "nbformat_minor": 5
}