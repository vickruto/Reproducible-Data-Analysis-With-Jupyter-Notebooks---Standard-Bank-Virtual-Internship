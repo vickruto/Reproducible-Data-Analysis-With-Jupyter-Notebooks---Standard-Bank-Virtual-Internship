{
 "cells": [
  {
   "cell_type": "code",
   "execution_count": 1,
   "id": "ca6a7725",
   "metadata": {
    "execution": {
     "iopub.execute_input": "2023-03-30T10:09:31.461788Z",
     "iopub.status.busy": "2023-03-30T10:09:31.458655Z",
     "iopub.status.idle": "2023-03-30T10:09:33.575655Z",
     "shell.execute_reply": "2023-03-30T10:09:33.574497Z"
    },
    "papermill": {
     "duration": 2.127214,
     "end_time": "2023-03-30T10:09:33.578313",
     "exception": false,
     "start_time": "2023-03-30T10:09:31.451099",
     "status": "completed"
    },
    "tags": [
     "soorgeon-imports"
    ]
   },
   "outputs": [],
   "source": [
    "from sklearn.metrics import accuracy_score, confusion_matrix\n",
    "from sklearn.model_selection import train_test_split\n",
    "for i in range(2):\n",
    "  try:\n",
    "    import autosklearn\n",
    "    from autosklearn.classification import AutoSklearnClassifier\n",
    "  except:\n",
    "    pass\n",
    "from pathlib import Path\n",
    "import pickle"
   ]
  },
  {
   "cell_type": "code",
   "execution_count": 2,
   "id": "e4b940a0",
   "metadata": {
    "execution": {
     "iopub.execute_input": "2023-03-30T10:09:33.587988Z",
     "iopub.status.busy": "2023-03-30T10:09:33.586227Z",
     "iopub.status.idle": "2023-03-30T10:09:33.591568Z",
     "shell.execute_reply": "2023-03-30T10:09:33.590811Z"
    },
    "papermill": {
     "duration": 0.011958,
     "end_time": "2023-03-30T10:09:33.593631",
     "exception": false,
     "start_time": "2023-03-30T10:09:33.581673",
     "status": "completed"
    },
    "tags": [
     "parameters"
    ]
   },
   "outputs": [],
   "source": [
    "upstream = ['section-01-get-data']\n",
    "product = None"
   ]
  },
  {
   "cell_type": "code",
   "execution_count": 3,
   "id": "1412384b",
   "metadata": {
    "execution": {
     "iopub.execute_input": "2023-03-30T10:09:33.601127Z",
     "iopub.status.busy": "2023-03-30T10:09:33.600394Z",
     "iopub.status.idle": "2023-03-30T10:09:33.610209Z",
     "shell.execute_reply": "2023-03-30T10:09:33.609043Z"
    },
    "papermill": {
     "duration": 0.016358,
     "end_time": "2023-03-30T10:09:33.612670",
     "exception": false,
     "start_time": "2023-03-30T10:09:33.596312",
     "status": "completed"
    },
    "tags": [
     "injected-parameters"
    ]
   },
   "outputs": [],
   "source": [
    "# Parameters\n",
    "upstream = {\n",
    "    \"section-01-get-data\": {\n",
    "        \"train\": \"/content/Reproducible-Data-Analysis-With-Jupyter-Notebooks-Standard-Bank-Virtual-Internship/output/section-01-get-data-train.pkl\",\n",
    "        \"df\": \"/content/Reproducible-Data-Analysis-With-Jupyter-Notebooks-Standard-Bank-Virtual-Internship/output/section-01-get-data-df.pkl\",\n",
    "        \"nb\": \"/content/Reproducible-Data-Analysis-With-Jupyter-Notebooks-Standard-Bank-Virtual-Internship/output/section-01-get-data.ipynb\",\n",
    "    }\n",
    "}\n",
    "product = {\n",
    "    \"categorical_columns\": \"/content/Reproducible-Data-Analysis-With-Jupyter-Notebooks-Standard-Bank-Virtual-Internship/output/section-04-autosklearn-auto-ml-categorical_columns.pkl\",\n",
    "    \"X_train\": \"/content/Reproducible-Data-Analysis-With-Jupyter-Notebooks-Standard-Bank-Virtual-Internship/output/section-04-autosklearn-auto-ml-X_train.pkl\",\n",
    "    \"X\": \"/content/Reproducible-Data-Analysis-With-Jupyter-Notebooks-Standard-Bank-Virtual-Internship/output/section-04-autosklearn-auto-ml-X.pkl\",\n",
    "    \"y_train\": \"/content/Reproducible-Data-Analysis-With-Jupyter-Notebooks-Standard-Bank-Virtual-Internship/output/section-04-autosklearn-auto-ml-y_train.pkl\",\n",
    "    \"y\": \"/content/Reproducible-Data-Analysis-With-Jupyter-Notebooks-Standard-Bank-Virtual-Internship/output/section-04-autosklearn-auto-ml-y.pkl\",\n",
    "    \"nb\": \"/content/Reproducible-Data-Analysis-With-Jupyter-Notebooks-Standard-Bank-Virtual-Internship/output/section-04-autosklearn-auto-ml.ipynb\",\n",
    "}\n"
   ]
  },
  {
   "cell_type": "code",
   "execution_count": 4,
   "id": "2bf72704",
   "metadata": {
    "execution": {
     "iopub.execute_input": "2023-03-30T10:09:33.620156Z",
     "iopub.status.busy": "2023-03-30T10:09:33.619761Z",
     "iopub.status.idle": "2023-03-30T10:09:33.626083Z",
     "shell.execute_reply": "2023-03-30T10:09:33.625015Z"
    },
    "papermill": {
     "duration": 0.012984,
     "end_time": "2023-03-30T10:09:33.628551",
     "exception": false,
     "start_time": "2023-03-30T10:09:33.615567",
     "status": "completed"
    },
    "tags": [
     "soorgeon-unpickle"
    ]
   },
   "outputs": [],
   "source": [
    "train = pickle.loads(Path(upstream['section-01-get-data']['train']).read_bytes())"
   ]
  },
  {
   "cell_type": "markdown",
   "id": "1dc045f2",
   "metadata": {
    "id": "huNBju-TMV88",
    "papermill": {
     "duration": 0.002922,
     "end_time": "2023-03-30T10:09:33.634281",
     "exception": false,
     "start_time": "2023-03-30T10:09:33.631359",
     "status": "completed"
    },
    "tags": []
   },
   "source": [
    "## 04) Autosklearn  Auto ML\n"
   ]
  },
  {
   "cell_type": "code",
   "execution_count": 5,
   "id": "9d8f84f7",
   "metadata": {
    "colab": {
     "base_uri": "https://localhost:8080/"
    },
    "execution": {
     "iopub.execute_input": "2023-03-30T10:09:33.642127Z",
     "iopub.status.busy": "2023-03-30T10:09:33.641740Z",
     "iopub.status.idle": "2023-03-30T10:09:33.648730Z",
     "shell.execute_reply": "2023-03-30T10:09:33.647553Z"
    },
    "executionInfo": {
     "elapsed": 109,
     "status": "ok",
     "timestamp": 1680005770833,
     "user": {
      "displayName": "Victor Ruto",
      "userId": "13125455177778424587"
     },
     "user_tz": -180
    },
    "id": "VMYiRQivBvS9",
    "outputId": "d147e8e8-3032-425b-9db2-f567aac91e81",
    "papermill": {
     "duration": 0.014044,
     "end_time": "2023-03-30T10:09:33.651125",
     "exception": false,
     "start_time": "2023-03-30T10:09:33.637081",
     "status": "completed"
    },
    "tags": []
   },
   "outputs": [
    {
     "name": "stdout",
     "output_type": "stream",
     "text": [
      "Index(['Gender', 'Married', 'Dependents', 'Education', 'Self_Employed',\n",
      "       'ApplicantIncome', 'CoapplicantIncome', 'LoanAmount',\n",
      "       'Loan_Amount_Term', 'Credit_History', 'Property_Area'],\n",
      "      dtype='object')\n"
     ]
    }
   ],
   "source": [
    "feature_columns = train.columns[1:-1]\n",
    "print(feature_columns)"
   ]
  },
  {
   "cell_type": "code",
   "execution_count": 6,
   "id": "3b4cddb3",
   "metadata": {
    "colab": {
     "base_uri": "https://localhost:8080/"
    },
    "execution": {
     "iopub.execute_input": "2023-03-30T10:09:33.659908Z",
     "iopub.status.busy": "2023-03-30T10:09:33.659191Z",
     "iopub.status.idle": "2023-03-30T10:09:33.677829Z",
     "shell.execute_reply": "2023-03-30T10:09:33.676670Z"
    },
    "executionInfo": {
     "elapsed": 102,
     "status": "ok",
     "timestamp": 1680005770834,
     "user": {
      "displayName": "Victor Ruto",
      "userId": "13125455177778424587"
     },
     "user_tz": -180
    },
    "id": "80HRr4R9COtP",
    "outputId": "75c3ce5e-3169-4611-8aba-a6b864ef772e",
    "papermill": {
     "duration": 0.025456,
     "end_time": "2023-03-30T10:09:33.680032",
     "exception": false,
     "start_time": "2023-03-30T10:09:33.654576",
     "status": "completed"
    },
    "tags": []
   },
   "outputs": [
    {
     "data": {
      "text/plain": [
       "Gender               category\n",
       "Married              category\n",
       "Dependents           category\n",
       "Education            category\n",
       "Self_Employed        category\n",
       "ApplicantIncome         int64\n",
       "CoapplicantIncome     float64\n",
       "LoanAmount            float64\n",
       "Loan_Amount_Term      float64\n",
       "Credit_History        float64\n",
       "Property_Area        category\n",
       "dtype: object"
      ]
     },
     "execution_count": 6,
     "metadata": {},
     "output_type": "execute_result"
    }
   ],
   "source": [
    "## Input data with feature columns \n",
    "X = train[feature_columns].copy()\n",
    "\n",
    "## Convert categorical features to 'category' type\n",
    "categorical_columns = ['Gender', 'Married','Dependents', 'Education', 'Self_Employed', 'Property_Area']\n",
    "X[categorical_columns] = X[categorical_columns].astype('category')\n",
    "X.dtypes"
   ]
  },
  {
   "cell_type": "code",
   "execution_count": 7,
   "id": "7d3b9722",
   "metadata": {
    "execution": {
     "iopub.execute_input": "2023-03-30T10:09:33.688696Z",
     "iopub.status.busy": "2023-03-30T10:09:33.687966Z",
     "iopub.status.idle": "2023-03-30T10:09:33.696692Z",
     "shell.execute_reply": "2023-03-30T10:09:33.695619Z"
    },
    "id": "wDlAmmP6MgQF",
    "papermill": {
     "duration": 0.016305,
     "end_time": "2023-03-30T10:09:33.699647",
     "exception": false,
     "start_time": "2023-03-30T10:09:33.683342",
     "status": "completed"
    },
    "tags": []
   },
   "outputs": [],
   "source": [
    "## label encode target\n",
    "y = train['Loan_Status'].map({'N':0,'Y':1}).astype(int)\n",
    "\n",
    "## train-test split\n",
    "X_train, X_test, y_train, y_test = train_test_split(X, y, test_size=0.2, random_state=42)"
   ]
  },
  {
   "cell_type": "code",
   "execution_count": 8,
   "id": "ab5fa0fc",
   "metadata": {
    "execution": {
     "iopub.execute_input": "2023-03-30T10:09:33.710193Z",
     "iopub.status.busy": "2023-03-30T10:09:33.709712Z",
     "iopub.status.idle": "2023-03-30T10:10:38.237906Z",
     "shell.execute_reply": "2023-03-30T10:10:38.236744Z"
    },
    "id": "9wwYMdK_McJt",
    "papermill": {
     "duration": 64.538301,
     "end_time": "2023-03-30T10:10:38.241210",
     "exception": false,
     "start_time": "2023-03-30T10:09:33.702909",
     "status": "completed"
    },
    "tags": []
   },
   "outputs": [],
   "source": [
    "# train\n",
    "autoML = AutoSklearnClassifier(time_left_for_this_task=2*30, per_run_time_limit=30, n_jobs=8) # imposing a 1 minute time limit on this\n",
    "autoML.fit(X_train, y_train)\n",
    "\n",
    "# predict\n",
    "predictions_autoML = autoML.predict(X_test)"
   ]
  },
  {
   "cell_type": "code",
   "execution_count": 9,
   "id": "045090dd",
   "metadata": {
    "colab": {
     "base_uri": "https://localhost:8080/"
    },
    "execution": {
     "iopub.execute_input": "2023-03-30T10:10:38.254794Z",
     "iopub.status.busy": "2023-03-30T10:10:38.254061Z",
     "iopub.status.idle": "2023-03-30T10:10:38.264641Z",
     "shell.execute_reply": "2023-03-30T10:10:38.263507Z"
    },
    "executionInfo": {
     "elapsed": 36,
     "status": "ok",
     "timestamp": 1680005834679,
     "user": {
      "displayName": "Victor Ruto",
      "userId": "13125455177778424587"
     },
     "user_tz": -180
    },
    "id": "qnbGH9zS-WYh",
    "outputId": "48c4b39e-c200-4c22-f0d4-0b75f1a8b463",
    "papermill": {
     "duration": 0.020806,
     "end_time": "2023-03-30T10:10:38.267873",
     "exception": false,
     "start_time": "2023-03-30T10:10:38.247067",
     "status": "completed"
    },
    "tags": []
   },
   "outputs": [
    {
     "name": "stdout",
     "output_type": "stream",
     "text": [
      "autoML Model Accuracy: 0.7967479674796748\n"
     ]
    }
   ],
   "source": [
    "print('autoML Model Accuracy:', accuracy_score(predictions_autoML, y_test))"
   ]
  },
  {
   "cell_type": "code",
   "execution_count": 10,
   "id": "f166d1c3",
   "metadata": {
    "colab": {
     "base_uri": "https://localhost:8080/"
    },
    "execution": {
     "iopub.execute_input": "2023-03-30T10:10:38.281869Z",
     "iopub.status.busy": "2023-03-30T10:10:38.281343Z",
     "iopub.status.idle": "2023-03-30T10:10:38.291501Z",
     "shell.execute_reply": "2023-03-30T10:10:38.290504Z"
    },
    "executionInfo": {
     "elapsed": 31,
     "status": "ok",
     "timestamp": 1680005834679,
     "user": {
      "displayName": "Victor Ruto",
      "userId": "13125455177778424587"
     },
     "user_tz": -180
    },
    "id": "pNPPfGUtOnJ9",
    "outputId": "7d72b84d-054e-4304-fc72-c39c9c6b1167",
    "papermill": {
     "duration": 0.022528,
     "end_time": "2023-03-30T10:10:38.296230",
     "exception": false,
     "start_time": "2023-03-30T10:10:38.273702",
     "status": "completed"
    },
    "tags": []
   },
   "outputs": [
    {
     "name": "stdout",
     "output_type": "stream",
     "text": [
      "[[19  1]\n",
      " [24 79]]\n"
     ]
    }
   ],
   "source": [
    "print(confusion_matrix(predictions_autoML, y_test))"
   ]
  },
  {
   "cell_type": "code",
   "execution_count": 11,
   "id": "b131b702",
   "metadata": {
    "execution": {
     "iopub.execute_input": "2023-03-30T10:10:38.312732Z",
     "iopub.status.busy": "2023-03-30T10:10:38.311849Z",
     "iopub.status.idle": "2023-03-30T10:10:38.334025Z",
     "shell.execute_reply": "2023-03-30T10:10:38.332914Z"
    },
    "papermill": {
     "duration": 0.0354,
     "end_time": "2023-03-30T10:10:38.337152",
     "exception": false,
     "start_time": "2023-03-30T10:10:38.301752",
     "status": "completed"
    },
    "tags": [
     "soorgeon-pickle"
    ]
   },
   "outputs": [
    {
     "data": {
      "text/plain": [
       "12442"
      ]
     },
     "execution_count": 11,
     "metadata": {},
     "output_type": "execute_result"
    }
   ],
   "source": [
    "Path(product['X']).parent.mkdir(exist_ok=True, parents=True)\n",
    "Path(product['X']).write_bytes(pickle.dumps(X))\n",
    "\n",
    "Path(product['X_train']).parent.mkdir(exist_ok=True, parents=True)\n",
    "Path(product['X_train']).write_bytes(pickle.dumps(X_train))\n",
    "\n",
    "Path(product['categorical_columns']).parent.mkdir(exist_ok=True, parents=True)\n",
    "Path(product['categorical_columns']).write_bytes(pickle.dumps(categorical_columns))\n",
    "\n",
    "Path(product['y']).parent.mkdir(exist_ok=True, parents=True)\n",
    "Path(product['y']).write_bytes(pickle.dumps(y))\n",
    "\n",
    "Path(product['y_train']).parent.mkdir(exist_ok=True, parents=True)\n",
    "Path(product['y_train']).write_bytes(pickle.dumps(y_train))"
   ]
  }
 ],
 "metadata": {
  "jupytext": {
   "main_language": "python",
   "text_representation": {
    "extension": ".py",
    "format_name": "percent",
    "format_version": "1.3",
    "jupytext_version": "1.14.5"
   }
  },
  "kernelspec": {
   "display_name": "Python 3",
   "language": "python",
   "name": "python3"
  },
  "language_info": {
   "codemirror_mode": {
    "name": "ipython",
    "version": 3
   },
   "file_extension": ".py",
   "mimetype": "text/x-python",
   "name": "python",
   "nbconvert_exporter": "python",
   "pygments_lexer": "ipython3",
   "version": "3.9.16"
  },
  "papermill": {
   "duration": 69.967075,
   "end_time": "2023-03-30T10:10:39.478535",
   "exception": null,
   "input_path": "/tmp/tmpsi6190j4.ipynb",
   "output_path": "/content/Reproducible-Data-Analysis-With-Jupyter-Notebooks-Standard-Bank-Virtual-Internship/output/section-04-autosklearn-auto-ml.ipynb",
   "parameters": {
    "product": {
     "X": "/content/Reproducible-Data-Analysis-With-Jupyter-Notebooks-Standard-Bank-Virtual-Internship/output/section-04-autosklearn-auto-ml-X.pkl",
     "X_train": "/content/Reproducible-Data-Analysis-With-Jupyter-Notebooks-Standard-Bank-Virtual-Internship/output/section-04-autosklearn-auto-ml-X_train.pkl",
     "categorical_columns": "/content/Reproducible-Data-Analysis-With-Jupyter-Notebooks-Standard-Bank-Virtual-Internship/output/section-04-autosklearn-auto-ml-categorical_columns.pkl",
     "nb": "/content/Reproducible-Data-Analysis-With-Jupyter-Notebooks-Standard-Bank-Virtual-Internship/output/section-04-autosklearn-auto-ml.ipynb",
     "y": "/content/Reproducible-Data-Analysis-With-Jupyter-Notebooks-Standard-Bank-Virtual-Internship/output/section-04-autosklearn-auto-ml-y.pkl",
     "y_train": "/content/Reproducible-Data-Analysis-With-Jupyter-Notebooks-Standard-Bank-Virtual-Internship/output/section-04-autosklearn-auto-ml-y_train.pkl"
    },
    "upstream": {
     "section-01-get-data": {
      "df": "/content/Reproducible-Data-Analysis-With-Jupyter-Notebooks-Standard-Bank-Virtual-Internship/output/section-01-get-data-df.pkl",
      "nb": "/content/Reproducible-Data-Analysis-With-Jupyter-Notebooks-Standard-Bank-Virtual-Internship/output/section-01-get-data.ipynb",
      "train": "/content/Reproducible-Data-Analysis-With-Jupyter-Notebooks-Standard-Bank-Virtual-Internship/output/section-01-get-data-train.pkl"
     }
    }
   },
   "start_time": "2023-03-30T10:09:29.511460"
  }
 },
 "nbformat": 4,
 "nbformat_minor": 5
}