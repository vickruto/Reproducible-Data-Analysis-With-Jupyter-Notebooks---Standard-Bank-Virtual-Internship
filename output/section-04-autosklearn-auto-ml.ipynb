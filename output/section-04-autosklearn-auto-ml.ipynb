{
 "cells": [
  {
   "cell_type": "code",
   "execution_count": 1,
   "id": "e8125356",
   "metadata": {
    "execution": {
     "iopub.execute_input": "2023-03-30T20:35:04.397730Z",
     "iopub.status.busy": "2023-03-30T20:35:04.397017Z",
     "iopub.status.idle": "2023-03-30T20:35:05.920610Z",
     "shell.execute_reply": "2023-03-30T20:35:05.919362Z"
    },
    "papermill": {
     "duration": 1.531655,
     "end_time": "2023-03-30T20:35:05.923630",
     "exception": false,
     "start_time": "2023-03-30T20:35:04.391975",
     "status": "completed"
    },
    "tags": [
     "soorgeon-imports"
    ]
   },
   "outputs": [],
   "source": [
    "from sklearn.metrics import accuracy_score, confusion_matrix\n",
    "from sklearn.model_selection import train_test_split\n",
    "for i in range(2):\n",
    "  try:\n",
    "    import autosklearn\n",
    "    from autosklearn.classification import AutoSklearnClassifier\n",
    "  except:\n",
    "    pass\n",
    "from pathlib import Path\n",
    "import pickle"
   ]
  },
  {
   "cell_type": "code",
   "execution_count": 2,
   "id": "7abdb0df",
   "metadata": {
    "execution": {
     "iopub.execute_input": "2023-03-30T20:35:05.931459Z",
     "iopub.status.busy": "2023-03-30T20:35:05.930825Z",
     "iopub.status.idle": "2023-03-30T20:35:05.938136Z",
     "shell.execute_reply": "2023-03-30T20:35:05.936524Z"
    },
    "papermill": {
     "duration": 0.014331,
     "end_time": "2023-03-30T20:35:05.941080",
     "exception": false,
     "start_time": "2023-03-30T20:35:05.926749",
     "status": "completed"
    },
    "tags": [
     "parameters"
    ]
   },
   "outputs": [],
   "source": [
    "upstream = ['section-01-get-data']\n",
    "product = None"
   ]
  },
  {
   "cell_type": "code",
   "execution_count": 3,
   "id": "5bf5bcb4",
   "metadata": {
    "execution": {
     "iopub.execute_input": "2023-03-30T20:35:05.949161Z",
     "iopub.status.busy": "2023-03-30T20:35:05.948693Z",
     "iopub.status.idle": "2023-03-30T20:35:05.957033Z",
     "shell.execute_reply": "2023-03-30T20:35:05.955889Z"
    },
    "papermill": {
     "duration": 0.015806,
     "end_time": "2023-03-30T20:35:05.959640",
     "exception": false,
     "start_time": "2023-03-30T20:35:05.943834",
     "status": "completed"
    },
    "tags": [
     "injected-parameters"
    ]
   },
   "outputs": [],
   "source": [
    "# Parameters\n",
    "upstream = {\n",
    "    \"section-01-get-data\": {\n",
    "        \"train\": \"/content/Reproducible-Data-Analysis-With-Jupyter-Notebooks-Standard-Bank-Virtual-Internship/output/section-01-get-data-train.pkl\",\n",
    "        \"df\": \"/content/Reproducible-Data-Analysis-With-Jupyter-Notebooks-Standard-Bank-Virtual-Internship/output/section-01-get-data-df.pkl\",\n",
    "        \"nb\": \"/content/Reproducible-Data-Analysis-With-Jupyter-Notebooks-Standard-Bank-Virtual-Internship/output/section-01-get-data.ipynb\",\n",
    "    }\n",
    "}\n",
    "product = {\n",
    "    \"categorical_columns\": \"/content/Reproducible-Data-Analysis-With-Jupyter-Notebooks-Standard-Bank-Virtual-Internship/output/section-04-autosklearn-auto-ml-categorical_columns.pkl\",\n",
    "    \"X_train\": \"/content/Reproducible-Data-Analysis-With-Jupyter-Notebooks-Standard-Bank-Virtual-Internship/output/section-04-autosklearn-auto-ml-X_train.pkl\",\n",
    "    \"X\": \"/content/Reproducible-Data-Analysis-With-Jupyter-Notebooks-Standard-Bank-Virtual-Internship/output/section-04-autosklearn-auto-ml-X.pkl\",\n",
    "    \"y_train\": \"/content/Reproducible-Data-Analysis-With-Jupyter-Notebooks-Standard-Bank-Virtual-Internship/output/section-04-autosklearn-auto-ml-y_train.pkl\",\n",
    "    \"y\": \"/content/Reproducible-Data-Analysis-With-Jupyter-Notebooks-Standard-Bank-Virtual-Internship/output/section-04-autosklearn-auto-ml-y.pkl\",\n",
    "    \"nb\": \"/content/Reproducible-Data-Analysis-With-Jupyter-Notebooks-Standard-Bank-Virtual-Internship/output/section-04-autosklearn-auto-ml.ipynb\",\n",
    "}\n"
   ]
  },
  {
   "cell_type": "code",
   "execution_count": 4,
   "id": "033bcd04",
   "metadata": {
    "execution": {
     "iopub.execute_input": "2023-03-30T20:35:05.966943Z",
     "iopub.status.busy": "2023-03-30T20:35:05.966566Z",
     "iopub.status.idle": "2023-03-30T20:35:05.972701Z",
     "shell.execute_reply": "2023-03-30T20:35:05.971543Z"
    },
    "papermill": {
     "duration": 0.012489,
     "end_time": "2023-03-30T20:35:05.974894",
     "exception": false,
     "start_time": "2023-03-30T20:35:05.962405",
     "status": "completed"
    },
    "tags": [
     "soorgeon-unpickle"
    ]
   },
   "outputs": [],
   "source": [
    "train = pickle.loads(Path(upstream['section-01-get-data']['train']).read_bytes())"
   ]
  },
  {
   "cell_type": "markdown",
   "id": "634573e2",
   "metadata": {
    "id": "huNBju-TMV88",
    "papermill": {
     "duration": 0.00301,
     "end_time": "2023-03-30T20:35:05.980676",
     "exception": false,
     "start_time": "2023-03-30T20:35:05.977666",
     "status": "completed"
    },
    "tags": []
   },
   "source": [
    "## 04) Autosklearn  Auto ML\n"
   ]
  },
  {
   "cell_type": "code",
   "execution_count": 5,
   "id": "5514b082",
   "metadata": {
    "colab": {
     "base_uri": "https://localhost:8080/"
    },
    "execution": {
     "iopub.execute_input": "2023-03-30T20:35:05.988037Z",
     "iopub.status.busy": "2023-03-30T20:35:05.987652Z",
     "iopub.status.idle": "2023-03-30T20:35:05.994727Z",
     "shell.execute_reply": "2023-03-30T20:35:05.993562Z"
    },
    "executionInfo": {
     "elapsed": 109,
     "status": "ok",
     "timestamp": 1680005770833,
     "user": {
      "displayName": "Victor Ruto",
      "userId": "13125455177778424587"
     },
     "user_tz": -180
    },
    "id": "VMYiRQivBvS9",
    "outputId": "d147e8e8-3032-425b-9db2-f567aac91e81",
    "papermill": {
     "duration": 0.013447,
     "end_time": "2023-03-30T20:35:05.996962",
     "exception": false,
     "start_time": "2023-03-30T20:35:05.983515",
     "status": "completed"
    },
    "tags": []
   },
   "outputs": [
    {
     "name": "stdout",
     "output_type": "stream",
     "text": [
      "Index(['Gender', 'Married', 'Dependents', 'Education', 'Self_Employed',\n",
      "       'ApplicantIncome', 'CoapplicantIncome', 'LoanAmount',\n",
      "       'Loan_Amount_Term', 'Credit_History', 'Property_Area'],\n",
      "      dtype='object')\n"
     ]
    }
   ],
   "source": [
    "feature_columns = train.columns[1:-1]\n",
    "print(feature_columns)"
   ]
  },
  {
   "cell_type": "code",
   "execution_count": 6,
   "id": "59ecb323",
   "metadata": {
    "colab": {
     "base_uri": "https://localhost:8080/"
    },
    "execution": {
     "iopub.execute_input": "2023-03-30T20:35:06.005830Z",
     "iopub.status.busy": "2023-03-30T20:35:06.005128Z",
     "iopub.status.idle": "2023-03-30T20:35:06.023740Z",
     "shell.execute_reply": "2023-03-30T20:35:06.022376Z"
    },
    "executionInfo": {
     "elapsed": 102,
     "status": "ok",
     "timestamp": 1680005770834,
     "user": {
      "displayName": "Victor Ruto",
      "userId": "13125455177778424587"
     },
     "user_tz": -180
    },
    "id": "80HRr4R9COtP",
    "outputId": "75c3ce5e-3169-4611-8aba-a6b864ef772e",
    "papermill": {
     "duration": 0.026122,
     "end_time": "2023-03-30T20:35:06.026382",
     "exception": false,
     "start_time": "2023-03-30T20:35:06.000260",
     "status": "completed"
    },
    "tags": []
   },
   "outputs": [
    {
     "data": {
      "text/plain": [
       "Gender               category\n",
       "Married              category\n",
       "Dependents           category\n",
       "Education            category\n",
       "Self_Employed        category\n",
       "ApplicantIncome         int64\n",
       "CoapplicantIncome     float64\n",
       "LoanAmount            float64\n",
       "Loan_Amount_Term      float64\n",
       "Credit_History        float64\n",
       "Property_Area        category\n",
       "dtype: object"
      ]
     },
     "execution_count": 6,
     "metadata": {},
     "output_type": "execute_result"
    }
   ],
   "source": [
    "## Input data with feature columns \n",
    "X = train[feature_columns].copy()\n",
    "\n",
    "## Convert categorical features to 'category' type\n",
    "categorical_columns = ['Gender', 'Married','Dependents', 'Education', 'Self_Employed', 'Property_Area']\n",
    "X[categorical_columns] = X[categorical_columns].astype('category')\n",
    "X.dtypes"
   ]
  },
  {
   "cell_type": "code",
   "execution_count": 7,
   "id": "a3386852",
   "metadata": {
    "execution": {
     "iopub.execute_input": "2023-03-30T20:35:06.035087Z",
     "iopub.status.busy": "2023-03-30T20:35:06.034658Z",
     "iopub.status.idle": "2023-03-30T20:35:06.046397Z",
     "shell.execute_reply": "2023-03-30T20:35:06.045232Z"
    },
    "id": "wDlAmmP6MgQF",
    "papermill": {
     "duration": 0.019035,
     "end_time": "2023-03-30T20:35:06.048773",
     "exception": false,
     "start_time": "2023-03-30T20:35:06.029738",
     "status": "completed"
    },
    "tags": []
   },
   "outputs": [],
   "source": [
    "## label encode target\n",
    "y = train['Loan_Status'].map({'N':0,'Y':1}).astype(int)\n",
    "\n",
    "## train-test split\n",
    "X_train, X_test, y_train, y_test = train_test_split(X, y, test_size=0.2, random_state=42)"
   ]
  },
  {
   "cell_type": "code",
   "execution_count": 8,
   "id": "7fa27514",
   "metadata": {
    "execution": {
     "iopub.execute_input": "2023-03-30T20:35:06.060264Z",
     "iopub.status.busy": "2023-03-30T20:35:06.059290Z",
     "iopub.status.idle": "2023-03-30T20:36:10.364781Z",
     "shell.execute_reply": "2023-03-30T20:36:10.363388Z"
    },
    "id": "9wwYMdK_McJt",
    "papermill": {
     "duration": 64.315795,
     "end_time": "2023-03-30T20:36:10.367802",
     "exception": false,
     "start_time": "2023-03-30T20:35:06.052007",
     "status": "completed"
    },
    "tags": []
   },
   "outputs": [],
   "source": [
    "# train\n",
    "autoML = AutoSklearnClassifier(time_left_for_this_task=2*30, per_run_time_limit=30, n_jobs=8) # imposing a 1 minute time limit on this\n",
    "autoML.fit(X_train, y_train)\n",
    "\n",
    "# predict\n",
    "predictions_autoML = autoML.predict(X_test)"
   ]
  },
  {
   "cell_type": "code",
   "execution_count": 9,
   "id": "ab3357cb",
   "metadata": {
    "colab": {
     "base_uri": "https://localhost:8080/"
    },
    "execution": {
     "iopub.execute_input": "2023-03-30T20:36:10.380944Z",
     "iopub.status.busy": "2023-03-30T20:36:10.380450Z",
     "iopub.status.idle": "2023-03-30T20:36:10.392813Z",
     "shell.execute_reply": "2023-03-30T20:36:10.387557Z"
    },
    "executionInfo": {
     "elapsed": 36,
     "status": "ok",
     "timestamp": 1680005834679,
     "user": {
      "displayName": "Victor Ruto",
      "userId": "13125455177778424587"
     },
     "user_tz": -180
    },
    "id": "qnbGH9zS-WYh",
    "outputId": "48c4b39e-c200-4c22-f0d4-0b75f1a8b463",
    "papermill": {
     "duration": 0.024177,
     "end_time": "2023-03-30T20:36:10.396156",
     "exception": false,
     "start_time": "2023-03-30T20:36:10.371979",
     "status": "completed"
    },
    "tags": []
   },
   "outputs": [
    {
     "name": "stdout",
     "output_type": "stream",
     "text": [
      "autoML Model Accuracy: 0.7967479674796748\n"
     ]
    }
   ],
   "source": [
    "print('autoML Model Accuracy:', accuracy_score(predictions_autoML, y_test))"
   ]
  },
  {
   "cell_type": "code",
   "execution_count": 10,
   "id": "7e567f03",
   "metadata": {
    "colab": {
     "base_uri": "https://localhost:8080/"
    },
    "execution": {
     "iopub.execute_input": "2023-03-30T20:36:10.408750Z",
     "iopub.status.busy": "2023-03-30T20:36:10.408231Z",
     "iopub.status.idle": "2023-03-30T20:36:10.420738Z",
     "shell.execute_reply": "2023-03-30T20:36:10.419578Z"
    },
    "executionInfo": {
     "elapsed": 31,
     "status": "ok",
     "timestamp": 1680005834679,
     "user": {
      "displayName": "Victor Ruto",
      "userId": "13125455177778424587"
     },
     "user_tz": -180
    },
    "id": "pNPPfGUtOnJ9",
    "outputId": "7d72b84d-054e-4304-fc72-c39c9c6b1167",
    "papermill": {
     "duration": 0.026198,
     "end_time": "2023-03-30T20:36:10.427571",
     "exception": false,
     "start_time": "2023-03-30T20:36:10.401373",
     "status": "completed"
    },
    "tags": []
   },
   "outputs": [
    {
     "name": "stdout",
     "output_type": "stream",
     "text": [
      "[[19  1]\n",
      " [24 79]]\n"
     ]
    }
   ],
   "source": [
    "print(confusion_matrix(predictions_autoML, y_test))"
   ]
  },
  {
   "cell_type": "code",
   "execution_count": 11,
   "id": "bca9158d",
   "metadata": {
    "execution": {
     "iopub.execute_input": "2023-03-30T20:36:10.440651Z",
     "iopub.status.busy": "2023-03-30T20:36:10.440136Z",
     "iopub.status.idle": "2023-03-30T20:36:10.462385Z",
     "shell.execute_reply": "2023-03-30T20:36:10.461182Z"
    },
    "papermill": {
     "duration": 0.03293,
     "end_time": "2023-03-30T20:36:10.465826",
     "exception": false,
     "start_time": "2023-03-30T20:36:10.432896",
     "status": "completed"
    },
    "tags": [
     "soorgeon-pickle"
    ]
   },
   "outputs": [
    {
     "data": {
      "text/plain": [
       "12442"
      ]
     },
     "execution_count": 11,
     "metadata": {},
     "output_type": "execute_result"
    }
   ],
   "source": [
    "Path(product['X']).parent.mkdir(exist_ok=True, parents=True)\n",
    "Path(product['X']).write_bytes(pickle.dumps(X))\n",
    "\n",
    "Path(product['X_train']).parent.mkdir(exist_ok=True, parents=True)\n",
    "Path(product['X_train']).write_bytes(pickle.dumps(X_train))\n",
    "\n",
    "Path(product['categorical_columns']).parent.mkdir(exist_ok=True, parents=True)\n",
    "Path(product['categorical_columns']).write_bytes(pickle.dumps(categorical_columns))\n",
    "\n",
    "Path(product['y']).parent.mkdir(exist_ok=True, parents=True)\n",
    "Path(product['y']).write_bytes(pickle.dumps(y))\n",
    "\n",
    "Path(product['y_train']).parent.mkdir(exist_ok=True, parents=True)\n",
    "Path(product['y_train']).write_bytes(pickle.dumps(y_train))"
   ]
  }
 ],
 "metadata": {
  "jupytext": {
   "main_language": "python",
   "text_representation": {
    "extension": ".py",
    "format_name": "percent",
    "format_version": "1.3",
    "jupytext_version": "1.14.5"
   }
  },
  "kernelspec": {
   "display_name": "Python 3",
   "language": "python",
   "name": "python3"
  },
  "language_info": {
   "codemirror_mode": {
    "name": "ipython",
    "version": 3
   },
   "file_extension": ".py",
   "mimetype": "text/x-python",
   "name": "python",
   "nbconvert_exporter": "python",
   "pygments_lexer": "ipython3",
   "version": "3.9.16"
  },
  "papermill": {
   "duration": 68.305128,
   "end_time": "2023-03-30T20:36:11.397205",
   "exception": null,
   "input_path": "/tmp/tmpj29b44q3.ipynb",
   "output_path": "/content/Reproducible-Data-Analysis-With-Jupyter-Notebooks-Standard-Bank-Virtual-Internship/output/section-04-autosklearn-auto-ml.ipynb",
   "parameters": {
    "product": {
     "X": "/content/Reproducible-Data-Analysis-With-Jupyter-Notebooks-Standard-Bank-Virtual-Internship/output/section-04-autosklearn-auto-ml-X.pkl",
     "X_train": "/content/Reproducible-Data-Analysis-With-Jupyter-Notebooks-Standard-Bank-Virtual-Internship/output/section-04-autosklearn-auto-ml-X_train.pkl",
     "categorical_columns": "/content/Reproducible-Data-Analysis-With-Jupyter-Notebooks-Standard-Bank-Virtual-Internship/output/section-04-autosklearn-auto-ml-categorical_columns.pkl",
     "nb": "/content/Reproducible-Data-Analysis-With-Jupyter-Notebooks-Standard-Bank-Virtual-Internship/output/section-04-autosklearn-auto-ml.ipynb",
     "y": "/content/Reproducible-Data-Analysis-With-Jupyter-Notebooks-Standard-Bank-Virtual-Internship/output/section-04-autosklearn-auto-ml-y.pkl",
     "y_train": "/content/Reproducible-Data-Analysis-With-Jupyter-Notebooks-Standard-Bank-Virtual-Internship/output/section-04-autosklearn-auto-ml-y_train.pkl"
    },
    "upstream": {
     "section-01-get-data": {
      "df": "/content/Reproducible-Data-Analysis-With-Jupyter-Notebooks-Standard-Bank-Virtual-Internship/output/section-01-get-data-df.pkl",
      "nb": "/content/Reproducible-Data-Analysis-With-Jupyter-Notebooks-Standard-Bank-Virtual-Internship/output/section-01-get-data.ipynb",
      "train": "/content/Reproducible-Data-Analysis-With-Jupyter-Notebooks-Standard-Bank-Virtual-Internship/output/section-01-get-data-train.pkl"
     }
    }
   },
   "start_time": "2023-03-30T20:35:03.092077"
  }
 },
 "nbformat": 4,
 "nbformat_minor": 5
}