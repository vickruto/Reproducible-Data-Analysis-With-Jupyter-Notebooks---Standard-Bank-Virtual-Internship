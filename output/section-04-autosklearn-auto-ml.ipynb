{
 "cells": [
  {
   "cell_type": "code",
   "execution_count": 1,
   "id": "c570eb86",
   "metadata": {
    "execution": {
     "iopub.execute_input": "2023-04-03T16:55:53.343908Z",
     "iopub.status.busy": "2023-04-03T16:55:53.343460Z",
     "iopub.status.idle": "2023-04-03T16:55:54.558195Z",
     "shell.execute_reply": "2023-04-03T16:55:54.557208Z"
    },
    "papermill": {
     "duration": 1.222617,
     "end_time": "2023-04-03T16:55:54.560622",
     "exception": false,
     "start_time": "2023-04-03T16:55:53.338005",
     "status": "completed"
    },
    "tags": [
     "soorgeon-imports"
    ]
   },
   "outputs": [],
   "source": [
    "from sklearn.metrics import accuracy_score, confusion_matrix\n",
    "from sklearn.model_selection import train_test_split\n",
    "for i in range(2):\n",
    "  try:\n",
    "    from autosklearn.classification import AutoSklearnClassifier\n",
    "  except:\n",
    "    pass\n",
    "from pathlib import Path\n",
    "import pickle"
   ]
  },
  {
   "cell_type": "code",
   "execution_count": 2,
   "id": "dbc064bd",
   "metadata": {
    "execution": {
     "iopub.execute_input": "2023-04-03T16:55:54.567969Z",
     "iopub.status.busy": "2023-04-03T16:55:54.567162Z",
     "iopub.status.idle": "2023-04-03T16:55:54.572126Z",
     "shell.execute_reply": "2023-04-03T16:55:54.571070Z"
    },
    "papermill": {
     "duration": 0.010399,
     "end_time": "2023-04-03T16:55:54.574077",
     "exception": false,
     "start_time": "2023-04-03T16:55:54.563678",
     "status": "completed"
    },
    "tags": [
     "parameters"
    ]
   },
   "outputs": [],
   "source": [
    "upstream = ['section-01-get-data']\n",
    "product = None"
   ]
  },
  {
   "cell_type": "code",
   "execution_count": 3,
   "id": "7813cd02",
   "metadata": {
    "execution": {
     "iopub.execute_input": "2023-04-03T16:55:54.580544Z",
     "iopub.status.busy": "2023-04-03T16:55:54.580278Z",
     "iopub.status.idle": "2023-04-03T16:55:54.584600Z",
     "shell.execute_reply": "2023-04-03T16:55:54.583610Z"
    },
    "papermill": {
     "duration": 0.009658,
     "end_time": "2023-04-03T16:55:54.586502",
     "exception": false,
     "start_time": "2023-04-03T16:55:54.576844",
     "status": "completed"
    },
    "tags": [
     "injected-parameters"
    ]
   },
   "outputs": [],
   "source": [
    "# Parameters\n",
    "upstream = {\n",
    "    \"section-01-get-data\": {\n",
    "        \"train\": \"/content/reproducible-analysis/output/section-01-get-data-train.pkl\",\n",
    "        \"df\": \"/content/reproducible-analysis/output/section-01-get-data-df.pkl\",\n",
    "        \"nb\": \"/content/reproducible-analysis/output/section-01-get-data.ipynb\",\n",
    "    }\n",
    "}\n",
    "product = {\n",
    "    \"categorical_columns\": \"/content/reproducible-analysis/output/section-04-autosklearn-auto-ml-categorical_columns.pkl\",\n",
    "    \"X_train\": \"/content/reproducible-analysis/output/section-04-autosklearn-auto-ml-X_train.pkl\",\n",
    "    \"X\": \"/content/reproducible-analysis/output/section-04-autosklearn-auto-ml-X.pkl\",\n",
    "    \"y_train\": \"/content/reproducible-analysis/output/section-04-autosklearn-auto-ml-y_train.pkl\",\n",
    "    \"y\": \"/content/reproducible-analysis/output/section-04-autosklearn-auto-ml-y.pkl\",\n",
    "    \"nb\": \"/content/reproducible-analysis/output/section-04-autosklearn-auto-ml.ipynb\",\n",
    "}\n"
   ]
  },
  {
   "cell_type": "code",
   "execution_count": 4,
   "id": "60cdeb31",
   "metadata": {
    "execution": {
     "iopub.execute_input": "2023-04-03T16:55:54.592473Z",
     "iopub.status.busy": "2023-04-03T16:55:54.592212Z",
     "iopub.status.idle": "2023-04-03T16:55:54.597214Z",
     "shell.execute_reply": "2023-04-03T16:55:54.596344Z"
    },
    "papermill": {
     "duration": 0.010157,
     "end_time": "2023-04-03T16:55:54.599098",
     "exception": false,
     "start_time": "2023-04-03T16:55:54.588941",
     "status": "completed"
    },
    "tags": [
     "soorgeon-unpickle"
    ]
   },
   "outputs": [],
   "source": [
    "train = pickle.loads(Path(upstream['section-01-get-data']['train']).read_bytes())"
   ]
  },
  {
   "cell_type": "markdown",
   "id": "4e87f3c0",
   "metadata": {
    "id": "huNBju-TMV88",
    "papermill": {
     "duration": 0.002446,
     "end_time": "2023-04-03T16:55:54.604007",
     "exception": false,
     "start_time": "2023-04-03T16:55:54.601561",
     "status": "completed"
    },
    "tags": []
   },
   "source": [
    "## 04) Autosklearn  Auto ML\n"
   ]
  },
  {
   "cell_type": "code",
   "execution_count": 5,
   "id": "04a23c2e",
   "metadata": {
    "colab": {
     "base_uri": "https://localhost:8080/"
    },
    "execution": {
     "iopub.execute_input": "2023-04-03T16:55:54.610202Z",
     "iopub.status.busy": "2023-04-03T16:55:54.609719Z",
     "iopub.status.idle": "2023-04-03T16:55:54.615134Z",
     "shell.execute_reply": "2023-04-03T16:55:54.614216Z"
    },
    "executionInfo": {
     "elapsed": 109,
     "status": "ok",
     "timestamp": 1680005770833,
     "user": {
      "displayName": "Victor Ruto",
      "userId": "13125455177778424587"
     },
     "user_tz": -180
    },
    "id": "VMYiRQivBvS9",
    "outputId": "d147e8e8-3032-425b-9db2-f567aac91e81",
    "papermill": {
     "duration": 0.010488,
     "end_time": "2023-04-03T16:55:54.616872",
     "exception": false,
     "start_time": "2023-04-03T16:55:54.606384",
     "status": "completed"
    },
    "tags": []
   },
   "outputs": [
    {
     "name": "stdout",
     "output_type": "stream",
     "text": [
      "Index(['Gender', 'Married', 'Dependents', 'Education', 'Self_Employed',\n",
      "       'ApplicantIncome', 'CoapplicantIncome', 'LoanAmount',\n",
      "       'Loan_Amount_Term', 'Credit_History', 'Property_Area'],\n",
      "      dtype='object')\n"
     ]
    }
   ],
   "source": [
    "feature_columns = train.columns[1:-1]\n",
    "print(feature_columns)"
   ]
  },
  {
   "cell_type": "code",
   "execution_count": 6,
   "id": "fb5eb6bc",
   "metadata": {
    "colab": {
     "base_uri": "https://localhost:8080/"
    },
    "execution": {
     "iopub.execute_input": "2023-04-03T16:55:54.623303Z",
     "iopub.status.busy": "2023-04-03T16:55:54.622808Z",
     "iopub.status.idle": "2023-04-03T16:55:54.638159Z",
     "shell.execute_reply": "2023-04-03T16:55:54.637480Z"
    },
    "executionInfo": {
     "elapsed": 102,
     "status": "ok",
     "timestamp": 1680005770834,
     "user": {
      "displayName": "Victor Ruto",
      "userId": "13125455177778424587"
     },
     "user_tz": -180
    },
    "id": "80HRr4R9COtP",
    "outputId": "75c3ce5e-3169-4611-8aba-a6b864ef772e",
    "papermill": {
     "duration": 0.020528,
     "end_time": "2023-04-03T16:55:54.639912",
     "exception": false,
     "start_time": "2023-04-03T16:55:54.619384",
     "status": "completed"
    },
    "tags": []
   },
   "outputs": [
    {
     "data": {
      "text/plain": [
       "Gender               category\n",
       "Married              category\n",
       "Dependents           category\n",
       "Education            category\n",
       "Self_Employed        category\n",
       "ApplicantIncome         int64\n",
       "CoapplicantIncome     float64\n",
       "LoanAmount            float64\n",
       "Loan_Amount_Term      float64\n",
       "Credit_History        float64\n",
       "Property_Area        category\n",
       "dtype: object"
      ]
     },
     "execution_count": 6,
     "metadata": {},
     "output_type": "execute_result"
    }
   ],
   "source": [
    "## Input data with feature columns \n",
    "X = train[feature_columns].copy()\n",
    "\n",
    "## Convert categorical features to 'category' type\n",
    "categorical_columns = ['Gender', 'Married','Dependents', 'Education', 'Self_Employed', 'Property_Area']\n",
    "X[categorical_columns] = X[categorical_columns].astype('category')\n",
    "X.dtypes"
   ]
  },
  {
   "cell_type": "code",
   "execution_count": 7,
   "id": "2ff0166e",
   "metadata": {
    "execution": {
     "iopub.execute_input": "2023-04-03T16:55:54.649828Z",
     "iopub.status.busy": "2023-04-03T16:55:54.648825Z",
     "iopub.status.idle": "2023-04-03T16:55:54.656255Z",
     "shell.execute_reply": "2023-04-03T16:55:54.655665Z"
    },
    "id": "wDlAmmP6MgQF",
    "papermill": {
     "duration": 0.015158,
     "end_time": "2023-04-03T16:55:54.657948",
     "exception": false,
     "start_time": "2023-04-03T16:55:54.642790",
     "status": "completed"
    },
    "tags": []
   },
   "outputs": [],
   "source": [
    "## label encode target\n",
    "y = train['Loan_Status'].map({'N':0,'Y':1}).astype(int)\n",
    "\n",
    "## train-test split\n",
    "X_train, X_test, y_train, y_test = train_test_split(X, y, test_size=0.2, random_state=42)"
   ]
  },
  {
   "cell_type": "code",
   "execution_count": 8,
   "id": "2686cba5",
   "metadata": {
    "execution": {
     "iopub.execute_input": "2023-04-03T16:55:54.664806Z",
     "iopub.status.busy": "2023-04-03T16:55:54.664267Z",
     "iopub.status.idle": "2023-04-03T16:56:59.698529Z",
     "shell.execute_reply": "2023-04-03T16:56:59.697364Z"
    },
    "id": "9wwYMdK_McJt",
    "papermill": {
     "duration": 65.041057,
     "end_time": "2023-04-03T16:56:59.701726",
     "exception": false,
     "start_time": "2023-04-03T16:55:54.660669",
     "status": "completed"
    },
    "tags": []
   },
   "outputs": [],
   "source": [
    "# train\n",
    "autoML = AutoSklearnClassifier(time_left_for_this_task=2*30, per_run_time_limit=30, n_jobs=8) # imposing a 1 minute time limit on this\n",
    "autoML.fit(X_train, y_train)\n",
    "\n",
    "# predict\n",
    "predictions_autoML = autoML.predict(X_test)"
   ]
  },
  {
   "cell_type": "code",
   "execution_count": 9,
   "id": "5dca7382",
   "metadata": {
    "colab": {
     "base_uri": "https://localhost:8080/"
    },
    "execution": {
     "iopub.execute_input": "2023-04-03T16:56:59.714302Z",
     "iopub.status.busy": "2023-04-03T16:56:59.713891Z",
     "iopub.status.idle": "2023-04-03T16:56:59.723838Z",
     "shell.execute_reply": "2023-04-03T16:56:59.722566Z"
    },
    "executionInfo": {
     "elapsed": 36,
     "status": "ok",
     "timestamp": 1680005834679,
     "user": {
      "displayName": "Victor Ruto",
      "userId": "13125455177778424587"
     },
     "user_tz": -180
    },
    "id": "qnbGH9zS-WYh",
    "outputId": "48c4b39e-c200-4c22-f0d4-0b75f1a8b463",
    "papermill": {
     "duration": 0.022142,
     "end_time": "2023-04-03T16:56:59.729545",
     "exception": false,
     "start_time": "2023-04-03T16:56:59.707403",
     "status": "completed"
    },
    "tags": []
   },
   "outputs": [
    {
     "name": "stdout",
     "output_type": "stream",
     "text": [
      "autoML Model Accuracy: 0.7967479674796748\n"
     ]
    }
   ],
   "source": [
    "print('autoML Model Accuracy:', accuracy_score(predictions_autoML, y_test))"
   ]
  },
  {
   "cell_type": "code",
   "execution_count": 10,
   "id": "3de30dab",
   "metadata": {
    "colab": {
     "base_uri": "https://localhost:8080/"
    },
    "execution": {
     "iopub.execute_input": "2023-04-03T16:56:59.740634Z",
     "iopub.status.busy": "2023-04-03T16:56:59.740243Z",
     "iopub.status.idle": "2023-04-03T16:56:59.746944Z",
     "shell.execute_reply": "2023-04-03T16:56:59.745995Z"
    },
    "executionInfo": {
     "elapsed": 31,
     "status": "ok",
     "timestamp": 1680005834679,
     "user": {
      "displayName": "Victor Ruto",
      "userId": "13125455177778424587"
     },
     "user_tz": -180
    },
    "id": "pNPPfGUtOnJ9",
    "outputId": "7d72b84d-054e-4304-fc72-c39c9c6b1167",
    "papermill": {
     "duration": 0.018091,
     "end_time": "2023-04-03T16:56:59.752499",
     "exception": false,
     "start_time": "2023-04-03T16:56:59.734408",
     "status": "completed"
    },
    "tags": []
   },
   "outputs": [
    {
     "name": "stdout",
     "output_type": "stream",
     "text": [
      "[[19  1]\n",
      " [24 79]]\n"
     ]
    }
   ],
   "source": [
    "print(confusion_matrix(predictions_autoML, y_test))"
   ]
  },
  {
   "cell_type": "code",
   "execution_count": 11,
   "id": "c5970b25",
   "metadata": {
    "execution": {
     "iopub.execute_input": "2023-04-03T16:56:59.764109Z",
     "iopub.status.busy": "2023-04-03T16:56:59.763705Z",
     "iopub.status.idle": "2023-04-03T16:56:59.783246Z",
     "shell.execute_reply": "2023-04-03T16:56:59.782171Z"
    },
    "papermill": {
     "duration": 0.028425,
     "end_time": "2023-04-03T16:56:59.785892",
     "exception": false,
     "start_time": "2023-04-03T16:56:59.757467",
     "status": "completed"
    },
    "tags": [
     "soorgeon-pickle"
    ]
   },
   "outputs": [
    {
     "data": {
      "text/plain": [
       "12442"
      ]
     },
     "execution_count": 11,
     "metadata": {},
     "output_type": "execute_result"
    }
   ],
   "source": [
    "Path(product['X']).parent.mkdir(exist_ok=True, parents=True)\n",
    "Path(product['X']).write_bytes(pickle.dumps(X))\n",
    "\n",
    "Path(product['X_train']).parent.mkdir(exist_ok=True, parents=True)\n",
    "Path(product['X_train']).write_bytes(pickle.dumps(X_train))\n",
    "\n",
    "Path(product['categorical_columns']).parent.mkdir(exist_ok=True, parents=True)\n",
    "Path(product['categorical_columns']).write_bytes(pickle.dumps(categorical_columns))\n",
    "\n",
    "Path(product['y']).parent.mkdir(exist_ok=True, parents=True)\n",
    "Path(product['y']).write_bytes(pickle.dumps(y))\n",
    "\n",
    "Path(product['y_train']).parent.mkdir(exist_ok=True, parents=True)\n",
    "Path(product['y_train']).write_bytes(pickle.dumps(y_train))"
   ]
  }
 ],
 "metadata": {
  "jupytext": {
   "main_language": "python",
   "text_representation": {
    "extension": ".py",
    "format_name": "percent",
    "format_version": "1.3",
    "jupytext_version": "1.14.5"
   }
  },
  "kernelspec": {
   "display_name": "Python 3",
   "language": "python",
   "name": "python3"
  },
  "language_info": {
   "codemirror_mode": {
    "name": "ipython",
    "version": 3
   },
   "file_extension": ".py",
   "mimetype": "text/x-python",
   "name": "python",
   "nbconvert_exporter": "python",
   "pygments_lexer": "ipython3",
   "version": "3.9.16"
  },
  "papermill": {
   "duration": 68.540261,
   "end_time": "2023-04-03T16:57:00.717402",
   "exception": null,
   "input_path": "/tmp/tmpyyxujpaf.ipynb",
   "output_path": "/content/reproducible-analysis/output/section-04-autosklearn-auto-ml.ipynb",
   "parameters": {
    "product": {
     "X": "/content/reproducible-analysis/output/section-04-autosklearn-auto-ml-X.pkl",
     "X_train": "/content/reproducible-analysis/output/section-04-autosklearn-auto-ml-X_train.pkl",
     "categorical_columns": "/content/reproducible-analysis/output/section-04-autosklearn-auto-ml-categorical_columns.pkl",
     "nb": "/content/reproducible-analysis/output/section-04-autosklearn-auto-ml.ipynb",
     "y": "/content/reproducible-analysis/output/section-04-autosklearn-auto-ml-y.pkl",
     "y_train": "/content/reproducible-analysis/output/section-04-autosklearn-auto-ml-y_train.pkl"
    },
    "upstream": {
     "section-01-get-data": {
      "df": "/content/reproducible-analysis/output/section-01-get-data-df.pkl",
      "nb": "/content/reproducible-analysis/output/section-01-get-data.ipynb",
      "train": "/content/reproducible-analysis/output/section-01-get-data-train.pkl"
     }
    }
   },
   "start_time": "2023-04-03T16:55:52.177141"
  }
 },
 "nbformat": 4,
 "nbformat_minor": 5
}