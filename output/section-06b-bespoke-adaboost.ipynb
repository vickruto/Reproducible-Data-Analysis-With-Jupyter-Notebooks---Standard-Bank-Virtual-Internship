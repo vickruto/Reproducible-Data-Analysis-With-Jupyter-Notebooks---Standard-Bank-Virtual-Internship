{
 "cells": [
  {
   "cell_type": "code",
   "execution_count": null,
   "id": "aa3c1780",
   "metadata": {
    "papermill": {
     "duration": 0.003103,
     "end_time": "2023-03-30T21:08:45.234403",
     "exception": false,
     "start_time": "2023-03-30T21:08:45.231300",
     "status": "completed"
    },
    "tags": []
   },
   "outputs": [],
   "source": []
  },
  {
   "cell_type": "code",
   "execution_count": 1,
   "id": "91cfdb48",
   "metadata": {
    "execution": {
     "iopub.execute_input": "2023-03-30T21:08:45.243111Z",
     "iopub.status.busy": "2023-03-30T21:08:45.242583Z",
     "iopub.status.idle": "2023-03-30T21:08:45.970864Z",
     "shell.execute_reply": "2023-03-30T21:08:45.969712Z"
    },
    "papermill": {
     "duration": 0.735033,
     "end_time": "2023-03-30T21:08:45.973361",
     "exception": false,
     "start_time": "2023-03-30T21:08:45.238328",
     "status": "completed"
    },
    "tags": [
     "soorgeon-imports"
    ]
   },
   "outputs": [],
   "source": [
    "from sklearn.metrics import accuracy_score, confusion_matrix\n",
    "from sklearn.ensemble import AdaBoostClassifier\n",
    "from pathlib import Path\n",
    "import pickle"
   ]
  },
  {
   "cell_type": "code",
   "execution_count": 2,
   "id": "5f5871dd",
   "metadata": {
    "execution": {
     "iopub.execute_input": "2023-03-30T21:08:45.978679Z",
     "iopub.status.busy": "2023-03-30T21:08:45.978068Z",
     "iopub.status.idle": "2023-03-30T21:08:45.982162Z",
     "shell.execute_reply": "2023-03-30T21:08:45.981526Z"
    },
    "papermill": {
     "duration": 0.008817,
     "end_time": "2023-03-30T21:08:45.984033",
     "exception": false,
     "start_time": "2023-03-30T21:08:45.975216",
     "status": "completed"
    },
    "tags": [
     "parameters"
    ]
   },
   "outputs": [],
   "source": [
    "upstream = ['section-05-data-preparation']\n",
    "product = None"
   ]
  },
  {
   "cell_type": "code",
   "execution_count": 3,
   "id": "b613418e",
   "metadata": {
    "execution": {
     "iopub.execute_input": "2023-03-30T21:08:45.988791Z",
     "iopub.status.busy": "2023-03-30T21:08:45.988251Z",
     "iopub.status.idle": "2023-03-30T21:08:45.992975Z",
     "shell.execute_reply": "2023-03-30T21:08:45.991968Z"
    },
    "papermill": {
     "duration": 0.009526,
     "end_time": "2023-03-30T21:08:45.995163",
     "exception": false,
     "start_time": "2023-03-30T21:08:45.985637",
     "status": "completed"
    },
    "tags": [
     "injected-parameters"
    ]
   },
   "outputs": [],
   "source": [
    "# Parameters\n",
    "upstream = {\n",
    "    \"section-05-data-preparation\": {\n",
    "        \"X_val\": \"/content/Reproducible-Data-Analysis-With-Jupyter-Notebooks-Standard-Bank-Virtual-Internship/output/section-05-data-preparation-X_val.pkl\",\n",
    "        \"X_train\": \"/content/Reproducible-Data-Analysis-With-Jupyter-Notebooks-Standard-Bank-Virtual-Internship/output/section-05-data-preparation-X_train.pkl\",\n",
    "        \"y_train\": \"/content/Reproducible-Data-Analysis-With-Jupyter-Notebooks-Standard-Bank-Virtual-Internship/output/section-05-data-preparation-y_train.pkl\",\n",
    "        \"y_val\": \"/content/Reproducible-Data-Analysis-With-Jupyter-Notebooks-Standard-Bank-Virtual-Internship/output/section-05-data-preparation-y_val.pkl\",\n",
    "        \"nb\": \"/content/Reproducible-Data-Analysis-With-Jupyter-Notebooks-Standard-Bank-Virtual-Internship/output/section-05-data-preparation.ipynb\",\n",
    "    }\n",
    "}\n",
    "product = {\n",
    "    \"nb\": \"/content/Reproducible-Data-Analysis-With-Jupyter-Notebooks-Standard-Bank-Virtual-Internship/output/section-06b-bespoke-adaboost.ipynb\"\n",
    "}\n"
   ]
  },
  {
   "cell_type": "code",
   "execution_count": 4,
   "id": "5d850351",
   "metadata": {
    "execution": {
     "iopub.execute_input": "2023-03-30T21:08:46.000392Z",
     "iopub.status.busy": "2023-03-30T21:08:46.000022Z",
     "iopub.status.idle": "2023-03-30T21:08:46.427641Z",
     "shell.execute_reply": "2023-03-30T21:08:46.426453Z"
    },
    "papermill": {
     "duration": 0.43322,
     "end_time": "2023-03-30T21:08:46.430178",
     "exception": false,
     "start_time": "2023-03-30T21:08:45.996958",
     "status": "completed"
    },
    "tags": [
     "soorgeon-unpickle"
    ]
   },
   "outputs": [
    {
     "name": "stdout",
     "output_type": "stream",
     "text": [
      "Accuracy on the Train Dataset :  0.8304347826086956\n",
      "Accuracy on the Validation Dataset :  0.8116883116883117\n",
      "\n",
      "Confusion matrix : \n",
      " [[27  9]\n",
      " [20 98]]\n"
     ]
    }
   ],
   "source": [
    "X_train = pickle.loads(Path(upstream['section-05-data-preparation']['X_train']).read_bytes())\n",
    "X_val = pickle.loads(Path(upstream['section-05-data-preparation']['X_val']).read_bytes())\n",
    "y_train = pickle.loads(Path(upstream['section-05-data-preparation']['y_train']).read_bytes())\n",
    "y_val = pickle.loads(Path(upstream['section-05-data-preparation']['y_val']).read_bytes())\n",
    "\n",
    "adb = AdaBoostClassifier()\n",
    "adb.fit(X_train, y_train)\n",
    "adb.score(X_train, y_train), adb.score(X_val, y_val)\n",
    "print(\"Accuracy on the Train Dataset : \", adb.score(X_train, y_train))\n",
    "print(\"Accuracy on the Validation Dataset : \", adb.score(X_val, y_val)) \n",
    "print(\"\\nConfusion matrix : \\n\", confusion_matrix(adb.predict(X_val), y_val))"
   ]
  }
 ],
 "metadata": {
  "jupytext": {
   "cell_metadata_filter": "tags,-all",
   "main_language": "python",
   "notebook_metadata_filter": "-all",
   "text_representation": {
    "extension": ".py",
    "format_name": "percent"
   }
  },
  "kernelspec": {
   "display_name": "Python 3",
   "language": "python",
   "name": "python3"
  },
  "language_info": {
   "codemirror_mode": {
    "name": "ipython",
    "version": 3
   },
   "file_extension": ".py",
   "mimetype": "text/x-python",
   "name": "python",
   "nbconvert_exporter": "python",
   "pygments_lexer": "ipython3",
   "version": "3.9.16"
  },
  "papermill": {
   "duration": 3.784809,
   "end_time": "2023-03-30T21:08:47.052574",
   "exception": null,
   "input_path": "/tmp/tmpo_ds5pyu.ipynb",
   "output_path": "/content/Reproducible-Data-Analysis-With-Jupyter-Notebooks-Standard-Bank-Virtual-Internship/output/section-06b-bespoke-adaboost.ipynb",
   "parameters": {
    "product": {
     "nb": "/content/Reproducible-Data-Analysis-With-Jupyter-Notebooks-Standard-Bank-Virtual-Internship/output/section-06b-bespoke-adaboost.ipynb"
    },
    "upstream": {
     "section-05-data-preparation": {
      "X_train": "/content/Reproducible-Data-Analysis-With-Jupyter-Notebooks-Standard-Bank-Virtual-Internship/output/section-05-data-preparation-X_train.pkl",
      "X_val": "/content/Reproducible-Data-Analysis-With-Jupyter-Notebooks-Standard-Bank-Virtual-Internship/output/section-05-data-preparation-X_val.pkl",
      "nb": "/content/Reproducible-Data-Analysis-With-Jupyter-Notebooks-Standard-Bank-Virtual-Internship/output/section-05-data-preparation.ipynb",
      "y_train": "/content/Reproducible-Data-Analysis-With-Jupyter-Notebooks-Standard-Bank-Virtual-Internship/output/section-05-data-preparation-y_train.pkl",
      "y_val": "/content/Reproducible-Data-Analysis-With-Jupyter-Notebooks-Standard-Bank-Virtual-Internship/output/section-05-data-preparation-y_val.pkl"
     }
    }
   },
   "start_time": "2023-03-30T21:08:43.267765"
  }
 },
 "nbformat": 4,
 "nbformat_minor": 5
}