{
 "cells": [
  {
   "cell_type": "code",
   "execution_count": null,
   "id": "dd09287f",
   "metadata": {
    "papermill": {
     "duration": 0.001807,
     "end_time": "2023-04-03T16:57:09.740893",
     "exception": false,
     "start_time": "2023-04-03T16:57:09.739086",
     "status": "completed"
    },
    "tags": []
   },
   "outputs": [],
   "source": []
  },
  {
   "cell_type": "code",
   "execution_count": 1,
   "id": "fff7b5e0",
   "metadata": {
    "execution": {
     "iopub.execute_input": "2023-04-03T16:57:09.745899Z",
     "iopub.status.busy": "2023-04-03T16:57:09.745208Z",
     "iopub.status.idle": "2023-04-03T16:57:10.340875Z",
     "shell.execute_reply": "2023-04-03T16:57:10.339766Z"
    },
    "papermill": {
     "duration": 0.601523,
     "end_time": "2023-04-03T16:57:10.344092",
     "exception": false,
     "start_time": "2023-04-03T16:57:09.742569",
     "status": "completed"
    },
    "tags": [
     "soorgeon-imports"
    ]
   },
   "outputs": [],
   "source": [
    "from sklearn.metrics import confusion_matrix\n",
    "from sklearn.ensemble import AdaBoostClassifier\n",
    "from pathlib import Path\n",
    "import pickle"
   ]
  },
  {
   "cell_type": "code",
   "execution_count": 2,
   "id": "be9f39ec",
   "metadata": {
    "execution": {
     "iopub.execute_input": "2023-04-03T16:57:10.348872Z",
     "iopub.status.busy": "2023-04-03T16:57:10.348374Z",
     "iopub.status.idle": "2023-04-03T16:57:10.352879Z",
     "shell.execute_reply": "2023-04-03T16:57:10.351670Z"
    },
    "papermill": {
     "duration": 0.008921,
     "end_time": "2023-04-03T16:57:10.354717",
     "exception": false,
     "start_time": "2023-04-03T16:57:10.345796",
     "status": "completed"
    },
    "tags": [
     "parameters"
    ]
   },
   "outputs": [],
   "source": [
    "upstream = ['section-05-data-preparation']\n",
    "product = None"
   ]
  },
  {
   "cell_type": "code",
   "execution_count": 3,
   "id": "ccddf4de",
   "metadata": {
    "execution": {
     "iopub.execute_input": "2023-04-03T16:57:10.358885Z",
     "iopub.status.busy": "2023-04-03T16:57:10.358347Z",
     "iopub.status.idle": "2023-04-03T16:57:10.362577Z",
     "shell.execute_reply": "2023-04-03T16:57:10.362016Z"
    },
    "papermill": {
     "duration": 0.008202,
     "end_time": "2023-04-03T16:57:10.364253",
     "exception": false,
     "start_time": "2023-04-03T16:57:10.356051",
     "status": "completed"
    },
    "tags": [
     "injected-parameters"
    ]
   },
   "outputs": [],
   "source": [
    "# Parameters\n",
    "upstream = {\n",
    "    \"section-05-data-preparation\": {\n",
    "        \"X_val\": \"/content/reproducible-analysis/output/section-05-data-preparation-X_val.pkl\",\n",
    "        \"X_train\": \"/content/reproducible-analysis/output/section-05-data-preparation-X_train.pkl\",\n",
    "        \"y_train\": \"/content/reproducible-analysis/output/section-05-data-preparation-y_train.pkl\",\n",
    "        \"y_val\": \"/content/reproducible-analysis/output/section-05-data-preparation-y_val.pkl\",\n",
    "        \"nb\": \"/content/reproducible-analysis/output/section-05-data-preparation.ipynb\",\n",
    "    }\n",
    "}\n",
    "product = {\n",
    "    \"nb\": \"/content/reproducible-analysis/output/section-06b-bespoke-adaboost.ipynb\"\n",
    "}\n"
   ]
  },
  {
   "cell_type": "code",
   "execution_count": 4,
   "id": "87fe60cb",
   "metadata": {
    "execution": {
     "iopub.execute_input": "2023-04-03T16:57:10.368304Z",
     "iopub.status.busy": "2023-04-03T16:57:10.367850Z",
     "iopub.status.idle": "2023-04-03T16:57:10.742262Z",
     "shell.execute_reply": "2023-04-03T16:57:10.741419Z"
    },
    "papermill": {
     "duration": 0.378653,
     "end_time": "2023-04-03T16:57:10.744223",
     "exception": false,
     "start_time": "2023-04-03T16:57:10.365570",
     "status": "completed"
    },
    "tags": [
     "soorgeon-unpickle"
    ]
   },
   "outputs": [
    {
     "name": "stdout",
     "output_type": "stream",
     "text": [
      "Accuracy on the Train Dataset :  0.8630434782608696\n",
      "Accuracy on the Validation Dataset :  0.7207792207792207\n",
      "\n",
      "Confusion matrix : \n",
      " [[14  9]\n",
      " [34 97]]\n"
     ]
    }
   ],
   "source": [
    "X_train = pickle.loads(Path(upstream['section-05-data-preparation']['X_train']).read_bytes())\n",
    "X_val = pickle.loads(Path(upstream['section-05-data-preparation']['X_val']).read_bytes())\n",
    "y_train = pickle.loads(Path(upstream['section-05-data-preparation']['y_train']).read_bytes())\n",
    "y_val = pickle.loads(Path(upstream['section-05-data-preparation']['y_val']).read_bytes())\n",
    "\n",
    "adb = AdaBoostClassifier()\n",
    "adb.fit(X_train, y_train)\n",
    "adb.score(X_train, y_train), adb.score(X_val, y_val)\n",
    "print(\"Accuracy on the Train Dataset : \", adb.score(X_train, y_train))\n",
    "print(\"Accuracy on the Validation Dataset : \", adb.score(X_val, y_val)) \n",
    "print(\"\\nConfusion matrix : \\n\", confusion_matrix(adb.predict(X_val), y_val))"
   ]
  }
 ],
 "metadata": {
  "jupytext": {
   "cell_metadata_filter": "tags,-all",
   "main_language": "python",
   "notebook_metadata_filter": "-all",
   "text_representation": {
    "extension": ".py",
    "format_name": "percent"
   }
  },
  "kernelspec": {
   "display_name": "Python 3",
   "language": "python",
   "name": "python3"
  },
  "language_info": {
   "codemirror_mode": {
    "name": "ipython",
    "version": 3
   },
   "file_extension": ".py",
   "mimetype": "text/x-python",
   "name": "python",
   "nbconvert_exporter": "python",
   "pygments_lexer": "ipython3",
   "version": "3.9.16"
  },
  "papermill": {
   "duration": 2.833195,
   "end_time": "2023-04-03T16:57:11.365164",
   "exception": null,
   "input_path": "/tmp/tmp79nbkpyl.ipynb",
   "output_path": "/content/reproducible-analysis/output/section-06b-bespoke-adaboost.ipynb",
   "parameters": {
    "product": {
     "nb": "/content/reproducible-analysis/output/section-06b-bespoke-adaboost.ipynb"
    },
    "upstream": {
     "section-05-data-preparation": {
      "X_train": "/content/reproducible-analysis/output/section-05-data-preparation-X_train.pkl",
      "X_val": "/content/reproducible-analysis/output/section-05-data-preparation-X_val.pkl",
      "nb": "/content/reproducible-analysis/output/section-05-data-preparation.ipynb",
      "y_train": "/content/reproducible-analysis/output/section-05-data-preparation-y_train.pkl",
      "y_val": "/content/reproducible-analysis/output/section-05-data-preparation-y_val.pkl"
     }
    }
   },
   "start_time": "2023-04-03T16:57:08.531969"
  }
 },
 "nbformat": 4,
 "nbformat_minor": 5
}