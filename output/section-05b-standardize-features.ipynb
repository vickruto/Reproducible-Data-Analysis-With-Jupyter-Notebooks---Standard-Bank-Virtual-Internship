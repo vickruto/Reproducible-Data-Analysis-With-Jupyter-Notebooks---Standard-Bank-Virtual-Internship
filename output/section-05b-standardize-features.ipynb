{
 "cells": [
  {
   "cell_type": "code",
   "execution_count": 1,
   "id": "185217cb",
   "metadata": {
    "execution": {
     "iopub.execute_input": "2023-04-03T13:14:24.689760Z",
     "iopub.status.busy": "2023-04-03T13:14:24.688907Z",
     "iopub.status.idle": "2023-04-03T13:14:25.551021Z",
     "shell.execute_reply": "2023-04-03T13:14:25.549873Z"
    },
    "papermill": {
     "duration": 0.871469,
     "end_time": "2023-04-03T13:14:25.554521",
     "exception": false,
     "start_time": "2023-04-03T13:14:24.683052",
     "status": "completed"
    },
    "tags": [
     "soorgeon-imports"
    ]
   },
   "outputs": [],
   "source": [
    "from pathlib import Path\n",
    "import pickle\n",
    "from sklearn.preprocessing import StandardScaler"
   ]
  },
  {
   "cell_type": "code",
   "execution_count": 2,
   "id": "cb8efaf5",
   "metadata": {
    "execution": {
     "iopub.execute_input": "2023-04-03T13:14:25.563910Z",
     "iopub.status.busy": "2023-04-03T13:14:25.563021Z",
     "iopub.status.idle": "2023-04-03T13:14:25.574092Z",
     "shell.execute_reply": "2023-04-03T13:14:25.573049Z"
    },
    "papermill": {
     "duration": 0.018978,
     "end_time": "2023-04-03T13:14:25.576987",
     "exception": false,
     "start_time": "2023-04-03T13:14:25.558009",
     "status": "completed"
    },
    "tags": [
     "parameters"
    ]
   },
   "outputs": [],
   "source": [
    "upstream = ['section-05-data-preparation']\n",
    "product = None"
   ]
  },
  {
   "cell_type": "code",
   "execution_count": 3,
   "id": "7470ceaa",
   "metadata": {
    "execution": {
     "iopub.execute_input": "2023-04-03T13:14:25.584599Z",
     "iopub.status.busy": "2023-04-03T13:14:25.584136Z",
     "iopub.status.idle": "2023-04-03T13:14:25.592564Z",
     "shell.execute_reply": "2023-04-03T13:14:25.591471Z"
    },
    "papermill": {
     "duration": 0.015753,
     "end_time": "2023-04-03T13:14:25.595537",
     "exception": false,
     "start_time": "2023-04-03T13:14:25.579784",
     "status": "completed"
    },
    "tags": [
     "injected-parameters"
    ]
   },
   "outputs": [],
   "source": [
    "# Parameters\n",
    "upstream = {\n",
    "    \"section-05-data-preparation\": {\n",
    "        \"X_val\": \"/content/reproducible-analysis/output/section-05-data-preparation-X_val.pkl\",\n",
    "        \"X_train\": \"/content/reproducible-analysis/output/section-05-data-preparation-X_train.pkl\",\n",
    "        \"y_train\": \"/content/reproducible-analysis/output/section-05-data-preparation-y_train.pkl\",\n",
    "        \"y_val\": \"/content/reproducible-analysis/output/section-05-data-preparation-y_val.pkl\",\n",
    "        \"nb\": \"/content/reproducible-analysis/output/section-05-data-preparation.ipynb\",\n",
    "    }\n",
    "}\n",
    "product = {\n",
    "    \"X_val\": \"/content/reproducible-analysis/output/section-05b-standardize-features-X_val.pkl\",\n",
    "    \"X_train\": \"/content/reproducible-analysis/output/section-05b-standardize-features-X_train.pkl\",\n",
    "    \"y_train\": \"/content/reproducible-analysis/output/section-05b-standardize-features-y_train.pkl\",\n",
    "    \"y_val\": \"/content/reproducible-analysis/output/section-05b-standardize-features-y_val.pkl\",\n",
    "    \"nb\": \"/content/reproducible-analysis/output/section-05b-standardize-features.ipynb\",\n",
    "}\n"
   ]
  },
  {
   "cell_type": "code",
   "execution_count": 4,
   "id": "09f63bda",
   "metadata": {
    "execution": {
     "iopub.execute_input": "2023-04-03T13:14:25.603077Z",
     "iopub.status.busy": "2023-04-03T13:14:25.602607Z",
     "iopub.status.idle": "2023-04-03T13:14:26.095924Z",
     "shell.execute_reply": "2023-04-03T13:14:26.094840Z"
    },
    "papermill": {
     "duration": 0.500809,
     "end_time": "2023-04-03T13:14:26.099168",
     "exception": false,
     "start_time": "2023-04-03T13:14:25.598359",
     "status": "completed"
    },
    "tags": [
     "soorgeon-unpickle"
    ]
   },
   "outputs": [],
   "source": [
    "X_train = pickle.loads(Path(upstream['section-05-data-preparation']['X_train']).read_bytes())\n",
    "X_val = pickle.loads(Path(upstream['section-05-data-preparation']['X_val']).read_bytes())\n",
    "y_train = pickle.loads(Path(upstream['section-05-data-preparation']['y_train']).read_bytes())\n",
    "y_val = pickle.loads(Path(upstream['section-05-data-preparation']['y_val']).read_bytes())"
   ]
  },
  {
   "cell_type": "code",
   "execution_count": 5,
   "id": "9b8adbd5",
   "metadata": {
    "execution": {
     "iopub.execute_input": "2023-04-03T13:14:26.108365Z",
     "iopub.status.busy": "2023-04-03T13:14:26.107338Z",
     "iopub.status.idle": "2023-04-03T13:14:26.123755Z",
     "shell.execute_reply": "2023-04-03T13:14:26.122748Z"
    },
    "papermill": {
     "duration": 0.024558,
     "end_time": "2023-04-03T13:14:26.126874",
     "exception": false,
     "start_time": "2023-04-03T13:14:26.102316",
     "status": "completed"
    },
    "tags": []
   },
   "outputs": [],
   "source": [
    "## Standardize features \n",
    "scaler = StandardScaler()\n",
    "X_train = scaler.fit_transform(X_train)\n",
    "X_val = scaler.transform(X_val)"
   ]
  },
  {
   "cell_type": "code",
   "execution_count": 6,
   "id": "95cc97ad",
   "metadata": {
    "execution": {
     "iopub.execute_input": "2023-04-03T13:14:26.135935Z",
     "iopub.status.busy": "2023-04-03T13:14:26.135090Z",
     "iopub.status.idle": "2023-04-03T13:14:26.155883Z",
     "shell.execute_reply": "2023-04-03T13:14:26.154905Z"
    },
    "papermill": {
     "duration": 0.028951,
     "end_time": "2023-04-03T13:14:26.158829",
     "exception": false,
     "start_time": "2023-04-03T13:14:26.129878",
     "status": "completed"
    },
    "tags": [
     "soorgeon-pickle"
    ]
   },
   "outputs": [
    {
     "data": {
      "text/plain": [
       "4389"
      ]
     },
     "execution_count": 6,
     "metadata": {},
     "output_type": "execute_result"
    }
   ],
   "source": [
    "Path(product['X_train']).parent.mkdir(exist_ok=True, parents=True)\n",
    "Path(product['X_train']).write_bytes(pickle.dumps(X_train))\n",
    "\n",
    "Path(product['X_val']).parent.mkdir(exist_ok=True, parents=True)\n",
    "Path(product['X_val']).write_bytes(pickle.dumps(X_val))\n",
    "\n",
    "Path(product['y_train']).parent.mkdir(exist_ok=True, parents=True)\n",
    "Path(product['y_train']).write_bytes(pickle.dumps(y_train))\n",
    "\n",
    "Path(product['y_val']).parent.mkdir(exist_ok=True, parents=True)\n",
    "Path(product['y_val']).write_bytes(pickle.dumps(y_val))"
   ]
  }
 ],
 "metadata": {
  "jupytext": {
   "cell_metadata_filter": "tags,-all",
   "main_language": "python",
   "notebook_metadata_filter": "-all",
   "text_representation": {
    "extension": ".py",
    "format_name": "percent"
   }
  },
  "kernelspec": {
   "display_name": "Python 3",
   "language": "python",
   "name": "python3"
  },
  "language_info": {
   "codemirror_mode": {
    "name": "ipython",
    "version": 3
   },
   "file_extension": ".py",
   "mimetype": "text/x-python",
   "name": "python",
   "nbconvert_exporter": "python",
   "pygments_lexer": "ipython3",
   "version": "3.9.16"
  },
  "papermill": {
   "duration": 3.657292,
   "end_time": "2023-04-03T13:14:26.884149",
   "exception": null,
   "input_path": "/tmp/tmpe2onhxx4.ipynb",
   "output_path": "/content/reproducible-analysis/output/section-05b-standardize-features.ipynb",
   "parameters": {
    "product": {
     "X_train": "/content/reproducible-analysis/output/section-05b-standardize-features-X_train.pkl",
     "X_val": "/content/reproducible-analysis/output/section-05b-standardize-features-X_val.pkl",
     "nb": "/content/reproducible-analysis/output/section-05b-standardize-features.ipynb",
     "y_train": "/content/reproducible-analysis/output/section-05b-standardize-features-y_train.pkl",
     "y_val": "/content/reproducible-analysis/output/section-05b-standardize-features-y_val.pkl"
    },
    "upstream": {
     "section-05-data-preparation": {
      "X_train": "/content/reproducible-analysis/output/section-05-data-preparation-X_train.pkl",
      "X_val": "/content/reproducible-analysis/output/section-05-data-preparation-X_val.pkl",
      "nb": "/content/reproducible-analysis/output/section-05-data-preparation.ipynb",
      "y_train": "/content/reproducible-analysis/output/section-05-data-preparation-y_train.pkl",
      "y_val": "/content/reproducible-analysis/output/section-05-data-preparation-y_val.pkl"
     }
    }
   },
   "start_time": "2023-04-03T13:14:23.226857"
  }
 },
 "nbformat": 4,
 "nbformat_minor": 5
}