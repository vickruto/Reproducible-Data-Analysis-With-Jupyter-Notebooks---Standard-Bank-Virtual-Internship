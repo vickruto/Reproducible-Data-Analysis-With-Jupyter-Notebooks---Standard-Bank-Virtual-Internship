{
 "cells": [
  {
   "cell_type": "code",
   "execution_count": null,
   "id": "c88b1b1f",
   "metadata": {
    "papermill": {
     "duration": 0.001842,
     "end_time": "2023-04-03T16:57:21.811889",
     "exception": false,
     "start_time": "2023-04-03T16:57:21.810047",
     "status": "completed"
    },
    "tags": []
   },
   "outputs": [],
   "source": []
  },
  {
   "cell_type": "code",
   "execution_count": 1,
   "id": "16b5c7c1",
   "metadata": {
    "execution": {
     "iopub.execute_input": "2023-04-03T16:57:21.817117Z",
     "iopub.status.busy": "2023-04-03T16:57:21.816375Z",
     "iopub.status.idle": "2023-04-03T16:57:22.657360Z",
     "shell.execute_reply": "2023-04-03T16:57:22.654364Z"
    },
    "papermill": {
     "duration": 0.847206,
     "end_time": "2023-04-03T16:57:22.660728",
     "exception": false,
     "start_time": "2023-04-03T16:57:21.813522",
     "status": "completed"
    },
    "tags": [
     "soorgeon-imports"
    ]
   },
   "outputs": [],
   "source": [
    "from sklearn.metrics import accuracy_score, confusion_matrix\n",
    "from xgboost import XGBClassifier\n",
    "from pathlib import Path\n",
    "import pickle"
   ]
  },
  {
   "cell_type": "code",
   "execution_count": 2,
   "id": "d0cd9310",
   "metadata": {
    "execution": {
     "iopub.execute_input": "2023-04-03T16:57:22.668286Z",
     "iopub.status.busy": "2023-04-03T16:57:22.666638Z",
     "iopub.status.idle": "2023-04-03T16:57:22.674225Z",
     "shell.execute_reply": "2023-04-03T16:57:22.673571Z"
    },
    "papermill": {
     "duration": 0.01288,
     "end_time": "2023-04-03T16:57:22.676055",
     "exception": false,
     "start_time": "2023-04-03T16:57:22.663175",
     "status": "completed"
    },
    "tags": [
     "parameters"
    ]
   },
   "outputs": [],
   "source": [
    "upstream = ['section-05-data-preparation']\n",
    "product = None"
   ]
  },
  {
   "cell_type": "code",
   "execution_count": 3,
   "id": "6e66b8bc",
   "metadata": {
    "execution": {
     "iopub.execute_input": "2023-04-03T16:57:22.680651Z",
     "iopub.status.busy": "2023-04-03T16:57:22.680130Z",
     "iopub.status.idle": "2023-04-03T16:57:22.684400Z",
     "shell.execute_reply": "2023-04-03T16:57:22.683833Z"
    },
    "papermill": {
     "duration": 0.008359,
     "end_time": "2023-04-03T16:57:22.686099",
     "exception": false,
     "start_time": "2023-04-03T16:57:22.677740",
     "status": "completed"
    },
    "tags": [
     "injected-parameters"
    ]
   },
   "outputs": [],
   "source": [
    "# Parameters\n",
    "upstream = {\n",
    "    \"section-05-data-preparation\": {\n",
    "        \"X_val\": \"/content/reproducible-analysis/output/section-05-data-preparation-X_val.pkl\",\n",
    "        \"X_train\": \"/content/reproducible-analysis/output/section-05-data-preparation-X_train.pkl\",\n",
    "        \"y_train\": \"/content/reproducible-analysis/output/section-05-data-preparation-y_train.pkl\",\n",
    "        \"y_val\": \"/content/reproducible-analysis/output/section-05-data-preparation-y_val.pkl\",\n",
    "        \"nb\": \"/content/reproducible-analysis/output/section-05-data-preparation.ipynb\",\n",
    "    }\n",
    "}\n",
    "product = {\n",
    "    \"nb\": \"/content/reproducible-analysis/output/section-06g-bespoke-xgboost.ipynb\"\n",
    "}\n"
   ]
  },
  {
   "cell_type": "code",
   "execution_count": 4,
   "id": "ce457f31",
   "metadata": {
    "execution": {
     "iopub.execute_input": "2023-04-03T16:57:22.690076Z",
     "iopub.status.busy": "2023-04-03T16:57:22.689812Z",
     "iopub.status.idle": "2023-04-03T16:57:22.823947Z",
     "shell.execute_reply": "2023-04-03T16:57:22.823093Z"
    },
    "papermill": {
     "duration": 0.138701,
     "end_time": "2023-04-03T16:57:22.826139",
     "exception": false,
     "start_time": "2023-04-03T16:57:22.687438",
     "status": "completed"
    },
    "tags": [
     "soorgeon-unpickle"
    ]
   },
   "outputs": [
    {
     "name": "stdout",
     "output_type": "stream",
     "text": [
      "Accuracy on the Train Dataset :  1.0\n",
      "Accuracy on the Train Dataset :  0.7272727272727273\n",
      "\n",
      "Confusion matrix : \n",
      " [[19 13]\n",
      " [29 93]]\n"
     ]
    }
   ],
   "source": [
    "X_train = pickle.loads(Path(upstream['section-05-data-preparation']['X_train']).read_bytes())\n",
    "X_val = pickle.loads(Path(upstream['section-05-data-preparation']['X_val']).read_bytes())\n",
    "y_train = pickle.loads(Path(upstream['section-05-data-preparation']['y_train']).read_bytes())\n",
    "y_val = pickle.loads(Path(upstream['section-05-data-preparation']['y_val']).read_bytes())\n",
    "\n",
    "xgb = XGBClassifier()\n",
    "xgb.fit(X_train, y_train)\n",
    "print(\"Accuracy on the Train Dataset : \", accuracy_score(xgb.predict(X_train), y_train))\n",
    "print(\"Accuracy on the Train Dataset : \", accuracy_score(xgb.predict(X_val), y_val))\n",
    "print(\"\\nConfusion matrix : \\n\", confusion_matrix(xgb.predict(X_val), y_val))"
   ]
  }
 ],
 "metadata": {
  "jupytext": {
   "cell_metadata_filter": "tags,-all",
   "main_language": "python",
   "notebook_metadata_filter": "-all",
   "text_representation": {
    "extension": ".py",
    "format_name": "percent"
   }
  },
  "kernelspec": {
   "display_name": "Python 3",
   "language": "python",
   "name": "python3"
  },
  "language_info": {
   "codemirror_mode": {
    "name": "ipython",
    "version": 3
   },
   "file_extension": ".py",
   "mimetype": "text/x-python",
   "name": "python",
   "nbconvert_exporter": "python",
   "pygments_lexer": "ipython3",
   "version": "3.9.16"
  },
  "papermill": {
   "duration": 2.69799,
   "end_time": "2023-04-03T16:57:23.345991",
   "exception": null,
   "input_path": "/tmp/tmpyqodnz2z.ipynb",
   "output_path": "/content/reproducible-analysis/output/section-06g-bespoke-xgboost.ipynb",
   "parameters": {
    "product": {
     "nb": "/content/reproducible-analysis/output/section-06g-bespoke-xgboost.ipynb"
    },
    "upstream": {
     "section-05-data-preparation": {
      "X_train": "/content/reproducible-analysis/output/section-05-data-preparation-X_train.pkl",
      "X_val": "/content/reproducible-analysis/output/section-05-data-preparation-X_val.pkl",
      "nb": "/content/reproducible-analysis/output/section-05-data-preparation.ipynb",
      "y_train": "/content/reproducible-analysis/output/section-05-data-preparation-y_train.pkl",
      "y_val": "/content/reproducible-analysis/output/section-05-data-preparation-y_val.pkl"
     }
    }
   },
   "start_time": "2023-04-03T16:57:20.648001"
  }
 },
 "nbformat": 4,
 "nbformat_minor": 5
}