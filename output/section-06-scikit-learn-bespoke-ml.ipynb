{
 "cells": [
  {
   "cell_type": "code",
   "execution_count": 1,
   "id": "7a5a3ff5",
   "metadata": {
    "execution": {
     "iopub.execute_input": "2023-03-30T11:09:06.020579Z",
     "iopub.status.busy": "2023-03-30T11:09:06.019738Z",
     "iopub.status.idle": "2023-03-30T11:09:07.811006Z",
     "shell.execute_reply": "2023-03-30T11:09:07.809640Z"
    },
    "papermill": {
     "duration": 1.800377,
     "end_time": "2023-03-30T11:09:07.814371",
     "exception": false,
     "start_time": "2023-03-30T11:09:06.013994",
     "status": "completed"
    },
    "tags": [
     "soorgeon-imports"
    ]
   },
   "outputs": [],
   "source": [
    "from IPython.display import clear_output\n",
    "from sklearn.linear_model import LogisticRegression\n",
    "from sklearn.metrics import accuracy_score, confusion_matrix\n",
    "from sklearn.preprocessing import StandardScaler, LabelEncoder, OrdinalEncoder\n",
    "from xgboost import XGBClassifier\n",
    "from catboost import CatBoostClassifier\n",
    "from lightgbm import LGBMClassifier\n",
    "import sklearn\n",
    "from sklearn.svm import SVC\n",
    "from sklearn.ensemble import AdaBoostClassifier\n",
    "from sklearn.tree import DecisionTreeClassifier\n",
    "from pathlib import Path\n",
    "import pickle"
   ]
  },
  {
   "cell_type": "code",
   "execution_count": 2,
   "id": "9ba71c1a",
   "metadata": {
    "execution": {
     "iopub.execute_input": "2023-03-30T11:09:07.829460Z",
     "iopub.status.busy": "2023-03-30T11:09:07.828934Z",
     "iopub.status.idle": "2023-03-30T11:09:07.833674Z",
     "shell.execute_reply": "2023-03-30T11:09:07.832668Z"
    },
    "papermill": {
     "duration": 0.017498,
     "end_time": "2023-03-30T11:09:07.838664",
     "exception": false,
     "start_time": "2023-03-30T11:09:07.821166",
     "status": "completed"
    },
    "tags": [
     "parameters"
    ]
   },
   "outputs": [],
   "source": [
    "upstream = ['section-05-data-preparation']\n",
    "product = None"
   ]
  },
  {
   "cell_type": "code",
   "execution_count": 3,
   "id": "c35023ed",
   "metadata": {
    "execution": {
     "iopub.execute_input": "2023-03-30T11:09:07.853199Z",
     "iopub.status.busy": "2023-03-30T11:09:07.852723Z",
     "iopub.status.idle": "2023-03-30T11:09:07.858584Z",
     "shell.execute_reply": "2023-03-30T11:09:07.857545Z"
    },
    "papermill": {
     "duration": 0.01896,
     "end_time": "2023-03-30T11:09:07.863644",
     "exception": false,
     "start_time": "2023-03-30T11:09:07.844684",
     "status": "completed"
    },
    "tags": [
     "injected-parameters"
    ]
   },
   "outputs": [],
   "source": [
    "# Parameters\n",
    "upstream = {\n",
    "    \"section-05-data-preparation\": {\n",
    "        \"X_val\": \"/content/Reproducible-Data-Analysis-With-Jupyter-Notebooks-Standard-Bank-Virtual-Internship/output/section-05-data-preparation-X_val.pkl\",\n",
    "        \"X_train\": \"/content/Reproducible-Data-Analysis-With-Jupyter-Notebooks-Standard-Bank-Virtual-Internship/output/section-05-data-preparation-X_train.pkl\",\n",
    "        \"y_train\": \"/content/Reproducible-Data-Analysis-With-Jupyter-Notebooks-Standard-Bank-Virtual-Internship/output/section-05-data-preparation-y_train.pkl\",\n",
    "        \"y_val\": \"/content/Reproducible-Data-Analysis-With-Jupyter-Notebooks-Standard-Bank-Virtual-Internship/output/section-05-data-preparation-y_val.pkl\",\n",
    "        \"nb\": \"/content/Reproducible-Data-Analysis-With-Jupyter-Notebooks-Standard-Bank-Virtual-Internship/output/section-05-data-preparation.ipynb\",\n",
    "    }\n",
    "}\n",
    "product = {\n",
    "    \"X_val\": \"/content/Reproducible-Data-Analysis-With-Jupyter-Notebooks-Standard-Bank-Virtual-Internship/output/section-06-scikit-learn-bespoke-ml-X_val.pkl\",\n",
    "    \"X_train\": \"/content/Reproducible-Data-Analysis-With-Jupyter-Notebooks-Standard-Bank-Virtual-Internship/output/section-06-scikit-learn-bespoke-ml-X_train.pkl\",\n",
    "    \"nb\": \"/content/Reproducible-Data-Analysis-With-Jupyter-Notebooks-Standard-Bank-Virtual-Internship/output/section-06-scikit-learn-bespoke-ml.ipynb\",\n",
    "}\n"
   ]
  },
  {
   "cell_type": "code",
   "execution_count": 4,
   "id": "2aaa9eb6",
   "metadata": {
    "execution": {
     "iopub.execute_input": "2023-03-30T11:09:07.879670Z",
     "iopub.status.busy": "2023-03-30T11:09:07.879144Z",
     "iopub.status.idle": "2023-03-30T11:09:07.890732Z",
     "shell.execute_reply": "2023-03-30T11:09:07.889700Z"
    },
    "papermill": {
     "duration": 0.023246,
     "end_time": "2023-03-30T11:09:07.893715",
     "exception": false,
     "start_time": "2023-03-30T11:09:07.870469",
     "status": "completed"
    },
    "tags": [
     "soorgeon-unpickle"
    ]
   },
   "outputs": [],
   "source": [
    "X_train = pickle.loads(Path(upstream['section-05-data-preparation']['X_train']).read_bytes())\n",
    "X_val = pickle.loads(Path(upstream['section-05-data-preparation']['X_val']).read_bytes())\n",
    "y_train = pickle.loads(Path(upstream['section-05-data-preparation']['y_train']).read_bytes())\n",
    "y_val = pickle.loads(Path(upstream['section-05-data-preparation']['y_val']).read_bytes())"
   ]
  },
  {
   "cell_type": "markdown",
   "id": "6093def1",
   "metadata": {
    "id": "5pfvdlsqGZT9",
    "papermill": {
     "duration": 0.006294,
     "end_time": "2023-03-30T11:09:07.906675",
     "exception": false,
     "start_time": "2023-03-30T11:09:07.900381",
     "status": "completed"
    },
    "tags": []
   },
   "source": [
    "## 06) Scikit-learn Bespoke ML"
   ]
  },
  {
   "cell_type": "code",
   "execution_count": 5,
   "id": "39d8c35c",
   "metadata": {
    "colab": {
     "base_uri": "https://localhost:8080/"
    },
    "execution": {
     "iopub.execute_input": "2023-03-30T11:09:07.927579Z",
     "iopub.status.busy": "2023-03-30T11:09:07.927072Z",
     "iopub.status.idle": "2023-03-30T11:09:08.427772Z",
     "shell.execute_reply": "2023-03-30T11:09:08.426571Z"
    },
    "executionInfo": {
     "elapsed": 1706,
     "status": "ok",
     "timestamp": 1680005836366,
     "user": {
      "displayName": "Victor Ruto",
      "userId": "13125455177778424587"
     },
     "user_tz": -180
    },
    "id": "DsieitWyPz-f",
    "outputId": "e7071457-f78e-4651-c89b-fb59baa19b51",
    "papermill": {
     "duration": 0.511699,
     "end_time": "2023-03-30T11:09:08.431094",
     "exception": false,
     "start_time": "2023-03-30T11:09:07.919395",
     "status": "completed"
    },
    "tags": []
   },
   "outputs": [
    {
     "name": "stdout",
     "output_type": "stream",
     "text": [
      "Accuracy on the Train Dataset :  1.0\n",
      "Accuracy on the Train Dataset :  0.7597402597402597\n",
      "\n",
      "Confusion matrix : \n",
      " [[25 15]\n",
      " [22 92]]\n"
     ]
    }
   ],
   "source": [
    "\n",
    "xgb = XGBClassifier()\n",
    "xgb.fit(X_train, y_train)\n",
    "print(\"Accuracy on the Train Dataset : \", accuracy_score(xgb.predict(X_train), y_train))\n",
    "print(\"Accuracy on the Train Dataset : \", accuracy_score(xgb.predict(X_val), y_val))\n",
    "print(\"\\nConfusion matrix : \\n\", confusion_matrix(xgb.predict(X_val), y_val))"
   ]
  },
  {
   "cell_type": "code",
   "execution_count": 6,
   "id": "3e355eb2",
   "metadata": {
    "execution": {
     "iopub.execute_input": "2023-03-30T11:09:08.453009Z",
     "iopub.status.busy": "2023-03-30T11:09:08.452530Z",
     "iopub.status.idle": "2023-03-30T11:09:14.707257Z",
     "shell.execute_reply": "2023-03-30T11:09:14.706358Z"
    },
    "id": "CXU9jbpaLUq2",
    "papermill": {
     "duration": 6.271477,
     "end_time": "2023-03-30T11:09:14.709543",
     "exception": false,
     "start_time": "2023-03-30T11:09:08.438066",
     "status": "completed"
    },
    "tags": []
   },
   "outputs": [],
   "source": [
    "!pip install catboost\n",
    "clear_output()"
   ]
  },
  {
   "cell_type": "code",
   "execution_count": 7,
   "id": "828fd32d",
   "metadata": {
    "colab": {
     "base_uri": "https://localhost:8080/"
    },
    "execution": {
     "iopub.execute_input": "2023-03-30T11:09:14.720717Z",
     "iopub.status.busy": "2023-03-30T11:09:14.720289Z",
     "iopub.status.idle": "2023-03-30T11:09:16.570774Z",
     "shell.execute_reply": "2023-03-30T11:09:16.569556Z"
    },
    "executionInfo": {
     "elapsed": 4122,
     "status": "ok",
     "timestamp": 1680005846505,
     "user": {
      "displayName": "Victor Ruto",
      "userId": "13125455177778424587"
     },
     "user_tz": -180
    },
    "id": "ZK9BL9RbPz-g",
    "outputId": "d4078f2e-38c5-4225-d987-b479f0d90868",
    "papermill": {
     "duration": 1.858201,
     "end_time": "2023-03-30T11:09:16.573093",
     "exception": false,
     "start_time": "2023-03-30T11:09:14.714892",
     "status": "completed"
    },
    "tags": []
   },
   "outputs": [
    {
     "name": "stdout",
     "output_type": "stream",
     "text": [
      "Accuracy on the Train Dataset :  0.9239130434782609\n",
      "Accuracy on the Train Dataset :  0.8311688311688312\n",
      "\n",
      "Confusion matrix : \n",
      " [[ 23   2]\n",
      " [ 24 105]]\n"
     ]
    }
   ],
   "source": [
    "\n",
    "cbc = CatBoostClassifier(verbose=0)\n",
    "cbc.fit(X_train, y_train)\n",
    "\n",
    "print(\"Accuracy on the Train Dataset : \", accuracy_score(cbc.predict(X_train), y_train))\n",
    "print(\"Accuracy on the Train Dataset : \", accuracy_score(cbc.predict(X_val), y_val))\n",
    "print(\"\\nConfusion matrix : \\n\", confusion_matrix(cbc.predict(X_val), y_val))"
   ]
  },
  {
   "cell_type": "code",
   "execution_count": 8,
   "id": "6413029c",
   "metadata": {
    "colab": {
     "base_uri": "https://localhost:8080/"
    },
    "execution": {
     "iopub.execute_input": "2023-03-30T11:09:16.583299Z",
     "iopub.status.busy": "2023-03-30T11:09:16.582515Z",
     "iopub.status.idle": "2023-03-30T11:09:16.644545Z",
     "shell.execute_reply": "2023-03-30T11:09:16.643497Z"
    },
    "executionInfo": {
     "elapsed": 674,
     "status": "ok",
     "timestamp": 1680005847168,
     "user": {
      "displayName": "Victor Ruto",
      "userId": "13125455177778424587"
     },
     "user_tz": -180
    },
    "id": "NwtHeGtkPz-g",
    "outputId": "f3cf9a39-f2c0-4436-9b26-b091fb8dd6eb",
    "papermill": {
     "duration": 0.069863,
     "end_time": "2023-03-30T11:09:16.647071",
     "exception": false,
     "start_time": "2023-03-30T11:09:16.577208",
     "status": "completed"
    },
    "tags": []
   },
   "outputs": [
    {
     "name": "stdout",
     "output_type": "stream",
     "text": [
      "Accuracy on the Train Dataset :  0.9891304347826086\n",
      "Accuracy on the Train Dataset :  0.7727272727272727\n",
      "\n",
      "Confusion matrix : \n",
      " [[25 13]\n",
      " [22 94]]\n"
     ]
    }
   ],
   "source": [
    "\n",
    "lgbm = LGBMClassifier()\n",
    "lgbm.fit(X_train, y_train)\n",
    "print(\"Accuracy on the Train Dataset : \", accuracy_score(lgbm.predict(X_train), y_train))\n",
    "print(\"Accuracy on the Train Dataset : \", accuracy_score(lgbm.predict(X_val), y_val))\n",
    "print(\"\\nConfusion matrix : \\n\", confusion_matrix(lgbm.predict(X_val), y_val))"
   ]
  },
  {
   "cell_type": "code",
   "execution_count": 9,
   "id": "316bd82a",
   "metadata": {
    "execution": {
     "iopub.execute_input": "2023-03-30T11:09:16.659909Z",
     "iopub.status.busy": "2023-03-30T11:09:16.659528Z",
     "iopub.status.idle": "2023-03-30T11:09:16.959542Z",
     "shell.execute_reply": "2023-03-30T11:09:16.958482Z"
    },
    "id": "kUrCfRIuLP0c",
    "papermill": {
     "duration": 0.309467,
     "end_time": "2023-03-30T11:09:16.962162",
     "exception": false,
     "start_time": "2023-03-30T11:09:16.652695",
     "status": "completed"
    },
    "tags": []
   },
   "outputs": [],
   "source": [
    "## Some sklearn classifiers we can try\n",
    "\n",
    "try:\n",
    "\n",
    "\n",
    "  classifiers = sklearn.utils.all_estimators(type_filter='classifier')\n",
    "  for name, class_ in classifiers:\n",
    "      if hasattr(class_, 'predict_proba'):\n",
    "          print(name, class_)\n",
    "  \n",
    "except:\n",
    "  pass"
   ]
  },
  {
   "cell_type": "code",
   "execution_count": 10,
   "id": "7e5d94e4",
   "metadata": {
    "execution": {
     "iopub.execute_input": "2023-03-30T11:09:16.974139Z",
     "iopub.status.busy": "2023-03-30T11:09:16.973669Z",
     "iopub.status.idle": "2023-03-30T11:09:16.986073Z",
     "shell.execute_reply": "2023-03-30T11:09:16.985252Z"
    },
    "id": "IwO2lqAvPz-h",
    "papermill": {
     "duration": 0.021891,
     "end_time": "2023-03-30T11:09:16.988292",
     "exception": false,
     "start_time": "2023-03-30T11:09:16.966401",
     "status": "completed"
    },
    "tags": []
   },
   "outputs": [],
   "source": [
    "## Scale the data to a range of [0-1]\n",
    "scaler = StandardScaler()\n",
    "X_train = scaler.fit_transform(X_train)\n",
    "X_val = scaler.transform(X_val)"
   ]
  },
  {
   "cell_type": "code",
   "execution_count": 11,
   "id": "6ebe58a7",
   "metadata": {
    "colab": {
     "base_uri": "https://localhost:8080/"
    },
    "execution": {
     "iopub.execute_input": "2023-03-30T11:09:16.997980Z",
     "iopub.status.busy": "2023-03-30T11:09:16.997573Z",
     "iopub.status.idle": "2023-03-30T11:09:17.025696Z",
     "shell.execute_reply": "2023-03-30T11:09:17.024547Z"
    },
    "executionInfo": {
     "elapsed": 19,
     "status": "ok",
     "timestamp": 1680005847812,
     "user": {
      "displayName": "Victor Ruto",
      "userId": "13125455177778424587"
     },
     "user_tz": -180
    },
    "id": "d4XD_9K4E4Ue",
    "outputId": "182d1225-2a4c-4f82-c307-c99df0366a46",
    "papermill": {
     "duration": 0.035988,
     "end_time": "2023-03-30T11:09:17.028185",
     "exception": false,
     "start_time": "2023-03-30T11:09:16.992197",
     "status": "completed"
    },
    "tags": []
   },
   "outputs": [
    {
     "name": "stdout",
     "output_type": "stream",
     "text": [
      "Accuracy on the Train Dataset :  0.8065217391304348\n",
      "Accuracy on the Validation Dataset :  0.8311688311688312\n",
      "\n",
      "Confusion matrix : \n",
      " [[ 21   0]\n",
      " [ 26 107]]\n"
     ]
    }
   ],
   "source": [
    "\n",
    "lr = LogisticRegression() \n",
    "lr.fit(X_train, y_train)\n",
    "\n",
    "print(\"Accuracy on the Train Dataset : \", accuracy_score(lr.predict(X_train), y_train))\n",
    "print(\"Accuracy on the Validation Dataset : \", accuracy_score(lr.predict(X_val), y_val))\n",
    "print(\"\\nConfusion matrix : \\n\", confusion_matrix(lr.predict(X_val), y_val))"
   ]
  },
  {
   "cell_type": "code",
   "execution_count": 12,
   "id": "f1523362",
   "metadata": {
    "colab": {
     "base_uri": "https://localhost:8080/"
    },
    "execution": {
     "iopub.execute_input": "2023-03-30T11:09:17.038017Z",
     "iopub.status.busy": "2023-03-30T11:09:17.037661Z",
     "iopub.status.idle": "2023-03-30T11:09:17.074773Z",
     "shell.execute_reply": "2023-03-30T11:09:17.073586Z"
    },
    "executionInfo": {
     "elapsed": 19,
     "status": "ok",
     "timestamp": 1680005847813,
     "user": {
      "displayName": "Victor Ruto",
      "userId": "13125455177778424587"
     },
     "user_tz": -180
    },
    "id": "u2ZpGCLdPz-i",
    "outputId": "42e6ff94-ca44-4d16-e46c-6d77d012e9e6",
    "papermill": {
     "duration": 0.044846,
     "end_time": "2023-03-30T11:09:17.077117",
     "exception": false,
     "start_time": "2023-03-30T11:09:17.032271",
     "status": "completed"
    },
    "tags": []
   },
   "outputs": [
    {
     "name": "stdout",
     "output_type": "stream",
     "text": [
      "Accuracy on the Train Dataset :  0.8152173913043478\n",
      "Accuracy on the Validation Dataset :  0.8311688311688312\n",
      "\n",
      "Confusion matrix : \n",
      " [[ 21   0]\n",
      " [ 26 107]]\n"
     ]
    }
   ],
   "source": [
    "\n",
    "svm = SVC()\n",
    "svm.fit(X_train, y_train)\n",
    "print(\"Accuracy on the Train Dataset : \", svm.score(X_train, y_train))\n",
    "print(\"Accuracy on the Validation Dataset : \", svm.score(X_val, y_val)) \n",
    "print(\"\\nConfusion matrix : \\n\", confusion_matrix(svm.predict(X_val), y_val))"
   ]
  },
  {
   "cell_type": "code",
   "execution_count": 13,
   "id": "21261b07",
   "metadata": {
    "colab": {
     "base_uri": "https://localhost:8080/"
    },
    "execution": {
     "iopub.execute_input": "2023-03-30T11:09:17.087735Z",
     "iopub.status.busy": "2023-03-30T11:09:17.087332Z",
     "iopub.status.idle": "2023-03-30T11:09:17.244610Z",
     "shell.execute_reply": "2023-03-30T11:09:17.243754Z"
    },
    "executionInfo": {
     "elapsed": 14,
     "status": "ok",
     "timestamp": 1680005847813,
     "user": {
      "displayName": "Victor Ruto",
      "userId": "13125455177778424587"
     },
     "user_tz": -180
    },
    "id": "tLvLaVYbPz-i",
    "outputId": "4a6456fd-13dc-42bc-f5b4-ddcaebd036fd",
    "papermill": {
     "duration": 0.165133,
     "end_time": "2023-03-30T11:09:17.246883",
     "exception": false,
     "start_time": "2023-03-30T11:09:17.081750",
     "status": "completed"
    },
    "tags": []
   },
   "outputs": [
    {
     "name": "stdout",
     "output_type": "stream",
     "text": [
      "Accuracy on the Train Dataset :  0.8347826086956521\n"
     ]
    },
    {
     "name": "stdout",
     "output_type": "stream",
     "text": [
      "Accuracy on the Validation Dataset :  0.8116883116883117\n",
      "\n",
      "Confusion matrix : \n",
      " [[ 22   4]\n",
      " [ 25 103]]\n"
     ]
    }
   ],
   "source": [
    "\n",
    "adb = AdaBoostClassifier()\n",
    "adb.fit(X_train, y_train)\n",
    "adb.score(X_train, y_train), adb.score(X_val, y_val)\n",
    "print(\"Accuracy on the Train Dataset : \", adb.score(X_train, y_train))\n",
    "print(\"Accuracy on the Validation Dataset : \", adb.score(X_val, y_val)) \n",
    "print(\"\\nConfusion matrix : \\n\", confusion_matrix(adb.predict(X_val), y_val))"
   ]
  },
  {
   "cell_type": "code",
   "execution_count": 14,
   "id": "a7b50fb1",
   "metadata": {
    "colab": {
     "base_uri": "https://localhost:8080/"
    },
    "execution": {
     "iopub.execute_input": "2023-03-30T11:09:17.257581Z",
     "iopub.status.busy": "2023-03-30T11:09:17.256921Z",
     "iopub.status.idle": "2023-03-30T11:09:17.269111Z",
     "shell.execute_reply": "2023-03-30T11:09:17.267980Z"
    },
    "executionInfo": {
     "elapsed": 12,
     "status": "ok",
     "timestamp": 1680005847814,
     "user": {
      "displayName": "Victor Ruto",
      "userId": "13125455177778424587"
     },
     "user_tz": -180
    },
    "id": "IB0ZsuJdPz-i",
    "outputId": "724764bc-1e0f-4503-81bb-513c694e69aa",
    "papermill": {
     "duration": 0.020158,
     "end_time": "2023-03-30T11:09:17.271344",
     "exception": false,
     "start_time": "2023-03-30T11:09:17.251186",
     "status": "completed"
    },
    "tags": []
   },
   "outputs": [
    {
     "name": "stdout",
     "output_type": "stream",
     "text": [
      "Accuracy on the Train Dataset :  1.0\n",
      "Accuracy on the Validation Dataset :  0.6883116883116883\n",
      "\n",
      "Confusion matrix : \n",
      " [[26 27]\n",
      " [21 80]]\n"
     ]
    }
   ],
   "source": [
    "\n",
    "dt = DecisionTreeClassifier()\n",
    "dt.fit(X_train, y_train)\n",
    "print(\"Accuracy on the Train Dataset : \", dt.score(X_train, y_train))\n",
    "print(\"Accuracy on the Validation Dataset : \", dt.score(X_val, y_val)) \n",
    "print(\"\\nConfusion matrix : \\n\", confusion_matrix(dt.predict(X_val), y_val))"
   ]
  },
  {
   "cell_type": "markdown",
   "id": "df2d19f3",
   "metadata": {
    "id": "rcteJlGYX1EE",
    "papermill": {
     "duration": 0.014718,
     "end_time": "2023-03-30T11:09:17.291305",
     "exception": false,
     "start_time": "2023-03-30T11:09:17.276587",
     "status": "completed"
    },
    "tags": []
   },
   "source": [
    "The AutoML model has an accuracy of 78.9%. The bespoke classifier models tried have accuracies ranging from 71% to 80%. The models are tried right out of the box, which means that with parameter fine tuning, we can expect to get higher accuracies. Thus, we can make a case for bespoke modelling since accuracy is very important in this application case and any slight improvement in the expected level of accuracy should be pursued."
   ]
  },
  {
   "cell_type": "code",
   "execution_count": 15,
   "id": "4a38b866",
   "metadata": {
    "execution": {
     "iopub.execute_input": "2023-03-30T11:09:17.302551Z",
     "iopub.status.busy": "2023-03-30T11:09:17.301847Z",
     "iopub.status.idle": "2023-03-30T11:09:17.311154Z",
     "shell.execute_reply": "2023-03-30T11:09:17.310362Z"
    },
    "papermill": {
     "duration": 0.0172,
     "end_time": "2023-03-30T11:09:17.313088",
     "exception": false,
     "start_time": "2023-03-30T11:09:17.295888",
     "status": "completed"
    },
    "tags": [
     "soorgeon-pickle"
    ]
   },
   "outputs": [
    {
     "data": {
      "text/plain": [
       "24792"
      ]
     },
     "execution_count": 15,
     "metadata": {},
     "output_type": "execute_result"
    }
   ],
   "source": [
    "Path(product['X_train']).parent.mkdir(exist_ok=True, parents=True)\n",
    "Path(product['X_train']).write_bytes(pickle.dumps(X_train))\n",
    "\n",
    "Path(product['X_val']).parent.mkdir(exist_ok=True, parents=True)\n",
    "Path(product['X_val']).write_bytes(pickle.dumps(X_val))"
   ]
  }
 ],
 "metadata": {
  "jupytext": {
   "main_language": "python",
   "text_representation": {
    "extension": ".py",
    "format_name": "percent",
    "format_version": "1.3",
    "jupytext_version": "1.14.5"
   }
  },
  "kernelspec": {
   "display_name": "Python 3",
   "language": "python",
   "name": "python3"
  },
  "language_info": {
   "codemirror_mode": {
    "name": "ipython",
    "version": 3
   },
   "file_extension": ".py",
   "mimetype": "text/x-python",
   "name": "python",
   "nbconvert_exporter": "python",
   "pygments_lexer": "ipython3",
   "version": "3.9.16"
  },
  "papermill": {
   "duration": 13.42346,
   "end_time": "2023-03-30T11:09:18.140058",
   "exception": null,
   "input_path": "/tmp/tmpjpg5324l.ipynb",
   "output_path": "/content/Reproducible-Data-Analysis-With-Jupyter-Notebooks-Standard-Bank-Virtual-Internship/output/section-06-scikit-learn-bespoke-ml.ipynb",
   "parameters": {
    "product": {
     "X_train": "/content/Reproducible-Data-Analysis-With-Jupyter-Notebooks-Standard-Bank-Virtual-Internship/output/section-06-scikit-learn-bespoke-ml-X_train.pkl",
     "X_val": "/content/Reproducible-Data-Analysis-With-Jupyter-Notebooks-Standard-Bank-Virtual-Internship/output/section-06-scikit-learn-bespoke-ml-X_val.pkl",
     "nb": "/content/Reproducible-Data-Analysis-With-Jupyter-Notebooks-Standard-Bank-Virtual-Internship/output/section-06-scikit-learn-bespoke-ml.ipynb"
    },
    "upstream": {
     "section-05-data-preparation": {
      "X_train": "/content/Reproducible-Data-Analysis-With-Jupyter-Notebooks-Standard-Bank-Virtual-Internship/output/section-05-data-preparation-X_train.pkl",
      "X_val": "/content/Reproducible-Data-Analysis-With-Jupyter-Notebooks-Standard-Bank-Virtual-Internship/output/section-05-data-preparation-X_val.pkl",
      "nb": "/content/Reproducible-Data-Analysis-With-Jupyter-Notebooks-Standard-Bank-Virtual-Internship/output/section-05-data-preparation.ipynb",
      "y_train": "/content/Reproducible-Data-Analysis-With-Jupyter-Notebooks-Standard-Bank-Virtual-Internship/output/section-05-data-preparation-y_train.pkl",
      "y_val": "/content/Reproducible-Data-Analysis-With-Jupyter-Notebooks-Standard-Bank-Virtual-Internship/output/section-05-data-preparation-y_val.pkl"
     }
    }
   },
   "start_time": "2023-03-30T11:09:04.716598"
  }
 },
 "nbformat": 4,
 "nbformat_minor": 5
}