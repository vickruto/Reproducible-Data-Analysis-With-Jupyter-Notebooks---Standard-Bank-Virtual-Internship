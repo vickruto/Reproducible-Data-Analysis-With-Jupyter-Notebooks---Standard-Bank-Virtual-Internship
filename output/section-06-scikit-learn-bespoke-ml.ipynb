{
 "cells": [
  {
   "cell_type": "code",
   "execution_count": 1,
   "id": "2ecb9413",
   "metadata": {
    "execution": {
     "iopub.execute_input": "2023-03-30T20:36:18.757029Z",
     "iopub.status.busy": "2023-03-30T20:36:18.756483Z",
     "iopub.status.idle": "2023-03-30T20:36:20.719437Z",
     "shell.execute_reply": "2023-03-30T20:36:20.718266Z"
    },
    "papermill": {
     "duration": 1.972342,
     "end_time": "2023-03-30T20:36:20.722911",
     "exception": false,
     "start_time": "2023-03-30T20:36:18.750569",
     "status": "completed"
    },
    "tags": [
     "soorgeon-imports"
    ]
   },
   "outputs": [],
   "source": [
    "from IPython.display import clear_output\n",
    "from sklearn.linear_model import LogisticRegression\n",
    "from sklearn.metrics import accuracy_score, confusion_matrix\n",
    "from sklearn.preprocessing import StandardScaler, LabelEncoder, OrdinalEncoder\n",
    "from xgboost import XGBClassifier\n",
    "from catboost import CatBoostClassifier\n",
    "from lightgbm import LGBMClassifier\n",
    "import sklearn\n",
    "from sklearn.svm import SVC\n",
    "from sklearn.ensemble import AdaBoostClassifier\n",
    "from sklearn.tree import DecisionTreeClassifier\n",
    "from pathlib import Path\n",
    "import pickle"
   ]
  },
  {
   "cell_type": "code",
   "execution_count": 2,
   "id": "81893a2b",
   "metadata": {
    "execution": {
     "iopub.execute_input": "2023-03-30T20:36:20.737935Z",
     "iopub.status.busy": "2023-03-30T20:36:20.737467Z",
     "iopub.status.idle": "2023-03-30T20:36:20.741951Z",
     "shell.execute_reply": "2023-03-30T20:36:20.740987Z"
    },
    "papermill": {
     "duration": 0.017105,
     "end_time": "2023-03-30T20:36:20.746882",
     "exception": false,
     "start_time": "2023-03-30T20:36:20.729777",
     "status": "completed"
    },
    "tags": [
     "parameters"
    ]
   },
   "outputs": [],
   "source": [
    "upstream = ['section-05-data-preparation']\n",
    "product = None"
   ]
  },
  {
   "cell_type": "code",
   "execution_count": 3,
   "id": "81fb2c8e",
   "metadata": {
    "execution": {
     "iopub.execute_input": "2023-03-30T20:36:20.761188Z",
     "iopub.status.busy": "2023-03-30T20:36:20.760720Z",
     "iopub.status.idle": "2023-03-30T20:36:20.766759Z",
     "shell.execute_reply": "2023-03-30T20:36:20.765708Z"
    },
    "papermill": {
     "duration": 0.018939,
     "end_time": "2023-03-30T20:36:20.771819",
     "exception": false,
     "start_time": "2023-03-30T20:36:20.752880",
     "status": "completed"
    },
    "tags": [
     "injected-parameters"
    ]
   },
   "outputs": [],
   "source": [
    "# Parameters\n",
    "upstream = {\n",
    "    \"section-05-data-preparation\": {\n",
    "        \"X_val\": \"/content/Reproducible-Data-Analysis-With-Jupyter-Notebooks-Standard-Bank-Virtual-Internship/output/section-05-data-preparation-X_val.pkl\",\n",
    "        \"X_train\": \"/content/Reproducible-Data-Analysis-With-Jupyter-Notebooks-Standard-Bank-Virtual-Internship/output/section-05-data-preparation-X_train.pkl\",\n",
    "        \"y_train\": \"/content/Reproducible-Data-Analysis-With-Jupyter-Notebooks-Standard-Bank-Virtual-Internship/output/section-05-data-preparation-y_train.pkl\",\n",
    "        \"y_val\": \"/content/Reproducible-Data-Analysis-With-Jupyter-Notebooks-Standard-Bank-Virtual-Internship/output/section-05-data-preparation-y_val.pkl\",\n",
    "        \"nb\": \"/content/Reproducible-Data-Analysis-With-Jupyter-Notebooks-Standard-Bank-Virtual-Internship/output/section-05-data-preparation.ipynb\",\n",
    "    }\n",
    "}\n",
    "product = {\n",
    "    \"X_val\": \"/content/Reproducible-Data-Analysis-With-Jupyter-Notebooks-Standard-Bank-Virtual-Internship/output/section-06-scikit-learn-bespoke-ml-X_val.pkl\",\n",
    "    \"X_train\": \"/content/Reproducible-Data-Analysis-With-Jupyter-Notebooks-Standard-Bank-Virtual-Internship/output/section-06-scikit-learn-bespoke-ml-X_train.pkl\",\n",
    "    \"nb\": \"/content/Reproducible-Data-Analysis-With-Jupyter-Notebooks-Standard-Bank-Virtual-Internship/output/section-06-scikit-learn-bespoke-ml.ipynb\",\n",
    "}\n"
   ]
  },
  {
   "cell_type": "code",
   "execution_count": 4,
   "id": "34d3fe7b",
   "metadata": {
    "execution": {
     "iopub.execute_input": "2023-03-30T20:36:20.786723Z",
     "iopub.status.busy": "2023-03-30T20:36:20.786300Z",
     "iopub.status.idle": "2023-03-30T20:36:20.804009Z",
     "shell.execute_reply": "2023-03-30T20:36:20.802625Z"
    },
    "papermill": {
     "duration": 0.029398,
     "end_time": "2023-03-30T20:36:20.807192",
     "exception": false,
     "start_time": "2023-03-30T20:36:20.777794",
     "status": "completed"
    },
    "tags": [
     "soorgeon-unpickle"
    ]
   },
   "outputs": [],
   "source": [
    "X_train = pickle.loads(Path(upstream['section-05-data-preparation']['X_train']).read_bytes())\n",
    "X_val = pickle.loads(Path(upstream['section-05-data-preparation']['X_val']).read_bytes())\n",
    "y_train = pickle.loads(Path(upstream['section-05-data-preparation']['y_train']).read_bytes())\n",
    "y_val = pickle.loads(Path(upstream['section-05-data-preparation']['y_val']).read_bytes())"
   ]
  },
  {
   "cell_type": "markdown",
   "id": "b88f75af",
   "metadata": {
    "id": "5pfvdlsqGZT9",
    "papermill": {
     "duration": 0.006051,
     "end_time": "2023-03-30T20:36:20.819082",
     "exception": false,
     "start_time": "2023-03-30T20:36:20.813031",
     "status": "completed"
    },
    "tags": []
   },
   "source": [
    "## 06) Scikit-learn Bespoke ML"
   ]
  },
  {
   "cell_type": "code",
   "execution_count": 5,
   "id": "3bed3800",
   "metadata": {
    "colab": {
     "base_uri": "https://localhost:8080/"
    },
    "execution": {
     "iopub.execute_input": "2023-03-30T20:36:20.833164Z",
     "iopub.status.busy": "2023-03-30T20:36:20.832690Z",
     "iopub.status.idle": "2023-03-30T20:36:21.845915Z",
     "shell.execute_reply": "2023-03-30T20:36:21.844560Z"
    },
    "executionInfo": {
     "elapsed": 1706,
     "status": "ok",
     "timestamp": 1680005836366,
     "user": {
      "displayName": "Victor Ruto",
      "userId": "13125455177778424587"
     },
     "user_tz": -180
    },
    "id": "DsieitWyPz-f",
    "outputId": "e7071457-f78e-4651-c89b-fb59baa19b51",
    "papermill": {
     "duration": 1.02417,
     "end_time": "2023-03-30T20:36:21.849281",
     "exception": false,
     "start_time": "2023-03-30T20:36:20.825111",
     "status": "completed"
    },
    "tags": []
   },
   "outputs": [
    {
     "name": "stdout",
     "output_type": "stream",
     "text": [
      "Accuracy on the Train Dataset :  1.0\n",
      "Accuracy on the Train Dataset :  0.7922077922077922\n",
      "\n",
      "Confusion matrix : \n",
      " [[29 14]\n",
      " [18 93]]\n"
     ]
    }
   ],
   "source": [
    "\n",
    "xgb = XGBClassifier()\n",
    "xgb.fit(X_train, y_train)\n",
    "print(\"Accuracy on the Train Dataset : \", accuracy_score(xgb.predict(X_train), y_train))\n",
    "print(\"Accuracy on the Train Dataset : \", accuracy_score(xgb.predict(X_val), y_val))\n",
    "print(\"\\nConfusion matrix : \\n\", confusion_matrix(xgb.predict(X_val), y_val))"
   ]
  },
  {
   "cell_type": "code",
   "execution_count": 6,
   "id": "683a39b8",
   "metadata": {
    "execution": {
     "iopub.execute_input": "2023-03-30T20:36:21.870981Z",
     "iopub.status.busy": "2023-03-30T20:36:21.870473Z",
     "iopub.status.idle": "2023-03-30T20:36:29.238979Z",
     "shell.execute_reply": "2023-03-30T20:36:29.237838Z"
    },
    "id": "CXU9jbpaLUq2",
    "papermill": {
     "duration": 7.385267,
     "end_time": "2023-03-30T20:36:29.241851",
     "exception": false,
     "start_time": "2023-03-30T20:36:21.856584",
     "status": "completed"
    },
    "tags": []
   },
   "outputs": [],
   "source": [
    "!pip install catboost\n",
    "clear_output()"
   ]
  },
  {
   "cell_type": "code",
   "execution_count": 7,
   "id": "d08165f7",
   "metadata": {
    "colab": {
     "base_uri": "https://localhost:8080/"
    },
    "execution": {
     "iopub.execute_input": "2023-03-30T20:36:29.261722Z",
     "iopub.status.busy": "2023-03-30T20:36:29.261197Z",
     "iopub.status.idle": "2023-03-30T20:36:33.261920Z",
     "shell.execute_reply": "2023-03-30T20:36:33.260097Z"
    },
    "executionInfo": {
     "elapsed": 4122,
     "status": "ok",
     "timestamp": 1680005846505,
     "user": {
      "displayName": "Victor Ruto",
      "userId": "13125455177778424587"
     },
     "user_tz": -180
    },
    "id": "ZK9BL9RbPz-g",
    "outputId": "d4078f2e-38c5-4225-d987-b479f0d90868",
    "papermill": {
     "duration": 4.011557,
     "end_time": "2023-03-30T20:36:33.264336",
     "exception": false,
     "start_time": "2023-03-30T20:36:29.252779",
     "status": "completed"
    },
    "tags": []
   },
   "outputs": [
    {
     "name": "stdout",
     "output_type": "stream",
     "text": [
      "Accuracy on the Train Dataset :  0.9326086956521739\n",
      "Accuracy on the Train Dataset :  0.8116883116883117\n",
      "\n",
      "Confusion matrix : \n",
      " [[ 25   7]\n",
      " [ 22 100]]\n"
     ]
    }
   ],
   "source": [
    "\n",
    "cbc = CatBoostClassifier(verbose=0)\n",
    "cbc.fit(X_train, y_train)\n",
    "\n",
    "print(\"Accuracy on the Train Dataset : \", accuracy_score(cbc.predict(X_train), y_train))\n",
    "print(\"Accuracy on the Train Dataset : \", accuracy_score(cbc.predict(X_val), y_val))\n",
    "print(\"\\nConfusion matrix : \\n\", confusion_matrix(cbc.predict(X_val), y_val))"
   ]
  },
  {
   "cell_type": "code",
   "execution_count": 8,
   "id": "b1cc42ba",
   "metadata": {
    "colab": {
     "base_uri": "https://localhost:8080/"
    },
    "execution": {
     "iopub.execute_input": "2023-03-30T20:36:33.274699Z",
     "iopub.status.busy": "2023-03-30T20:36:33.274268Z",
     "iopub.status.idle": "2023-03-30T20:36:33.382706Z",
     "shell.execute_reply": "2023-03-30T20:36:33.381397Z"
    },
    "executionInfo": {
     "elapsed": 674,
     "status": "ok",
     "timestamp": 1680005847168,
     "user": {
      "displayName": "Victor Ruto",
      "userId": "13125455177778424587"
     },
     "user_tz": -180
    },
    "id": "NwtHeGtkPz-g",
    "outputId": "f3cf9a39-f2c0-4436-9b26-b091fb8dd6eb",
    "papermill": {
     "duration": 0.116336,
     "end_time": "2023-03-30T20:36:33.384958",
     "exception": false,
     "start_time": "2023-03-30T20:36:33.268622",
     "status": "completed"
    },
    "tags": []
   },
   "outputs": [
    {
     "name": "stdout",
     "output_type": "stream",
     "text": [
      "Accuracy on the Train Dataset :  0.9847826086956522\n",
      "Accuracy on the Train Dataset :  0.7857142857142857\n",
      "\n",
      "Confusion matrix : \n",
      " [[28 14]\n",
      " [19 93]]\n"
     ]
    }
   ],
   "source": [
    "\n",
    "lgbm = LGBMClassifier()\n",
    "lgbm.fit(X_train, y_train)\n",
    "print(\"Accuracy on the Train Dataset : \", accuracy_score(lgbm.predict(X_train), y_train))\n",
    "print(\"Accuracy on the Train Dataset : \", accuracy_score(lgbm.predict(X_val), y_val))\n",
    "print(\"\\nConfusion matrix : \\n\", confusion_matrix(lgbm.predict(X_val), y_val))"
   ]
  },
  {
   "cell_type": "code",
   "execution_count": 9,
   "id": "65bc4af9",
   "metadata": {
    "execution": {
     "iopub.execute_input": "2023-03-30T20:36:33.397765Z",
     "iopub.status.busy": "2023-03-30T20:36:33.397345Z",
     "iopub.status.idle": "2023-03-30T20:36:33.780691Z",
     "shell.execute_reply": "2023-03-30T20:36:33.779630Z"
    },
    "id": "kUrCfRIuLP0c",
    "papermill": {
     "duration": 0.392866,
     "end_time": "2023-03-30T20:36:33.783172",
     "exception": false,
     "start_time": "2023-03-30T20:36:33.390306",
     "status": "completed"
    },
    "tags": []
   },
   "outputs": [],
   "source": [
    "## Some sklearn classifiers we can try\n",
    "\n",
    "try:\n",
    "\n",
    "\n",
    "  classifiers = sklearn.utils.all_estimators(type_filter='classifier')\n",
    "  for name, class_ in classifiers:\n",
    "      if hasattr(class_, 'predict_proba'):\n",
    "          print(name, class_)\n",
    "  \n",
    "except:\n",
    "  pass"
   ]
  },
  {
   "cell_type": "code",
   "execution_count": 10,
   "id": "eb11aed5",
   "metadata": {
    "execution": {
     "iopub.execute_input": "2023-03-30T20:36:33.793116Z",
     "iopub.status.busy": "2023-03-30T20:36:33.792386Z",
     "iopub.status.idle": "2023-03-30T20:36:33.805467Z",
     "shell.execute_reply": "2023-03-30T20:36:33.804478Z"
    },
    "id": "IwO2lqAvPz-h",
    "papermill": {
     "duration": 0.021355,
     "end_time": "2023-03-30T20:36:33.808518",
     "exception": false,
     "start_time": "2023-03-30T20:36:33.787163",
     "status": "completed"
    },
    "tags": []
   },
   "outputs": [],
   "source": [
    "## Scale the data to a range of [0-1]\n",
    "scaler = StandardScaler()\n",
    "X_train = scaler.fit_transform(X_train)\n",
    "X_val = scaler.transform(X_val)"
   ]
  },
  {
   "cell_type": "code",
   "execution_count": 11,
   "id": "2cf26f97",
   "metadata": {
    "colab": {
     "base_uri": "https://localhost:8080/"
    },
    "execution": {
     "iopub.execute_input": "2023-03-30T20:36:33.819012Z",
     "iopub.status.busy": "2023-03-30T20:36:33.818526Z",
     "iopub.status.idle": "2023-03-30T20:36:33.842351Z",
     "shell.execute_reply": "2023-03-30T20:36:33.841383Z"
    },
    "executionInfo": {
     "elapsed": 19,
     "status": "ok",
     "timestamp": 1680005847812,
     "user": {
      "displayName": "Victor Ruto",
      "userId": "13125455177778424587"
     },
     "user_tz": -180
    },
    "id": "d4XD_9K4E4Ue",
    "outputId": "182d1225-2a4c-4f82-c307-c99df0366a46",
    "papermill": {
     "duration": 0.031315,
     "end_time": "2023-03-30T20:36:33.844609",
     "exception": false,
     "start_time": "2023-03-30T20:36:33.813294",
     "status": "completed"
    },
    "tags": []
   },
   "outputs": [
    {
     "name": "stdout",
     "output_type": "stream",
     "text": [
      "Accuracy on the Train Dataset :  0.8108695652173913\n",
      "Accuracy on the Validation Dataset :  0.8311688311688312\n",
      "\n",
      "Confusion matrix : \n",
      " [[ 22   1]\n",
      " [ 25 106]]\n"
     ]
    }
   ],
   "source": [
    "\n",
    "lr = LogisticRegression() \n",
    "lr.fit(X_train, y_train)\n",
    "\n",
    "print(\"Accuracy on the Train Dataset : \", accuracy_score(lr.predict(X_train), y_train))\n",
    "print(\"Accuracy on the Validation Dataset : \", accuracy_score(lr.predict(X_val), y_val))\n",
    "print(\"\\nConfusion matrix : \\n\", confusion_matrix(lr.predict(X_val), y_val))"
   ]
  },
  {
   "cell_type": "code",
   "execution_count": 12,
   "id": "1e75f2c7",
   "metadata": {
    "colab": {
     "base_uri": "https://localhost:8080/"
    },
    "execution": {
     "iopub.execute_input": "2023-03-30T20:36:33.855575Z",
     "iopub.status.busy": "2023-03-30T20:36:33.854856Z",
     "iopub.status.idle": "2023-03-30T20:36:33.894002Z",
     "shell.execute_reply": "2023-03-30T20:36:33.893181Z"
    },
    "executionInfo": {
     "elapsed": 19,
     "status": "ok",
     "timestamp": 1680005847813,
     "user": {
      "displayName": "Victor Ruto",
      "userId": "13125455177778424587"
     },
     "user_tz": -180
    },
    "id": "u2ZpGCLdPz-i",
    "outputId": "42e6ff94-ca44-4d16-e46c-6d77d012e9e6",
    "papermill": {
     "duration": 0.047303,
     "end_time": "2023-03-30T20:36:33.896177",
     "exception": false,
     "start_time": "2023-03-30T20:36:33.848874",
     "status": "completed"
    },
    "tags": []
   },
   "outputs": [
    {
     "name": "stdout",
     "output_type": "stream",
     "text": [
      "Accuracy on the Train Dataset :  0.8152173913043478\n",
      "Accuracy on the Validation Dataset :  0.8311688311688312\n",
      "\n",
      "Confusion matrix : \n",
      " [[ 21   0]\n",
      " [ 26 107]]\n"
     ]
    }
   ],
   "source": [
    "\n",
    "svm = SVC()\n",
    "svm.fit(X_train, y_train)\n",
    "print(\"Accuracy on the Train Dataset : \", svm.score(X_train, y_train))\n",
    "print(\"Accuracy on the Validation Dataset : \", svm.score(X_val, y_val)) \n",
    "print(\"\\nConfusion matrix : \\n\", confusion_matrix(svm.predict(X_val), y_val))"
   ]
  },
  {
   "cell_type": "code",
   "execution_count": 13,
   "id": "d9ef8a6e",
   "metadata": {
    "colab": {
     "base_uri": "https://localhost:8080/"
    },
    "execution": {
     "iopub.execute_input": "2023-03-30T20:36:33.906380Z",
     "iopub.status.busy": "2023-03-30T20:36:33.905764Z",
     "iopub.status.idle": "2023-03-30T20:36:34.074281Z",
     "shell.execute_reply": "2023-03-30T20:36:34.073363Z"
    },
    "executionInfo": {
     "elapsed": 14,
     "status": "ok",
     "timestamp": 1680005847813,
     "user": {
      "displayName": "Victor Ruto",
      "userId": "13125455177778424587"
     },
     "user_tz": -180
    },
    "id": "tLvLaVYbPz-i",
    "outputId": "4a6456fd-13dc-42bc-f5b4-ddcaebd036fd",
    "papermill": {
     "duration": 0.176372,
     "end_time": "2023-03-30T20:36:34.076802",
     "exception": false,
     "start_time": "2023-03-30T20:36:33.900430",
     "status": "completed"
    },
    "tags": []
   },
   "outputs": [
    {
     "name": "stdout",
     "output_type": "stream",
     "text": [
      "Accuracy on the Train Dataset :  0.8304347826086956\n",
      "Accuracy on the Validation Dataset :  0.8116883116883117\n",
      "\n",
      "Confusion matrix : \n",
      " [[27  9]\n",
      " [20 98]]\n"
     ]
    }
   ],
   "source": [
    "\n",
    "adb = AdaBoostClassifier()\n",
    "adb.fit(X_train, y_train)\n",
    "adb.score(X_train, y_train), adb.score(X_val, y_val)\n",
    "print(\"Accuracy on the Train Dataset : \", adb.score(X_train, y_train))\n",
    "print(\"Accuracy on the Validation Dataset : \", adb.score(X_val, y_val)) \n",
    "print(\"\\nConfusion matrix : \\n\", confusion_matrix(adb.predict(X_val), y_val))"
   ]
  },
  {
   "cell_type": "code",
   "execution_count": 14,
   "id": "7dff7d17",
   "metadata": {
    "colab": {
     "base_uri": "https://localhost:8080/"
    },
    "execution": {
     "iopub.execute_input": "2023-03-30T20:36:34.087370Z",
     "iopub.status.busy": "2023-03-30T20:36:34.086721Z",
     "iopub.status.idle": "2023-03-30T20:36:34.099146Z",
     "shell.execute_reply": "2023-03-30T20:36:34.098016Z"
    },
    "executionInfo": {
     "elapsed": 12,
     "status": "ok",
     "timestamp": 1680005847814,
     "user": {
      "displayName": "Victor Ruto",
      "userId": "13125455177778424587"
     },
     "user_tz": -180
    },
    "id": "IB0ZsuJdPz-i",
    "outputId": "724764bc-1e0f-4503-81bb-513c694e69aa",
    "papermill": {
     "duration": 0.020223,
     "end_time": "2023-03-30T20:36:34.101308",
     "exception": false,
     "start_time": "2023-03-30T20:36:34.081085",
     "status": "completed"
    },
    "tags": []
   },
   "outputs": [
    {
     "name": "stdout",
     "output_type": "stream",
     "text": [
      "Accuracy on the Train Dataset :  1.0\n",
      "Accuracy on the Validation Dataset :  0.6493506493506493\n",
      "\n",
      "Confusion matrix : \n",
      " [[30 37]\n",
      " [17 70]]\n"
     ]
    }
   ],
   "source": [
    "\n",
    "dt = DecisionTreeClassifier()\n",
    "dt.fit(X_train, y_train)\n",
    "print(\"Accuracy on the Train Dataset : \", dt.score(X_train, y_train))\n",
    "print(\"Accuracy on the Validation Dataset : \", dt.score(X_val, y_val)) \n",
    "print(\"\\nConfusion matrix : \\n\", confusion_matrix(dt.predict(X_val), y_val))"
   ]
  },
  {
   "cell_type": "markdown",
   "id": "80a398cf",
   "metadata": {
    "id": "rcteJlGYX1EE",
    "papermill": {
     "duration": 0.004456,
     "end_time": "2023-03-30T20:36:34.110498",
     "exception": false,
     "start_time": "2023-03-30T20:36:34.106042",
     "status": "completed"
    },
    "tags": []
   },
   "source": [
    "The AutoML model has an accuracy of 78.9%. The bespoke classifier models tried have accuracies ranging from 71% to 80%. The models are tried right out of the box, which means that with parameter fine tuning, we can expect to get higher accuracies. Thus, we can make a case for bespoke modelling since accuracy is very important in this application case and any slight improvement in the expected level of accuracy should be pursued."
   ]
  },
  {
   "cell_type": "code",
   "execution_count": 15,
   "id": "81836ddd",
   "metadata": {
    "execution": {
     "iopub.execute_input": "2023-03-30T20:36:34.122015Z",
     "iopub.status.busy": "2023-03-30T20:36:34.121617Z",
     "iopub.status.idle": "2023-03-30T20:36:34.132019Z",
     "shell.execute_reply": "2023-03-30T20:36:34.131203Z"
    },
    "papermill": {
     "duration": 0.018848,
     "end_time": "2023-03-30T20:36:34.133986",
     "exception": false,
     "start_time": "2023-03-30T20:36:34.115138",
     "status": "completed"
    },
    "tags": [
     "soorgeon-pickle"
    ]
   },
   "outputs": [
    {
     "data": {
      "text/plain": [
       "24792"
      ]
     },
     "execution_count": 15,
     "metadata": {},
     "output_type": "execute_result"
    }
   ],
   "source": [
    "Path(product['X_train']).parent.mkdir(exist_ok=True, parents=True)\n",
    "Path(product['X_train']).write_bytes(pickle.dumps(X_train))\n",
    "\n",
    "Path(product['X_val']).parent.mkdir(exist_ok=True, parents=True)\n",
    "Path(product['X_val']).write_bytes(pickle.dumps(X_val))"
   ]
  }
 ],
 "metadata": {
  "jupytext": {
   "main_language": "python",
   "text_representation": {
    "extension": ".py",
    "format_name": "percent",
    "format_version": "1.3",
    "jupytext_version": "1.14.5"
   }
  },
  "kernelspec": {
   "display_name": "Python 3",
   "language": "python",
   "name": "python3"
  },
  "language_info": {
   "codemirror_mode": {
    "name": "ipython",
    "version": 3
   },
   "file_extension": ".py",
   "mimetype": "text/x-python",
   "name": "python",
   "nbconvert_exporter": "python",
   "pygments_lexer": "ipython3",
   "version": "3.9.16"
  },
  "papermill": {
   "duration": 17.493132,
   "end_time": "2023-03-30T20:36:34.960317",
   "exception": null,
   "input_path": "/tmp/tmpju3uydx8.ipynb",
   "output_path": "/content/Reproducible-Data-Analysis-With-Jupyter-Notebooks-Standard-Bank-Virtual-Internship/output/section-06-scikit-learn-bespoke-ml.ipynb",
   "parameters": {
    "product": {
     "X_train": "/content/Reproducible-Data-Analysis-With-Jupyter-Notebooks-Standard-Bank-Virtual-Internship/output/section-06-scikit-learn-bespoke-ml-X_train.pkl",
     "X_val": "/content/Reproducible-Data-Analysis-With-Jupyter-Notebooks-Standard-Bank-Virtual-Internship/output/section-06-scikit-learn-bespoke-ml-X_val.pkl",
     "nb": "/content/Reproducible-Data-Analysis-With-Jupyter-Notebooks-Standard-Bank-Virtual-Internship/output/section-06-scikit-learn-bespoke-ml.ipynb"
    },
    "upstream": {
     "section-05-data-preparation": {
      "X_train": "/content/Reproducible-Data-Analysis-With-Jupyter-Notebooks-Standard-Bank-Virtual-Internship/output/section-05-data-preparation-X_train.pkl",
      "X_val": "/content/Reproducible-Data-Analysis-With-Jupyter-Notebooks-Standard-Bank-Virtual-Internship/output/section-05-data-preparation-X_val.pkl",
      "nb": "/content/Reproducible-Data-Analysis-With-Jupyter-Notebooks-Standard-Bank-Virtual-Internship/output/section-05-data-preparation.ipynb",
      "y_train": "/content/Reproducible-Data-Analysis-With-Jupyter-Notebooks-Standard-Bank-Virtual-Internship/output/section-05-data-preparation-y_train.pkl",
      "y_val": "/content/Reproducible-Data-Analysis-With-Jupyter-Notebooks-Standard-Bank-Virtual-Internship/output/section-05-data-preparation-y_val.pkl"
     }
    }
   },
   "start_time": "2023-03-30T20:36:17.467185"
  }
 },
 "nbformat": 4,
 "nbformat_minor": 5
}