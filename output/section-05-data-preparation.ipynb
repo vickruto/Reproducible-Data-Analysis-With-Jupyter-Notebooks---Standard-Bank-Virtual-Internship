{
 "cells": [
  {
   "cell_type": "code",
   "execution_count": 1,
   "id": "4ab35cc0",
   "metadata": {
    "execution": {
     "iopub.execute_input": "2023-03-30T20:36:12.872553Z",
     "iopub.status.busy": "2023-03-30T20:36:12.871762Z",
     "iopub.status.idle": "2023-03-30T20:36:13.769034Z",
     "shell.execute_reply": "2023-03-30T20:36:13.768122Z"
    },
    "papermill": {
     "duration": 0.904298,
     "end_time": "2023-03-30T20:36:13.771540",
     "exception": false,
     "start_time": "2023-03-30T20:36:12.867242",
     "status": "completed"
    },
    "tags": [
     "soorgeon-imports"
    ]
   },
   "outputs": [],
   "source": [
    "import pandas as pd\n",
    "from sklearn.model_selection import train_test_split\n",
    "from pathlib import Path\n",
    "import pickle"
   ]
  },
  {
   "cell_type": "code",
   "execution_count": 2,
   "id": "8ac0e3a8",
   "metadata": {
    "execution": {
     "iopub.execute_input": "2023-03-30T20:36:13.778716Z",
     "iopub.status.busy": "2023-03-30T20:36:13.777872Z",
     "iopub.status.idle": "2023-03-30T20:36:13.782901Z",
     "shell.execute_reply": "2023-03-30T20:36:13.781923Z"
    },
    "papermill": {
     "duration": 0.011072,
     "end_time": "2023-03-30T20:36:13.785200",
     "exception": false,
     "start_time": "2023-03-30T20:36:13.774128",
     "status": "completed"
    },
    "tags": [
     "parameters"
    ]
   },
   "outputs": [],
   "source": [
    "upstream = ['section-01-get-data', 'section-04-autosklearn-auto-ml']\n",
    "product = None"
   ]
  },
  {
   "cell_type": "code",
   "execution_count": 3,
   "id": "4284e283",
   "metadata": {
    "execution": {
     "iopub.execute_input": "2023-03-30T20:36:13.791703Z",
     "iopub.status.busy": "2023-03-30T20:36:13.791309Z",
     "iopub.status.idle": "2023-03-30T20:36:13.797759Z",
     "shell.execute_reply": "2023-03-30T20:36:13.796515Z"
    },
    "papermill": {
     "duration": 0.012449,
     "end_time": "2023-03-30T20:36:13.800123",
     "exception": false,
     "start_time": "2023-03-30T20:36:13.787674",
     "status": "completed"
    },
    "tags": [
     "injected-parameters"
    ]
   },
   "outputs": [],
   "source": [
    "# Parameters\n",
    "upstream = {\n",
    "    \"section-01-get-data\": {\n",
    "        \"train\": \"/content/Reproducible-Data-Analysis-With-Jupyter-Notebooks-Standard-Bank-Virtual-Internship/output/section-01-get-data-train.pkl\",\n",
    "        \"df\": \"/content/Reproducible-Data-Analysis-With-Jupyter-Notebooks-Standard-Bank-Virtual-Internship/output/section-01-get-data-df.pkl\",\n",
    "        \"nb\": \"/content/Reproducible-Data-Analysis-With-Jupyter-Notebooks-Standard-Bank-Virtual-Internship/output/section-01-get-data.ipynb\",\n",
    "    },\n",
    "    \"section-04-autosklearn-auto-ml\": {\n",
    "        \"categorical_columns\": \"/content/Reproducible-Data-Analysis-With-Jupyter-Notebooks-Standard-Bank-Virtual-Internship/output/section-04-autosklearn-auto-ml-categorical_columns.pkl\",\n",
    "        \"X_train\": \"/content/Reproducible-Data-Analysis-With-Jupyter-Notebooks-Standard-Bank-Virtual-Internship/output/section-04-autosklearn-auto-ml-X_train.pkl\",\n",
    "        \"X\": \"/content/Reproducible-Data-Analysis-With-Jupyter-Notebooks-Standard-Bank-Virtual-Internship/output/section-04-autosklearn-auto-ml-X.pkl\",\n",
    "        \"y_train\": \"/content/Reproducible-Data-Analysis-With-Jupyter-Notebooks-Standard-Bank-Virtual-Internship/output/section-04-autosklearn-auto-ml-y_train.pkl\",\n",
    "        \"y\": \"/content/Reproducible-Data-Analysis-With-Jupyter-Notebooks-Standard-Bank-Virtual-Internship/output/section-04-autosklearn-auto-ml-y.pkl\",\n",
    "        \"nb\": \"/content/Reproducible-Data-Analysis-With-Jupyter-Notebooks-Standard-Bank-Virtual-Internship/output/section-04-autosklearn-auto-ml.ipynb\",\n",
    "    },\n",
    "}\n",
    "product = {\n",
    "    \"X_val\": \"/content/Reproducible-Data-Analysis-With-Jupyter-Notebooks-Standard-Bank-Virtual-Internship/output/section-05-data-preparation-X_val.pkl\",\n",
    "    \"X_train\": \"/content/Reproducible-Data-Analysis-With-Jupyter-Notebooks-Standard-Bank-Virtual-Internship/output/section-05-data-preparation-X_train.pkl\",\n",
    "    \"y_train\": \"/content/Reproducible-Data-Analysis-With-Jupyter-Notebooks-Standard-Bank-Virtual-Internship/output/section-05-data-preparation-y_train.pkl\",\n",
    "    \"y_val\": \"/content/Reproducible-Data-Analysis-With-Jupyter-Notebooks-Standard-Bank-Virtual-Internship/output/section-05-data-preparation-y_val.pkl\",\n",
    "    \"nb\": \"/content/Reproducible-Data-Analysis-With-Jupyter-Notebooks-Standard-Bank-Virtual-Internship/output/section-05-data-preparation.ipynb\",\n",
    "}\n"
   ]
  },
  {
   "cell_type": "code",
   "execution_count": 4,
   "id": "786e8d6c",
   "metadata": {
    "execution": {
     "iopub.execute_input": "2023-03-30T20:36:13.807178Z",
     "iopub.status.busy": "2023-03-30T20:36:13.806799Z",
     "iopub.status.idle": "2023-03-30T20:36:13.815173Z",
     "shell.execute_reply": "2023-03-30T20:36:13.814038Z"
    },
    "papermill": {
     "duration": 0.015169,
     "end_time": "2023-03-30T20:36:13.817607",
     "exception": false,
     "start_time": "2023-03-30T20:36:13.802438",
     "status": "completed"
    },
    "tags": [
     "soorgeon-unpickle"
    ]
   },
   "outputs": [],
   "source": [
    "train = pickle.loads(Path(upstream['section-01-get-data']['train']).read_bytes())\n",
    "X = pickle.loads(Path(upstream['section-04-autosklearn-auto-ml']['X']).read_bytes())\n",
    "categorical_columns = pickle.loads(Path(upstream['section-04-autosklearn-auto-ml']['categorical_columns']).read_bytes())\n",
    "y = pickle.loads(Path(upstream['section-04-autosklearn-auto-ml']['y']).read_bytes())"
   ]
  },
  {
   "cell_type": "markdown",
   "id": "d37d54ee",
   "metadata": {
    "id": "QKCOAsTS-J1P",
    "papermill": {
     "duration": 0.002349,
     "end_time": "2023-03-30T20:36:13.822358",
     "exception": false,
     "start_time": "2023-03-30T20:36:13.820009",
     "status": "completed"
    },
    "tags": []
   },
   "source": [
    "## 05) Data Preparation"
   ]
  },
  {
   "cell_type": "code",
   "execution_count": 5,
   "id": "1ccf7ba4",
   "metadata": {
    "colab": {
     "base_uri": "https://localhost:8080/"
    },
    "execution": {
     "iopub.execute_input": "2023-03-30T20:36:13.828877Z",
     "iopub.status.busy": "2023-03-30T20:36:13.828474Z",
     "iopub.status.idle": "2023-03-30T20:36:13.859899Z",
     "shell.execute_reply": "2023-03-30T20:36:13.858636Z"
    },
    "executionInfo": {
     "elapsed": 24,
     "status": "ok",
     "timestamp": 1680005834679,
     "user": {
      "displayName": "Victor Ruto",
      "userId": "13125455177778424587"
     },
     "user_tz": -180
    },
    "id": "bXyiuKoTEanY",
    "outputId": "f4445c36-f60e-434d-912d-59bb4dd24efc",
    "papermill": {
     "duration": 0.037873,
     "end_time": "2023-03-30T20:36:13.862546",
     "exception": false,
     "start_time": "2023-03-30T20:36:13.824673",
     "status": "completed"
    },
    "tags": []
   },
   "outputs": [
    {
     "data": {
      "text/plain": [
       "ApplicantIncome            0\n",
       "CoapplicantIncome          0\n",
       "LoanAmount                 0\n",
       "Loan_Amount_Term           0\n",
       "Credit_History             0\n",
       "Gender_Female              0\n",
       "Gender_Male                0\n",
       "Married_No                 0\n",
       "Married_Yes                0\n",
       "Dependents_0               0\n",
       "Dependents_1               0\n",
       "Dependents_2               0\n",
       "Dependents_3+              0\n",
       "Education_Graduate         0\n",
       "Education_Not Graduate     0\n",
       "Self_Employed_No           0\n",
       "Self_Employed_Yes          0\n",
       "Property_Area_Rural        0\n",
       "Property_Area_Semiurban    0\n",
       "Property_Area_Urban        0\n",
       "dtype: int64"
      ]
     },
     "execution_count": 5,
     "metadata": {},
     "output_type": "execute_result"
    }
   ],
   "source": [
    "## One hot encode the categorical features\n",
    "##Leave all categories to represent missing values \n",
    "X_oh_encoded = pd.concat([X, pd.get_dummies(X[categorical_columns])], axis=1)\n",
    "X_oh_encoded = X_oh_encoded.drop(columns=categorical_columns)\n",
    "\n",
    "## fill the missing numerical columns\n",
    "X_oh_encoded['LoanAmount'].fillna(X_oh_encoded['LoanAmount'].mean(), inplace=True)\n",
    "X_oh_encoded['Loan_Amount_Term'].fillna(X_oh_encoded['Loan_Amount_Term'].median(), inplace=True)\n",
    "X_oh_encoded['Credit_History'].fillna(X_oh_encoded['Credit_History'].mode()[0], inplace=True)\n",
    "X_oh_encoded.isna().sum()"
   ]
  },
  {
   "cell_type": "code",
   "execution_count": 6,
   "id": "5d32b566",
   "metadata": {
    "execution": {
     "iopub.execute_input": "2023-03-30T20:36:13.870928Z",
     "iopub.status.busy": "2023-03-30T20:36:13.870452Z",
     "iopub.status.idle": "2023-03-30T20:36:13.882126Z",
     "shell.execute_reply": "2023-03-30T20:36:13.881033Z"
    },
    "id": "4EM0I7tfPz-f",
    "papermill": {
     "duration": 0.01908,
     "end_time": "2023-03-30T20:36:13.884375",
     "exception": false,
     "start_time": "2023-03-30T20:36:13.865295",
     "status": "completed"
    },
    "tags": []
   },
   "outputs": [],
   "source": [
    "X_train, X_val, y_train, y_val = train_test_split(train.drop(columns=['Loan_ID', 'Loan_Status']), train['Loan_Status'])"
   ]
  },
  {
   "cell_type": "code",
   "execution_count": 7,
   "id": "fdae4fec",
   "metadata": {
    "execution": {
     "iopub.execute_input": "2023-03-30T20:36:13.891735Z",
     "iopub.status.busy": "2023-03-30T20:36:13.891111Z",
     "iopub.status.idle": "2023-03-30T20:36:13.897335Z",
     "shell.execute_reply": "2023-03-30T20:36:13.896569Z"
    },
    "id": "nQw-9zvPK68R",
    "lines_to_next_cell": 2,
    "papermill": {
     "duration": 0.011958,
     "end_time": "2023-03-30T20:36:13.899388",
     "exception": false,
     "start_time": "2023-03-30T20:36:13.887430",
     "status": "completed"
    },
    "tags": []
   },
   "outputs": [],
   "source": [
    "X_train, X_val, y_train, y_val = train_test_split(X_oh_encoded, y)"
   ]
  },
  {
   "cell_type": "code",
   "execution_count": 8,
   "id": "3bd1f161",
   "metadata": {
    "execution": {
     "iopub.execute_input": "2023-03-30T20:36:13.906220Z",
     "iopub.status.busy": "2023-03-30T20:36:13.905609Z",
     "iopub.status.idle": "2023-03-30T20:36:13.915912Z",
     "shell.execute_reply": "2023-03-30T20:36:13.915060Z"
    },
    "papermill": {
     "duration": 0.016085,
     "end_time": "2023-03-30T20:36:13.917916",
     "exception": false,
     "start_time": "2023-03-30T20:36:13.901831",
     "status": "completed"
    },
    "tags": [
     "soorgeon-pickle"
    ]
   },
   "outputs": [
    {
     "data": {
      "text/plain": [
       "4384"
      ]
     },
     "execution_count": 8,
     "metadata": {},
     "output_type": "execute_result"
    }
   ],
   "source": [
    "Path(product['X_train']).parent.mkdir(exist_ok=True, parents=True)\n",
    "Path(product['X_train']).write_bytes(pickle.dumps(X_train))\n",
    "\n",
    "Path(product['X_val']).parent.mkdir(exist_ok=True, parents=True)\n",
    "Path(product['X_val']).write_bytes(pickle.dumps(X_val))\n",
    "\n",
    "Path(product['y_train']).parent.mkdir(exist_ok=True, parents=True)\n",
    "Path(product['y_train']).write_bytes(pickle.dumps(y_train))\n",
    "\n",
    "Path(product['y_val']).parent.mkdir(exist_ok=True, parents=True)\n",
    "Path(product['y_val']).write_bytes(pickle.dumps(y_val))"
   ]
  }
 ],
 "metadata": {
  "jupytext": {
   "main_language": "python",
   "text_representation": {
    "extension": ".py",
    "format_name": "percent",
    "format_version": "1.3",
    "jupytext_version": "1.14.5"
   }
  },
  "kernelspec": {
   "display_name": "Python 3",
   "language": "python",
   "name": "python3"
  },
  "language_info": {
   "codemirror_mode": {
    "name": "ipython",
    "version": 3
   },
   "file_extension": ".py",
   "mimetype": "text/x-python",
   "name": "python",
   "nbconvert_exporter": "python",
   "pygments_lexer": "ipython3",
   "version": "3.9.16"
  },
  "papermill": {
   "duration": 3.105151,
   "end_time": "2023-03-30T20:36:14.540768",
   "exception": null,
   "input_path": "/tmp/tmptnql_i8j.ipynb",
   "output_path": "/content/Reproducible-Data-Analysis-With-Jupyter-Notebooks-Standard-Bank-Virtual-Internship/output/section-05-data-preparation.ipynb",
   "parameters": {
    "product": {
     "X_train": "/content/Reproducible-Data-Analysis-With-Jupyter-Notebooks-Standard-Bank-Virtual-Internship/output/section-05-data-preparation-X_train.pkl",
     "X_val": "/content/Reproducible-Data-Analysis-With-Jupyter-Notebooks-Standard-Bank-Virtual-Internship/output/section-05-data-preparation-X_val.pkl",
     "nb": "/content/Reproducible-Data-Analysis-With-Jupyter-Notebooks-Standard-Bank-Virtual-Internship/output/section-05-data-preparation.ipynb",
     "y_train": "/content/Reproducible-Data-Analysis-With-Jupyter-Notebooks-Standard-Bank-Virtual-Internship/output/section-05-data-preparation-y_train.pkl",
     "y_val": "/content/Reproducible-Data-Analysis-With-Jupyter-Notebooks-Standard-Bank-Virtual-Internship/output/section-05-data-preparation-y_val.pkl"
    },
    "upstream": {
     "section-01-get-data": {
      "df": "/content/Reproducible-Data-Analysis-With-Jupyter-Notebooks-Standard-Bank-Virtual-Internship/output/section-01-get-data-df.pkl",
      "nb": "/content/Reproducible-Data-Analysis-With-Jupyter-Notebooks-Standard-Bank-Virtual-Internship/output/section-01-get-data.ipynb",
      "train": "/content/Reproducible-Data-Analysis-With-Jupyter-Notebooks-Standard-Bank-Virtual-Internship/output/section-01-get-data-train.pkl"
     },
     "section-04-autosklearn-auto-ml": {
      "X": "/content/Reproducible-Data-Analysis-With-Jupyter-Notebooks-Standard-Bank-Virtual-Internship/output/section-04-autosklearn-auto-ml-X.pkl",
      "X_train": "/content/Reproducible-Data-Analysis-With-Jupyter-Notebooks-Standard-Bank-Virtual-Internship/output/section-04-autosklearn-auto-ml-X_train.pkl",
      "categorical_columns": "/content/Reproducible-Data-Analysis-With-Jupyter-Notebooks-Standard-Bank-Virtual-Internship/output/section-04-autosklearn-auto-ml-categorical_columns.pkl",
      "nb": "/content/Reproducible-Data-Analysis-With-Jupyter-Notebooks-Standard-Bank-Virtual-Internship/output/section-04-autosklearn-auto-ml.ipynb",
      "y": "/content/Reproducible-Data-Analysis-With-Jupyter-Notebooks-Standard-Bank-Virtual-Internship/output/section-04-autosklearn-auto-ml-y.pkl",
      "y_train": "/content/Reproducible-Data-Analysis-With-Jupyter-Notebooks-Standard-Bank-Virtual-Internship/output/section-04-autosklearn-auto-ml-y_train.pkl"
     }
    }
   },
   "start_time": "2023-03-30T20:36:11.435617"
  }
 },
 "nbformat": 4,
 "nbformat_minor": 5
}