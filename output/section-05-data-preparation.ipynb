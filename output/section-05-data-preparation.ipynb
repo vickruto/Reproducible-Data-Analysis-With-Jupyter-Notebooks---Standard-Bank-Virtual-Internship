{
 "cells": [
  {
   "cell_type": "code",
   "execution_count": 1,
   "id": "4c59b35d",
   "metadata": {
    "execution": {
     "iopub.execute_input": "2023-03-30T11:09:02.942803Z",
     "iopub.status.busy": "2023-03-30T11:09:02.942316Z",
     "iopub.status.idle": "2023-03-30T11:09:03.868644Z",
     "shell.execute_reply": "2023-03-30T11:09:03.867488Z"
    },
    "papermill": {
     "duration": 0.934388,
     "end_time": "2023-03-30T11:09:03.871479",
     "exception": false,
     "start_time": "2023-03-30T11:09:02.937091",
     "status": "completed"
    },
    "tags": [
     "soorgeon-imports"
    ]
   },
   "outputs": [],
   "source": [
    "import pandas as pd\n",
    "from sklearn.model_selection import train_test_split\n",
    "from pathlib import Path\n",
    "import pickle\n",
    "from xgboost import XGBClassifier\n",
    "from sklearn.metrics import accuracy_score, confusion_matrix\n",
    "from sklearn.svm import SVC"
   ]
  },
  {
   "cell_type": "code",
   "execution_count": 2,
   "id": "fe1e85c4",
   "metadata": {
    "execution": {
     "iopub.execute_input": "2023-03-30T11:09:03.891364Z",
     "iopub.status.busy": "2023-03-30T11:09:03.890327Z",
     "iopub.status.idle": "2023-03-30T11:09:03.902702Z",
     "shell.execute_reply": "2023-03-30T11:09:03.901586Z"
    },
    "papermill": {
     "duration": 0.031378,
     "end_time": "2023-03-30T11:09:03.905893",
     "exception": false,
     "start_time": "2023-03-30T11:09:03.874515",
     "status": "completed"
    },
    "tags": [
     "parameters"
    ]
   },
   "outputs": [],
   "source": [
    "upstream = ['section-01-get-data', 'section-04-autosklearn-auto-ml']\n",
    "product = None"
   ]
  },
  {
   "cell_type": "code",
   "execution_count": 3,
   "id": "989a069d",
   "metadata": {
    "execution": {
     "iopub.execute_input": "2023-03-30T11:09:03.915874Z",
     "iopub.status.busy": "2023-03-30T11:09:03.915278Z",
     "iopub.status.idle": "2023-03-30T11:09:03.924727Z",
     "shell.execute_reply": "2023-03-30T11:09:03.923556Z"
    },
    "papermill": {
     "duration": 0.019864,
     "end_time": "2023-03-30T11:09:03.929559",
     "exception": false,
     "start_time": "2023-03-30T11:09:03.909695",
     "status": "completed"
    },
    "tags": [
     "injected-parameters"
    ]
   },
   "outputs": [],
   "source": [
    "# Parameters\n",
    "upstream = {\n",
    "    \"section-04-autosklearn-auto-ml\": {\n",
    "        \"categorical_columns\": \"/content/Reproducible-Data-Analysis-With-Jupyter-Notebooks-Standard-Bank-Virtual-Internship/output/section-04-autosklearn-auto-ml-categorical_columns.pkl\",\n",
    "        \"X_train\": \"/content/Reproducible-Data-Analysis-With-Jupyter-Notebooks-Standard-Bank-Virtual-Internship/output/section-04-autosklearn-auto-ml-X_train.pkl\",\n",
    "        \"X\": \"/content/Reproducible-Data-Analysis-With-Jupyter-Notebooks-Standard-Bank-Virtual-Internship/output/section-04-autosklearn-auto-ml-X.pkl\",\n",
    "        \"y_train\": \"/content/Reproducible-Data-Analysis-With-Jupyter-Notebooks-Standard-Bank-Virtual-Internship/output/section-04-autosklearn-auto-ml-y_train.pkl\",\n",
    "        \"y\": \"/content/Reproducible-Data-Analysis-With-Jupyter-Notebooks-Standard-Bank-Virtual-Internship/output/section-04-autosklearn-auto-ml-y.pkl\",\n",
    "        \"nb\": \"/content/Reproducible-Data-Analysis-With-Jupyter-Notebooks-Standard-Bank-Virtual-Internship/output/section-04-autosklearn-auto-ml.ipynb\",\n",
    "    },\n",
    "    \"section-01-get-data\": {\n",
    "        \"train\": \"/content/Reproducible-Data-Analysis-With-Jupyter-Notebooks-Standard-Bank-Virtual-Internship/output/section-01-get-data-train.pkl\",\n",
    "        \"df\": \"/content/Reproducible-Data-Analysis-With-Jupyter-Notebooks-Standard-Bank-Virtual-Internship/output/section-01-get-data-df.pkl\",\n",
    "        \"nb\": \"/content/Reproducible-Data-Analysis-With-Jupyter-Notebooks-Standard-Bank-Virtual-Internship/output/section-01-get-data.ipynb\",\n",
    "    },\n",
    "}\n",
    "product = {\n",
    "    \"X_val\": \"/content/Reproducible-Data-Analysis-With-Jupyter-Notebooks-Standard-Bank-Virtual-Internship/output/section-05-data-preparation-X_val.pkl\",\n",
    "    \"X_train\": \"/content/Reproducible-Data-Analysis-With-Jupyter-Notebooks-Standard-Bank-Virtual-Internship/output/section-05-data-preparation-X_train.pkl\",\n",
    "    \"y_train\": \"/content/Reproducible-Data-Analysis-With-Jupyter-Notebooks-Standard-Bank-Virtual-Internship/output/section-05-data-preparation-y_train.pkl\",\n",
    "    \"y_val\": \"/content/Reproducible-Data-Analysis-With-Jupyter-Notebooks-Standard-Bank-Virtual-Internship/output/section-05-data-preparation-y_val.pkl\",\n",
    "    \"nb\": \"/content/Reproducible-Data-Analysis-With-Jupyter-Notebooks-Standard-Bank-Virtual-Internship/output/section-05-data-preparation.ipynb\",\n",
    "}\n"
   ]
  },
  {
   "cell_type": "code",
   "execution_count": 4,
   "id": "c45c4a84",
   "metadata": {
    "execution": {
     "iopub.execute_input": "2023-03-30T11:09:03.936006Z",
     "iopub.status.busy": "2023-03-30T11:09:03.935649Z",
     "iopub.status.idle": "2023-03-30T11:09:03.944597Z",
     "shell.execute_reply": "2023-03-30T11:09:03.943419Z"
    },
    "papermill": {
     "duration": 0.015136,
     "end_time": "2023-03-30T11:09:03.947177",
     "exception": false,
     "start_time": "2023-03-30T11:09:03.932041",
     "status": "completed"
    },
    "tags": [
     "soorgeon-unpickle"
    ]
   },
   "outputs": [],
   "source": [
    "train = pickle.loads(Path(upstream['section-01-get-data']['train']).read_bytes())\n",
    "X = pickle.loads(Path(upstream['section-04-autosklearn-auto-ml']['X']).read_bytes())\n",
    "categorical_columns = pickle.loads(Path(upstream['section-04-autosklearn-auto-ml']['categorical_columns']).read_bytes())\n",
    "y = pickle.loads(Path(upstream['section-04-autosklearn-auto-ml']['y']).read_bytes())"
   ]
  },
  {
   "cell_type": "markdown",
   "id": "d60125fc",
   "metadata": {
    "id": "QKCOAsTS-J1P",
    "papermill": {
     "duration": 0.00235,
     "end_time": "2023-03-30T11:09:03.952011",
     "exception": false,
     "start_time": "2023-03-30T11:09:03.949661",
     "status": "completed"
    },
    "tags": []
   },
   "source": [
    "## 05) Data Preparation"
   ]
  },
  {
   "cell_type": "code",
   "execution_count": 5,
   "id": "7dfe895e",
   "metadata": {
    "colab": {
     "base_uri": "https://localhost:8080/"
    },
    "execution": {
     "iopub.execute_input": "2023-03-30T11:09:03.958511Z",
     "iopub.status.busy": "2023-03-30T11:09:03.958089Z",
     "iopub.status.idle": "2023-03-30T11:09:03.981992Z",
     "shell.execute_reply": "2023-03-30T11:09:03.980826Z"
    },
    "executionInfo": {
     "elapsed": 24,
     "status": "ok",
     "timestamp": 1680005834679,
     "user": {
      "displayName": "Victor Ruto",
      "userId": "13125455177778424587"
     },
     "user_tz": -180
    },
    "id": "bXyiuKoTEanY",
    "outputId": "f4445c36-f60e-434d-912d-59bb4dd24efc",
    "papermill": {
     "duration": 0.03088,
     "end_time": "2023-03-30T11:09:03.985207",
     "exception": false,
     "start_time": "2023-03-30T11:09:03.954327",
     "status": "completed"
    },
    "tags": []
   },
   "outputs": [
    {
     "data": {
      "text/plain": [
       "ApplicantIncome            0\n",
       "CoapplicantIncome          0\n",
       "LoanAmount                 0\n",
       "Loan_Amount_Term           0\n",
       "Credit_History             0\n",
       "Gender_Female              0\n",
       "Gender_Male                0\n",
       "Married_No                 0\n",
       "Married_Yes                0\n",
       "Dependents_0               0\n",
       "Dependents_1               0\n",
       "Dependents_2               0\n",
       "Dependents_3+              0\n",
       "Education_Graduate         0\n",
       "Education_Not Graduate     0\n",
       "Self_Employed_No           0\n",
       "Self_Employed_Yes          0\n",
       "Property_Area_Rural        0\n",
       "Property_Area_Semiurban    0\n",
       "Property_Area_Urban        0\n",
       "dtype: int64"
      ]
     },
     "execution_count": 5,
     "metadata": {},
     "output_type": "execute_result"
    }
   ],
   "source": [
    "## One hot encode the categorical features\n",
    "##Leave all categories to represent missing values \n",
    "X_oh_encoded = pd.concat([X, pd.get_dummies(X[categorical_columns])], axis=1)\n",
    "X_oh_encoded = X_oh_encoded.drop(columns=categorical_columns)\n",
    "\n",
    "## fill the missing numerical columns\n",
    "X_oh_encoded['LoanAmount'].fillna(X_oh_encoded['LoanAmount'].mean(), inplace=True)\n",
    "X_oh_encoded['Loan_Amount_Term'].fillna(X_oh_encoded['Loan_Amount_Term'].median(), inplace=True)\n",
    "X_oh_encoded['Credit_History'].fillna(X_oh_encoded['Credit_History'].mode()[0], inplace=True)\n",
    "X_oh_encoded.isna().sum()"
   ]
  },
  {
   "cell_type": "code",
   "execution_count": 6,
   "id": "55a3acc8",
   "metadata": {
    "execution": {
     "iopub.execute_input": "2023-03-30T11:09:03.992710Z",
     "iopub.status.busy": "2023-03-30T11:09:03.992295Z",
     "iopub.status.idle": "2023-03-30T11:09:04.001835Z",
     "shell.execute_reply": "2023-03-30T11:09:04.000395Z"
    },
    "id": "4EM0I7tfPz-f",
    "papermill": {
     "duration": 0.016134,
     "end_time": "2023-03-30T11:09:04.004377",
     "exception": false,
     "start_time": "2023-03-30T11:09:03.988243",
     "status": "completed"
    },
    "tags": []
   },
   "outputs": [],
   "source": [
    "X_train, X_val, y_train, y_val = train_test_split(train.drop(columns=['Loan_ID', 'Loan_Status']), train['Loan_Status'])"
   ]
  },
  {
   "cell_type": "code",
   "execution_count": 7,
   "id": "d93f5ce5",
   "metadata": {
    "execution": {
     "iopub.execute_input": "2023-03-30T11:09:04.012264Z",
     "iopub.status.busy": "2023-03-30T11:09:04.011879Z",
     "iopub.status.idle": "2023-03-30T11:09:04.019285Z",
     "shell.execute_reply": "2023-03-30T11:09:04.018531Z"
    },
    "id": "nQw-9zvPK68R",
    "papermill": {
     "duration": 0.013951,
     "end_time": "2023-03-30T11:09:04.021421",
     "exception": false,
     "start_time": "2023-03-30T11:09:04.007470",
     "status": "completed"
    },
    "tags": []
   },
   "outputs": [],
   "source": [
    "X_train, X_val, y_train, y_val = train_test_split(X_oh_encoded, y)"
   ]
  },
  {
   "cell_type": "code",
   "execution_count": 8,
   "id": "1255e1c3",
   "metadata": {
    "execution": {
     "iopub.execute_input": "2023-03-30T11:09:04.028751Z",
     "iopub.status.busy": "2023-03-30T11:09:04.028211Z",
     "iopub.status.idle": "2023-03-30T11:09:04.050560Z",
     "shell.execute_reply": "2023-03-30T11:09:04.049375Z"
    },
    "lines_to_next_cell": 2,
    "papermill": {
     "duration": 0.028734,
     "end_time": "2023-03-30T11:09:04.052789",
     "exception": false,
     "start_time": "2023-03-30T11:09:04.024055",
     "status": "completed"
    },
    "tags": []
   },
   "outputs": [
    {
     "data": {
      "text/plain": [
       "SVC()"
      ]
     },
     "execution_count": 8,
     "metadata": {},
     "output_type": "execute_result"
    }
   ],
   "source": [
    "svm = SVC()\n",
    "svm.fit(X_train, y_train)\n",
    "#print(\"Accuracy on the Train Dataset : \", accuracy_score(xgb.predict(X_train), y_train))\n",
    "#print(\"Accuracy on the Train Dataset : \", accuracy_score(xgb.predict(X_val), y_val))\n",
    "#print(\"\\nConfusion matrix : \\n\", confusion_matrix(xgb.predict(X_val), y_val))"
   ]
  },
  {
   "cell_type": "code",
   "execution_count": 9,
   "id": "9bed18ff",
   "metadata": {
    "execution": {
     "iopub.execute_input": "2023-03-30T11:09:04.060109Z",
     "iopub.status.busy": "2023-03-30T11:09:04.059729Z",
     "iopub.status.idle": "2023-03-30T11:09:04.070783Z",
     "shell.execute_reply": "2023-03-30T11:09:04.069989Z"
    },
    "papermill": {
     "duration": 0.017163,
     "end_time": "2023-03-30T11:09:04.072760",
     "exception": false,
     "start_time": "2023-03-30T11:09:04.055597",
     "status": "completed"
    },
    "tags": [
     "soorgeon-pickle"
    ]
   },
   "outputs": [
    {
     "data": {
      "text/plain": [
       "4384"
      ]
     },
     "execution_count": 9,
     "metadata": {},
     "output_type": "execute_result"
    }
   ],
   "source": [
    "Path(product['X_train']).parent.mkdir(exist_ok=True, parents=True)\n",
    "Path(product['X_train']).write_bytes(pickle.dumps(X_train))\n",
    "\n",
    "Path(product['X_val']).parent.mkdir(exist_ok=True, parents=True)\n",
    "Path(product['X_val']).write_bytes(pickle.dumps(X_val))\n",
    "\n",
    "Path(product['y_train']).parent.mkdir(exist_ok=True, parents=True)\n",
    "Path(product['y_train']).write_bytes(pickle.dumps(y_train))\n",
    "\n",
    "Path(product['y_val']).parent.mkdir(exist_ok=True, parents=True)\n",
    "Path(product['y_val']).write_bytes(pickle.dumps(y_val))"
   ]
  }
 ],
 "metadata": {
  "jupytext": {
   "main_language": "python",
   "text_representation": {
    "extension": ".py",
    "format_name": "percent",
    "format_version": "1.3",
    "jupytext_version": "1.14.5"
   }
  },
  "kernelspec": {
   "display_name": "Python 3",
   "language": "python",
   "name": "python3"
  },
  "language_info": {
   "codemirror_mode": {
    "name": "ipython",
    "version": 3
   },
   "file_extension": ".py",
   "mimetype": "text/x-python",
   "name": "python",
   "nbconvert_exporter": "python",
   "pygments_lexer": "ipython3",
   "version": "3.9.16"
  },
  "papermill": {
   "duration": 3.08526,
   "end_time": "2023-03-30T11:09:04.696278",
   "exception": null,
   "input_path": "/tmp/tmp_kd_8xi6.ipynb",
   "output_path": "/content/Reproducible-Data-Analysis-With-Jupyter-Notebooks-Standard-Bank-Virtual-Internship/output/section-05-data-preparation.ipynb",
   "parameters": {
    "product": {
     "X_train": "/content/Reproducible-Data-Analysis-With-Jupyter-Notebooks-Standard-Bank-Virtual-Internship/output/section-05-data-preparation-X_train.pkl",
     "X_val": "/content/Reproducible-Data-Analysis-With-Jupyter-Notebooks-Standard-Bank-Virtual-Internship/output/section-05-data-preparation-X_val.pkl",
     "nb": "/content/Reproducible-Data-Analysis-With-Jupyter-Notebooks-Standard-Bank-Virtual-Internship/output/section-05-data-preparation.ipynb",
     "y_train": "/content/Reproducible-Data-Analysis-With-Jupyter-Notebooks-Standard-Bank-Virtual-Internship/output/section-05-data-preparation-y_train.pkl",
     "y_val": "/content/Reproducible-Data-Analysis-With-Jupyter-Notebooks-Standard-Bank-Virtual-Internship/output/section-05-data-preparation-y_val.pkl"
    },
    "upstream": {
     "section-01-get-data": {
      "df": "/content/Reproducible-Data-Analysis-With-Jupyter-Notebooks-Standard-Bank-Virtual-Internship/output/section-01-get-data-df.pkl",
      "nb": "/content/Reproducible-Data-Analysis-With-Jupyter-Notebooks-Standard-Bank-Virtual-Internship/output/section-01-get-data.ipynb",
      "train": "/content/Reproducible-Data-Analysis-With-Jupyter-Notebooks-Standard-Bank-Virtual-Internship/output/section-01-get-data-train.pkl"
     },
     "section-04-autosklearn-auto-ml": {
      "X": "/content/Reproducible-Data-Analysis-With-Jupyter-Notebooks-Standard-Bank-Virtual-Internship/output/section-04-autosklearn-auto-ml-X.pkl",
      "X_train": "/content/Reproducible-Data-Analysis-With-Jupyter-Notebooks-Standard-Bank-Virtual-Internship/output/section-04-autosklearn-auto-ml-X_train.pkl",
      "categorical_columns": "/content/Reproducible-Data-Analysis-With-Jupyter-Notebooks-Standard-Bank-Virtual-Internship/output/section-04-autosklearn-auto-ml-categorical_columns.pkl",
      "nb": "/content/Reproducible-Data-Analysis-With-Jupyter-Notebooks-Standard-Bank-Virtual-Internship/output/section-04-autosklearn-auto-ml.ipynb",
      "y": "/content/Reproducible-Data-Analysis-With-Jupyter-Notebooks-Standard-Bank-Virtual-Internship/output/section-04-autosklearn-auto-ml-y.pkl",
      "y_train": "/content/Reproducible-Data-Analysis-With-Jupyter-Notebooks-Standard-Bank-Virtual-Internship/output/section-04-autosklearn-auto-ml-y_train.pkl"
     }
    }
   },
   "start_time": "2023-03-30T11:09:01.611018"
  }
 },
 "nbformat": 4,
 "nbformat_minor": 5
}