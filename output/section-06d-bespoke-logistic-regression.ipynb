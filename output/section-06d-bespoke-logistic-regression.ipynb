{
 "cells": [
  {
   "cell_type": "code",
   "execution_count": null,
   "id": "328334f7",
   "metadata": {
    "papermill": {
     "duration": 0.00235,
     "end_time": "2023-04-03T16:59:46.765994",
     "exception": false,
     "start_time": "2023-04-03T16:59:46.763644",
     "status": "completed"
    },
    "tags": []
   },
   "outputs": [],
   "source": []
  },
  {
   "cell_type": "code",
   "execution_count": 1,
   "id": "af0cb97c",
   "metadata": {
    "execution": {
     "iopub.execute_input": "2023-04-03T16:59:46.771446Z",
     "iopub.status.busy": "2023-04-03T16:59:46.770788Z",
     "iopub.status.idle": "2023-04-03T16:59:47.332134Z",
     "shell.execute_reply": "2023-04-03T16:59:47.331129Z"
    },
    "papermill": {
     "duration": 0.566373,
     "end_time": "2023-04-03T16:59:47.334432",
     "exception": false,
     "start_time": "2023-04-03T16:59:46.768059",
     "status": "completed"
    },
    "tags": [
     "soorgeon-imports"
    ]
   },
   "outputs": [],
   "source": [
    "from sklearn.metrics import accuracy_score, confusion_matrix\n",
    "from pathlib import Path\n",
    "import pickle\n",
    "from sklearn.linear_model import LogisticRegression"
   ]
  },
  {
   "cell_type": "code",
   "execution_count": 2,
   "id": "2434430d",
   "metadata": {
    "execution": {
     "iopub.execute_input": "2023-04-03T16:59:47.339394Z",
     "iopub.status.busy": "2023-04-03T16:59:47.338904Z",
     "iopub.status.idle": "2023-04-03T16:59:47.343187Z",
     "shell.execute_reply": "2023-04-03T16:59:47.342286Z"
    },
    "papermill": {
     "duration": 0.008887,
     "end_time": "2023-04-03T16:59:47.345259",
     "exception": false,
     "start_time": "2023-04-03T16:59:47.336372",
     "status": "completed"
    },
    "tags": [
     "parameters"
    ]
   },
   "outputs": [],
   "source": [
    "upstream = ['section-05b-standardize-features']\n",
    "product = None"
   ]
  },
  {
   "cell_type": "code",
   "execution_count": 3,
   "id": "ae9c99f6",
   "metadata": {
    "execution": {
     "iopub.execute_input": "2023-04-03T16:59:47.349676Z",
     "iopub.status.busy": "2023-04-03T16:59:47.349179Z",
     "iopub.status.idle": "2023-04-03T16:59:47.353416Z",
     "shell.execute_reply": "2023-04-03T16:59:47.352825Z"
    },
    "papermill": {
     "duration": 0.009719,
     "end_time": "2023-04-03T16:59:47.356487",
     "exception": false,
     "start_time": "2023-04-03T16:59:47.346768",
     "status": "completed"
    },
    "tags": [
     "injected-parameters"
    ]
   },
   "outputs": [],
   "source": [
    "# Parameters\n",
    "upstream = {\n",
    "    \"section-05b-standardize-features\": {\n",
    "        \"X_val\": \"/content/reproducible-analysis/output/section-05b-standardize-features-X_val.pkl\",\n",
    "        \"X_train\": \"/content/reproducible-analysis/output/section-05b-standardize-features-X_train.pkl\",\n",
    "        \"y_train\": \"/content/reproducible-analysis/output/section-05b-standardize-features-y_train.pkl\",\n",
    "        \"y_val\": \"/content/reproducible-analysis/output/section-05b-standardize-features-y_val.pkl\",\n",
    "        \"nb\": \"/content/reproducible-analysis/output/section-05b-standardize-features.ipynb\",\n",
    "    }\n",
    "}\n",
    "product = {\n",
    "    \"nb\": \"/content/reproducible-analysis/output/section-06d-bespoke-logistic-regression.ipynb\"\n",
    "}\n"
   ]
  },
  {
   "cell_type": "code",
   "execution_count": 4,
   "id": "b81224b8",
   "metadata": {
    "execution": {
     "iopub.execute_input": "2023-04-03T16:59:47.360471Z",
     "iopub.status.busy": "2023-04-03T16:59:47.360241Z",
     "iopub.status.idle": "2023-04-03T16:59:47.602460Z",
     "shell.execute_reply": "2023-04-03T16:59:47.601738Z"
    },
    "papermill": {
     "duration": 0.246767,
     "end_time": "2023-04-03T16:59:47.604768",
     "exception": false,
     "start_time": "2023-04-03T16:59:47.358001",
     "status": "completed"
    },
    "tags": [
     "soorgeon-unpickle"
    ]
   },
   "outputs": [],
   "source": [
    "X_train = pickle.loads(Path(upstream['section-05b-standardize-features']['X_train']).read_bytes())\n",
    "X_val = pickle.loads(Path(upstream['section-05b-standardize-features']['X_val']).read_bytes())\n",
    "y_train = pickle.loads(Path(upstream['section-05b-standardize-features']['y_train']).read_bytes())\n",
    "y_val = pickle.loads(Path(upstream['section-05b-standardize-features']['y_val']).read_bytes())"
   ]
  },
  {
   "cell_type": "code",
   "execution_count": 5,
   "id": "8fe8dd3b",
   "metadata": {
    "execution": {
     "iopub.execute_input": "2023-04-03T16:59:47.610116Z",
     "iopub.status.busy": "2023-04-03T16:59:47.609391Z",
     "iopub.status.idle": "2023-04-03T16:59:47.625888Z",
     "shell.execute_reply": "2023-04-03T16:59:47.624884Z"
    },
    "papermill": {
     "duration": 0.021001,
     "end_time": "2023-04-03T16:59:47.627833",
     "exception": false,
     "start_time": "2023-04-03T16:59:47.606832",
     "status": "completed"
    },
    "tags": []
   },
   "outputs": [
    {
     "name": "stdout",
     "output_type": "stream",
     "text": [
      "Accuracy on the Train Dataset :  0.8195652173913044\n",
      "Accuracy on the Validation Dataset :  0.7857142857142857\n",
      "\n",
      "Confusion matrix : \n",
      " [[ 15   0]\n",
      " [ 33 106]]\n"
     ]
    }
   ],
   "source": [
    "lr = LogisticRegression() \n",
    "lr.fit(X_train, y_train)\n",
    "print(\"Accuracy on the Train Dataset : \", accuracy_score(lr.predict(X_train), y_train))\n",
    "print(\"Accuracy on the Validation Dataset : \", accuracy_score(lr.predict(X_val), y_val))\n",
    "print(\"\\nConfusion matrix : \\n\", confusion_matrix(lr.predict(X_val), y_val))"
   ]
  }
 ],
 "metadata": {
  "jupytext": {
   "cell_metadata_filter": "tags,-all",
   "main_language": "python",
   "notebook_metadata_filter": "-all",
   "text_representation": {
    "extension": ".py",
    "format_name": "percent"
   }
  },
  "kernelspec": {
   "display_name": "Python 3",
   "language": "python",
   "name": "python3"
  },
  "language_info": {
   "codemirror_mode": {
    "name": "ipython",
    "version": 3
   },
   "file_extension": ".py",
   "mimetype": "text/x-python",
   "name": "python",
   "nbconvert_exporter": "python",
   "pygments_lexer": "ipython3",
   "version": "3.9.16"
  },
  "papermill": {
   "duration": 2.459695,
   "end_time": "2023-04-03T16:59:48.050243",
   "exception": null,
   "input_path": "/tmp/tmp2j2o1x6a.ipynb",
   "output_path": "/content/reproducible-analysis/output/section-06d-bespoke-logistic-regression.ipynb",
   "parameters": {
    "product": {
     "nb": "/content/reproducible-analysis/output/section-06d-bespoke-logistic-regression.ipynb"
    },
    "upstream": {
     "section-05b-standardize-features": {
      "X_train": "/content/reproducible-analysis/output/section-05b-standardize-features-X_train.pkl",
      "X_val": "/content/reproducible-analysis/output/section-05b-standardize-features-X_val.pkl",
      "nb": "/content/reproducible-analysis/output/section-05b-standardize-features.ipynb",
      "y_train": "/content/reproducible-analysis/output/section-05b-standardize-features-y_train.pkl",
      "y_val": "/content/reproducible-analysis/output/section-05b-standardize-features-y_val.pkl"
     }
    }
   },
   "start_time": "2023-04-03T16:59:45.590548"
  }
 },
 "nbformat": 4,
 "nbformat_minor": 5
}