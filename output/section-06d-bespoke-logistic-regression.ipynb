{
 "cells": [
  {
   "cell_type": "code",
   "execution_count": null,
   "id": "6b41c6a3",
   "metadata": {
    "papermill": {
     "duration": 0.002287,
     "end_time": "2023-03-30T21:08:51.350260",
     "exception": false,
     "start_time": "2023-03-30T21:08:51.347973",
     "status": "completed"
    },
    "tags": []
   },
   "outputs": [],
   "source": []
  },
  {
   "cell_type": "code",
   "execution_count": 1,
   "id": "2215fb9d",
   "metadata": {
    "execution": {
     "iopub.execute_input": "2023-03-30T21:08:51.356253Z",
     "iopub.status.busy": "2023-03-30T21:08:51.355474Z",
     "iopub.status.idle": "2023-03-30T21:08:52.015866Z",
     "shell.execute_reply": "2023-03-30T21:08:52.014807Z"
    },
    "papermill": {
     "duration": 0.666287,
     "end_time": "2023-03-30T21:08:52.018554",
     "exception": false,
     "start_time": "2023-03-30T21:08:51.352267",
     "status": "completed"
    },
    "tags": [
     "soorgeon-imports"
    ]
   },
   "outputs": [],
   "source": [
    "from sklearn.metrics import accuracy_score, confusion_matrix\n",
    "from sklearn.tree import DecisionTreeClassifier\n",
    "from pathlib import Path\n",
    "import pickle\n",
    "from sklearn.linear_model import LogisticRegression"
   ]
  },
  {
   "cell_type": "code",
   "execution_count": 2,
   "id": "905504f2",
   "metadata": {
    "execution": {
     "iopub.execute_input": "2023-03-30T21:08:52.023935Z",
     "iopub.status.busy": "2023-03-30T21:08:52.023215Z",
     "iopub.status.idle": "2023-03-30T21:08:52.027586Z",
     "shell.execute_reply": "2023-03-30T21:08:52.026882Z"
    },
    "papermill": {
     "duration": 0.009173,
     "end_time": "2023-03-30T21:08:52.029474",
     "exception": false,
     "start_time": "2023-03-30T21:08:52.020301",
     "status": "completed"
    },
    "tags": [
     "parameters"
    ]
   },
   "outputs": [],
   "source": [
    "upstream = ['section-05-data-preparation']\n",
    "product = None"
   ]
  },
  {
   "cell_type": "code",
   "execution_count": 3,
   "id": "378acb78",
   "metadata": {
    "execution": {
     "iopub.execute_input": "2023-03-30T21:08:52.034807Z",
     "iopub.status.busy": "2023-03-30T21:08:52.034081Z",
     "iopub.status.idle": "2023-03-30T21:08:52.039775Z",
     "shell.execute_reply": "2023-03-30T21:08:52.038697Z"
    },
    "papermill": {
     "duration": 0.010897,
     "end_time": "2023-03-30T21:08:52.041966",
     "exception": false,
     "start_time": "2023-03-30T21:08:52.031069",
     "status": "completed"
    },
    "tags": [
     "injected-parameters"
    ]
   },
   "outputs": [],
   "source": [
    "# Parameters\n",
    "upstream = {\n",
    "    \"section-05-data-preparation\": {\n",
    "        \"X_val\": \"/content/Reproducible-Data-Analysis-With-Jupyter-Notebooks-Standard-Bank-Virtual-Internship/output/section-05-data-preparation-X_val.pkl\",\n",
    "        \"X_train\": \"/content/Reproducible-Data-Analysis-With-Jupyter-Notebooks-Standard-Bank-Virtual-Internship/output/section-05-data-preparation-X_train.pkl\",\n",
    "        \"y_train\": \"/content/Reproducible-Data-Analysis-With-Jupyter-Notebooks-Standard-Bank-Virtual-Internship/output/section-05-data-preparation-y_train.pkl\",\n",
    "        \"y_val\": \"/content/Reproducible-Data-Analysis-With-Jupyter-Notebooks-Standard-Bank-Virtual-Internship/output/section-05-data-preparation-y_val.pkl\",\n",
    "        \"nb\": \"/content/Reproducible-Data-Analysis-With-Jupyter-Notebooks-Standard-Bank-Virtual-Internship/output/section-05-data-preparation.ipynb\",\n",
    "    }\n",
    "}\n",
    "product = {\n",
    "    \"nb\": \"/content/Reproducible-Data-Analysis-With-Jupyter-Notebooks-Standard-Bank-Virtual-Internship/output/section-06d-bespoke-logistic-regression.ipynb\"\n",
    "}\n"
   ]
  },
  {
   "cell_type": "code",
   "execution_count": 4,
   "id": "6f8898c6",
   "metadata": {
    "execution": {
     "iopub.execute_input": "2023-03-30T21:08:52.047477Z",
     "iopub.status.busy": "2023-03-30T21:08:52.046784Z",
     "iopub.status.idle": "2023-03-30T21:08:52.369765Z",
     "shell.execute_reply": "2023-03-30T21:08:52.368699Z"
    },
    "lines_to_next_cell": 2,
    "papermill": {
     "duration": 0.328178,
     "end_time": "2023-03-30T21:08:52.372034",
     "exception": false,
     "start_time": "2023-03-30T21:08:52.043856",
     "status": "completed"
    },
    "tags": [
     "soorgeon-unpickle"
    ]
   },
   "outputs": [
    {
     "name": "stdout",
     "output_type": "stream",
     "text": [
      "Accuracy on the Train Dataset :  0.808695652173913\n",
      "Accuracy on the Validation Dataset :  0.8246753246753247\n",
      "\n",
      "Confusion matrix : \n",
      " [[ 21   1]\n",
      " [ 26 106]]\n"
     ]
    },
    {
     "name": "stderr",
     "output_type": "stream",
     "text": [
      "/usr/local/lib/python3.9/dist-packages/sklearn/linear_model/_logistic.py:763: ConvergenceWarning: lbfgs failed to converge (status=1):\n",
      "STOP: TOTAL NO. of ITERATIONS REACHED LIMIT.\n",
      "\n",
      "Increase the number of iterations (max_iter) or scale the data as shown in:\n",
      "    https://scikit-learn.org/stable/modules/preprocessing.html\n",
      "Please also refer to the documentation for alternative solver options:\n",
      "    https://scikit-learn.org/stable/modules/linear_model.html#logistic-regression\n",
      "  n_iter_i = _check_optimize_result(\n"
     ]
    }
   ],
   "source": [
    "X_train = pickle.loads(Path(upstream['section-05-data-preparation']['X_train']).read_bytes())\n",
    "X_val = pickle.loads(Path(upstream['section-05-data-preparation']['X_val']).read_bytes())\n",
    "y_train = pickle.loads(Path(upstream['section-05-data-preparation']['y_train']).read_bytes())\n",
    "y_val = pickle.loads(Path(upstream['section-05-data-preparation']['y_val']).read_bytes())\n",
    "\n",
    "lr = LogisticRegression() \n",
    "lr.fit(X_train, y_train)\n",
    "print(\"Accuracy on the Train Dataset : \", accuracy_score(lr.predict(X_train), y_train))\n",
    "print(\"Accuracy on the Validation Dataset : \", accuracy_score(lr.predict(X_val), y_val))\n",
    "print(\"\\nConfusion matrix : \\n\", confusion_matrix(lr.predict(X_val), y_val))"
   ]
  }
 ],
 "metadata": {
  "jupytext": {
   "cell_metadata_filter": "tags,-all",
   "main_language": "python",
   "notebook_metadata_filter": "-all",
   "text_representation": {
    "extension": ".py",
    "format_name": "percent"
   }
  },
  "kernelspec": {
   "display_name": "Python 3",
   "language": "python",
   "name": "python3"
  },
  "language_info": {
   "codemirror_mode": {
    "name": "ipython",
    "version": 3
   },
   "file_extension": ".py",
   "mimetype": "text/x-python",
   "name": "python",
   "nbconvert_exporter": "python",
   "pygments_lexer": "ipython3",
   "version": "3.9.16"
  },
  "papermill": {
   "duration": 2.949083,
   "end_time": "2023-03-30T21:08:52.996122",
   "exception": null,
   "input_path": "/tmp/tmpev5zpn1h.ipynb",
   "output_path": "/content/Reproducible-Data-Analysis-With-Jupyter-Notebooks-Standard-Bank-Virtual-Internship/output/section-06d-bespoke-logistic-regression.ipynb",
   "parameters": {
    "product": {
     "nb": "/content/Reproducible-Data-Analysis-With-Jupyter-Notebooks-Standard-Bank-Virtual-Internship/output/section-06d-bespoke-logistic-regression.ipynb"
    },
    "upstream": {
     "section-05-data-preparation": {
      "X_train": "/content/Reproducible-Data-Analysis-With-Jupyter-Notebooks-Standard-Bank-Virtual-Internship/output/section-05-data-preparation-X_train.pkl",
      "X_val": "/content/Reproducible-Data-Analysis-With-Jupyter-Notebooks-Standard-Bank-Virtual-Internship/output/section-05-data-preparation-X_val.pkl",
      "nb": "/content/Reproducible-Data-Analysis-With-Jupyter-Notebooks-Standard-Bank-Virtual-Internship/output/section-05-data-preparation.ipynb",
      "y_train": "/content/Reproducible-Data-Analysis-With-Jupyter-Notebooks-Standard-Bank-Virtual-Internship/output/section-05-data-preparation-y_train.pkl",
      "y_val": "/content/Reproducible-Data-Analysis-With-Jupyter-Notebooks-Standard-Bank-Virtual-Internship/output/section-05-data-preparation-y_val.pkl"
     }
    }
   },
   "start_time": "2023-03-30T21:08:50.047039"
  }
 },
 "nbformat": 4,
 "nbformat_minor": 5
}