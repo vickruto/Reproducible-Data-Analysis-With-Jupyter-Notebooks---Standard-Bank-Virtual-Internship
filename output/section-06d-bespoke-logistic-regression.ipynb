{
 "cells": [
  {
   "cell_type": "code",
   "execution_count": null,
   "id": "e0769f6b",
   "metadata": {
    "papermill": {
     "duration": 0.002327,
     "end_time": "2023-04-03T13:14:32.248042",
     "exception": false,
     "start_time": "2023-04-03T13:14:32.245715",
     "status": "completed"
    },
    "tags": []
   },
   "outputs": [],
   "source": []
  },
  {
   "cell_type": "code",
   "execution_count": 1,
   "id": "b28ca9a2",
   "metadata": {
    "execution": {
     "iopub.execute_input": "2023-04-03T13:14:32.255100Z",
     "iopub.status.busy": "2023-04-03T13:14:32.254274Z",
     "iopub.status.idle": "2023-04-03T13:14:32.998177Z",
     "shell.execute_reply": "2023-04-03T13:14:32.997028Z"
    },
    "papermill": {
     "duration": 0.750839,
     "end_time": "2023-04-03T13:14:33.001101",
     "exception": false,
     "start_time": "2023-04-03T13:14:32.250262",
     "status": "completed"
    },
    "tags": [
     "soorgeon-imports"
    ]
   },
   "outputs": [],
   "source": [
    "from sklearn.metrics import accuracy_score, confusion_matrix\n",
    "from sklearn.tree import DecisionTreeClassifier\n",
    "from pathlib import Path\n",
    "import pickle\n",
    "from sklearn.linear_model import LogisticRegression"
   ]
  },
  {
   "cell_type": "code",
   "execution_count": 2,
   "id": "bdc247b8",
   "metadata": {
    "execution": {
     "iopub.execute_input": "2023-04-03T13:14:33.007113Z",
     "iopub.status.busy": "2023-04-03T13:14:33.006429Z",
     "iopub.status.idle": "2023-04-03T13:14:33.012678Z",
     "shell.execute_reply": "2023-04-03T13:14:33.011805Z"
    },
    "papermill": {
     "duration": 0.011823,
     "end_time": "2023-04-03T13:14:33.014991",
     "exception": false,
     "start_time": "2023-04-03T13:14:33.003168",
     "status": "completed"
    },
    "tags": [
     "parameters"
    ]
   },
   "outputs": [],
   "source": [
    "upstream = ['section-05b-standardize-features']\n",
    "product = None"
   ]
  },
  {
   "cell_type": "code",
   "execution_count": 3,
   "id": "9f0ff7b3",
   "metadata": {
    "execution": {
     "iopub.execute_input": "2023-04-03T13:14:33.021067Z",
     "iopub.status.busy": "2023-04-03T13:14:33.019997Z",
     "iopub.status.idle": "2023-04-03T13:14:33.025456Z",
     "shell.execute_reply": "2023-04-03T13:14:33.024680Z"
    },
    "papermill": {
     "duration": 0.010707,
     "end_time": "2023-04-03T13:14:33.027513",
     "exception": false,
     "start_time": "2023-04-03T13:14:33.016806",
     "status": "completed"
    },
    "tags": [
     "injected-parameters"
    ]
   },
   "outputs": [],
   "source": [
    "# Parameters\n",
    "upstream = {\n",
    "    \"section-05b-standardize-features\": {\n",
    "        \"X_val\": \"/content/reproducible-analysis/output/section-05b-standardize-features-X_val.pkl\",\n",
    "        \"X_train\": \"/content/reproducible-analysis/output/section-05b-standardize-features-X_train.pkl\",\n",
    "        \"y_train\": \"/content/reproducible-analysis/output/section-05b-standardize-features-y_train.pkl\",\n",
    "        \"y_val\": \"/content/reproducible-analysis/output/section-05b-standardize-features-y_val.pkl\",\n",
    "        \"nb\": \"/content/reproducible-analysis/output/section-05b-standardize-features.ipynb\",\n",
    "    }\n",
    "}\n",
    "product = {\n",
    "    \"nb\": \"/content/reproducible-analysis/output/section-06d-bespoke-logistic-regression.ipynb\"\n",
    "}\n"
   ]
  },
  {
   "cell_type": "code",
   "execution_count": 4,
   "id": "301e08d4",
   "metadata": {
    "execution": {
     "iopub.execute_input": "2023-04-03T13:14:33.034318Z",
     "iopub.status.busy": "2023-04-03T13:14:33.033658Z",
     "iopub.status.idle": "2023-04-03T13:14:33.315971Z",
     "shell.execute_reply": "2023-04-03T13:14:33.314817Z"
    },
    "papermill": {
     "duration": 0.289091,
     "end_time": "2023-04-03T13:14:33.318567",
     "exception": false,
     "start_time": "2023-04-03T13:14:33.029476",
     "status": "completed"
    },
    "tags": [
     "soorgeon-unpickle"
    ]
   },
   "outputs": [],
   "source": [
    "X_train = pickle.loads(Path(upstream['section-05b-standardize-features']['X_train']).read_bytes())\n",
    "X_val = pickle.loads(Path(upstream['section-05b-standardize-features']['X_val']).read_bytes())\n",
    "y_train = pickle.loads(Path(upstream['section-05b-standardize-features']['y_train']).read_bytes())\n",
    "y_val = pickle.loads(Path(upstream['section-05b-standardize-features']['y_val']).read_bytes())"
   ]
  },
  {
   "cell_type": "code",
   "execution_count": 5,
   "id": "7851f58a",
   "metadata": {
    "execution": {
     "iopub.execute_input": "2023-04-03T13:14:33.324317Z",
     "iopub.status.busy": "2023-04-03T13:14:33.323482Z",
     "iopub.status.idle": "2023-04-03T13:14:33.348311Z",
     "shell.execute_reply": "2023-04-03T13:14:33.346527Z"
    },
    "papermill": {
     "duration": 0.031421,
     "end_time": "2023-04-03T13:14:33.351933",
     "exception": false,
     "start_time": "2023-04-03T13:14:33.320512",
     "status": "completed"
    },
    "tags": []
   },
   "outputs": [
    {
     "name": "stdout",
     "output_type": "stream",
     "text": [
      "Accuracy on the Train Dataset :  0.8195652173913044\n",
      "Accuracy on the Validation Dataset :  0.8116883116883117\n",
      "\n",
      "Confusion matrix : \n",
      " [[ 23   5]\n",
      " [ 24 102]]\n"
     ]
    }
   ],
   "source": [
    "lr = LogisticRegression() \n",
    "lr.fit(X_train, y_train)\n",
    "print(\"Accuracy on the Train Dataset : \", accuracy_score(lr.predict(X_train), y_train))\n",
    "print(\"Accuracy on the Validation Dataset : \", accuracy_score(lr.predict(X_val), y_val))\n",
    "print(\"\\nConfusion matrix : \\n\", confusion_matrix(lr.predict(X_val), y_val))"
   ]
  }
 ],
 "metadata": {
  "jupytext": {
   "cell_metadata_filter": "tags,-all",
   "main_language": "python",
   "notebook_metadata_filter": "-all",
   "text_representation": {
    "extension": ".py",
    "format_name": "percent"
   }
  },
  "kernelspec": {
   "display_name": "Python 3",
   "language": "python",
   "name": "python3"
  },
  "language_info": {
   "codemirror_mode": {
    "name": "ipython",
    "version": 3
   },
   "file_extension": ".py",
   "mimetype": "text/x-python",
   "name": "python",
   "nbconvert_exporter": "python",
   "pygments_lexer": "ipython3",
   "version": "3.9.16"
  },
  "papermill": {
   "duration": 3.05903,
   "end_time": "2023-04-03T13:14:33.976798",
   "exception": null,
   "input_path": "/tmp/tmpoisshj5_.ipynb",
   "output_path": "/content/reproducible-analysis/output/section-06d-bespoke-logistic-regression.ipynb",
   "parameters": {
    "product": {
     "nb": "/content/reproducible-analysis/output/section-06d-bespoke-logistic-regression.ipynb"
    },
    "upstream": {
     "section-05b-standardize-features": {
      "X_train": "/content/reproducible-analysis/output/section-05b-standardize-features-X_train.pkl",
      "X_val": "/content/reproducible-analysis/output/section-05b-standardize-features-X_val.pkl",
      "nb": "/content/reproducible-analysis/output/section-05b-standardize-features.ipynb",
      "y_train": "/content/reproducible-analysis/output/section-05b-standardize-features-y_train.pkl",
      "y_val": "/content/reproducible-analysis/output/section-05b-standardize-features-y_val.pkl"
     }
    }
   },
   "start_time": "2023-04-03T13:14:30.917768"
  }
 },
 "nbformat": 4,
 "nbformat_minor": 5
}