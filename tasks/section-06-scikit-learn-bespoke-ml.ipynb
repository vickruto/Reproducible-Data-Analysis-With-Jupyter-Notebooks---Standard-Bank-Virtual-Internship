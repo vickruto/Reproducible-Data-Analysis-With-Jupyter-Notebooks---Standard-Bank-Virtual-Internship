{
 "cells": [
  {
   "cell_type": "code",
   "execution_count": null,
   "id": "68f822f9",
   "metadata": {
    "tags": [
     "soorgeon-imports"
    ]
   },
   "outputs": [],
   "source": [
    "from IPython.display import clear_output\n",
    "from sklearn.linear_model import LogisticRegression\n",
    "from sklearn.metrics import accuracy_score, confusion_matrix\n",
    "from sklearn.preprocessing import StandardScaler, LabelEncoder, OrdinalEncoder\n",
    "from xgboost import XGBClassifier\n",
    "from catboost import CatBoostClassifier\n",
    "from lightgbm import LGBMClassifier\n",
    "  import sklearn\n",
    "from sklearn.svm import SVC\n",
    "from sklearn.ensemble import AdaBoostClassifier\n",
    "from sklearn.tree import DecisionTreeClassifier\n",
    "from pathlib import Path\n",
    "import pickle"
   ]
  },
  {
   "cell_type": "code",
   "execution_count": null,
   "id": "561249b9",
   "metadata": {
    "tags": [
     "parameters"
    ]
   },
   "outputs": [],
   "source": [
    "upstream = ['section-05-data-preparation']\n",
    "product = None"
   ]
  },
  {
   "cell_type": "code",
   "execution_count": null,
   "id": "c40fb843",
   "metadata": {
    "tags": [
     "soorgeon-unpickle"
    ]
   },
   "outputs": [],
   "source": [
    "X_train = pickle.loads(Path(upstream['section-05-data-preparation']['X_train']).read_bytes())\n",
    "X_val = pickle.loads(Path(upstream['section-05-data-preparation']['X_val']).read_bytes())\n",
    "y_train = pickle.loads(Path(upstream['section-05-data-preparation']['y_train']).read_bytes())\n",
    "y_val = pickle.loads(Path(upstream['section-05-data-preparation']['y_val']).read_bytes())"
   ]
  },
  {
   "cell_type": "markdown",
   "id": "c414f304",
   "metadata": {
    "id": "5pfvdlsqGZT9"
   },
   "source": [
    "## 06) Scikit-learn Bespoke ML"
   ]
  },
  {
   "cell_type": "code",
   "execution_count": null,
   "id": "874462b1",
   "metadata": {
    "colab": {
     "base_uri": "https://localhost:8080/"
    },
    "execution": {
     "iopub.execute_input": "2023-03-13T12:12:34.880431Z",
     "iopub.status.busy": "2023-03-13T12:12:34.879415Z",
     "iopub.status.idle": "2023-03-13T12:12:35.298573Z",
     "shell.execute_reply": "2023-03-13T12:12:35.297803Z",
     "shell.execute_reply.started": "2023-03-13T12:12:34.880402Z"
    },
    "executionInfo": {
     "elapsed": 1706,
     "status": "ok",
     "timestamp": 1680005836366,
     "user": {
      "displayName": "Victor Ruto",
      "userId": "13125455177778424587"
     },
     "user_tz": -180
    },
    "id": "DsieitWyPz-f",
    "outputId": "e7071457-f78e-4651-c89b-fb59baa19b51"
   },
   "outputs": [
    {
     "name": "stdout",
     "output_type": "stream",
     "text": [
      "Accuracy on the Train Dataset :  1.0\n",
      "Accuracy on the Train Dataset :  0.7402597402597403\n",
      "\n",
      "Confusion matrix : \n",
      " [[20 20]\n",
      " [20 94]]\n"
     ]
    }
   ],
   "source": [
    "\n",
    "xgb = XGBClassifier()\n",
    "xgb.fit(X_train, y_train)\n",
    "print(\"Accuracy on the Train Dataset : \", accuracy_score(xgb.predict(X_train), y_train))\n",
    "print(\"Accuracy on the Train Dataset : \", accuracy_score(xgb.predict(X_val), y_val))\n",
    "print(\"\\nConfusion matrix : \\n\", confusion_matrix(xgb.predict(X_val), y_val))"
   ]
  },
  {
   "cell_type": "code",
   "execution_count": null,
   "id": "ed8dff72",
   "metadata": {
    "id": "CXU9jbpaLUq2"
   },
   "outputs": [],
   "source": [
    "!pip install catboost\n",
    "clear_output()"
   ]
  },
  {
   "cell_type": "code",
   "execution_count": null,
   "id": "f327336f",
   "metadata": {
    "colab": {
     "base_uri": "https://localhost:8080/"
    },
    "execution": {
     "iopub.execute_input": "2023-03-13T12:12:35.303221Z",
     "iopub.status.busy": "2023-03-13T12:12:35.302888Z",
     "iopub.status.idle": "2023-03-13T12:12:37.084447Z",
     "shell.execute_reply": "2023-03-13T12:12:37.082891Z",
     "shell.execute_reply.started": "2023-03-13T12:12:35.303197Z"
    },
    "executionInfo": {
     "elapsed": 4122,
     "status": "ok",
     "timestamp": 1680005846505,
     "user": {
      "displayName": "Victor Ruto",
      "userId": "13125455177778424587"
     },
     "user_tz": -180
    },
    "id": "ZK9BL9RbPz-g",
    "outputId": "d4078f2e-38c5-4225-d987-b479f0d90868"
   },
   "outputs": [
    {
     "name": "stdout",
     "output_type": "stream",
     "text": [
      "Accuracy on the Train Dataset :  0.9173913043478261\n",
      "Accuracy on the Train Dataset :  0.8181818181818182\n",
      "\n",
      "Confusion matrix : \n",
      " [[ 19   7]\n",
      " [ 21 107]]\n"
     ]
    }
   ],
   "source": [
    "\n",
    "cbc = CatBoostClassifier(verbose=0)\n",
    "cbc.fit(X_train, y_train)\n",
    "\n",
    "print(\"Accuracy on the Train Dataset : \", accuracy_score(cbc.predict(X_train), y_train))\n",
    "print(\"Accuracy on the Train Dataset : \", accuracy_score(cbc.predict(X_val), y_val))\n",
    "print(\"\\nConfusion matrix : \\n\", confusion_matrix(cbc.predict(X_val), y_val))"
   ]
  },
  {
   "cell_type": "code",
   "execution_count": null,
   "id": "ea15aa6a",
   "metadata": {
    "colab": {
     "base_uri": "https://localhost:8080/"
    },
    "execution": {
     "iopub.execute_input": "2023-03-13T12:12:37.086990Z",
     "iopub.status.busy": "2023-03-13T12:12:37.086637Z",
     "iopub.status.idle": "2023-03-13T12:12:38.390113Z",
     "shell.execute_reply": "2023-03-13T12:12:38.388973Z",
     "shell.execute_reply.started": "2023-03-13T12:12:37.086964Z"
    },
    "executionInfo": {
     "elapsed": 674,
     "status": "ok",
     "timestamp": 1680005847168,
     "user": {
      "displayName": "Victor Ruto",
      "userId": "13125455177778424587"
     },
     "user_tz": -180
    },
    "id": "NwtHeGtkPz-g",
    "outputId": "f3cf9a39-f2c0-4436-9b26-b091fb8dd6eb"
   },
   "outputs": [
    {
     "name": "stdout",
     "output_type": "stream",
     "text": [
      "Accuracy on the Train Dataset :  0.9978260869565218\n",
      "Accuracy on the Train Dataset :  0.7467532467532467\n",
      "\n",
      "Confusion matrix : \n",
      " [[20 19]\n",
      " [20 95]]\n"
     ]
    }
   ],
   "source": [
    "\n",
    "lgbm = LGBMClassifier()\n",
    "lgbm.fit(X_train, y_train)\n",
    "print(\"Accuracy on the Train Dataset : \", accuracy_score(lgbm.predict(X_train), y_train))\n",
    "print(\"Accuracy on the Train Dataset : \", accuracy_score(lgbm.predict(X_val), y_val))\n",
    "print(\"\\nConfusion matrix : \\n\", confusion_matrix(lgbm.predict(X_val), y_val))"
   ]
  },
  {
   "cell_type": "code",
   "execution_count": null,
   "id": "cd74c27f",
   "metadata": {
    "execution": {
     "iopub.execute_input": "2023-03-13T12:12:38.391827Z",
     "iopub.status.busy": "2023-03-13T12:12:38.391568Z",
     "iopub.status.idle": "2023-03-13T12:12:38.758890Z",
     "shell.execute_reply": "2023-03-13T12:12:38.757251Z",
     "shell.execute_reply.started": "2023-03-13T12:12:38.391803Z"
    },
    "id": "kUrCfRIuLP0c"
   },
   "outputs": [],
   "source": [
    "## Some sklearn classifiers we can try\n",
    "try:\n",
    "\n",
    "\n",
    "  classifiers = sklearn.utils.all_estimators(type_filter='classifier')\n",
    "  for name, class_ in classifiers:\n",
    "      if hasattr(class_, 'predict_proba'):\n",
    "          print(name, class_)\n",
    "  \n",
    "except:\n",
    "  pass"
   ]
  },
  {
   "cell_type": "code",
   "execution_count": null,
   "id": "bcff9fa7",
   "metadata": {
    "execution": {
     "iopub.execute_input": "2023-03-13T12:12:38.761344Z",
     "iopub.status.busy": "2023-03-13T12:12:38.760963Z",
     "iopub.status.idle": "2023-03-13T12:12:38.775807Z",
     "shell.execute_reply": "2023-03-13T12:12:38.774523Z",
     "shell.execute_reply.started": "2023-03-13T12:12:38.761309Z"
    },
    "id": "IwO2lqAvPz-h"
   },
   "outputs": [],
   "source": [
    "## Scale the data to a range of [0-1]\n",
    "scaler = StandardScaler()\n",
    "X_train = scaler.fit_transform(X_train)\n",
    "X_val = scaler.transform(X_val)"
   ]
  },
  {
   "cell_type": "code",
   "execution_count": null,
   "id": "6420e7d1",
   "metadata": {
    "colab": {
     "base_uri": "https://localhost:8080/"
    },
    "execution": {
     "iopub.execute_input": "2023-03-13T12:12:38.778525Z",
     "iopub.status.busy": "2023-03-13T12:12:38.778124Z",
     "iopub.status.idle": "2023-03-13T12:12:38.856635Z",
     "shell.execute_reply": "2023-03-13T12:12:38.854877Z",
     "shell.execute_reply.started": "2023-03-13T12:12:38.778498Z"
    },
    "executionInfo": {
     "elapsed": 19,
     "status": "ok",
     "timestamp": 1680005847812,
     "user": {
      "displayName": "Victor Ruto",
      "userId": "13125455177778424587"
     },
     "user_tz": -180
    },
    "id": "d4XD_9K4E4Ue",
    "outputId": "182d1225-2a4c-4f82-c307-c99df0366a46"
   },
   "outputs": [
    {
     "name": "stdout",
     "output_type": "stream",
     "text": [
      "Accuracy on the Train Dataset :  0.8065217391304348\n",
      "Accuracy on the Validation Dataset :  0.8311688311688312\n",
      "\n",
      "Confusion matrix : \n",
      " [[ 17   3]\n",
      " [ 23 111]]\n"
     ]
    }
   ],
   "source": [
    "\n",
    "lr = LogisticRegression() \n",
    "lr.fit(X_train, y_train)\n",
    "\n",
    "print(\"Accuracy on the Train Dataset : \", accuracy_score(lr.predict(X_train), y_train))\n",
    "print(\"Accuracy on the Validation Dataset : \", accuracy_score(lr.predict(X_val), y_val))\n",
    "print(\"\\nConfusion matrix : \\n\", confusion_matrix(lr.predict(X_val), y_val))"
   ]
  },
  {
   "cell_type": "code",
   "execution_count": null,
   "id": "0d540d9c",
   "metadata": {
    "colab": {
     "base_uri": "https://localhost:8080/"
    },
    "execution": {
     "iopub.execute_input": "2023-03-13T12:12:38.859079Z",
     "iopub.status.busy": "2023-03-13T12:12:38.858662Z",
     "iopub.status.idle": "2023-03-13T12:12:39.031395Z",
     "shell.execute_reply": "2023-03-13T12:12:39.028927Z",
     "shell.execute_reply.started": "2023-03-13T12:12:38.859045Z"
    },
    "executionInfo": {
     "elapsed": 19,
     "status": "ok",
     "timestamp": 1680005847813,
     "user": {
      "displayName": "Victor Ruto",
      "userId": "13125455177778424587"
     },
     "user_tz": -180
    },
    "id": "u2ZpGCLdPz-i",
    "outputId": "42e6ff94-ca44-4d16-e46c-6d77d012e9e6"
   },
   "outputs": [
    {
     "name": "stdout",
     "output_type": "stream",
     "text": [
      "Accuracy on the Train Dataset :  0.8173913043478261\n",
      "Accuracy on the Validation Dataset :  0.8311688311688312\n",
      "\n",
      "Confusion matrix : \n",
      " [[ 17   3]\n",
      " [ 23 111]]\n"
     ]
    }
   ],
   "source": [
    "\n",
    "svm = SVC()\n",
    "svm.fit(X_train, y_train)\n",
    "print(\"Accuracy on the Train Dataset : \", svm.score(X_train, y_train))\n",
    "print(\"Accuracy on the Validation Dataset : \", svm.score(X_val, y_val)) \n",
    "print(\"\\nConfusion matrix : \\n\", confusion_matrix(svm.predict(X_val), y_val))"
   ]
  },
  {
   "cell_type": "code",
   "execution_count": null,
   "id": "3075c83a",
   "metadata": {
    "colab": {
     "base_uri": "https://localhost:8080/"
    },
    "execution": {
     "iopub.status.busy": "2023-03-13T12:12:39.032726Z",
     "iopub.status.idle": "2023-03-13T12:12:39.033163Z",
     "shell.execute_reply": "2023-03-13T12:12:39.032962Z",
     "shell.execute_reply.started": "2023-03-13T12:12:39.032942Z"
    },
    "executionInfo": {
     "elapsed": 14,
     "status": "ok",
     "timestamp": 1680005847813,
     "user": {
      "displayName": "Victor Ruto",
      "userId": "13125455177778424587"
     },
     "user_tz": -180
    },
    "id": "tLvLaVYbPz-i",
    "outputId": "4a6456fd-13dc-42bc-f5b4-ddcaebd036fd"
   },
   "outputs": [
    {
     "name": "stdout",
     "output_type": "stream",
     "text": [
      "Accuracy on the Train Dataset :  0.8608695652173913\n",
      "Accuracy on the Validation Dataset :  0.7662337662337663\n",
      "\n",
      "Confusion matrix : \n",
      " [[19 15]\n",
      " [21 99]]\n"
     ]
    }
   ],
   "source": [
    "\n",
    "adb = AdaBoostClassifier()\n",
    "adb.fit(X_train, y_train)\n",
    "adb.score(X_train, y_train), adb.score(X_val, y_val)\n",
    "print(\"Accuracy on the Train Dataset : \", adb.score(X_train, y_train))\n",
    "print(\"Accuracy on the Validation Dataset : \", adb.score(X_val, y_val)) \n",
    "print(\"\\nConfusion matrix : \\n\", confusion_matrix(adb.predict(X_val), y_val))"
   ]
  },
  {
   "cell_type": "code",
   "execution_count": null,
   "id": "51b9314e",
   "metadata": {
    "colab": {
     "base_uri": "https://localhost:8080/"
    },
    "execution": {
     "iopub.status.busy": "2023-03-13T12:12:39.036110Z",
     "iopub.status.idle": "2023-03-13T12:12:39.036704Z",
     "shell.execute_reply": "2023-03-13T12:12:39.036482Z",
     "shell.execute_reply.started": "2023-03-13T12:12:39.036436Z"
    },
    "executionInfo": {
     "elapsed": 12,
     "status": "ok",
     "timestamp": 1680005847814,
     "user": {
      "displayName": "Victor Ruto",
      "userId": "13125455177778424587"
     },
     "user_tz": -180
    },
    "id": "IB0ZsuJdPz-i",
    "outputId": "724764bc-1e0f-4503-81bb-513c694e69aa"
   },
   "outputs": [
    {
     "name": "stdout",
     "output_type": "stream",
     "text": [
      "Accuracy on the Train Dataset :  1.0\n",
      "Accuracy on the Validation Dataset :  0.6688311688311688\n",
      "\n",
      "Confusion matrix : \n",
      " [[22 33]\n",
      " [18 81]]\n"
     ]
    }
   ],
   "source": [
    "\n",
    "dt = DecisionTreeClassifier()\n",
    "dt.fit(X_train, y_train)\n",
    "print(\"Accuracy on the Train Dataset : \", dt.score(X_train, y_train))\n",
    "print(\"Accuracy on the Validation Dataset : \", dt.score(X_val, y_val)) \n",
    "print(\"\\nConfusion matrix : \\n\", confusion_matrix(dt.predict(X_val), y_val))"
   ]
  },
  {
   "cell_type": "markdown",
   "id": "cb12bb32",
   "metadata": {
    "id": "rcteJlGYX1EE"
   },
   "source": [
    "The AutoML model has an accuracy of 78.9%. The bespoke classifier models tried have accuracies ranging from 71% to 80%. The models are tried right out of the box, which means that with parameter fine tuning, we can expect to get higher accuracies. Thus, we can make a case for bespoke modelling since accuracy is very important in this application case and any slight improvement in the expected level of accuracy should be pursued."
   ]
  },
  {
   "cell_type": "code",
   "execution_count": null,
   "id": "a3c5f165",
   "metadata": {
    "tags": [
     "soorgeon-pickle"
    ]
   },
   "outputs": [],
   "source": [
    "Path(product['X_train']).parent.mkdir(exist_ok=True, parents=True)\n",
    "Path(product['X_train']).write_bytes(pickle.dumps(X_train))\n",
    "\n",
    "Path(product['X_val']).parent.mkdir(exist_ok=True, parents=True)\n",
    "Path(product['X_val']).write_bytes(pickle.dumps(X_val))"
   ]
  }
 ],
 "metadata": {
  "kernelspec": {
   "display_name": "Python 3",
   "language": "python",
   "name": "python3"
  }
 },
 "nbformat": 4,
 "nbformat_minor": 5
}