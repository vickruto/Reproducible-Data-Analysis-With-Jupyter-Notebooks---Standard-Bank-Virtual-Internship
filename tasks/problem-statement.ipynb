{
 "cells": [
  {
   "cell_type": "code",
   "execution_count": null,
   "id": "6c196810",
   "metadata": {
    "tags": [
     "parameters"
    ]
   },
   "outputs": [],
   "source": [
    "upstream = None\n",
    "product = None"
   ]
  },
  {
   "cell_type": "markdown",
   "id": "32a54c87",
   "metadata": {
    "id": "3BWhOQssOTMl"
   },
   "source": [
    "# Task 2 \n",
    "\n",
    "# Credit / Home Loans - AutoML vs Bespoke ML\n",
    "\n",
    "## Problem Statement\n",
    "\n",
    "Standard Bank is embracing the digital transformation wave and intends to use new and exciting technologies to give their customers a complete set of services from the convenience of their mobile devices.\n",
    "As Africa’s biggest lender by assets, the bank aims to improve the current process in which potential borrowers apply for a home loan. The current process involves loan officers having to manually process home loan applications. This process takes 2 to 3 days to process upon which the applicant will receive communication on whether or not they have been granted the loan for the requested amount.\n",
    "To improve the process Standard Bank wants to make use of machine learning to assess the credit worthiness of an applicant by implementing a model that will predict if the potential borrower will default on his/her loan or not, and do this such that the applicant receives a response immediately after completing their application. \n",
    "\n",
    "You will be required to follow the data science lifecycle to fulfill the objective. The data science lifecycle (https://www.datascience-pm.com/crisp-dm-2/) includes:\n",
    "\n",
    "- Business Understanding\n",
    "- Data Understanding\n",
    "- Data Preparation\n",
    "- Modelling\n",
    "- Evaluation\n",
    "- Deployment.\n",
    "\n",
    "You now know the CRoss Industry Standard Process for Data Mining (CRISP-DM), have an idea of the business needs and objectivess, and understand the data. Next is the tedious task of preparing the data for modeling, modeling and evaluating the model. Luckily, just like EDA the first of the two phases can be automated. But also, just like EDA this is not always best. \n",
    "\n",
    "\n",
    "In this task you will be get a taste of AutoML and Bespoke ML. In the notebook we make use of the library auto-sklearn/autosklearn (https://www.automl.org/automl/auto-sklearn/) for AutoML and sklearn for ML. We will use train one machine for the traditional approach and you will be required to change this model to any of the models that exist in sklearn. The model we will train will be a Logistic Regression. Parts of the data preparation will be omitted for you to do, but we will provide hints to lead you in the right direction.\n",
    "\n",
    "The data provided can be found in the Resources folder as well as (https://www.kaggle.com/datasets/altruistdelhite04/loan-prediction-problem-dataset).\n",
    "\n",
    "- train will serve as the historical dataset that the model will be trained on and,\n",
    "- test will serve as unseen data we will predict on, i.e. new ('future') applicants.\n",
    "\n",
    "### Part One\n",
    "\n",
    "There are many AutoEDA Python libraries out there which include:\n",
    "\n",
    "- dtale (https://dtale.readthedocs.io/en/latest/)\n",
    "- pandas profiling (https://pandas-profiling.ydata.ai/docs/master/index.html)\n",
    "- autoviz (https://readthedocs.org/projects/autoviz/)\n",
    "- sweetviz (https://pypi.org/project/sweetviz/)\n",
    "\n",
    "and many more. In this task we will use Sweetviz.. You may be required to use bespoke EDA methods.\n",
    "\n",
    "The Home Loans Department manager wants to know the following:\n",
    "\n",
    "1. An overview of the data. (HINT: Provide the number of records, fields and their data types. Do for both).\n",
    "\n",
    "2. What data quality issues exist in both train and test? (HINT: Comment any missing values and duplicates)\n",
    "\n",
    "3. How do the the loan statuses compare? i.e. what is the distrubition of each?\n",
    "\n",
    "4. How do women and men compare when it comes to defaulting on loans in the historical dataset?\n",
    "\n",
    "5. How many of the loan applicants have dependents based on the historical dataset?\n",
    "\n",
    "6. How do the incomes of those who are employed compare to those who are self employed based on the historical dataset? \n",
    "\n",
    "7. Are applicants with a credit history more likely to default than those who do not have one?\n",
    "\n",
    "8. Is there a correlation between the applicant's income and the loan amount they applied for? \n",
    "\n",
    "### Part Two\n",
    "\n",
    "Run the AutoML section and then fill in code for the traditional ML section for the the omitted cells.\n",
    "\n",
    "Please note that the notebook you submit must include the analysis you did in Task 2.\n"
   ]
  }
 ],
 "metadata": {
  "kernelspec": {
   "display_name": "Python 3",
   "language": "python",
   "name": "python3"
  }
 },
 "nbformat": 4,
 "nbformat_minor": 5
}