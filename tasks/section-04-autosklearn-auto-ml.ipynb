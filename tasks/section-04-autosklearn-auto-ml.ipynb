{
 "cells": [
  {
   "cell_type": "code",
   "execution_count": null,
   "id": "8c2cfc27",
   "metadata": {
    "tags": [
     "soorgeon-imports"
    ]
   },
   "outputs": [],
   "source": [
    "from sklearn.metrics import accuracy_score, confusion_matrix\n",
    "from sklearn.model_selection import train_test_split\n",
    "    from autosklearn.classification import AutoSklearnClassifier\n",
    "from pathlib import Path\n",
    "import pickle"
   ]
  },
  {
   "cell_type": "code",
   "execution_count": null,
   "id": "ac8c508a",
   "metadata": {
    "tags": [
     "parameters"
    ]
   },
   "outputs": [],
   "source": [
    "upstream = ['section-01-get-data']\n",
    "product = None"
   ]
  },
  {
   "cell_type": "code",
   "execution_count": null,
   "id": "4c1a53b1",
   "metadata": {
    "tags": [
     "soorgeon-unpickle"
    ]
   },
   "outputs": [],
   "source": [
    "train = pickle.loads(Path(upstream['section-01-get-data']['train']).read_bytes())"
   ]
  },
  {
   "cell_type": "markdown",
   "id": "23a60ee7",
   "metadata": {
    "id": "huNBju-TMV88"
   },
   "source": [
    "## 04) Autosklearn  Auto ML\n"
   ]
  },
  {
   "cell_type": "code",
   "execution_count": null,
   "id": "6f2e4713",
   "metadata": {
    "colab": {
     "base_uri": "https://localhost:8080/"
    },
    "executionInfo": {
     "elapsed": 109,
     "status": "ok",
     "timestamp": 1680005770833,
     "user": {
      "displayName": "Victor Ruto",
      "userId": "13125455177778424587"
     },
     "user_tz": -180
    },
    "id": "VMYiRQivBvS9",
    "outputId": "d147e8e8-3032-425b-9db2-f567aac91e81"
   },
   "outputs": [
    {
     "name": "stdout",
     "output_type": "stream",
     "text": [
      "Index(['Gender', 'Married', 'Dependents', 'Education', 'Self_Employed',\n",
      "       'ApplicantIncome', 'CoapplicantIncome', 'LoanAmount',\n",
      "       'Loan_Amount_Term', 'Credit_History', 'Property_Area'],\n",
      "      dtype='object')\n"
     ]
    }
   ],
   "source": [
    "feature_columns = train.columns[1:-1]\n",
    "print(feature_columns)"
   ]
  },
  {
   "cell_type": "code",
   "execution_count": null,
   "id": "46579714",
   "metadata": {
    "colab": {
     "base_uri": "https://localhost:8080/"
    },
    "executionInfo": {
     "elapsed": 102,
     "status": "ok",
     "timestamp": 1680005770834,
     "user": {
      "displayName": "Victor Ruto",
      "userId": "13125455177778424587"
     },
     "user_tz": -180
    },
    "id": "80HRr4R9COtP",
    "outputId": "75c3ce5e-3169-4611-8aba-a6b864ef772e"
   },
   "outputs": [
    {
     "data": {
      "text/plain": [
       "Gender               category\n",
       "Married              category\n",
       "Dependents           category\n",
       "Education            category\n",
       "Self_Employed        category\n",
       "ApplicantIncome         int64\n",
       "CoapplicantIncome     float64\n",
       "LoanAmount            float64\n",
       "Loan_Amount_Term      float64\n",
       "Credit_History        float64\n",
       "Property_Area        category\n",
       "dtype: object"
      ]
     },
     "execution_count": 25,
     "metadata": {},
     "output_type": "execute_result"
    }
   ],
   "source": [
    "## Input data with feature columns \n",
    "X = train[feature_columns].copy()\n",
    "\n",
    "## Convert categorical features to 'category' type\n",
    "categorical_columns = ['Gender', 'Married','Dependents', 'Education', 'Self_Employed', 'Property_Area']\n",
    "X[categorical_columns] = X[categorical_columns].astype('category')\n",
    "X.dtypes"
   ]
  },
  {
   "cell_type": "code",
   "execution_count": null,
   "id": "bb0f2e93",
   "metadata": {
    "execution": {
     "iopub.execute_input": "2023-03-13T12:11:23.199946Z",
     "iopub.status.busy": "2023-03-13T12:11:23.199588Z",
     "iopub.status.idle": "2023-03-13T12:11:23.220536Z",
     "shell.execute_reply": "2023-03-13T12:11:23.218721Z",
     "shell.execute_reply.started": "2023-03-13T12:11:23.199921Z"
    },
    "id": "wDlAmmP6MgQF"
   },
   "outputs": [],
   "source": [
    "## label encode target\n",
    "y = train['Loan_Status'].map({'N':0,'Y':1}).astype(int)\n",
    "\n",
    "## train-test split\n",
    "X_train, X_test, y_train, y_test = train_test_split(X, y, test_size=0.2, random_state=42)"
   ]
  },
  {
   "cell_type": "code",
   "execution_count": null,
   "id": "a9c66be7",
   "metadata": {
    "execution": {
     "iopub.execute_input": "2023-03-13T12:11:27.890666Z",
     "iopub.status.busy": "2023-03-13T12:11:27.890314Z",
     "iopub.status.idle": "2023-03-13T12:12:34.734503Z",
     "shell.execute_reply": "2023-03-13T12:12:34.733532Z",
     "shell.execute_reply.started": "2023-03-13T12:11:27.890640Z"
    },
    "id": "9wwYMdK_McJt"
   },
   "outputs": [],
   "source": [
    "# train\n",
    "autoML = AutoSklearnClassifier(time_left_for_this_task=2*30, per_run_time_limit=30, n_jobs=8) # imposing a 1 minute time limit on this\n",
    "autoML.fit(X_train, y_train)\n",
    "\n",
    "# predict\n",
    "predictions_autoML = autoML.predict(X_test)"
   ]
  },
  {
   "cell_type": "code",
   "execution_count": null,
   "id": "13fc0ea6",
   "metadata": {
    "colab": {
     "base_uri": "https://localhost:8080/"
    },
    "execution": {
     "iopub.execute_input": "2023-03-13T12:12:34.736532Z",
     "iopub.status.busy": "2023-03-13T12:12:34.736246Z",
     "iopub.status.idle": "2023-03-13T12:12:34.743601Z",
     "shell.execute_reply": "2023-03-13T12:12:34.742228Z",
     "shell.execute_reply.started": "2023-03-13T12:12:34.736505Z"
    },
    "executionInfo": {
     "elapsed": 36,
     "status": "ok",
     "timestamp": 1680005834679,
     "user": {
      "displayName": "Victor Ruto",
      "userId": "13125455177778424587"
     },
     "user_tz": -180
    },
    "id": "qnbGH9zS-WYh",
    "outputId": "48c4b39e-c200-4c22-f0d4-0b75f1a8b463"
   },
   "outputs": [
    {
     "name": "stdout",
     "output_type": "stream",
     "text": [
      "autoML Model Accuracy: 0.7967479674796748\n"
     ]
    }
   ],
   "source": [
    "print('autoML Model Accuracy:', accuracy_score(predictions_autoML, y_test))"
   ]
  },
  {
   "cell_type": "code",
   "execution_count": null,
   "id": "2dcbf76e",
   "metadata": {
    "colab": {
     "base_uri": "https://localhost:8080/"
    },
    "execution": {
     "iopub.execute_input": "2023-03-13T12:12:34.746955Z",
     "iopub.status.busy": "2023-03-13T12:12:34.745660Z",
     "iopub.status.idle": "2023-03-13T12:12:34.764568Z",
     "shell.execute_reply": "2023-03-13T12:12:34.763479Z",
     "shell.execute_reply.started": "2023-03-13T12:12:34.746913Z"
    },
    "executionInfo": {
     "elapsed": 31,
     "status": "ok",
     "timestamp": 1680005834679,
     "user": {
      "displayName": "Victor Ruto",
      "userId": "13125455177778424587"
     },
     "user_tz": -180
    },
    "id": "pNPPfGUtOnJ9",
    "outputId": "7d72b84d-054e-4304-fc72-c39c9c6b1167"
   },
   "outputs": [
    {
     "name": "stdout",
     "output_type": "stream",
     "text": [
      "[[19  1]\n",
      " [24 79]]\n"
     ]
    }
   ],
   "source": [
    "print(confusion_matrix(predictions_autoML, y_test))"
   ]
  },
  {
   "cell_type": "code",
   "execution_count": null,
   "id": "9832a4bc",
   "metadata": {
    "tags": [
     "soorgeon-pickle"
    ]
   },
   "outputs": [],
   "source": [
    "Path(product['X']).parent.mkdir(exist_ok=True, parents=True)\n",
    "Path(product['X']).write_bytes(pickle.dumps(X))\n",
    "\n",
    "Path(product['X_train']).parent.mkdir(exist_ok=True, parents=True)\n",
    "Path(product['X_train']).write_bytes(pickle.dumps(X_train))\n",
    "\n",
    "Path(product['categorical_columns']).parent.mkdir(exist_ok=True, parents=True)\n",
    "Path(product['categorical_columns']).write_bytes(pickle.dumps(categorical_columns))\n",
    "\n",
    "Path(product['y']).parent.mkdir(exist_ok=True, parents=True)\n",
    "Path(product['y']).write_bytes(pickle.dumps(y))\n",
    "\n",
    "Path(product['y_train']).parent.mkdir(exist_ok=True, parents=True)\n",
    "Path(product['y_train']).write_bytes(pickle.dumps(y_train))"
   ]
  }
 ],
 "metadata": {
  "kernelspec": {
   "display_name": "Python 3",
   "language": "python",
   "name": "python3"
  }
 },
 "nbformat": 4,
 "nbformat_minor": 5
}