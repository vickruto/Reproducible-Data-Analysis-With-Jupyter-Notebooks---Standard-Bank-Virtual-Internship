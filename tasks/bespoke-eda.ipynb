{
 "cells": [
  {
   "cell_type": "code",
   "execution_count": null,
   "id": "d9677cb2",
   "metadata": {
    "tags": [
     "soorgeon-imports"
    ]
   },
   "outputs": [],
   "source": [
    "import pandas as pd\n",
    "import matplotlib.pyplot as plt\n",
    "import seaborn as sns\n",
    "from sklearn.metrics import accuracy_score, confusion_matrix\n",
    "from sklearn.model_selection import train_test_split\n",
    "from IPython.display import display, HTML\n",
    "    from autosklearn.classification import AutoSklearnClassifier\n",
    "from pathlib import Path\n",
    "import pickle"
   ]
  },
  {
   "cell_type": "code",
   "execution_count": null,
   "id": "f1b8245f",
   "metadata": {
    "tags": [
     "parameters"
    ]
   },
   "outputs": [],
   "source": [
    "upstream = ['get-data']\n",
    "product = None"
   ]
  },
  {
   "cell_type": "code",
   "execution_count": null,
   "id": "83da7a63",
   "metadata": {
    "tags": [
     "soorgeon-unpickle"
    ]
   },
   "outputs": [],
   "source": [
    "df = pickle.loads(Path(upstream['get-data']['df']).read_bytes())\n",
    "train = pickle.loads(Path(upstream['get-data']['train']).read_bytes())"
   ]
  },
  {
   "cell_type": "markdown",
   "id": "30b232f7",
   "metadata": {
    "id": "f4xUxUnWw9lM"
   },
   "source": [
    "## Bespoke EDA"
   ]
  },
  {
   "cell_type": "code",
   "execution_count": 14,
   "id": "327e52ae",
   "metadata": {
    "colab": {
     "base_uri": "https://localhost:8080/"
    },
    "execution": {
     "iopub.execute_input": "2023-03-13T11:37:35.953559Z",
     "iopub.status.busy": "2023-03-13T11:37:35.953247Z",
     "iopub.status.idle": "2023-03-13T11:37:35.968393Z",
     "shell.execute_reply": "2023-03-13T11:37:35.966839Z",
     "shell.execute_reply.started": "2023-03-13T11:37:35.953530Z"
    },
    "executionInfo": {
     "elapsed": 139,
     "status": "ok",
     "timestamp": 1680005770811,
     "user": {
      "displayName": "Victor Ruto",
      "userId": "13125455177778424587"
     },
     "user_tz": -180
    },
    "id": "suF8EwmEPz-W",
    "outputId": "fdfcb1ea-70fb-4ae3-f73d-50b681fe2732"
   },
   "outputs": [
    {
     "data": {
      "text/plain": [
       "0"
      ]
     },
     "execution_count": 14,
     "metadata": {},
     "output_type": "execute_result"
    }
   ],
   "source": [
    "## Check for duplicates in the dataset\n",
    "df.duplicated().sum()"
   ]
  },
  {
   "cell_type": "code",
   "execution_count": 15,
   "id": "e08223de",
   "metadata": {
    "colab": {
     "base_uri": "https://localhost:8080/"
    },
    "execution": {
     "iopub.execute_input": "2023-03-13T11:37:35.975087Z",
     "iopub.status.busy": "2023-03-13T11:37:35.974645Z",
     "iopub.status.idle": "2023-03-13T11:37:35.988528Z",
     "shell.execute_reply": "2023-03-13T11:37:35.987006Z",
     "shell.execute_reply.started": "2023-03-13T11:37:35.975051Z"
    },
    "executionInfo": {
     "elapsed": 136,
     "status": "ok",
     "timestamp": 1680005770812,
     "user": {
      "displayName": "Victor Ruto",
      "userId": "13125455177778424587"
     },
     "user_tz": -180
    },
    "id": "icnfcLWCxSVF",
    "outputId": "2da5df66-8722-4d86-eabd-335af32bdfff"
   },
   "outputs": [
    {
     "data": {
      "text/plain": [
       "Loan_ID                0\n",
       "Gender                24\n",
       "Married                3\n",
       "Dependents            25\n",
       "Education              0\n",
       "Self_Employed         55\n",
       "ApplicantIncome        0\n",
       "CoapplicantIncome      0\n",
       "LoanAmount            27\n",
       "Loan_Amount_Term      20\n",
       "Credit_History        79\n",
       "Property_Area          0\n",
       "Loan_Status          367\n",
       "dtype: int64"
      ]
     },
     "execution_count": 15,
     "metadata": {},
     "output_type": "execute_result"
    }
   ],
   "source": [
    "## Check for null values \n",
    "df.isna().sum()"
   ]
  },
  {
   "cell_type": "markdown",
   "id": "6b19e871",
   "metadata": {
    "id": "4JVRQkRH_P98"
   },
   "source": [
    "#### **EDA Question 1 ::**\n",
    "### An overview of the data (number of records, fields and their data types, for both the train and test datasets"
   ]
  },
  {
   "cell_type": "code",
   "execution_count": 16,
   "id": "806e0ef2",
   "metadata": {
    "colab": {
     "base_uri": "https://localhost:8080/"
    },
    "execution": {
     "iopub.execute_input": "2023-03-13T11:37:35.990374Z",
     "iopub.status.busy": "2023-03-13T11:37:35.989997Z",
     "iopub.status.idle": "2023-03-13T11:37:35.999354Z",
     "shell.execute_reply": "2023-03-13T11:37:35.998006Z",
     "shell.execute_reply.started": "2023-03-13T11:37:35.990349Z"
    },
    "executionInfo": {
     "elapsed": 130,
     "status": "ok",
     "timestamp": 1680005770813,
     "user": {
      "displayName": "Victor Ruto",
      "userId": "13125455177778424587"
     },
     "user_tz": -180
    },
    "id": "mShsnxSVxTm-",
    "outputId": "6de7b9f5-d425-46c5-9905-8623c400d465"
   },
   "outputs": [
    {
     "name": "stdout",
     "output_type": "stream",
     "text": [
      "<class 'pandas.core.frame.DataFrame'>\n",
      "Int64Index: 981 entries, 0 to 366\n",
      "Data columns (total 13 columns):\n",
      " #   Column             Non-Null Count  Dtype  \n",
      "---  ------             --------------  -----  \n",
      " 0   Loan_ID            981 non-null    object \n",
      " 1   Gender             957 non-null    object \n",
      " 2   Married            978 non-null    object \n",
      " 3   Dependents         956 non-null    object \n",
      " 4   Education          981 non-null    object \n",
      " 5   Self_Employed      926 non-null    object \n",
      " 6   ApplicantIncome    981 non-null    int64  \n",
      " 7   CoapplicantIncome  981 non-null    float64\n",
      " 8   LoanAmount         954 non-null    float64\n",
      " 9   Loan_Amount_Term   961 non-null    float64\n",
      " 10  Credit_History     902 non-null    float64\n",
      " 11  Property_Area      981 non-null    object \n",
      " 12  Loan_Status        614 non-null    object \n",
      "dtypes: float64(4), int64(1), object(8)\n",
      "memory usage: 107.3+ KB\n"
     ]
    }
   ],
   "source": [
    "df.info()"
   ]
  },
  {
   "cell_type": "markdown",
   "id": "85063f15",
   "metadata": {
    "id": "cQnVw0OGPz-X"
   },
   "source": [
    "> The data has 12 features and 1 target variable. The train dataset has 614 records while the test dataset has 367 records.\n",
    "\n",
    "> The datatypes are as shown below : \n",
    "\n",
    "**Loan_ID**              - string  \n",
    "**Gender**               - string     \n",
    "**Married**              - string     \n",
    "**Dependents**           - string      \n",
    "**Education**            - string     \n",
    "**Self_Employed**        - string     \n",
    "**ApplicantIncome**      - integer    \n",
    "**CoapplicantIncome**    - float     \n",
    "**LoanAmount**           - float   \n",
    "**Loan_Amount_Term**     - float     \n",
    "**Credit_History**       - float     \n",
    "**Property_Area**        - string   \n",
    "**Loan_Status** (Target Feature) - string"
   ]
  },
  {
   "cell_type": "code",
   "execution_count": 17,
   "id": "22e5fb00",
   "metadata": {
    "colab": {
     "base_uri": "https://localhost:8080/",
     "height": 344
    },
    "execution": {
     "iopub.execute_input": "2023-03-13T11:37:36.001100Z",
     "iopub.status.busy": "2023-03-13T11:37:36.000764Z",
     "iopub.status.idle": "2023-03-13T11:37:36.030850Z",
     "shell.execute_reply": "2023-03-13T11:37:36.029072Z",
     "shell.execute_reply.started": "2023-03-13T11:37:36.001075Z"
    },
    "executionInfo": {
     "elapsed": 125,
     "status": "ok",
     "timestamp": 1680005770814,
     "user": {
      "displayName": "Victor Ruto",
      "userId": "13125455177778424587"
     },
     "user_tz": -180
    },
    "id": "7MF-0mmCMU4s",
    "outputId": "ac7241a6-1a70-4c91-8e3d-fdc45e556b45"
   },
   "outputs": [
    {
     "data": {
      "text/html": [
       "\n",
       "  <div id=\"df-e14937e4-c1e4-472f-bdd5-86407bb2ffc3\">\n",
       "    <div class=\"colab-df-container\">\n",
       "      <div>\n",
       "<style scoped>\n",
       "    .dataframe tbody tr th:only-of-type {\n",
       "        vertical-align: middle;\n",
       "    }\n",
       "\n",
       "    .dataframe tbody tr th {\n",
       "        vertical-align: top;\n",
       "    }\n",
       "\n",
       "    .dataframe thead th {\n",
       "        text-align: right;\n",
       "    }\n",
       "</style>\n",
       "<table border=\"1\" class=\"dataframe\">\n",
       "  <thead>\n",
       "    <tr style=\"text-align: right;\">\n",
       "      <th></th>\n",
       "      <th>ApplicantIncome</th>\n",
       "      <th>CoapplicantIncome</th>\n",
       "      <th>LoanAmount</th>\n",
       "      <th>Loan_Amount_Term</th>\n",
       "      <th>Credit_History</th>\n",
       "    </tr>\n",
       "  </thead>\n",
       "  <tbody>\n",
       "    <tr>\n",
       "      <th>count</th>\n",
       "      <td>981.000000</td>\n",
       "      <td>981.000000</td>\n",
       "      <td>954.000000</td>\n",
       "      <td>961.000000</td>\n",
       "      <td>902.000000</td>\n",
       "    </tr>\n",
       "    <tr>\n",
       "      <th>mean</th>\n",
       "      <td>5179.795107</td>\n",
       "      <td>1601.916330</td>\n",
       "      <td>142.511530</td>\n",
       "      <td>342.201873</td>\n",
       "      <td>0.835920</td>\n",
       "    </tr>\n",
       "    <tr>\n",
       "      <th>std</th>\n",
       "      <td>5695.104533</td>\n",
       "      <td>2718.772806</td>\n",
       "      <td>77.421743</td>\n",
       "      <td>65.100602</td>\n",
       "      <td>0.370553</td>\n",
       "    </tr>\n",
       "    <tr>\n",
       "      <th>min</th>\n",
       "      <td>0.000000</td>\n",
       "      <td>0.000000</td>\n",
       "      <td>9.000000</td>\n",
       "      <td>6.000000</td>\n",
       "      <td>0.000000</td>\n",
       "    </tr>\n",
       "    <tr>\n",
       "      <th>25%</th>\n",
       "      <td>2875.000000</td>\n",
       "      <td>0.000000</td>\n",
       "      <td>100.000000</td>\n",
       "      <td>360.000000</td>\n",
       "      <td>1.000000</td>\n",
       "    </tr>\n",
       "    <tr>\n",
       "      <th>50%</th>\n",
       "      <td>3800.000000</td>\n",
       "      <td>1110.000000</td>\n",
       "      <td>126.000000</td>\n",
       "      <td>360.000000</td>\n",
       "      <td>1.000000</td>\n",
       "    </tr>\n",
       "    <tr>\n",
       "      <th>75%</th>\n",
       "      <td>5516.000000</td>\n",
       "      <td>2365.000000</td>\n",
       "      <td>162.000000</td>\n",
       "      <td>360.000000</td>\n",
       "      <td>1.000000</td>\n",
       "    </tr>\n",
       "    <tr>\n",
       "      <th>max</th>\n",
       "      <td>81000.000000</td>\n",
       "      <td>41667.000000</td>\n",
       "      <td>700.000000</td>\n",
       "      <td>480.000000</td>\n",
       "      <td>1.000000</td>\n",
       "    </tr>\n",
       "  </tbody>\n",
       "</table>\n",
       "</div>\n",
       "      <button class=\"colab-df-convert\" onclick=\"convertToInteractive('df-e14937e4-c1e4-472f-bdd5-86407bb2ffc3')\"\n",
       "              title=\"Convert this dataframe to an interactive table.\"\n",
       "              style=\"display:none;\">\n",
       "        \n",
       "  <svg xmlns=\"http://www.w3.org/2000/svg\" height=\"24px\"viewBox=\"0 0 24 24\"\n",
       "       width=\"24px\">\n",
       "    <path d=\"M0 0h24v24H0V0z\" fill=\"none\"/>\n",
       "    <path d=\"M18.56 5.44l.94 2.06.94-2.06 2.06-.94-2.06-.94-.94-2.06-.94 2.06-2.06.94zm-11 1L8.5 8.5l.94-2.06 2.06-.94-2.06-.94L8.5 2.5l-.94 2.06-2.06.94zm10 10l.94 2.06.94-2.06 2.06-.94-2.06-.94-.94-2.06-.94 2.06-2.06.94z\"/><path d=\"M17.41 7.96l-1.37-1.37c-.4-.4-.92-.59-1.43-.59-.52 0-1.04.2-1.43.59L10.3 9.45l-7.72 7.72c-.78.78-.78 2.05 0 2.83L4 21.41c.39.39.9.59 1.41.59.51 0 1.02-.2 1.41-.59l7.78-7.78 2.81-2.81c.8-.78.8-2.07 0-2.86zM5.41 20L4 18.59l7.72-7.72 1.47 1.35L5.41 20z\"/>\n",
       "  </svg>\n",
       "      </button>\n",
       "      \n",
       "  <style>\n",
       "    .colab-df-container {\n",
       "      display:flex;\n",
       "      flex-wrap:wrap;\n",
       "      gap: 12px;\n",
       "    }\n",
       "\n",
       "    .colab-df-convert {\n",
       "      background-color: #E8F0FE;\n",
       "      border: none;\n",
       "      border-radius: 50%;\n",
       "      cursor: pointer;\n",
       "      display: none;\n",
       "      fill: #1967D2;\n",
       "      height: 32px;\n",
       "      padding: 0 0 0 0;\n",
       "      width: 32px;\n",
       "    }\n",
       "\n",
       "    .colab-df-convert:hover {\n",
       "      background-color: #E2EBFA;\n",
       "      box-shadow: 0px 1px 2px rgba(60, 64, 67, 0.3), 0px 1px 3px 1px rgba(60, 64, 67, 0.15);\n",
       "      fill: #174EA6;\n",
       "    }\n",
       "\n",
       "    [theme=dark] .colab-df-convert {\n",
       "      background-color: #3B4455;\n",
       "      fill: #D2E3FC;\n",
       "    }\n",
       "\n",
       "    [theme=dark] .colab-df-convert:hover {\n",
       "      background-color: #434B5C;\n",
       "      box-shadow: 0px 1px 3px 1px rgba(0, 0, 0, 0.15);\n",
       "      filter: drop-shadow(0px 1px 2px rgba(0, 0, 0, 0.3));\n",
       "      fill: #FFFFFF;\n",
       "    }\n",
       "  </style>\n",
       "\n",
       "      <script>\n",
       "        const buttonEl =\n",
       "          document.querySelector('#df-e14937e4-c1e4-472f-bdd5-86407bb2ffc3 button.colab-df-convert');\n",
       "        buttonEl.style.display =\n",
       "          google.colab.kernel.accessAllowed ? 'block' : 'none';\n",
       "\n",
       "        async function convertToInteractive(key) {\n",
       "          const element = document.querySelector('#df-e14937e4-c1e4-472f-bdd5-86407bb2ffc3');\n",
       "          const dataTable =\n",
       "            await google.colab.kernel.invokeFunction('convertToInteractive',\n",
       "                                                     [key], {});\n",
       "          if (!dataTable) return;\n",
       "\n",
       "          const docLinkHtml = 'Like what you see? Visit the ' +\n",
       "            '<a target=\"_blank\" href=https://colab.research.google.com/notebooks/data_table.ipynb>data table notebook</a>'\n",
       "            + ' to learn more about interactive tables.';\n",
       "          element.innerHTML = '';\n",
       "          dataTable['output_type'] = 'display_data';\n",
       "          await google.colab.output.renderOutput(dataTable, element);\n",
       "          const docLink = document.createElement('div');\n",
       "          docLink.innerHTML = docLinkHtml;\n",
       "          element.appendChild(docLink);\n",
       "        }\n",
       "      </script>\n",
       "    </div>\n",
       "  </div>\n",
       "  "
      ],
      "text/plain": [
       "       ApplicantIncome  CoapplicantIncome  LoanAmount  Loan_Amount_Term  \\\n",
       "count       981.000000         981.000000  954.000000        961.000000   \n",
       "mean       5179.795107        1601.916330  142.511530        342.201873   \n",
       "std        5695.104533        2718.772806   77.421743         65.100602   \n",
       "min           0.000000           0.000000    9.000000          6.000000   \n",
       "25%        2875.000000           0.000000  100.000000        360.000000   \n",
       "50%        3800.000000        1110.000000  126.000000        360.000000   \n",
       "75%        5516.000000        2365.000000  162.000000        360.000000   \n",
       "max       81000.000000       41667.000000  700.000000        480.000000   \n",
       "\n",
       "       Credit_History  \n",
       "count      902.000000  \n",
       "mean         0.835920  \n",
       "std          0.370553  \n",
       "min          0.000000  \n",
       "25%          1.000000  \n",
       "50%          1.000000  \n",
       "75%          1.000000  \n",
       "max          1.000000  "
      ]
     },
     "execution_count": 17,
     "metadata": {},
     "output_type": "execute_result"
    }
   ],
   "source": [
    "## Display some summary statics for the numerical columns\n",
    "df.describe()"
   ]
  },
  {
   "cell_type": "markdown",
   "id": "b3305ff2",
   "metadata": {
    "id": "-UX4HT2HnuaU"
   },
   "source": [
    "#### **EDA Question 2 ::**\n",
    "\n",
    "#### What data quality issues exist in both train and test? \n",
    "\n",
    "> 1) Some of the fields should be categorical but instead are in string format \n",
    "\n",
    "> 2) Many columns have missing values ie `Gender`, `Married`, `Dependents`, `Self_Employed`, `Loan_Amount`, `Loan_Amount_Term`, `Credit_History`"
   ]
  },
  {
   "cell_type": "markdown",
   "id": "b9285b87",
   "metadata": {
    "execution": {
     "iopub.execute_input": "2023-02-21T14:15:17.706928Z",
     "iopub.status.busy": "2023-02-21T14:15:17.706363Z",
     "iopub.status.idle": "2023-02-21T14:15:17.717775Z",
     "shell.execute_reply": "2023-02-21T14:15:17.715340Z",
     "shell.execute_reply.started": "2023-02-21T14:15:17.706890Z"
    },
    "id": "4wzJBxgcPz-Z"
   },
   "source": [
    "#### **EDA Question 3 ::**\n",
    "\n",
    "### How do the the loan statuses compare? i.e. what is the distrubition of each?\n",
    "> 68.7% of the loans are not likely to be defaulted on as the applicants are credit worthy while 31.3% are likely to be defaulted on and thus should not be approved\n"
   ]
  },
  {
   "cell_type": "code",
   "execution_count": 18,
   "id": "042f5a44",
   "metadata": {
    "colab": {
     "base_uri": "https://localhost:8080/"
    },
    "execution": {
     "iopub.execute_input": "2023-03-13T11:37:36.033002Z",
     "iopub.status.busy": "2023-03-13T11:37:36.032663Z",
     "iopub.status.idle": "2023-03-13T11:37:36.044839Z",
     "shell.execute_reply": "2023-03-13T11:37:36.042337Z",
     "shell.execute_reply.started": "2023-03-13T11:37:36.032976Z"
    },
    "executionInfo": {
     "elapsed": 125,
     "status": "ok",
     "timestamp": 1680005770815,
     "user": {
      "displayName": "Victor Ruto",
      "userId": "13125455177778424587"
     },
     "user_tz": -180
    },
    "id": "3J8w5-_6Pz-Y",
    "outputId": "f596fcbe-cd96-4a2e-e130-55a6d1c5cb57"
   },
   "outputs": [
    {
     "data": {
      "text/plain": [
       "Y    0.687296\n",
       "N    0.312704\n",
       "Name: Loan_Status, dtype: float64"
      ]
     },
     "execution_count": 18,
     "metadata": {},
     "output_type": "execute_result"
    }
   ],
   "source": [
    "## Question 3 ::\n",
    "train['Loan_Status'].value_counts(normalize=True,dropna=False)"
   ]
  },
  {
   "cell_type": "markdown",
   "id": "32805e6e",
   "metadata": {
    "id": "9VtbbKvpPz-Z"
   },
   "source": [
    "#### **EDA Question 4 ::**\n",
    " \n",
    "#### How do women and men compare when it comes to defaulting on loans in the historical dataset?\n",
    "> In the historical data, 30.67% of the men defaulted on their loans while 33.04% of the women defaulted on their loans\n"
   ]
  },
  {
   "cell_type": "code",
   "execution_count": 19,
   "id": "8a2e8c62",
   "metadata": {
    "colab": {
     "base_uri": "https://localhost:8080/",
     "height": 510
    },
    "execution": {
     "iopub.execute_input": "2023-03-13T11:37:36.047575Z",
     "iopub.status.busy": "2023-03-13T11:37:36.046343Z",
     "iopub.status.idle": "2023-03-13T11:37:36.299515Z",
     "shell.execute_reply": "2023-03-13T11:37:36.298385Z",
     "shell.execute_reply.started": "2023-03-13T11:37:36.047519Z"
    },
    "executionInfo": {
     "elapsed": 122,
     "status": "ok",
     "timestamp": 1680005770819,
     "user": {
      "displayName": "Victor Ruto",
      "userId": "13125455177778424587"
     },
     "user_tz": -180
    },
    "id": "X0NuffdYPz-Z",
    "outputId": "f969a579-9134-423f-8266-61d60a7847ca"
   },
   "outputs": [
    {
     "data": {
      "image/png": "[encoded data removed]",
      "text/plain": [
       "<Figure size 588.236x500 with 1 Axes>"
      ]
     },
     "metadata": {},
     "output_type": "display_data"
    }
   ],
   "source": [
    "## Question 4::\n",
    "plot_df = pd.DataFrame(train.groupby('Gender')['Loan_Status'].value_counts(normalize=True)*100)\n",
    "plot_df.columns = ['Percentage']\n",
    "plot_df = plot_df.reset_index()\n",
    "g = sns.catplot(data=plot_df, x='Gender', y='Percentage', hue='Loan_Status', kind='bar')\n",
    "g.ax.set_ylim(0,100)\n",
    "for p in g.ax.patches:\n",
    "    txt = str(p.get_height().round(2)) + '%'\n",
    "    txt_x = p.get_x()+.12\n",
    "    txt_y = p.get_height()+.5\n",
    "    g.ax.text(txt_x,txt_y,txt)"
   ]
  },
  {
   "cell_type": "markdown",
   "id": "b128b959",
   "metadata": {
    "id": "6k0CvyF7Pz-a"
   },
   "source": [
    "#### **EDA Question 5 ::**\n",
    "\n",
    "### How many of the loan applicants have dependents based on the historical dataset?\n",
    "> In the historical data, 269 of the 614 loan applicants have dependents, which represents  43.8% of the applicants\n"
   ]
  },
  {
   "cell_type": "code",
   "execution_count": 20,
   "id": "4e00c9e3",
   "metadata": {
    "colab": {
     "base_uri": "https://localhost:8080/"
    },
    "execution": {
     "iopub.execute_input": "2023-03-13T11:37:36.301384Z",
     "iopub.status.busy": "2023-03-13T11:37:36.301037Z",
     "iopub.status.idle": "2023-03-13T11:37:36.312645Z",
     "shell.execute_reply": "2023-03-13T11:37:36.310560Z",
     "shell.execute_reply.started": "2023-03-13T11:37:36.301349Z"
    },
    "executionInfo": {
     "elapsed": 117,
     "status": "ok",
     "timestamp": 1680005770820,
     "user": {
      "displayName": "Victor Ruto",
      "userId": "13125455177778424587"
     },
     "user_tz": -180
    },
    "id": "AMKDm8bpPz-Z",
    "outputId": "c8d2d69d-0f27-4c48-ab03-9180778b566c"
   },
   "outputs": [
    {
     "data": {
      "text/plain": [
       "False    0.561889\n",
       "True     0.438111\n",
       "Name: Dependents, dtype: float64"
      ]
     },
     "execution_count": 20,
     "metadata": {},
     "output_type": "execute_result"
    }
   ],
   "source": [
    "##Question 5::\n",
    "(train['Dependents']!='0').value_counts(normalize=True)\n",
    "#train['Dependents'].value_counts()"
   ]
  },
  {
   "cell_type": "markdown",
   "id": "26ce0dcb",
   "metadata": {
    "id": "P1QTSY6XPz-a"
   },
   "source": [
    "#### **EDA Question 6 ::**\n",
    "### How do the incomes of those who are employed compare to those who are self employed based on the historical dataset? \n",
    "> Loan applicants who are self employed have a mean income of 5050 while those who are not self employed earn a mean income of 7380. The median income for loan applicants who are self employed is 3705.5 while the median for those who are not self employed is 5809\n"
   ]
  },
  {
   "cell_type": "code",
   "execution_count": 21,
   "id": "fd38e177",
   "metadata": {
    "colab": {
     "base_uri": "https://localhost:8080/",
     "height": 379
    },
    "execution": {
     "iopub.execute_input": "2023-03-13T11:37:36.315549Z",
     "iopub.status.busy": "2023-03-13T11:37:36.315084Z",
     "iopub.status.idle": "2023-03-13T11:37:36.338215Z",
     "shell.execute_reply": "2023-03-13T11:37:36.336522Z",
     "shell.execute_reply.started": "2023-03-13T11:37:36.315511Z"
    },
    "executionInfo": {
     "elapsed": 110,
     "status": "ok",
     "timestamp": 1680005770820,
     "user": {
      "displayName": "Victor Ruto",
      "userId": "13125455177778424587"
     },
     "user_tz": -180
    },
    "id": "csMr8neyPz-a",
    "outputId": "7d870def-13f4-474c-efc4-6c286f79eb7d"
   },
   "outputs": [
    {
     "name": "stdout",
     "output_type": "stream",
     "text": [
      "\n",
      "\n",
      "\tMedian applicant incomes by Type of Employment:\n"
     ]
    },
    {
     "data": {
      "text/html": [
       "\n",
       "  <div id=\"df-eef4c36d-6cd4-4e8b-aeba-d125ba5ede12\">\n",
       "    <div class=\"colab-df-container\">\n",
       "      <div>\n",
       "<style scoped>\n",
       "    .dataframe tbody tr th:only-of-type {\n",
       "        vertical-align: middle;\n",
       "    }\n",
       "\n",
       "    .dataframe tbody tr th {\n",
       "        vertical-align: top;\n",
       "    }\n",
       "\n",
       "    .dataframe thead th {\n",
       "        text-align: right;\n",
       "    }\n",
       "</style>\n",
       "<table border=\"1\" class=\"dataframe\">\n",
       "  <thead>\n",
       "    <tr style=\"text-align: right;\">\n",
       "      <th></th>\n",
       "      <th>ApplicantIncome</th>\n",
       "    </tr>\n",
       "    <tr>\n",
       "      <th>Self_Employed</th>\n",
       "      <th></th>\n",
       "    </tr>\n",
       "  </thead>\n",
       "  <tbody>\n",
       "    <tr>\n",
       "      <th>No</th>\n",
       "      <td>3705.5</td>\n",
       "    </tr>\n",
       "    <tr>\n",
       "      <th>Yes</th>\n",
       "      <td>5809.0</td>\n",
       "    </tr>\n",
       "  </tbody>\n",
       "</table>\n",
       "</div>\n",
       "      <button class=\"colab-df-convert\" onclick=\"convertToInteractive('df-eef4c36d-6cd4-4e8b-aeba-d125ba5ede12')\"\n",
       "              title=\"Convert this dataframe to an interactive table.\"\n",
       "              style=\"display:none;\">\n",
       "        \n",
       "  <svg xmlns=\"http://www.w3.org/2000/svg\" height=\"24px\"viewBox=\"0 0 24 24\"\n",
       "       width=\"24px\">\n",
       "    <path d=\"M0 0h24v24H0V0z\" fill=\"none\"/>\n",
       "    <path d=\"M18.56 5.44l.94 2.06.94-2.06 2.06-.94-2.06-.94-.94-2.06-.94 2.06-2.06.94zm-11 1L8.5 8.5l.94-2.06 2.06-.94-2.06-.94L8.5 2.5l-.94 2.06-2.06.94zm10 10l.94 2.06.94-2.06 2.06-.94-2.06-.94-.94-2.06-.94 2.06-2.06.94z\"/><path d=\"M17.41 7.96l-1.37-1.37c-.4-.4-.92-.59-1.43-.59-.52 0-1.04.2-1.43.59L10.3 9.45l-7.72 7.72c-.78.78-.78 2.05 0 2.83L4 21.41c.39.39.9.59 1.41.59.51 0 1.02-.2 1.41-.59l7.78-7.78 2.81-2.81c.8-.78.8-2.07 0-2.86zM5.41 20L4 18.59l7.72-7.72 1.47 1.35L5.41 20z\"/>\n",
       "  </svg>\n",
       "      </button>\n",
       "      \n",
       "  <style>\n",
       "    .colab-df-container {\n",
       "      display:flex;\n",
       "      flex-wrap:wrap;\n",
       "      gap: 12px;\n",
       "    }\n",
       "\n",
       "    .colab-df-convert {\n",
       "      background-color: #E8F0FE;\n",
       "      border: none;\n",
       "      border-radius: 50%;\n",
       "      cursor: pointer;\n",
       "      display: none;\n",
       "      fill: #1967D2;\n",
       "      height: 32px;\n",
       "      padding: 0 0 0 0;\n",
       "      width: 32px;\n",
       "    }\n",
       "\n",
       "    .colab-df-convert:hover {\n",
       "      background-color: #E2EBFA;\n",
       "      box-shadow: 0px 1px 2px rgba(60, 64, 67, 0.3), 0px 1px 3px 1px rgba(60, 64, 67, 0.15);\n",
       "      fill: #174EA6;\n",
       "    }\n",
       "\n",
       "    [theme=dark] .colab-df-convert {\n",
       "      background-color: #3B4455;\n",
       "      fill: #D2E3FC;\n",
       "    }\n",
       "\n",
       "    [theme=dark] .colab-df-convert:hover {\n",
       "      background-color: #434B5C;\n",
       "      box-shadow: 0px 1px 3px 1px rgba(0, 0, 0, 0.15);\n",
       "      filter: drop-shadow(0px 1px 2px rgba(0, 0, 0, 0.3));\n",
       "      fill: #FFFFFF;\n",
       "    }\n",
       "  </style>\n",
       "\n",
       "      <script>\n",
       "        const buttonEl =\n",
       "          document.querySelector('#df-eef4c36d-6cd4-4e8b-aeba-d125ba5ede12 button.colab-df-convert');\n",
       "        buttonEl.style.display =\n",
       "          google.colab.kernel.accessAllowed ? 'block' : 'none';\n",
       "\n",
       "        async function convertToInteractive(key) {\n",
       "          const element = document.querySelector('#df-eef4c36d-6cd4-4e8b-aeba-d125ba5ede12');\n",
       "          const dataTable =\n",
       "            await google.colab.kernel.invokeFunction('convertToInteractive',\n",
       "                                                     [key], {});\n",
       "          if (!dataTable) return;\n",
       "\n",
       "          const docLinkHtml = 'Like what you see? Visit the ' +\n",
       "            '<a target=\"_blank\" href=https://colab.research.google.com/notebooks/data_table.ipynb>data table notebook</a>'\n",
       "            + ' to learn more about interactive tables.';\n",
       "          element.innerHTML = '';\n",
       "          dataTable['output_type'] = 'display_data';\n",
       "          await google.colab.output.renderOutput(dataTable, element);\n",
       "          const docLink = document.createElement('div');\n",
       "          docLink.innerHTML = docLinkHtml;\n",
       "          element.appendChild(docLink);\n",
       "        }\n",
       "      </script>\n",
       "    </div>\n",
       "  </div>\n",
       "  "
      ],
      "text/plain": [
       "               ApplicantIncome\n",
       "Self_Employed                 \n",
       "No                      3705.5\n",
       "Yes                     5809.0"
      ]
     },
     "metadata": {},
     "output_type": "display_data"
    },
    {
     "name": "stdout",
     "output_type": "stream",
     "text": [
      "\n",
      "\n",
      "\tMean applicant incomes by Type of Employment:\n"
     ]
    },
    {
     "data": {
      "text/html": [
       "\n",
       "  <div id=\"df-ab85a561-a669-41a0-acd2-37ce14652aa2\">\n",
       "    <div class=\"colab-df-container\">\n",
       "      <div>\n",
       "<style scoped>\n",
       "    .dataframe tbody tr th:only-of-type {\n",
       "        vertical-align: middle;\n",
       "    }\n",
       "\n",
       "    .dataframe tbody tr th {\n",
       "        vertical-align: top;\n",
       "    }\n",
       "\n",
       "    .dataframe thead th {\n",
       "        text-align: right;\n",
       "    }\n",
       "</style>\n",
       "<table border=\"1\" class=\"dataframe\">\n",
       "  <thead>\n",
       "    <tr style=\"text-align: right;\">\n",
       "      <th></th>\n",
       "      <th>ApplicantIncome</th>\n",
       "    </tr>\n",
       "    <tr>\n",
       "      <th>Self_Employed</th>\n",
       "      <th></th>\n",
       "    </tr>\n",
       "  </thead>\n",
       "  <tbody>\n",
       "    <tr>\n",
       "      <th>No</th>\n",
       "      <td>5049.748000</td>\n",
       "    </tr>\n",
       "    <tr>\n",
       "      <th>Yes</th>\n",
       "      <td>7380.817073</td>\n",
       "    </tr>\n",
       "  </tbody>\n",
       "</table>\n",
       "</div>\n",
       "      <button class=\"colab-df-convert\" onclick=\"convertToInteractive('df-ab85a561-a669-41a0-acd2-37ce14652aa2')\"\n",
       "              title=\"Convert this dataframe to an interactive table.\"\n",
       "              style=\"display:none;\">\n",
       "        \n",
       "  <svg xmlns=\"http://www.w3.org/2000/svg\" height=\"24px\"viewBox=\"0 0 24 24\"\n",
       "       width=\"24px\">\n",
       "    <path d=\"M0 0h24v24H0V0z\" fill=\"none\"/>\n",
       "    <path d=\"M18.56 5.44l.94 2.06.94-2.06 2.06-.94-2.06-.94-.94-2.06-.94 2.06-2.06.94zm-11 1L8.5 8.5l.94-2.06 2.06-.94-2.06-.94L8.5 2.5l-.94 2.06-2.06.94zm10 10l.94 2.06.94-2.06 2.06-.94-2.06-.94-.94-2.06-.94 2.06-2.06.94z\"/><path d=\"M17.41 7.96l-1.37-1.37c-.4-.4-.92-.59-1.43-.59-.52 0-1.04.2-1.43.59L10.3 9.45l-7.72 7.72c-.78.78-.78 2.05 0 2.83L4 21.41c.39.39.9.59 1.41.59.51 0 1.02-.2 1.41-.59l7.78-7.78 2.81-2.81c.8-.78.8-2.07 0-2.86zM5.41 20L4 18.59l7.72-7.72 1.47 1.35L5.41 20z\"/>\n",
       "  </svg>\n",
       "      </button>\n",
       "      \n",
       "  <style>\n",
       "    .colab-df-container {\n",
       "      display:flex;\n",
       "      flex-wrap:wrap;\n",
       "      gap: 12px;\n",
       "    }\n",
       "\n",
       "    .colab-df-convert {\n",
       "      background-color: #E8F0FE;\n",
       "      border: none;\n",
       "      border-radius: 50%;\n",
       "      cursor: pointer;\n",
       "      display: none;\n",
       "      fill: #1967D2;\n",
       "      height: 32px;\n",
       "      padding: 0 0 0 0;\n",
       "      width: 32px;\n",
       "    }\n",
       "\n",
       "    .colab-df-convert:hover {\n",
       "      background-color: #E2EBFA;\n",
       "      box-shadow: 0px 1px 2px rgba(60, 64, 67, 0.3), 0px 1px 3px 1px rgba(60, 64, 67, 0.15);\n",
       "      fill: #174EA6;\n",
       "    }\n",
       "\n",
       "    [theme=dark] .colab-df-convert {\n",
       "      background-color: #3B4455;\n",
       "      fill: #D2E3FC;\n",
       "    }\n",
       "\n",
       "    [theme=dark] .colab-df-convert:hover {\n",
       "      background-color: #434B5C;\n",
       "      box-shadow: 0px 1px 3px 1px rgba(0, 0, 0, 0.15);\n",
       "      filter: drop-shadow(0px 1px 2px rgba(0, 0, 0, 0.3));\n",
       "      fill: #FFFFFF;\n",
       "    }\n",
       "  </style>\n",
       "\n",
       "      <script>\n",
       "        const buttonEl =\n",
       "          document.querySelector('#df-ab85a561-a669-41a0-acd2-37ce14652aa2 button.colab-df-convert');\n",
       "        buttonEl.style.display =\n",
       "          google.colab.kernel.accessAllowed ? 'block' : 'none';\n",
       "\n",
       "        async function convertToInteractive(key) {\n",
       "          const element = document.querySelector('#df-ab85a561-a669-41a0-acd2-37ce14652aa2');\n",
       "          const dataTable =\n",
       "            await google.colab.kernel.invokeFunction('convertToInteractive',\n",
       "                                                     [key], {});\n",
       "          if (!dataTable) return;\n",
       "\n",
       "          const docLinkHtml = 'Like what you see? Visit the ' +\n",
       "            '<a target=\"_blank\" href=https://colab.research.google.com/notebooks/data_table.ipynb>data table notebook</a>'\n",
       "            + ' to learn more about interactive tables.';\n",
       "          element.innerHTML = '';\n",
       "          dataTable['output_type'] = 'display_data';\n",
       "          await google.colab.output.renderOutput(dataTable, element);\n",
       "          const docLink = document.createElement('div');\n",
       "          docLink.innerHTML = docLinkHtml;\n",
       "          element.appendChild(docLink);\n",
       "        }\n",
       "      </script>\n",
       "    </div>\n",
       "  </div>\n",
       "  "
      ],
      "text/plain": [
       "               ApplicantIncome\n",
       "Self_Employed                 \n",
       "No                 5049.748000\n",
       "Yes                7380.817073"
      ]
     },
     "metadata": {},
     "output_type": "display_data"
    }
   ],
   "source": [
    "## Question 6::\n",
    "print(\"\\n\\n\\tMedian applicant incomes by Type of Employment:\")\n",
    "display(pd.DataFrame(train.groupby(['Self_Employed'])['ApplicantIncome'].median()))\n",
    "\n",
    "print(\"\\n\\n\\tMean applicant incomes by Type of Employment:\")\n",
    "display(pd.DataFrame(train.groupby(['Self_Employed'])['ApplicantIncome'].mean()))"
   ]
  },
  {
   "cell_type": "markdown",
   "id": "0308d586",
   "metadata": {
    "id": "a73F0k_rPz-b"
   },
   "source": [
    "#### **EDA Question 7 ::**\n",
    "\n",
    "### Are applicants with a credit history more likely to default than those who do not have one?\n",
    "> Applicants without credit history are much more likely to default on loans than applicants with a credit history. While 92.13% of the loans by applicants without credit history were defaulted on, only 20.42% of the loans by applicants with credit history were defaulted on. \n"
   ]
  },
  {
   "cell_type": "code",
   "execution_count": 22,
   "id": "2ff045b8",
   "metadata": {
    "colab": {
     "base_uri": "https://localhost:8080/",
     "height": 510
    },
    "execution": {
     "iopub.execute_input": "2023-03-13T11:37:36.341617Z",
     "iopub.status.busy": "2023-03-13T11:37:36.341233Z",
     "iopub.status.idle": "2023-03-13T11:37:36.584310Z",
     "shell.execute_reply": "2023-03-13T11:37:36.583282Z",
     "shell.execute_reply.started": "2023-03-13T11:37:36.341583Z"
    },
    "executionInfo": {
     "elapsed": 103,
     "status": "ok",
     "timestamp": 1680005770821,
     "user": {
      "displayName": "Victor Ruto",
      "userId": "13125455177778424587"
     },
     "user_tz": -180
    },
    "id": "zCJHvSmuPz-a",
    "outputId": "d480a752-fc92-44f6-f185-4ccb8dab9d9c"
   },
   "outputs": [
    {
     "data": {
      "image/png": "[encoded data removed]",
      "text/plain": [
       "<Figure size 588.236x500 with 1 Axes>"
      ]
     },
     "metadata": {},
     "output_type": "display_data"
    }
   ],
   "source": [
    "## Question 7 ::\n",
    "plot_df2 = pd.DataFrame(train.groupby('Credit_History')['Loan_Status'].value_counts(normalize=True)*100)\n",
    "plot_df2.columns = ['Percentage']\n",
    "plot_df2 = plot_df2.reset_index()\n",
    "g = sns.catplot(data=plot_df2, x='Credit_History', y='Percentage', hue='Loan_Status', kind='bar')\n",
    "g.ax.set_ylim(0,100)\n",
    "g.set_xticklabels(['Applicants Without Credit History', 'Applicants With Credit History'])\n",
    "for p in g.ax.patches:\n",
    "    txt = str(p.get_height().round(2)) + '%'\n",
    "    txt_x = p.get_x()+.12\n",
    "    txt_y = p.get_height()+.5\n",
    "    g.ax.text(txt_x,txt_y,txt)"
   ]
  },
  {
   "cell_type": "markdown",
   "id": "6d56e1c5",
   "metadata": {
    "id": "cOrUr228Pz-b"
   },
   "source": [
    "#### **EDA Question 8 ::**\n",
    "\n",
    "### Is there a correlation between the applicant's income and the loan amount they applied for? \n",
    "> Yes, there is a significant positive correlation between an applicant's income and the loan amount they apply for, meaning an applicant with high income is likely to apply for a large loan amount"
   ]
  },
  {
   "cell_type": "code",
   "execution_count": 23,
   "id": "c7c46780",
   "metadata": {
    "colab": {
     "base_uri": "https://localhost:8080/",
     "height": 760
    },
    "execution": {
     "iopub.execute_input": "2023-03-13T12:11:01.200826Z",
     "iopub.status.busy": "2023-03-13T12:11:01.200386Z",
     "iopub.status.idle": "2023-03-13T12:11:01.590822Z",
     "shell.execute_reply": "2023-03-13T12:11:01.589912Z",
     "shell.execute_reply.started": "2023-03-13T12:11:01.200787Z"
    },
    "executionInfo": {
     "elapsed": 101,
     "status": "ok",
     "timestamp": 1680005770822,
     "user": {
      "displayName": "Victor Ruto",
      "userId": "13125455177778424587"
     },
     "user_tz": -180
    },
    "id": "uhSdIKBaPz-b",
    "outputId": "62ebbcfa-008b-4119-d033-0e84f8cec09c"
   },
   "outputs": [
    {
     "data": {
      "image/png": "[encoded data removed]",
      "text/plain": [
       "<Figure size 600x400 with 2 Axes>"
      ]
     },
     "metadata": {},
     "output_type": "display_data"
    },
    {
     "data": {
      "image/png": "[encoded data removed]",
      "text/plain": [
       "<Figure size 600x400 with 1 Axes>"
      ]
     },
     "metadata": {},
     "output_type": "display_data"
    }
   ],
   "source": [
    "## Question 8 ::\n",
    "#display(train[['ApplicantIncome', 'LoanAmount']].corr())\n",
    "sns.heatmap(train[['ApplicantIncome', 'LoanAmount']].corr(), annot=True, fmt='.3f', center=0)\n",
    "plt.title(\"Correlation Heatmap Plot \")\n",
    "plt.show()\n",
    "\n",
    "sns.scatterplot(data=train, x='ApplicantIncome', y='LoanAmount');\n",
    "plt.title(\"Scatter Plot of ApplicantIncome Against LoanAmount\")\n",
    "plt.show()"
   ]
  },
  {
   "cell_type": "markdown",
   "id": "ef72b7f2",
   "metadata": {
    "id": "huNBju-TMV88"
   },
   "source": [
    "##Autosklearn  Auto ML\n"
   ]
  },
  {
   "cell_type": "code",
   "execution_count": 24,
   "id": "c8919fd3",
   "metadata": {
    "colab": {
     "base_uri": "https://localhost:8080/"
    },
    "executionInfo": {
     "elapsed": 109,
     "status": "ok",
     "timestamp": 1680005770833,
     "user": {
      "displayName": "Victor Ruto",
      "userId": "13125455177778424587"
     },
     "user_tz": -180
    },
    "id": "VMYiRQivBvS9",
    "outputId": "d147e8e8-3032-425b-9db2-f567aac91e81"
   },
   "outputs": [
    {
     "name": "stdout",
     "output_type": "stream",
     "text": [
      "Index(['Gender', 'Married', 'Dependents', 'Education', 'Self_Employed',\n",
      "       'ApplicantIncome', 'CoapplicantIncome', 'LoanAmount',\n",
      "       'Loan_Amount_Term', 'Credit_History', 'Property_Area'],\n",
      "      dtype='object')\n"
     ]
    }
   ],
   "source": [
    "feature_columns = train.columns[1:-1]\n",
    "print(feature_columns)"
   ]
  },
  {
   "cell_type": "code",
   "execution_count": 25,
   "id": "22628f9d",
   "metadata": {
    "colab": {
     "base_uri": "https://localhost:8080/"
    },
    "executionInfo": {
     "elapsed": 102,
     "status": "ok",
     "timestamp": 1680005770834,
     "user": {
      "displayName": "Victor Ruto",
      "userId": "13125455177778424587"
     },
     "user_tz": -180
    },
    "id": "80HRr4R9COtP",
    "outputId": "75c3ce5e-3169-4611-8aba-a6b864ef772e"
   },
   "outputs": [
    {
     "data": {
      "text/plain": [
       "Gender               category\n",
       "Married              category\n",
       "Dependents           category\n",
       "Education            category\n",
       "Self_Employed        category\n",
       "ApplicantIncome         int64\n",
       "CoapplicantIncome     float64\n",
       "LoanAmount            float64\n",
       "Loan_Amount_Term      float64\n",
       "Credit_History        float64\n",
       "Property_Area        category\n",
       "dtype: object"
      ]
     },
     "execution_count": 25,
     "metadata": {},
     "output_type": "execute_result"
    }
   ],
   "source": [
    "## Input data with feature columns \n",
    "X = train[feature_columns].copy()\n",
    "\n",
    "## Convert categorical features to 'category' type\n",
    "categorical_columns = ['Gender', 'Married','Dependents', 'Education', 'Self_Employed', 'Property_Area']\n",
    "X[categorical_columns] = X[categorical_columns].astype('category')\n",
    "X.dtypes"
   ]
  },
  {
   "cell_type": "code",
   "execution_count": 26,
   "id": "4872645c",
   "metadata": {
    "execution": {
     "iopub.execute_input": "2023-03-13T12:11:23.199946Z",
     "iopub.status.busy": "2023-03-13T12:11:23.199588Z",
     "iopub.status.idle": "2023-03-13T12:11:23.220536Z",
     "shell.execute_reply": "2023-03-13T12:11:23.218721Z",
     "shell.execute_reply.started": "2023-03-13T12:11:23.199921Z"
    },
    "executionInfo": {
     "elapsed": 97,
     "status": "ok",
     "timestamp": 1680005770835,
     "user": {
      "displayName": "Victor Ruto",
      "userId": "13125455177778424587"
     },
     "user_tz": -180
    },
    "id": "wDlAmmP6MgQF"
   },
   "outputs": [],
   "source": [
    "## label encode target\n",
    "y = train['Loan_Status'].map({'N':0,'Y':1}).astype(int)\n",
    "\n",
    "## train-test split\n",
    "X_train, X_test, y_train, y_test = train_test_split(X, y, test_size=0.2, random_state=42)"
   ]
  },
  {
   "cell_type": "code",
   "execution_count": 27,
   "id": "a5b2018b",
   "metadata": {
    "execution": {
     "iopub.execute_input": "2023-03-13T12:11:27.890666Z",
     "iopub.status.busy": "2023-03-13T12:11:27.890314Z",
     "iopub.status.idle": "2023-03-13T12:12:34.734503Z",
     "shell.execute_reply": "2023-03-13T12:12:34.733532Z",
     "shell.execute_reply.started": "2023-03-13T12:11:27.890640Z"
    },
    "executionInfo": {
     "elapsed": 63939,
     "status": "ok",
     "timestamp": 1680005834677,
     "user": {
      "displayName": "Victor Ruto",
      "userId": "13125455177778424587"
     },
     "user_tz": -180
    },
    "id": "9wwYMdK_McJt"
   },
   "outputs": [],
   "source": [
    "# train\n",
    "autoML = AutoSklearnClassifier(time_left_for_this_task=2*30, per_run_time_limit=30, n_jobs=8) # imposing a 1 minute time limit on this\n",
    "autoML.fit(X_train, y_train)\n",
    "\n",
    "# predict\n",
    "predictions_autoML = autoML.predict(X_test)"
   ]
  },
  {
   "cell_type": "code",
   "execution_count": 28,
   "id": "f97fff5e",
   "metadata": {
    "colab": {
     "base_uri": "https://localhost:8080/"
    },
    "execution": {
     "iopub.execute_input": "2023-03-13T12:12:34.736532Z",
     "iopub.status.busy": "2023-03-13T12:12:34.736246Z",
     "iopub.status.idle": "2023-03-13T12:12:34.743601Z",
     "shell.execute_reply": "2023-03-13T12:12:34.742228Z",
     "shell.execute_reply.started": "2023-03-13T12:12:34.736505Z"
    },
    "executionInfo": {
     "elapsed": 36,
     "status": "ok",
     "timestamp": 1680005834679,
     "user": {
      "displayName": "Victor Ruto",
      "userId": "13125455177778424587"
     },
     "user_tz": -180
    },
    "id": "qnbGH9zS-WYh",
    "outputId": "48c4b39e-c200-4c22-f0d4-0b75f1a8b463"
   },
   "outputs": [
    {
     "name": "stdout",
     "output_type": "stream",
     "text": [
      "autoML Model Accuracy: 0.7967479674796748\n"
     ]
    }
   ],
   "source": [
    "print('autoML Model Accuracy:', accuracy_score(predictions_autoML, y_test))"
   ]
  },
  {
   "cell_type": "code",
   "execution_count": 29,
   "id": "4c491fd4",
   "metadata": {
    "colab": {
     "base_uri": "https://localhost:8080/"
    },
    "execution": {
     "iopub.execute_input": "2023-03-13T12:12:34.746955Z",
     "iopub.status.busy": "2023-03-13T12:12:34.745660Z",
     "iopub.status.idle": "2023-03-13T12:12:34.764568Z",
     "shell.execute_reply": "2023-03-13T12:12:34.763479Z",
     "shell.execute_reply.started": "2023-03-13T12:12:34.746913Z"
    },
    "executionInfo": {
     "elapsed": 31,
     "status": "ok",
     "timestamp": 1680005834679,
     "user": {
      "displayName": "Victor Ruto",
      "userId": "13125455177778424587"
     },
     "user_tz": -180
    },
    "id": "pNPPfGUtOnJ9",
    "outputId": "7d72b84d-054e-4304-fc72-c39c9c6b1167"
   },
   "outputs": [
    {
     "name": "stdout",
     "output_type": "stream",
     "text": [
      "[[19  1]\n",
      " [24 79]]\n"
     ]
    }
   ],
   "source": [
    "print(confusion_matrix(predictions_autoML, y_test))"
   ]
  },
  {
   "cell_type": "code",
   "execution_count": null,
   "id": "54c8df48",
   "metadata": {
    "tags": [
     "soorgeon-pickle"
    ]
   },
   "outputs": [],
   "source": [
    "Path(product['X']).parent.mkdir(exist_ok=True, parents=True)\n",
    "Path(product['X']).write_bytes(pickle.dumps(X))\n",
    "\n",
    "Path(product['X_train']).parent.mkdir(exist_ok=True, parents=True)\n",
    "Path(product['X_train']).write_bytes(pickle.dumps(X_train))\n",
    "\n",
    "Path(product['categorical_columns']).parent.mkdir(exist_ok=True, parents=True)\n",
    "Path(product['categorical_columns']).write_bytes(pickle.dumps(categorical_columns))\n",
    "\n",
    "Path(product['y']).parent.mkdir(exist_ok=True, parents=True)\n",
    "Path(product['y']).write_bytes(pickle.dumps(y))\n",
    "\n",
    "Path(product['y_train']).parent.mkdir(exist_ok=True, parents=True)\n",
    "Path(product['y_train']).write_bytes(pickle.dumps(y_train))"
   ]
  }
 ],
 "metadata": {
  "kernelspec": {
   "display_name": "Python 3",
   "language": "python",
   "name": "python3"
  }
 },
 "nbformat": 4,
 "nbformat_minor": 5
}